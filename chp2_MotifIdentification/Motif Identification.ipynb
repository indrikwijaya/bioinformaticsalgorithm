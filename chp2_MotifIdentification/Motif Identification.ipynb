{
 "cells": [
  {
   "cell_type": "markdown",
   "metadata": {},
   "source": [
    "- is there a 'clock gene'?\n",
    "- transcription begins when an RNA polymerase binds to a promoter sequence on the DNA molecule, which is often located just upstream from the starting point for transcription\n",
    "- initiation of transcription is a convenient control point for the cell to regulate the gene expression\n",
    "\n",
    "- plants: cells keep track of day and night independently of other cells, LHY, CCA1, TOC1 --> regulatory proteins\n",
    "\n",
    "- negative feedback loop\n",
    "- transcription factors\n",
    "- regulatory motif\n",
    "- transcription factor binding site\n",
    "- upstream region"
   ]
  },
  {
   "cell_type": "markdown",
   "metadata": {},
   "source": [
    "# 2.2  \n",
    "what is the expected number of occurrences of a 9-mer in 500 random DNA strings, each of length 1000? Assume that the sequences are formed by selecting each nucleotide with the same probability.\n",
    "\n",
    "- evening element\n",
    "- immunity genes\n",
    "- NF-kB"
   ]
  },
  {
   "cell_type": "code",
   "execution_count": 1,
   "metadata": {
    "collapsed": true
   },
   "outputs": [],
   "source": [
    "# Helper functions\n",
    "symbols = ['A', 'T', 'C', 'G']\n",
    "\n",
    "NumberToSymbol = {0: 'A', 1: 'C', 2:'G', 3:'T'}\n",
    "\n",
    "def NumberToPattern(index, k):\n",
    "    if k == 1:\n",
    "        return NumberToSymbol[index]\n",
    "    prefixIndex = index//4\n",
    "    r = index - 4*prefixIndex\n",
    "    symbol = NumberToSymbol[r]\n",
    "    PrefixPattern = NumberToPattern(prefixIndex, k-1)\n",
    "    return PrefixPattern + symbol\n",
    "\n",
    "def HammingDistance(dna1, dna2):\n",
    "    if len(dna1) != len(dna2):\n",
    "        print('String are not of equal length')\n",
    "    return sum(n1 != n2 for n1, n2 in zip(dna1, dna2))\n",
    "\n",
    "def Neighbors(Pattern, d):\n",
    "    if d == 0:\n",
    "        return Pattern\n",
    "    if len(Pattern) == 1:\n",
    "        return symbols\n",
    "    neighborhood = []\n",
    "    suffixNeighbors = Neighbors(Pattern[1:len(Pattern)], d)\n",
    "    #print('s', suffixNeighbors)\n",
    "    for text in suffixNeighbors:\n",
    "        #print('t', text)\n",
    "        if HammingDistance(Pattern[1:], text) < d:\n",
    "            for symbol in symbols:\n",
    "                neighborhood.append(symbol + text)\n",
    "        else:\n",
    "            neighborhood.append(Pattern[0] + text)\n",
    "    return neighborhood\n",
    "    "
   ]
  },
  {
   "cell_type": "code",
   "execution_count": 2,
   "metadata": {
    "collapsed": true
   },
   "outputs": [],
   "source": [
    "# 2a Motif Enumeration\n",
    "def MotifEnumeration(k, d, strings):\n",
    "    patterns = []\n",
    "    for kmer in strings:\n",
    "        for i in range(len(kmer) - k + 1):\n",
    "            # for each kmer Pattern in Dna\n",
    "            pattern = kmer[i:i+k]\n",
    "            kmer_rest_list = list(filter(lambda x: kmer not in x, strings))\n",
    "            # for each k-mer pattern' differing from pattern by <= d mismatches\n",
    "            # kmer_d = pattern' differing from pattern by <= d mismatches\n",
    "            for pattern_d in Neighbors(pattern, d):\n",
    "                count = 0\n",
    "                for kmer_rest in kmer_rest_list:\n",
    "                    pattern_prime_all = [kmer_rest[j:j+k] for j in range(len(kmer_rest) - k + 1)]\n",
    "                    # if pattern' appears in each string from Dna with <= d mismatches\n",
    "                    if any(HammingDistance(pattern_d, pattern_prime) <= d for pattern_prime in pattern_prime_all):\n",
    "                        count += 1\n",
    "                if count == len(kmer_rest_list):\n",
    "                    patterns.append(pattern_d)\n",
    "    patterns = list(set(patterns))\n",
    "    return patterns"
   ]
  },
  {
   "cell_type": "code",
   "execution_count": 4,
   "metadata": {
    "scrolled": false
   },
   "outputs": [
    {
     "data": {
      "text/plain": [
       "'TTT ATA GTT ATT'"
      ]
     },
     "execution_count": 4,
     "metadata": {},
     "output_type": "execute_result"
    }
   ],
   "source": [
    "' '.join(MotifEnumeration(3, 1, ['ATTTGGC', 'TGCCTTA', 'CGGTATC', 'GAAAATT']))"
   ]
  },
  {
   "cell_type": "code",
   "execution_count": 5,
   "metadata": {},
   "outputs": [
    {
     "data": {
      "text/plain": [
       "'GTTGT GTTTT GTTCT GTTAT'"
      ]
     },
     "execution_count": 5,
     "metadata": {},
     "output_type": "execute_result"
    }
   ],
   "source": [
    "test_file = 'rosalind_ba2a.txt'\n",
    "k_d_strings = []\n",
    "with open(test_file, 'r') as reader:\n",
    "    for line in reader:\n",
    "        k_d_strings.append(line.strip('\\n'))\n",
    "k = int(k_d_strings[0].split(' ')[0])\n",
    "d = int(k_d_strings[0].split(' ')[1])\n",
    "strings = k_d_strings[2:]\n",
    "' '. join(MotifEnumeration(k, d, strings))"
   ]
  },
  {
   "cell_type": "markdown",
   "metadata": {},
   "source": [
    "A more appropriate problem formulation would score individual instances of motifs depending on how similar they are to an “ideal” motif (i.e., a transcription factor binding site that binds the best to the transcription factor). However, since the ideal motif is unknown, we attempt to select a k-mer from each string and score these k-mers depending on how similar they are to each other.\n",
    "\n",
    "- count matrix\n",
    "- profile matrix\n",
    "- consensus string\n",
    "- probability distribution\n",
    "- entropy: a measure of the uncertainty of a probability distribution (p1, ..., pN)\n",
    "\n",
    "max entropy = -4.1/4.log2 (1/4) = 2, min entropy = 0\n",
    "\n",
    "- motif logo: a diagram for visualizing motif conservation taht consists of a stack of letters at each position\n",
    "- information content: total height in a column = 2-H(p1, ..., pN). lower entropy -> higher information content --> all columns in the motif logo are highly conserved"
   ]
  },
  {
   "cell_type": "markdown",
   "metadata": {},
   "source": [
    "__Motif Finding Problem__: Given a collection of strings, find a set of k-mers, one from each string, that minimizes the score of the resulting motif.\n",
    "\n",
    "__Input__: A collection of strings Dna and an integer k.\n",
    "\n",
    "__Output__: A collection Motifs of k-mers, one from each string in Dna, minimizing Score(Motifs) among all possible choices of k-mers.\n",
    "\n",
    "min score(motifs) = min(hamming distance for each row) ie d(pattern, motifs)\n",
    "--> instead of searching for a collection of k-mers motifs minimizing score(motifs), search for a potential consensus string pattern minimizing d(pattern, motifs)\n",
    "\n",
    "__Equivalent Motif Finding Problem__: Given a collection of strings, find a collection of k-mers (one from each string) that minimizes the distance between all possible patterns and all possible collections of k-mers.\n",
    "\n",
    "__Input__: A collection of strings Dna and an integer k.\n",
    "\n",
    "__Output__: A k-mer Pattern and a collection of k-mers, one from each string in Dna, minimizing d(Pattern, Motifs) among all possible choices of Pattern and Motifs."
   ]
  },
  {
   "cell_type": "markdown",
   "metadata": {},
   "source": [
    "__Median String Problem__: Find a median string.\n",
    "\n",
    "__Input__: A collection of strings Dna and an integer k.\n",
    "\n",
    "__Output__: A k-mer Pattern that minimizes d(Pattern, Dna) among all possible choices of k-mers.\n",
    "Notice that finding a median string requires solving a double minimization problem. We must find a k-mer Pattern that minimizes d(Pattern, Dna), where this function is itself computed by taking a minimum over all choices of k-mers from each string in Dna.\n"
   ]
  },
  {
   "cell_type": "code",
   "execution_count": 6,
   "metadata": {
    "collapsed": true
   },
   "outputs": [],
   "source": [
    "# 2b Find a Median String\n",
    "\n",
    "def DistancePatternAndString(Pattern, Text):\n",
    "    k = len(Pattern)\n",
    "    pattern_prime = [Text[i:i+k] for i in range(len(Text) - k + 1)]\n",
    "    d_pattern_text = min(list(map(lambda x: HammingDistance(Pattern, x), pattern_prime)))\n",
    "    \n",
    "    return d_pattern_text\n",
    "\n",
    "def MedianString(k, strings):\n",
    "    distance = 1e9\n",
    "    for i in range(4**k):\n",
    "        pattern = NumberToPattern(i, k)\n",
    "        d_pattern_strings = sum(list(map(lambda x: DistancePatternAndString(pattern, x), strings)))\n",
    "        if distance > d_pattern_strings:\n",
    "            distance = d_pattern_strings\n",
    "            median = pattern\n",
    "    return median"
   ]
  },
  {
   "cell_type": "code",
   "execution_count": 100,
   "metadata": {},
   "outputs": [
    {
     "data": {
      "text/plain": [
       "5"
      ]
     },
     "execution_count": 100,
     "metadata": {},
     "output_type": "execute_result"
    }
   ],
   "source": [
    "distance = 0\n",
    "for text in ['TTACCTTAAC', 'GATATCTGTC', 'ACGGCGTTCG', 'CCCTAAAGAG', 'CGTCAGAGGT']:\n",
    "    distance += DistancePatternAndString('AAA', text)\n",
    "distance"
   ]
  },
  {
   "cell_type": "code",
   "execution_count": 108,
   "metadata": {},
   "outputs": [
    {
     "data": {
      "text/plain": [
       "40"
      ]
     },
     "execution_count": 108,
     "metadata": {},
     "output_type": "execute_result"
    }
   ],
   "source": [
    "test_file = 'rosalind_ba2h.txt'\n",
    "pattern_texts = []\n",
    "with open(test_file, 'r') as reader:\n",
    "    for line in reader:\n",
    "        pattern_texts.append(line.strip('\\n'))\n",
    "pattern = pattern_texts[0]\n",
    "texts = pattern_texts[1].split(' ')\n",
    "distance = 0\n",
    "for text in texts:\n",
    "    distance += DistancePatternAndString(pattern, text)\n",
    "distance"
   ]
  },
  {
   "cell_type": "code",
   "execution_count": 7,
   "metadata": {},
   "outputs": [
    {
     "data": {
      "text/plain": [
       "'ACG'"
      ]
     },
     "execution_count": 7,
     "metadata": {},
     "output_type": "execute_result"
    }
   ],
   "source": [
    "MedianString(3, ['AAATTGACGCAT', 'GACGACCACGTT', 'CGTCAGCGCCTG', 'GCTGAGCACCGG', 'AGTACGGGACAG'])"
   ]
  },
  {
   "cell_type": "code",
   "execution_count": 8,
   "metadata": {},
   "outputs": [
    {
     "data": {
      "text/plain": [
       "'TTTTAA'"
      ]
     },
     "execution_count": 8,
     "metadata": {},
     "output_type": "execute_result"
    }
   ],
   "source": [
    "test_data = 'rosalind_ba2b.txt'\n",
    "k_strings = []\n",
    "with open(test_data, 'r') as reader:\n",
    "    for line in reader:\n",
    "        k_strings.append(line.strip('\\n'))\n",
    "k = int(k_strings[0])\n",
    "strings = k_strings[1:]\n",
    "MedianString(k, strings)"
   ]
  },
  {
   "cell_type": "markdown",
   "metadata": {},
   "source": [
    "- greedy algorithm\n",
    "- profile-most probable\n",
    "\n",
    "__Profile-most Probable k-mer Problem__: Find a Profile-most probable k-mer in a string.\n",
    "\n",
    "__Input__: A string Text, an integer k, and a 4 × k matrix Profile.\n",
    "\n",
    "__Output__: A Profile-most probable k-mer in Text."
   ]
  },
  {
   "cell_type": "code",
   "execution_count": 9,
   "metadata": {},
   "outputs": [
    {
     "data": {
      "text/plain": [
       "{'A': [0.2, 0.2, 0.3, 0.2, 0.3],\n",
       " 'C': [0.4, 0.3, 0.1, 0.5, 0.1],\n",
       " 'G': [0.3, 0.3, 0.5, 0.2, 0.4],\n",
       " 'T': [0.1, 0.2, 0.1, 0.1, 0.2]}"
      ]
     },
     "execution_count": 9,
     "metadata": {},
     "output_type": "execute_result"
    }
   ],
   "source": [
    "A = '0.2 0.2 0.3 0.2 0.3'\n",
    "C = '0.4 0.3 0.1 0.5 0.1'\n",
    "G = '0.3 0.3 0.5 0.2 0.4'\n",
    "T = '0.1 0.2 0.1 0.1 0.2'\n",
    "\n",
    "Profile = {'A': list(map(lambda x: float(x), A.split(' '))),\n",
    "           'C': list(map(lambda x: float(x), C.split(' '))),\n",
    "           'G': list(map(lambda x: float(x), G.split(' '))),\n",
    "           'T': list(map(lambda x: float(x), T.split(' ')))}\n",
    "\n",
    "Profile"
   ]
  },
  {
   "cell_type": "code",
   "execution_count": 10,
   "metadata": {
    "collapsed": true
   },
   "outputs": [],
   "source": [
    "# 2c Find Profile-most probable kmer\n",
    "def ProfileMostProbable(Text, k, Profile):\n",
    "    probability = 0\n",
    "    kmers = [Text[i:i + k] for i in range(len(Text) - k + 1)]\n",
    "    most_probable_kmer = kmers[0]\n",
    "    for kmer in kmers:\n",
    "        prob_kmer = 1\n",
    "        for index in range(len(kmer)):\n",
    "            prob_kmer *= Profile[kmer[index]][index]\n",
    "        if probability < prob_kmer:\n",
    "            probability = prob_kmer\n",
    "            most_probable_kmer = kmer\n",
    "    return most_probable_kmer"
   ]
  },
  {
   "cell_type": "code",
   "execution_count": 11,
   "metadata": {},
   "outputs": [
    {
     "data": {
      "text/plain": [
       "'CCGAG'"
      ]
     },
     "execution_count": 11,
     "metadata": {},
     "output_type": "execute_result"
    }
   ],
   "source": [
    "ProfileMostProbable('ACCTGTTTATTGCCTAAGTTCCGAACAAACCCAATATAGCCCGAGGGCCT', 5, Profile)"
   ]
  },
  {
   "cell_type": "code",
   "execution_count": 12,
   "metadata": {},
   "outputs": [
    {
     "data": {
      "text/plain": [
       "'GGGGTCA'"
      ]
     },
     "execution_count": 12,
     "metadata": {},
     "output_type": "execute_result"
    }
   ],
   "source": [
    "test_data = 'rosalind_ba2c.txt'\n",
    "text_k_profile = []\n",
    "with open(test_data, 'r') as reader:\n",
    "    for line in reader:\n",
    "        text_k_profile.append(line.strip('\\n'))\n",
    "text = text_k_profile[0]\n",
    "k = int(text_k_profile[1])\n",
    "A = text_k_profile[2]\n",
    "C = text_k_profile[3]\n",
    "G = text_k_profile[4]\n",
    "T = text_k_profile[5]\n",
    "\n",
    "Profile = {'A': list(map(lambda x: float(x), A.split(' '))),\n",
    "           'C': list(map(lambda x: float(x), C.split(' '))),\n",
    "           'G': list(map(lambda x: float(x), G.split(' '))),\n",
    "           'T': list(map(lambda x: float(x), T.split(' ')))}\n",
    "\n",
    "ProfileMostProbable(text, k, Profile)"
   ]
  },
  {
   "cell_type": "markdown",
   "metadata": {},
   "source": [
    "Our proposed greedy motif search algorithm, GreedyMotifSearch, starts by forming a motif matrix from arbitrarily selected k-mers in each string from Dna (which in our specific implementation is the first k-mer in each string). It then attempts to improve this initial motif matrix by trying each of the k-mers in Dna1 as the first motif. For a given choice of k-mer Motif1 in Dna1, it builds a profile matrix Profile for this lone k-mer, and sets Motif2 equal to the Profile-most probable k-mer in Dna2. It then iterates by updating Profile as the profile matrix formed from Motif1 and Motif2, and sets Motif3 equal to the Profile-most probable k-mer in Dna3. In general, after finding i − 1 k-mers Motifs in the first i − 1 strings of Dna, GreedyMotifSearch constructs Profile(Motifs) and selects the Profile-most probable k-mer from Dnai based on this profile matrix. After obtaining a k-mer from each string to obtain a collection Motifs, GreedyMotifSearch tests to see whether Motifs outscores the current best scoring collection of motifs and then moves Motif1 one symbol over in Dna1, beginning the entire process of generating Motifs again."
   ]
  },
  {
   "cell_type": "code",
   "execution_count": 13,
   "metadata": {
    "collapsed": true
   },
   "outputs": [],
   "source": [
    "# 2d GreedyMotifSearch\n",
    "k = 3\n",
    "t = 5\n",
    "strings = ['GGCGTTCAGGCA', 'AAGAATCAGTCA', 'CAAGGAGTTCGC','CACGTCAATCAC','CAATAATATTCG']\n",
    "best_motifs = [string[:k] for string in strings]\n",
    "\n",
    "def FindConsensus(motifs):\n",
    "    consensus = \"\"\n",
    "    for i in range(len(motifs[0])):\n",
    "        countA, countC, countG, countT = 0, 0, 0, 0\n",
    "        for motif in motifs:\n",
    "            if motif[i] == \"A\":\n",
    "                countA += 1\n",
    "            elif motif[i] == \"C\":\n",
    "                countC += 1\n",
    "            elif motif[i] == \"G\":\n",
    "                countG += 1\n",
    "            elif motif[i] == \"T\":\n",
    "                countT += 1\n",
    "        if countA >= max(countC, countG, countT):\n",
    "            consensus += \"A\"\n",
    "        elif countC >= max(countA, countG, countT):\n",
    "            consensus += \"C\"\n",
    "        elif countG >= max(countC, countA, countT):\n",
    "            consensus += \"G\"\n",
    "        elif countT >= max(countC, countG, countA):\n",
    "            consensus += \"T\"\n",
    "    return consensus\n",
    "\n",
    "def ScoreMotifs(motifs):\n",
    "    consensus = FindConsensus(motifs)\n",
    "    score = 0\n",
    "    for motif in motifs:\n",
    "        score += HammingDistance(consensus, motif)\n",
    "    return score\n",
    "\n",
    "\n",
    "def CreateProfile(motifs, k):\n",
    "    count = {'A':[0]*k, 'C': [0]*k, 'G': [0]*k, 'T': [0]*k}\n",
    "    for kmer in motifs:\n",
    "        for i in range(len(kmer)):\n",
    "            count[kmer[i]][i] += 1\n",
    "    profile = {base: [j/len(motifs) for j in count[base]] for base in count}\n",
    "    return count, profile\n",
    "\n",
    "def GreedyMotifSearch(k, t, strings):\n",
    "    best_motifs = [string[:k] for string in strings]\n",
    "    \n",
    "    for i in range(len(strings[0]) - k + 1):\n",
    "        motifs = []\n",
    "        kmer_0 = strings[0][i:i+k]\n",
    "        motif_0 = kmer_0\n",
    "        motifs.append(motif_0)\n",
    "        for j in range(1, t):\n",
    "            count_j, profile_j = CreateProfile(motifs, k)\n",
    "            motif_j = ProfileMostProbable(strings[j], k, profile_j)\n",
    "            motifs.append(motif_j)\n",
    "        if ScoreMotifs(motifs) < ScoreMotifs(best_motifs):\n",
    "            best_motifs = motifs\n",
    "    return best_motifs"
   ]
  },
  {
   "cell_type": "code",
   "execution_count": 14,
   "metadata": {},
   "outputs": [
    {
     "data": {
      "text/plain": [
       "['CAG', 'CAG', 'CAA', 'CAA', 'CAA']"
      ]
     },
     "execution_count": 14,
     "metadata": {},
     "output_type": "execute_result"
    }
   ],
   "source": [
    "GreedyMotifSearch(k, t, strings)"
   ]
  },
  {
   "cell_type": "code",
   "execution_count": null,
   "metadata": {
    "collapsed": true
   },
   "outputs": [],
   "source": [
    "test_file = 'rosalind_ba2d.txt'\n",
    "k_t_strings = []\n",
    "with open(test_file, 'r') as reader:\n",
    "    for line in reader:\n",
    "        k_t_strings.append(line.strip('\\n'))\n",
    "k = int(k_t_strings[0].split(' ')[0])\n",
    "t = int(k_t_strings[0].split(' ')[1])\n",
    "strings = k_t_strings[1:]\n",
    "for motif in GreedyMotifSearch(k, t, strings):\n",
    "    print(motif)"
   ]
  },
  {
   "cell_type": "code",
   "execution_count": null,
   "metadata": {
    "collapsed": true
   },
   "outputs": [],
   "source": [
    "# 2e Greedy Motif Search with Pseudo Count\n",
    "def GreedyMotifSearchPseudocount(k, t, strings):\n",
    "    best_motifs = [string[:k] for string in strings]\n",
    "    \n",
    "    for i in range(len(strings[0]) - k + 1):\n",
    "        motifs = []\n",
    "        kmer_0 = strings[0][i:i+k]\n",
    "        motif_0 = kmer_0\n",
    "        motifs.append(motif_0)\n",
    "        for j in range(1, t):\n",
    "            count_j, profile_j = CreateProfile(motifs, k)\n",
    "            # add Laplace succession's rule\n",
    "            count_j = {base: [k+1 for k in count_j[base]] for base in count_j}\n",
    "            profile_j = {base: [k/(len(motifs)+4) for k in count_j[base]] for base in count_j}\n",
    "            \n",
    "            motif_j = ProfileMostProbable(strings[j], k, profile_j)\n",
    "            motifs.append(motif_j)\n",
    "        if ScoreMotifs(motifs) < ScoreMotifs(best_motifs):\n",
    "            best_motifs = motifs\n",
    "    return best_motifs"
   ]
  },
  {
   "cell_type": "code",
   "execution_count": null,
   "metadata": {
    "collapsed": true
   },
   "outputs": [],
   "source": [
    "GreedyMotifSearchPseudocount(k, t, strings)"
   ]
  },
  {
   "cell_type": "code",
   "execution_count": null,
   "metadata": {
    "collapsed": true
   },
   "outputs": [],
   "source": [
    "test_file = 'rosalind_ba2e.txt'\n",
    "k_t_strings = []\n",
    "with open(test_file, 'r') as reader:\n",
    "    for line in reader:\n",
    "        k_t_strings.append(line.strip('\\n'))\n",
    "k = int(k_t_strings[0].split(' ')[0])\n",
    "t = int(k_t_strings[0].split(' ')[1])\n",
    "strings = k_t_strings[1:]\n",
    "for motif in GreedyMotifSearchPseudocount(k, t, strings):\n",
    "    print(motif)"
   ]
  },
  {
   "cell_type": "code",
   "execution_count": 92,
   "metadata": {
    "collapsed": true
   },
   "outputs": [],
   "source": [
    "# 2f Greedy Motif Search with Randomized algorithm\n",
    "\n",
    "import random\n",
    "def GreedyMotifSearchRandomized(k, t, strings):\n",
    "    # randomly generate k-mers from each sequence in the DNAs\n",
    "    rand_ints = [random.randint(0, len(strings[0]) - k) for a in range(t)]\n",
    "    best_motifs = [strings[i][r:r+k] for i, r in enumerate(rand_ints)]\n",
    "    \n",
    "    while True:\n",
    "        count_j, profile_j = CreateProfile(best_motifs, k)\n",
    "        \n",
    "        count_j = {base: [k+1 for k in count_j[base]] for base in count_j}\n",
    "        profile_j = {base: [k/(len(best_motifs)+4) for k in count_j[base]] for base in count_j}\n",
    "        \n",
    "        motifs = [ProfileMostProbable(string, k, profile_j) for string in strings]\n",
    "        if ScoreMotifs(motifs) < ScoreMotifs(best_motifs):\n",
    "            best_motifs = motifs\n",
    "        else:\n",
    "            return best_motifs"
   ]
  },
  {
   "cell_type": "code",
   "execution_count": 94,
   "metadata": {},
   "outputs": [
    {
     "data": {
      "text/plain": [
       "['GGGTGTTC', 'AGGTGCCA', 'AAGTATAC', 'AGGTGCAC', 'AGCTCCAC']"
      ]
     },
     "execution_count": 94,
     "metadata": {},
     "output_type": "execute_result"
    }
   ],
   "source": [
    "best_scores = 8 * 5\n",
    "best_motifs = []\n",
    "for repeat in range(1000):\n",
    "    current_motifs = GreedyMotifSearchRandomized(8, 5, ['CGCCCCTCTCGGGGGTGTTCAGTAAACGGCCA',\n",
    "                            'GGGCGAGGTATGTGTAAGTGCCAAGGTGCCAG',\n",
    "                            'TAGTACCGAGACCGAAAGAAGTATACAGGCGT',\n",
    "                            'TAGATCAAGTTTCAGGTGCACGTCGGTGAACC',\n",
    "                            'AATCCACCAGCTCCACGTGCAATGTTGGCCTA'])\n",
    "    if ScoreMotifs(current_motifs) < best_scores:\n",
    "        best_motifs = current_motifs\n",
    "best_motifs"
   ]
  },
  {
   "cell_type": "code",
   "execution_count": 95,
   "metadata": {},
   "outputs": [
    {
     "data": {
      "text/plain": [
       "['TGGGAGTCAAGTGTG',\n",
       " 'TGGGAGTCAAGTGTG',\n",
       " 'CGCGAAAACTGGGTA',\n",
       " 'TGCGCGGCGTGTTTG',\n",
       " 'CGCGAACTCAGTTAC',\n",
       " 'CGGAGGGAGTGTGCA',\n",
       " 'TGGGGGTTTTAGGTC',\n",
       " 'AGCAAAACCACCGTC',\n",
       " 'TGGAAGAGGTGCGTC',\n",
       " 'TGCTAGCTGTTCCTC',\n",
       " 'AGTCAAGTCAGCCTT',\n",
       " 'TGGCTGGTAAGTATT',\n",
       " 'ACCCAGGTGACTGTT',\n",
       " 'CGGGAGATTCCGGTT',\n",
       " 'AGGATAGTGCGACTC',\n",
       " 'ACGCAGTGCACGGTT',\n",
       " 'TGGCAGCCATCTTTC',\n",
       " 'TGTGAGAGGATAGTT',\n",
       " 'TGGAAAATATGCTTT',\n",
       " 'ACCGAAGGGTCTCTC']"
      ]
     },
     "execution_count": 95,
     "metadata": {},
     "output_type": "execute_result"
    }
   ],
   "source": [
    "test_file = 'rosalind_ba2f.txt'\n",
    "k_t_strings = []\n",
    "with open(test_file, 'r') as reader:\n",
    "    for line in reader:\n",
    "        k_t_strings.append(line.strip('\\n'))\n",
    "k = int(k_t_strings[0].split(' ')[0])\n",
    "t = int(k_t_strings[0].split(' ')[1])\n",
    "strings = k_t_strings[1:]\n",
    "\n",
    "best_scores = k * t\n",
    "best_motifs = []\n",
    "for repeat in range(1000):\n",
    "    current_motifs = GreedyMotifSearchRandomized(k, t, strings)\n",
    "    if ScoreMotifs(current_motifs) < best_scores:\n",
    "        best_motifs = current_motifs\n",
    "best_motifs"
   ]
  },
  {
   "cell_type": "markdown",
   "metadata": {},
   "source": [
    "Note that RandomizedMotifSearch may change all t strings Motifs in a single iteration. This strategy may prove reckless, since some correct motifs (captured in Motifs) may potentially be discarded at the next iteration. GibbsSampler is a more cautious iterative algorithm that discards a single k-mer from the current set of motifs at each iteration and decides to either keep it or replace it with a new one. \n",
    "\n",
    "We now define a Profile-randomly generated k-mer in a string Text. For each k-mer Pattern in Text, compute the probability Pr(Pattern | Profile), resulting in n = |Text| - k + 1 probabilities (p1, …, pn). These probabilities do not necessarily sum to 1, but we can still form the random number generator Random(p1, …, pn) based on them. GibbsSampler uses this random number generator to select a Profile-randomly generated k-mer at each step: if the die rolls the number i, then we define the Profile-randomly generated k-mer as the i-th k-mer in Text."
   ]
  },
  {
   "cell_type": "code",
   "execution_count": 90,
   "metadata": {
    "collapsed": true
   },
   "outputs": [],
   "source": [
    "def GibbsSampler(k, t, N, strings):\n",
    "    # randomly generate k-mers from each sequence in the DNAs\n",
    "    rand_ints = [random.randint(0, len(strings[0]) - k) for a in range(t)]\n",
    "    best_motifs = [strings[i][r:r+k] for i, r in enumerate(rand_ints)]\n",
    "    \n",
    "    for j in range(N):\n",
    "        i = random.randint(0, t-1)\n",
    "        count_j, profile_j = CreateProfile([motif for index, motif in enumerate(best_motifs) if index != r], k)\n",
    "        \n",
    "        count_j = {base: [k+1 for k in count_j[base]] for base in count_j}\n",
    "        profile_j = {base: [k/(len(best_motifs)+4) for k in count_j[base]] for base in count_j}\n",
    "        \n",
    "        motifs = [ProfileMostProbable(strings[index], k, profile_j) if index == r else motif \n",
    "                  for index, motif in enumerate(best_motifs)]\n",
    "        \n",
    "        if ScoreMotifs(motifs) < ScoreMotifs(best_motifs):\n",
    "            best_motifs = motifs\n",
    "    return best_motifs\n",
    "    "
   ]
  },
  {
   "cell_type": "code",
   "execution_count": 91,
   "metadata": {},
   "outputs": [
    {
     "data": {
      "text/plain": [
       "['TAAACGGC', 'TGTAAGTG', 'AAGTATAC', 'TGCACGTC', 'CACCAGCT']"
      ]
     },
     "execution_count": 91,
     "metadata": {},
     "output_type": "execute_result"
    }
   ],
   "source": [
    "GibbsSampler(8, 5, 100, ['CGCCCCTCTCGGGGGTGTTCAGTAAACGGCCA',\n",
    "                            'GGGCGAGGTATGTGTAAGTGCCAAGGTGCCAG',\n",
    "                            'TAGTACCGAGACCGAAAGAAGTATACAGGCGT',\n",
    "                            'TAGATCAAGTTTCAGGTGCACGTCGGTGAACC',\n",
    "                            'AATCCACCAGCTCCACGTGCAATGTTGGCCTA'])"
   ]
  },
  {
   "cell_type": "code",
   "execution_count": 98,
   "metadata": {},
   "outputs": [
    {
     "data": {
      "text/plain": [
       "['GCTGGCTACTTTTGG',\n",
       " 'CTTAGTCATATGGTT',\n",
       " 'CAATACTCGTACTGT',\n",
       " 'GCTGGAACTTCATGG',\n",
       " 'TGTGGGTTTTAATAG',\n",
       " 'TTCGGTGTATGCTGT',\n",
       " 'ATTTCATCCGACAGC',\n",
       " 'GGATCATTCACCTAC',\n",
       " 'ATGTGGATTCAAGCT',\n",
       " 'GAGAGTTTTTCAGTG',\n",
       " 'GAAGCTTTGCATAGG',\n",
       " 'AAGCCAAGGCAAGAG',\n",
       " 'GCCGGGAACTGAATT',\n",
       " 'CGGTTCTTCACTAGA',\n",
       " 'ACGTTAACCGCAGCA',\n",
       " 'CCCTCGCGAGCGTAA',\n",
       " 'GCTTCTACTTCAGGG',\n",
       " 'AAACATGTCAGTCCT',\n",
       " 'ATTGTCGTCATTTGA',\n",
       " 'GTTGGACCCTAGCGA']"
      ]
     },
     "execution_count": 98,
     "metadata": {},
     "output_type": "execute_result"
    }
   ],
   "source": [
    "test_file = 'rosalind_ba2g.txt'\n",
    "k_t_N_strings = []\n",
    "with open(test_file, 'r') as reader:\n",
    "    for line in reader:\n",
    "        k_t_N_strings.append(line.strip('\\n'))\n",
    "k = int(k_t_N_strings[0].split(' ')[0])\n",
    "t = int(k_t_N_strings[0].split(' ')[1])\n",
    "N = int(k_t_N_strings[0].split(' ')[2])\n",
    "strings = k_t_N_strings[1:]\n",
    "\n",
    "best_scores = k * t\n",
    "best_motifs = []\n",
    "for repeat in range(20):\n",
    "    current_motifs = GibbsSampler(k, t, N, strings)\n",
    "    if ScoreMotifs(current_motifs) < best_scores:\n",
    "        best_motifs = current_motifs\n",
    "best_motifs"
   ]
  },
  {
   "cell_type": "code",
   "execution_count": 99,
   "metadata": {},
   "outputs": [
    {
     "name": "stdout",
     "output_type": "stream",
     "text": [
      "GCTGGCTACTTTTGG\n",
      "CTTAGTCATATGGTT\n",
      "CAATACTCGTACTGT\n",
      "GCTGGAACTTCATGG\n",
      "TGTGGGTTTTAATAG\n",
      "TTCGGTGTATGCTGT\n",
      "ATTTCATCCGACAGC\n",
      "GGATCATTCACCTAC\n",
      "ATGTGGATTCAAGCT\n",
      "GAGAGTTTTTCAGTG\n",
      "GAAGCTTTGCATAGG\n",
      "AAGCCAAGGCAAGAG\n",
      "GCCGGGAACTGAATT\n",
      "CGGTTCTTCACTAGA\n",
      "ACGTTAACCGCAGCA\n",
      "CCCTCGCGAGCGTAA\n",
      "GCTTCTACTTCAGGG\n",
      "AAACATGTCAGTCCT\n",
      "ATTGTCGTCATTTGA\n",
      "GTTGGACCCTAGCGA\n"
     ]
    }
   ],
   "source": [
    "test = ['GCTGGCTACTTTTGG',\n",
    " 'CTTAGTCATATGGTT',\n",
    " 'CAATACTCGTACTGT',\n",
    " 'GCTGGAACTTCATGG',\n",
    " 'TGTGGGTTTTAATAG',\n",
    " 'TTCGGTGTATGCTGT',\n",
    " 'ATTTCATCCGACAGC',\n",
    " 'GGATCATTCACCTAC',\n",
    " 'ATGTGGATTCAAGCT',\n",
    " 'GAGAGTTTTTCAGTG',\n",
    " 'GAAGCTTTGCATAGG',\n",
    " 'AAGCCAAGGCAAGAG',\n",
    " 'GCCGGGAACTGAATT',\n",
    " 'CGGTTCTTCACTAGA',\n",
    " 'ACGTTAACCGCAGCA',\n",
    " 'CCCTCGCGAGCGTAA',\n",
    " 'GCTTCTACTTCAGGG',\n",
    " 'AAACATGTCAGTCCT',\n",
    " 'ATTGTCGTCATTTGA',\n",
    " 'GTTGGACCCTAGCGA']\n",
    "for i in test:\n",
    "    print(i)"
   ]
  }
 ],
 "metadata": {
  "kernelspec": {
   "display_name": "Python 3",
   "language": "python",
   "name": "python3"
  },
  "language_info": {
   "codemirror_mode": {
    "name": "ipython",
    "version": 3
   },
   "file_extension": ".py",
   "mimetype": "text/x-python",
   "name": "python",
   "nbconvert_exporter": "python",
   "pygments_lexer": "ipython3",
   "version": "3.6.7"
  }
 },
 "nbformat": 4,
 "nbformat_minor": 2
}
