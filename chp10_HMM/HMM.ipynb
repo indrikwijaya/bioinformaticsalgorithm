{
 "cells": [
  {
   "cell_type": "markdown",
   "metadata": {},
   "source": [
    "**Probability of a Hidden Path Problem**\n",
    "\n",
    "**Given**: A hidden path π followed by the states States and transition matrix Transition of an HMM (Σ, States, Transition, Emission).\n",
    "\n",
    "**Return**: The probability of this path, Pr(π). You may assume that initial probabilities are equal."
   ]
  },
  {
   "cell_type": "code",
   "execution_count": 22,
   "metadata": {
    "collapsed": true
   },
   "outputs": [],
   "source": [
    "import numpy as np\n",
    "path = 'AABBBAABABAAAABBBBAABBABABBBAABBAAAABABAABBABABBAB'\n",
    "states = [\"A\", \"B\"]\n",
    "transition_mat = {'A':{'A':0.194, 'B':0.806},\n",
    "                 'B':{'A': 0.273, 'B':0.727}}\n",
    "transition_matrix = np.array([[0.194, 0.806], \n",
    "                             [0.273, 0.727]])\n",
    "ans = 5.01732865318e-19"
   ]
  },
  {
   "cell_type": "code",
   "execution_count": 19,
   "metadata": {},
   "outputs": [
    {
     "data": {
      "text/plain": [
       "'00111001010000111100110101110011000010100110101101'"
      ]
     },
     "execution_count": 19,
     "metadata": {},
     "output_type": "execute_result"
    }
   ],
   "source": [
    "table = 'AB'.maketrans('AB', '01')\n",
    "path.translate(table)"
   ]
  },
  {
   "cell_type": "code",
   "execution_count": 31,
   "metadata": {},
   "outputs": [],
   "source": [
    "def prob_hidden_path(path, transition_mat):\n",
    "    #initial probability\n",
    "    prob_path = 0.5\n",
    "    \n",
    "    for idx in range(1, len(path)):\n",
    "        prob_path *= transition_mat[path[idx-1]][path[idx]]\n",
    "#     for idx in range(1, len(path)):\n",
    "#         prob_path *= transition_mat[int(path[idx-1])][int(path[idx])]\n",
    "    \n",
    "    return prob_path"
   ]
  },
  {
   "cell_type": "code",
   "execution_count": 32,
   "metadata": {},
   "outputs": [
    {
     "data": {
      "text/plain": [
       "1.0870338089802573e-18"
      ]
     },
     "execution_count": 32,
     "metadata": {},
     "output_type": "execute_result"
    }
   ],
   "source": [
    "prob_hidden_path(path, transition_mat)\n",
    "#prob_hidden_path(path.translate(table), transition_matrix)"
   ]
  },
  {
   "cell_type": "code",
   "execution_count": 33,
   "metadata": {},
   "outputs": [],
   "source": [
    "# 10a probability of a hidden path\n",
    "file = 'rosalind_ba10a.txt'\n",
    "with open(file, 'r') as line:\n",
    "    tmp = line.read().splitlines()\n",
    "\n",
    "hidden_path = tmp[0]\n",
    "states = tmp[2].split(' ')\n",
    "\n",
    "col_syms = tmp[4].split('\\t')[1:]\n",
    "transition_matrix = {}\n",
    "for i in range(5, len(tmp)):\n",
    "    current_line = tmp[i].rstrip().split('\\t')\n",
    "    row_sym = current_line[0]\n",
    "    transition_matrix[row_sym] = {}\n",
    "    for j in range(1, len(current_line)):\n",
    "        transition_matrix[row_sym][col_syms[j - 1]] = float(current_line[j])"
   ]
  },
  {
   "cell_type": "code",
   "execution_count": 34,
   "metadata": {},
   "outputs": [
    {
     "data": {
      "text/plain": [
       "3.2649170591326406e-18"
      ]
     },
     "execution_count": 34,
     "metadata": {},
     "output_type": "execute_result"
    }
   ],
   "source": [
    "prob_hidden_path(hidden_path, transition_matrix)"
   ]
  },
  {
   "cell_type": "code",
   "execution_count": 37,
   "metadata": {
    "collapsed": true
   },
   "outputs": [],
   "source": [
    "string = 'xxyzyxzzxzxyxyyzxxzzxxyyxxyxyzzxxyzyzxzxxyxyyzxxzx'\n",
    "path = 'BBBAAABABABBBBBBAAAAAABAAAABABABBBBBABAABABABABBBB'\n",
    "emission_mat = {'A':{'x': 0.612, 'y': 0.314, 'z': 0.074},\n",
    "               'B': {'x': 0.346, 'y': 0.317, 'z': 0.335}}\n",
    "ans = 1.93157070893e-28"
   ]
  },
  {
   "cell_type": "code",
   "execution_count": 38,
   "metadata": {
    "collapsed": true
   },
   "outputs": [],
   "source": [
    "def prob_outcome_given_path(x, hidden_path, emission_mat):\n",
    "    emission_prob = 1\n",
    "    for i in range(len(x)):\n",
    "        emission_prob *= emission_mat[hidden_path[i]][x[i]]\n",
    "    return emission_prob"
   ]
  },
  {
   "cell_type": "code",
   "execution_count": 39,
   "metadata": {},
   "outputs": [
    {
     "data": {
      "text/plain": [
       "1.9029976816712556e-28"
      ]
     },
     "execution_count": 39,
     "metadata": {},
     "output_type": "execute_result"
    }
   ],
   "source": [
    "prob_outcome_given_path(string, path, emission_mat)"
   ]
  },
  {
   "cell_type": "code",
   "execution_count": 40,
   "metadata": {
    "collapsed": true
   },
   "outputs": [],
   "source": [
    "# 10b probability of outcome given a hidden path\n",
    "file = 'rosalind_ba10b.txt'\n",
    "\n",
    "with open(file, 'r') as line:\n",
    "    input_lines = line.read().splitlines()\n",
    "\n",
    "x = input_lines[0]\n",
    "alphabet = input_lines[2].split(' ')\n",
    "hidden_path = input_lines[4]\n",
    "\n",
    "col_syms = input_lines[8].split()\n",
    "emission_matrix = {}\n",
    "for line in input_lines[9:]:\n",
    "    current_line = line.split()\n",
    "    row_sym = current_line[0]\n",
    "    emission_matrix[row_sym] = {}\n",
    "    for j in range(1, len(current_line)):\n",
    "        emission_matrix[row_sym][col_syms[j - 1]] = float(current_line[j])"
   ]
  },
  {
   "cell_type": "code",
   "execution_count": 41,
   "metadata": {},
   "outputs": [
    {
     "data": {
      "text/plain": [
       "1.1740169496231375e-27"
      ]
     },
     "execution_count": 41,
     "metadata": {},
     "output_type": "execute_result"
    }
   ],
   "source": [
    "prob_outcome_given_path(x, hidden_path, emission_matrix)"
   ]
  },
  {
   "cell_type": "code",
   "execution_count": 57,
   "metadata": {},
   "outputs": [
    {
     "data": {
      "text/plain": [
       "array([0, 1, 0, 2, 2, 0, 1, 0, 1, 1])"
      ]
     },
     "execution_count": 57,
     "metadata": {},
     "output_type": "execute_result"
    }
   ],
   "source": [
    "# 10c viterbi algorithm\n",
    "string = 'xyxzzxyxyy'\n",
    "transition_mat = {'A':{'A': 0.641, 'B': 0.359},\n",
    "                 'B':{'A': 0.729, 'B': 0.271}}\n",
    "emission_mat = {'A':{'x': 0.117, 'y': 0.691, 'z': 0.192},\n",
    "               'B': {'x': 0.097, 'y': 0.42, 'z': 0.483}}\n",
    "\n",
    "transition_mat = np.array([[0.641, 0.359],\n",
    "                          [0.729, 0.271]])\n",
    "emission_mat = np.array([[0.117, 0.691, 0.192],\n",
    "                       [0.097, 0.42, 0.483]])\n",
    "pi = [0.5, 0.5]\n",
    "table = string.maketrans('xyz', '012')\n",
    "obs = string.translate(table)\n",
    "obs_arr = []\n",
    "for i in obs:\n",
    "    obs_arr.append(int(i))\n",
    "obs_arr = np.array(obs_arr)\n",
    "obs_arr"
   ]
  },
  {
   "cell_type": "code",
   "execution_count": 89,
   "metadata": {},
   "outputs": [],
   "source": [
    "def viterbi(pi, transition_mat, emission_mat, string):\n",
    "    num_states = np.shape(emission_mat)[0]\n",
    "    T = np.shape(string)[0]\n",
    "    \n",
    "    # init blank path\n",
    "    path = np.zeros(T)\n",
    "    \n",
    "    # delta: highest prob of any path that reaches state i\n",
    "    delta = np.zeros((num_states, T))\n",
    "    \n",
    "    # phi: argmax by time step for each state\n",
    "    phi = np.zeros((num_states, T))\n",
    "    \n",
    "    # init delta and phi\n",
    "    delta[:, 0] = pi * emission_mat[:, string[0]]\n",
    "    phi[:, 0] = 0\n",
    "    \n",
    "    print('\\n Start Walk Forward \\n')\n",
    "    # forward algo\n",
    "    for t in range(1, T):\n",
    "        for s in range(num_states):\n",
    "            delta[s, t] = np.max(delta[:, t-1] * transition_mat[:, s])* emission_mat[s, string[t]]\n",
    "            phi[s, t] = np.argmax(delta[:, t-1] * transition_mat[:, s])\n",
    "            print('s={s} and t={t}: phi[{s}, {t}] = {phi}'.format(s=s, t=t,\n",
    "                                                                 phi=phi[s, t]))\n",
    "    print(phi)\n",
    "    # find optimal path\n",
    "    print('-'*50)\n",
    "    print('Start Backtrace\\n')\n",
    "    path[T-1] = np.argmax(delta[:, T-1])\n",
    "    for t in range(T-2, -1, -1):\n",
    "        path[t] = phi[int(path[t+1]), [int(t+1)]]\n",
    "        print('path[{}] = {}'.format(t, path[t]))\n",
    "    \n",
    "    return path, delta, phi"
   ]
  },
  {
   "cell_type": "code",
   "execution_count": 91,
   "metadata": {},
   "outputs": [
    {
     "name": "stdout",
     "output_type": "stream",
     "text": [
      "\n",
      " Start Walk Forward \n",
      "\n",
      "s=0 and t=1: phi[0, 1] = 0.0\n",
      "s=1 and t=1: phi[1, 1] = 0.0\n",
      "s=0 and t=2: phi[0, 2] = 0.0\n",
      "s=1 and t=2: phi[1, 2] = 0.0\n",
      "s=0 and t=3: phi[0, 3] = 0.0\n",
      "s=1 and t=3: phi[1, 3] = 0.0\n",
      "s=0 and t=4: phi[0, 4] = 1.0\n",
      "s=1 and t=4: phi[1, 4] = 1.0\n",
      "s=0 and t=5: phi[0, 5] = 1.0\n",
      "s=1 and t=5: phi[1, 5] = 0.0\n",
      "s=0 and t=6: phi[0, 6] = 0.0\n",
      "s=1 and t=6: phi[1, 6] = 0.0\n",
      "s=0 and t=7: phi[0, 7] = 0.0\n",
      "s=1 and t=7: phi[1, 7] = 0.0\n",
      "s=0 and t=8: phi[0, 8] = 0.0\n",
      "s=1 and t=8: phi[1, 8] = 0.0\n",
      "s=0 and t=9: phi[0, 9] = 0.0\n",
      "s=1 and t=9: phi[1, 9] = 0.0\n",
      "[[0. 0. 0. 0. 1. 1. 0. 0. 0. 0.]\n",
      " [0. 0. 0. 0. 1. 0. 0. 0. 0. 0.]]\n",
      "--------------------------------------------------\n",
      "Start Backtrace\n",
      "\n",
      "path[8] = 0.0\n",
      "path[7] = 0.0\n",
      "path[6] = 0.0\n",
      "path[5] = 0.0\n",
      "path[4] = 1.0\n",
      "path[3] = 1.0\n",
      "path[2] = 0.0\n",
      "path[1] = 0.0\n",
      "path[0] = 0.0\n"
     ]
    }
   ],
   "source": [
    "path, delta, phi = viterbi(pi, transition_mat, emission_mat, obs_arr)"
   ]
  },
  {
   "cell_type": "code",
   "execution_count": 94,
   "metadata": {},
   "outputs": [
    {
     "data": {
      "text/plain": [
       "'AAABBAAAAA'"
      ]
     },
     "execution_count": 94,
     "metadata": {},
     "output_type": "execute_result"
    }
   ],
   "source": [
    "state_map = {0:'A', 1:'B'}\n",
    "''.join([state_map[i] for i in path.tolist()])"
   ]
  },
  {
   "cell_type": "code",
   "execution_count": 96,
   "metadata": {},
   "outputs": [
    {
     "data": {
      "text/plain": [
       "array([2, 1, 2, 0, 0, 1, 0, 0, 0, 1, 0, 2, 2, 0, 1, 1, 0, 2, 1, 0, 2, 0,\n",
       "       2, 0, 0, 2, 0, 0, 2, 1, 2, 1, 2, 2, 0, 2, 2, 2, 0, 1, 1, 2, 2, 0,\n",
       "       1, 1, 1, 1, 1, 2, 0, 2, 2, 0, 0, 0, 1, 2, 2, 2, 2, 2, 1, 1, 1, 2,\n",
       "       2, 1, 1, 2, 1, 2, 0, 2, 1, 1, 1, 1, 1, 1, 1, 1, 0, 0, 0, 2, 1, 1,\n",
       "       2, 0, 2, 0, 2, 0, 0, 1, 2, 2, 0, 2])"
      ]
     },
     "execution_count": 96,
     "metadata": {},
     "output_type": "execute_result"
    }
   ],
   "source": [
    "# 10c viterbi algorithm\n",
    "string = 'zyzxxyxxxyxzzxyyxzyxzxzxxzxxzyzyzzxzzzxyyzzxyyyyyzxzzxxxyzzzzzyyyzzyyzyzxzyyyyyyyyxxxzyyzxzxzxxyzzxz'\n",
    "\n",
    "transition_mat = np.array([[0.346, 0.654],\n",
    "                          [0.462, 0.538]])\n",
    "emission_mat = np.array([[0.767, 0.213, 0.02],\n",
    "                       [0.803, 0.004, 0.193]])\n",
    "pi = [0.5, 0.5]\n",
    "table = string.maketrans('xyz', '012')\n",
    "obs = string.translate(table)\n",
    "obs_arr = []\n",
    "for i in obs:\n",
    "    obs_arr.append(int(i))\n",
    "obs_arr = np.array(obs_arr)\n",
    "obs_arr"
   ]
  },
  {
   "cell_type": "code",
   "execution_count": 97,
   "metadata": {},
   "outputs": [
    {
     "name": "stdout",
     "output_type": "stream",
     "text": [
      "\n",
      " Start Walk Forward \n",
      "\n",
      "s=0 and t=1: phi[0, 1] = 1.0\n",
      "s=1 and t=1: phi[1, 1] = 1.0\n",
      "s=0 and t=2: phi[0, 2] = 0.0\n",
      "s=1 and t=2: phi[1, 2] = 0.0\n",
      "s=0 and t=3: phi[0, 3] = 1.0\n",
      "s=1 and t=3: phi[1, 3] = 1.0\n",
      "s=0 and t=4: phi[0, 4] = 1.0\n",
      "s=1 and t=4: phi[1, 4] = 1.0\n",
      "s=0 and t=5: phi[0, 5] = 1.0\n",
      "s=1 and t=5: phi[1, 5] = 1.0\n",
      "s=0 and t=6: phi[0, 6] = 0.0\n",
      "s=1 and t=6: phi[1, 6] = 0.0\n",
      "s=0 and t=7: phi[0, 7] = 1.0\n",
      "s=1 and t=7: phi[1, 7] = 1.0\n",
      "s=0 and t=8: phi[0, 8] = 1.0\n",
      "s=1 and t=8: phi[1, 8] = 1.0\n",
      "s=0 and t=9: phi[0, 9] = 1.0\n",
      "s=1 and t=9: phi[1, 9] = 1.0\n",
      "s=0 and t=10: phi[0, 10] = 0.0\n",
      "s=1 and t=10: phi[1, 10] = 0.0\n",
      "s=0 and t=11: phi[0, 11] = 1.0\n",
      "s=1 and t=11: phi[1, 11] = 1.0\n",
      "s=0 and t=12: phi[0, 12] = 1.0\n",
      "s=1 and t=12: phi[1, 12] = 1.0\n",
      "s=0 and t=13: phi[0, 13] = 1.0\n",
      "s=1 and t=13: phi[1, 13] = 1.0\n",
      "s=0 and t=14: phi[0, 14] = 1.0\n",
      "s=1 and t=14: phi[1, 14] = 1.0\n",
      "s=0 and t=15: phi[0, 15] = 0.0\n",
      "s=1 and t=15: phi[1, 15] = 0.0\n",
      "s=0 and t=16: phi[0, 16] = 0.0\n",
      "s=1 and t=16: phi[1, 16] = 0.0\n",
      "s=0 and t=17: phi[0, 17] = 1.0\n",
      "s=1 and t=17: phi[1, 17] = 1.0\n",
      "s=0 and t=18: phi[0, 18] = 1.0\n",
      "s=1 and t=18: phi[1, 18] = 1.0\n",
      "s=0 and t=19: phi[0, 19] = 0.0\n",
      "s=1 and t=19: phi[1, 19] = 0.0\n",
      "s=0 and t=20: phi[0, 20] = 1.0\n",
      "s=1 and t=20: phi[1, 20] = 1.0\n",
      "s=0 and t=21: phi[0, 21] = 1.0\n",
      "s=1 and t=21: phi[1, 21] = 1.0\n",
      "s=0 and t=22: phi[0, 22] = 1.0\n",
      "s=1 and t=22: phi[1, 22] = 1.0\n",
      "s=0 and t=23: phi[0, 23] = 1.0\n",
      "s=1 and t=23: phi[1, 23] = 1.0\n",
      "s=0 and t=24: phi[0, 24] = 1.0\n",
      "s=1 and t=24: phi[1, 24] = 1.0\n",
      "s=0 and t=25: phi[0, 25] = 1.0\n",
      "s=1 and t=25: phi[1, 25] = 1.0\n",
      "s=0 and t=26: phi[0, 26] = 1.0\n",
      "s=1 and t=26: phi[1, 26] = 1.0\n",
      "s=0 and t=27: phi[0, 27] = 1.0\n",
      "s=1 and t=27: phi[1, 27] = 1.0\n",
      "s=0 and t=28: phi[0, 28] = 1.0\n",
      "s=1 and t=28: phi[1, 28] = 1.0\n",
      "s=0 and t=29: phi[0, 29] = 1.0\n",
      "s=1 and t=29: phi[1, 29] = 1.0\n",
      "s=0 and t=30: phi[0, 30] = 0.0\n",
      "s=1 and t=30: phi[1, 30] = 0.0\n",
      "s=0 and t=31: phi[0, 31] = 1.0\n",
      "s=1 and t=31: phi[1, 31] = 1.0\n",
      "s=0 and t=32: phi[0, 32] = 0.0\n",
      "s=1 and t=32: phi[1, 32] = 0.0\n",
      "s=0 and t=33: phi[0, 33] = 1.0\n",
      "s=1 and t=33: phi[1, 33] = 1.0\n",
      "s=0 and t=34: phi[0, 34] = 1.0\n",
      "s=1 and t=34: phi[1, 34] = 1.0\n",
      "s=0 and t=35: phi[0, 35] = 1.0\n",
      "s=1 and t=35: phi[1, 35] = 1.0\n",
      "s=0 and t=36: phi[0, 36] = 1.0\n",
      "s=1 and t=36: phi[1, 36] = 1.0\n",
      "s=0 and t=37: phi[0, 37] = 1.0\n",
      "s=1 and t=37: phi[1, 37] = 1.0\n",
      "s=0 and t=38: phi[0, 38] = 1.0\n",
      "s=1 and t=38: phi[1, 38] = 1.0\n",
      "s=0 and t=39: phi[0, 39] = 1.0\n",
      "s=1 and t=39: phi[1, 39] = 1.0\n",
      "s=0 and t=40: phi[0, 40] = 0.0\n",
      "s=1 and t=40: phi[1, 40] = 0.0\n",
      "s=0 and t=41: phi[0, 41] = 0.0\n",
      "s=1 and t=41: phi[1, 41] = 0.0\n",
      "s=0 and t=42: phi[0, 42] = 1.0\n",
      "s=1 and t=42: phi[1, 42] = 1.0\n",
      "s=0 and t=43: phi[0, 43] = 1.0\n",
      "s=1 and t=43: phi[1, 43] = 1.0\n",
      "s=0 and t=44: phi[0, 44] = 1.0\n",
      "s=1 and t=44: phi[1, 44] = 1.0\n",
      "s=0 and t=45: phi[0, 45] = 0.0\n",
      "s=1 and t=45: phi[1, 45] = 0.0\n",
      "s=0 and t=46: phi[0, 46] = 0.0\n",
      "s=1 and t=46: phi[1, 46] = 0.0\n",
      "s=0 and t=47: phi[0, 47] = 0.0\n",
      "s=1 and t=47: phi[1, 47] = 0.0\n",
      "s=0 and t=48: phi[0, 48] = 0.0\n",
      "s=1 and t=48: phi[1, 48] = 0.0\n",
      "s=0 and t=49: phi[0, 49] = 0.0\n",
      "s=1 and t=49: phi[1, 49] = 0.0\n",
      "s=0 and t=50: phi[0, 50] = 1.0\n",
      "s=1 and t=50: phi[1, 50] = 1.0\n",
      "s=0 and t=51: phi[0, 51] = 1.0\n",
      "s=1 and t=51: phi[1, 51] = 1.0\n",
      "s=0 and t=52: phi[0, 52] = 1.0\n",
      "s=1 and t=52: phi[1, 52] = 1.0\n",
      "s=0 and t=53: phi[0, 53] = 1.0\n",
      "s=1 and t=53: phi[1, 53] = 1.0\n",
      "s=0 and t=54: phi[0, 54] = 1.0\n",
      "s=1 and t=54: phi[1, 54] = 1.0\n",
      "s=0 and t=55: phi[0, 55] = 1.0\n",
      "s=1 and t=55: phi[1, 55] = 1.0\n",
      "s=0 and t=56: phi[0, 56] = 1.0\n",
      "s=1 and t=56: phi[1, 56] = 1.0\n",
      "s=0 and t=57: phi[0, 57] = 0.0\n",
      "s=1 and t=57: phi[1, 57] = 0.0\n",
      "s=0 and t=58: phi[0, 58] = 1.0\n",
      "s=1 and t=58: phi[1, 58] = 1.0\n",
      "s=0 and t=59: phi[0, 59] = 1.0\n",
      "s=1 and t=59: phi[1, 59] = 1.0\n",
      "s=0 and t=60: phi[0, 60] = 1.0\n",
      "s=1 and t=60: phi[1, 60] = 1.0\n",
      "s=0 and t=61: phi[0, 61] = 1.0\n",
      "s=1 and t=61: phi[1, 61] = 1.0\n",
      "s=0 and t=62: phi[0, 62] = 1.0\n",
      "s=1 and t=62: phi[1, 62] = 1.0\n",
      "s=0 and t=63: phi[0, 63] = 0.0\n",
      "s=1 and t=63: phi[1, 63] = 0.0\n",
      "s=0 and t=64: phi[0, 64] = 0.0\n",
      "s=1 and t=64: phi[1, 64] = 0.0\n",
      "s=0 and t=65: phi[0, 65] = 0.0\n",
      "s=1 and t=65: phi[1, 65] = 0.0\n",
      "s=0 and t=66: phi[0, 66] = 1.0\n",
      "s=1 and t=66: phi[1, 66] = 1.0\n",
      "s=0 and t=67: phi[0, 67] = 1.0\n",
      "s=1 and t=67: phi[1, 67] = 1.0\n",
      "s=0 and t=68: phi[0, 68] = 0.0\n",
      "s=1 and t=68: phi[1, 68] = 0.0\n",
      "s=0 and t=69: phi[0, 69] = 0.0\n",
      "s=1 and t=69: phi[1, 69] = 0.0\n",
      "s=0 and t=70: phi[0, 70] = 1.0\n",
      "s=1 and t=70: phi[1, 70] = 1.0\n",
      "s=0 and t=71: phi[0, 71] = 0.0\n",
      "s=1 and t=71: phi[1, 71] = 0.0\n",
      "s=0 and t=72: phi[0, 72] = 1.0\n",
      "s=1 and t=72: phi[1, 72] = 1.0\n",
      "s=0 and t=73: phi[0, 73] = 1.0\n",
      "s=1 and t=73: phi[1, 73] = 1.0\n",
      "s=0 and t=74: phi[0, 74] = 1.0\n",
      "s=1 and t=74: phi[1, 74] = 1.0\n",
      "s=0 and t=75: phi[0, 75] = 0.0\n",
      "s=1 and t=75: phi[1, 75] = 0.0\n",
      "s=0 and t=76: phi[0, 76] = 0.0\n",
      "s=1 and t=76: phi[1, 76] = 0.0\n",
      "s=0 and t=77: phi[0, 77] = 0.0\n",
      "s=1 and t=77: phi[1, 77] = 0.0\n",
      "s=0 and t=78: phi[0, 78] = 0.0\n",
      "s=1 and t=78: phi[1, 78] = 0.0\n",
      "s=0 and t=79: phi[0, 79] = 0.0\n",
      "s=1 and t=79: phi[1, 79] = 0.0\n",
      "s=0 and t=80: phi[0, 80] = 0.0\n",
      "s=1 and t=80: phi[1, 80] = 0.0\n",
      "s=0 and t=81: phi[0, 81] = 0.0\n",
      "s=1 and t=81: phi[1, 81] = 0.0\n",
      "s=0 and t=82: phi[0, 82] = 0.0\n",
      "s=1 and t=82: phi[1, 82] = 0.0\n",
      "s=0 and t=83: phi[0, 83] = 1.0\n",
      "s=1 and t=83: phi[1, 83] = 1.0\n",
      "s=0 and t=84: phi[0, 84] = 1.0\n",
      "s=1 and t=84: phi[1, 84] = 1.0\n",
      "s=0 and t=85: phi[0, 85] = 1.0\n",
      "s=1 and t=85: phi[1, 85] = 1.0\n",
      "s=0 and t=86: phi[0, 86] = 1.0\n",
      "s=1 and t=86: phi[1, 86] = 1.0\n",
      "s=0 and t=87: phi[0, 87] = 0.0\n",
      "s=1 and t=87: phi[1, 87] = 0.0\n",
      "s=0 and t=88: phi[0, 88] = 0.0\n",
      "s=1 and t=88: phi[1, 88] = 0.0\n",
      "s=0 and t=89: phi[0, 89] = 1.0\n",
      "s=1 and t=89: phi[1, 89] = 1.0\n",
      "s=0 and t=90: phi[0, 90] = 1.0\n",
      "s=1 and t=90: phi[1, 90] = 1.0\n",
      "s=0 and t=91: phi[0, 91] = 1.0\n",
      "s=1 and t=91: phi[1, 91] = 1.0\n",
      "s=0 and t=92: phi[0, 92] = 1.0\n",
      "s=1 and t=92: phi[1, 92] = 1.0\n",
      "s=0 and t=93: phi[0, 93] = 1.0\n",
      "s=1 and t=93: phi[1, 93] = 1.0\n",
      "s=0 and t=94: phi[0, 94] = 1.0\n",
      "s=1 and t=94: phi[1, 94] = 1.0\n",
      "s=0 and t=95: phi[0, 95] = 1.0\n",
      "s=1 and t=95: phi[1, 95] = 1.0\n",
      "s=0 and t=96: phi[0, 96] = 0.0\n",
      "s=1 and t=96: phi[1, 96] = 0.0\n",
      "s=0 and t=97: phi[0, 97] = 1.0\n",
      "s=1 and t=97: phi[1, 97] = 1.0\n",
      "s=0 and t=98: phi[0, 98] = 1.0\n",
      "s=1 and t=98: phi[1, 98] = 1.0\n",
      "s=0 and t=99: phi[0, 99] = 1.0\n",
      "s=1 and t=99: phi[1, 99] = 1.0\n",
      "[[0. 1. 0. 1. 1. 1. 0. 1. 1. 1. 0. 1. 1. 1. 1. 0. 0. 1. 1. 0. 1. 1. 1. 1.\n",
      "  1. 1. 1. 1. 1. 1. 0. 1. 0. 1. 1. 1. 1. 1. 1. 1. 0. 0. 1. 1. 1. 0. 0. 0.\n",
      "  0. 0. 1. 1. 1. 1. 1. 1. 1. 0. 1. 1. 1. 1. 1. 0. 0. 0. 1. 1. 0. 0. 1. 0.\n",
      "  1. 1. 1. 0. 0. 0. 0. 0. 0. 0. 0. 1. 1. 1. 1. 0. 0. 1. 1. 1. 1. 1. 1. 1.\n",
      "  0. 1. 1. 1.]\n",
      " [0. 1. 0. 1. 1. 1. 0. 1. 1. 1. 0. 1. 1. 1. 1. 0. 0. 1. 1. 0. 1. 1. 1. 1.\n",
      "  1. 1. 1. 1. 1. 1. 0. 1. 0. 1. 1. 1. 1. 1. 1. 1. 0. 0. 1. 1. 1. 0. 0. 0.\n",
      "  0. 0. 1. 1. 1. 1. 1. 1. 1. 0. 1. 1. 1. 1. 1. 0. 0. 0. 1. 1. 0. 0. 1. 0.\n",
      "  1. 1. 1. 0. 0. 0. 0. 0. 0. 0. 0. 1. 1. 1. 1. 0. 0. 1. 1. 1. 1. 1. 1. 1.\n",
      "  0. 1. 1. 1.]]\n",
      "--------------------------------------------------\n",
      "Start Backtrace\n",
      "\n",
      "path[98] = 1.0\n",
      "path[97] = 1.0\n",
      "path[96] = 1.0\n",
      "path[95] = 0.0\n",
      "path[94] = 1.0\n",
      "path[93] = 1.0\n",
      "path[92] = 1.0\n",
      "path[91] = 1.0\n",
      "path[90] = 1.0\n",
      "path[89] = 1.0\n",
      "path[88] = 1.0\n",
      "path[87] = 0.0\n",
      "path[86] = 0.0\n",
      "path[85] = 1.0\n",
      "path[84] = 1.0\n",
      "path[83] = 1.0\n",
      "path[82] = 1.0\n",
      "path[81] = 0.0\n",
      "path[80] = 0.0\n",
      "path[79] = 0.0\n",
      "path[78] = 0.0\n",
      "path[77] = 0.0\n",
      "path[76] = 0.0\n",
      "path[75] = 0.0\n",
      "path[74] = 0.0\n",
      "path[73] = 1.0\n",
      "path[72] = 1.0\n",
      "path[71] = 1.0\n",
      "path[70] = 0.0\n",
      "path[69] = 1.0\n",
      "path[68] = 0.0\n",
      "path[67] = 0.0\n",
      "path[66] = 1.0\n",
      "path[65] = 1.0\n",
      "path[64] = 0.0\n",
      "path[63] = 0.0\n",
      "path[62] = 0.0\n",
      "path[61] = 1.0\n",
      "path[60] = 1.0\n",
      "path[59] = 1.0\n",
      "path[58] = 1.0\n",
      "path[57] = 1.0\n",
      "path[56] = 0.0\n",
      "path[55] = 1.0\n",
      "path[54] = 1.0\n",
      "path[53] = 1.0\n",
      "path[52] = 1.0\n",
      "path[51] = 1.0\n",
      "path[50] = 1.0\n",
      "path[49] = 1.0\n",
      "path[48] = 0.0\n",
      "path[47] = 0.0\n",
      "path[46] = 0.0\n",
      "path[45] = 0.0\n",
      "path[44] = 0.0\n",
      "path[43] = 1.0\n",
      "path[42] = 1.0\n",
      "path[41] = 1.0\n",
      "path[40] = 0.0\n",
      "path[39] = 0.0\n",
      "path[38] = 1.0\n",
      "path[37] = 1.0\n",
      "path[36] = 1.0\n",
      "path[35] = 1.0\n",
      "path[34] = 1.0\n",
      "path[33] = 1.0\n",
      "path[32] = 1.0\n",
      "path[31] = 0.0\n",
      "path[30] = 1.0\n",
      "path[29] = 0.0\n",
      "path[28] = 1.0\n",
      "path[27] = 1.0\n",
      "path[26] = 1.0\n",
      "path[25] = 1.0\n",
      "path[24] = 1.0\n",
      "path[23] = 1.0\n",
      "path[22] = 1.0\n",
      "path[21] = 1.0\n",
      "path[20] = 1.0\n",
      "path[19] = 1.0\n",
      "path[18] = 0.0\n",
      "path[17] = 1.0\n",
      "path[16] = 1.0\n",
      "path[15] = 0.0\n",
      "path[14] = 0.0\n",
      "path[13] = 1.0\n",
      "path[12] = 1.0\n",
      "path[11] = 1.0\n",
      "path[10] = 1.0\n",
      "path[9] = 0.0\n",
      "path[8] = 1.0\n",
      "path[7] = 1.0\n",
      "path[6] = 1.0\n",
      "path[5] = 0.0\n",
      "path[4] = 1.0\n",
      "path[3] = 1.0\n",
      "path[2] = 1.0\n",
      "path[1] = 0.0\n",
      "path[0] = 1.0\n"
     ]
    }
   ],
   "source": [
    "path, delta, phi = viterbi(pi, transition_mat, emission_mat, obs_arr)"
   ]
  },
  {
   "cell_type": "code",
   "execution_count": 98,
   "metadata": {},
   "outputs": [
    {
     "data": {
      "text/plain": [
       "'BABBBABBBABBBBAABBABBBBBBBBBBABABBBBBBBAABBBAAAAABBBBBBBABBBBBAAABBAABABBBAAAAAAAABBBBAABBBBBBBABBBB'"
      ]
     },
     "execution_count": 98,
     "metadata": {},
     "output_type": "execute_result"
    }
   ],
   "source": [
    "state_map = {0:'A', 1:'B'}\n",
    "''.join([state_map[i] for i in path.tolist()])"
   ]
  },
  {
   "cell_type": "code",
   "execution_count": 99,
   "metadata": {},
   "outputs": [
    {
     "ename": "SyntaxError",
     "evalue": "invalid syntax (<ipython-input-99-af7c070b72dd>, line 55)",
     "output_type": "error",
     "traceback": [
      "\u001b[0;36m  File \u001b[0;32m\"<ipython-input-99-af7c070b72dd>\"\u001b[0;36m, line \u001b[0;32m55\u001b[0m\n\u001b[0;31m    print Viterbit(obs, states, start_probability, transition_probability, emission_probability)\u001b[0m\n\u001b[0m                 ^\u001b[0m\n\u001b[0;31mSyntaxError\u001b[0m\u001b[0;31m:\u001b[0m invalid syntax\n"
     ]
    }
   ],
   "source": [
    "# # https://github.com/WuLC/ViterbiAlgorithm/blob/master/Viterbi.py\n",
    "# ###########################################################################################################\n",
    "# # Viterbi Algorithm for HMM\n",
    "# # dp, time complexity O(mn^2), m is the length of sequence of observation, n is the number of hidden states\n",
    "# ##########################################################################################################\n",
    "\n",
    "\n",
    "# # five elements for HMM\n",
    "# states = ('Healthy', 'Fever')\n",
    " \n",
    "# observations = ('normal', 'cold', 'dizzy')\n",
    " \n",
    "# start_probability = {'Healthy': 0.6, 'Fever': 0.4}\n",
    " \n",
    "# transition_probability = {\n",
    "#    'Healthy' : {'Healthy': 0.7, 'Fever': 0.3},\n",
    "#    'Fever' :   {'Healthy': 0.4, 'Fever': 0.6},\n",
    "#    }\n",
    " \n",
    "# emission_probability = {\n",
    "#    'Healthy' : {'normal': 0.5, 'cold': 0.4, 'dizzy': 0.1},\n",
    "#    'Fever'   : {'normal': 0.1, 'cold': 0.3, 'dizzy': 0.6},\n",
    "#    }\n",
    "\n",
    "\n",
    "\n",
    "# def Viterbit(obs, states, s_pro, t_pro, e_pro):\n",
    "# \tpath = { s:[] for s in states} # init path: path[s] represents the path ends with s\n",
    "# \tcurr_pro = {}\n",
    "# \tfor s in states:\n",
    "# \t\tcurr_pro[s] = s_pro[s]*e_pro[s][obs[0]]\n",
    "# \tfor i in xrange(1, len(obs)):\n",
    "# \t\tlast_pro = curr_pro\n",
    "# \t\tcurr_pro = {}\n",
    "# \t\tfor curr_state in states:\n",
    "# \t\t\tmax_pro, last_sta = max(((last_pro[last_state]*t_pro[last_state][curr_state]*e_pro[curr_state][obs[i]], last_state) \n",
    "# \t\t\t\t                       for last_state in states))\n",
    "# \t\t\tcurr_pro[curr_state] = max_pro\n",
    "# \t\t\tpath[curr_state].append(last_sta)\n",
    "\n",
    "# \t# find the final largest probability\n",
    "# \tmax_pro = -1\n",
    "# \tmax_path = None\n",
    "# \tfor s in states:\n",
    "# \t\tpath[s].append(s)\n",
    "# \t\tif curr_pro[s] > max_pro:\n",
    "# \t\t\tmax_path = path[s]\n",
    "# \t\t\tmax_pro = curr_pro[s]\n",
    "# \t\t# print '%s: %s'%(curr_pro[s], path[s]) # different path and their probability\n",
    "# \treturn max_path\n",
    "\n",
    "\n",
    "# if __name__ == '__main__':\n",
    "# \tobs = ['normal', 'cold', 'dizzy']\n",
    "# \tprint Viterbit(obs, states, start_probability, transition_probability, emission_probability)"
   ]
  },
  {
   "cell_type": "code",
   "execution_count": null,
   "metadata": {
    "collapsed": true
   },
   "outputs": [],
   "source": []
  }
 ],
 "metadata": {
  "kernelspec": {
   "display_name": "Python 3",
   "language": "python",
   "name": "python3"
  },
  "language_info": {
   "codemirror_mode": {
    "name": "ipython",
    "version": 3
   },
   "file_extension": ".py",
   "mimetype": "text/x-python",
   "name": "python",
   "nbconvert_exporter": "python",
   "pygments_lexer": "ipython3",
   "version": "3.6.7"
  }
 },
 "nbformat": 4,
 "nbformat_minor": 2
}
