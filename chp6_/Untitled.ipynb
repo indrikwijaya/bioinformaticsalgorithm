{
 "cells": [
  {
   "cell_type": "markdown",
   "metadata": {},
   "source": [
    "Regardless of how many reversals separate the human and mouse X chromosomes,\n",
    "reversals must be rare genomic events. Indeed, genome rearrangements typically\n",
    "cause the death or sterility of the mutated organism, thus preventing it from passing\n",
    "the rearrangement on to the next generation. However, a tiny fraction of genome\n",
    "rearrangements may have a positive effect on survival and propagate through a species\n",
    "as the result of natural selection. When a population becomes isolated from the rest of\n",
    "its species for long enough, rearrangements can even create a new species\n",
    "\n",
    "Geology provides a thought-provoking analogy for thinking about genome evolution.\n",
    "You might like to think of genome rearrangements as “genomic earthquakes” that\n",
    "dramatically change the chromosomal architecture of an organism. Genome rearrangements\n",
    "contrast with much more frequent point mutations, which work slowly and are\n",
    "analogous to “genomic erosion”.\n",
    "\n",
    "A fundamental question in chromosome evolution studies\n",
    "is whether the __breakage points of reversals__ (i.e., the ends of the inverted intervals)\n",
    "occur along “fault lines” called __rearrangement hotspots__. If such hotspots exist in the\n",
    "human genome, we want to locate them and determine how they might relate to genetic\n",
    "disorders, which are often attributable to rearrangements.\n",
    "\n",
    "endpoints of reach reversal = vertical segments\n",
    "regions affected by multiple reversals are indicated by multiple vertical segments in the human X chromosome\n",
    "\n",
    "In 1973, Susumu Ohno proposed the __Random Breakage Model__ of chromosome evolution.\n",
    "This hypothesis states that the breakage points of rearrangements are selected\n",
    "randomly, implying that rearrangement hotspots in mammalian genomes do not exist.\n",
    "\n",
    "__finding the minimum number of reversals that could transform the mouse X chromosome into the human X chromosome. From a biological perspective, why do we want to do this?__"
   ]
  },
  {
   "cell_type": "markdown",
   "metadata": {},
   "source": [
    "We ask for the minimum number of reversals in accordance with a principle called\n",
    "__Occam’s razor__. When presented with some quandary, we should explain it using the\n",
    "simplest hypothesis that is consistent with what we already know. In this case, it seems\n",
    "most reasonable that evolution would take the “shortest path” between two species,\n",
    "i.e., the most parsimonious evolutionary scenario. Evolution may not always take the\n",
    "shortest path, but even when it does not, the number of steps in the true evolutionary\n",
    "scenario often comes close to the number of steps in the most parsimonious scenario.\n",
    "How, then, can we find the length of this shortest path?\n",
    "\n",
    "Genome rearrangement studies typically ignore the lengths of synteny blocks and\n",
    "represent chromosomes by __signed permutations__. Each block is labeled by a number,\n",
    "which is assigned a positive/negative sign depending on the block’s direction. \n",
    "\n",
    "The number of elements in a signed permutation is its __length__."
   ]
  },
  {
   "cell_type": "markdown",
   "metadata": {},
   "source": [
    "## A greedy heuristic for sorting by reversals"
   ]
  },
  {
   "cell_type": "markdown",
   "metadata": {},
   "source": [
    "Let’s see if we can design a greedy heuristic to approximate drev(P). The simplest idea\n",
    "is to perform reversals that fix +1 in the first position, followed by reversals that fix\n",
    "+2 in the second position, and so on. For example, element 1 is already in the correct\n",
    "position and has the correct sign (+) in the mouse X chromosome, but element 2 is not\n",
    "in the correct position. We can keep element 1 fixed and move element 2 to the correct\n",
    "position by applying a single reversal.\n",
    "\n",
    "(+1 __−7 +6 −10 +9 −8 +2__  11  3 +5 +4)\n",
    "\n",
    "(+1  __2 +8  9 +10  6 +7__  11  3 +5 +4)\n",
    "\n",
    "One more reversal flips element 2 around so that it has the correct sign:\n",
    "\n",
    "(+1 __−2__ +8  9 +10  6 +7  11  3 +5 +4)\n",
    "\n",
    "(+1 __+2__ +8  9 +10  6 +7  11  3 +5 +4)"
   ]
  },
  {
   "cell_type": "markdown",
   "metadata": {},
   "source": [
    "We say that\n",
    "element k in permutation $P = (p_1, \\dots, p_n)$ is sorted if $p_k = +k$ and unsorted otherwise.\n",
    "\n",
    "We call P __k-sorted__ if its first $k-1$ elements are sorted, but if element k is unsorted. \n",
    "\n",
    "For every $(k-1)$-sorted permutation P, there exists a single reversal, called the k-sorting\n",
    "reversal, that fixes the first $k-1$ elements of P and moves element k to the k-th position.\n",
    "\n",
    "In the case when -k is already in the k-th position of P, the k-sorting reversal merely flips -k around."
   ]
  },
  {
   "cell_type": "code",
   "execution_count": 88,
   "metadata": {
    "collapsed": true
   },
   "outputs": [],
   "source": [
    "import copy\n",
    "# 6a Greedy Sorting\n",
    "\n",
    "def checkSorted(P):\n",
    "    for i in range(1, len(P)+1):\n",
    "        if P[i] != '+' + str(i):\n",
    "            return False\n",
    "    return True\n",
    "\n",
    "def reverse(element):\n",
    "    if element[0] == '-':\n",
    "        element.replace('-', '+')\n",
    "    else:\n",
    "        element.replace('+', '-')\n",
    "    \n",
    "    return element\n",
    "\n",
    "# need to revamp this code to ensure it works\n",
    "def k_sorting(P, k):\n",
    "    P_dict = copy.deepcopy(P)\n",
    "    if P[k][1:] == 'k' and P[k][0] == '-':\n",
    "        P_dict[k][0] = '+'\n",
    "    else:\n",
    "        index_reverse = 0\n",
    "        for j in range(k, len(P)+1):\n",
    "            print(j, P[j][1:])\n",
    "            if P[j][1:] == str(k):\n",
    "                index_reverse = j\n",
    "                break\n",
    "                \n",
    "        print('index',j)\n",
    "        for i in range(k, index_reverse+1):\n",
    "            print(i, P[i], ';', index_reverse-i+1, P[index_reverse-i+1])\n",
    "            P_dict[i] = reverse(P[index_reverse-i+1])\n",
    "    return P_dict\n",
    "            \n",
    "\n",
    "def kSortingReversal(P, k):\n",
    "    j = k\n",
    "    while P[j] != k+1 and P[j] != -(k+1):\n",
    "        j += 1\n",
    "    P[k:j+1] = list(map(lambda x: -x, P[k:j+1][::-1]))\n",
    "    \n",
    "    return P\n",
    "\n",
    "def GreedySorting(P):\n",
    "    approxReversalDist = 0\n",
    "    reversals = []\n",
    "    for k in range(len(P)):\n",
    "        while P[k] != k+1:\n",
    "            P = kSortingReversal(P, k)\n",
    "            reversals.append(list(P))\n",
    "            approxReversalDist += 1\n",
    "    return reversals, approxReversalDist\n",
    "    "
   ]
  },
  {
   "cell_type": "code",
   "execution_count": 83,
   "metadata": {},
   "outputs": [
    {
     "data": {
      "text/plain": [
       "['-3', '+4', '+1', '+5', '-2']"
      ]
     },
     "execution_count": 83,
     "metadata": {},
     "output_type": "execute_result"
    }
   ],
   "source": [
    "a = '(-3 +4 +1 +5 -2)'\n",
    "a_list = a.replace(')', '').replace('(', '').split(' ')\n",
    "a_list"
   ]
  },
  {
   "cell_type": "code",
   "execution_count": 90,
   "metadata": {},
   "outputs": [
    {
     "name": "stdout",
     "output_type": "stream",
     "text": [
      "(-1 -4 +3 +5 -2)\n",
      "(+1 -4 +3 +5 -2)\n",
      "(+1 +2 -5 -3 +4)\n",
      "(+1 +2 +3 +5 +4)\n",
      "(+1 +2 +3 -4 -5)\n",
      "(+1 +2 +3 +4 -5)\n",
      "(+1 +2 +3 +4 +5)\n"
     ]
    }
   ],
   "source": [
    "reversals, dist = GreedySorting([int(x) for x in a_list])\n",
    "for reversal in reversals:\n",
    "    print(\"(\" + \" \".join([\"+\" + str(x) if x > 0 else str(x) for x in reversal]) + \")\")"
   ]
  },
  {
   "cell_type": "code",
   "execution_count": 99,
   "metadata": {
    "collapsed": true
   },
   "outputs": [],
   "source": [
    "with open('rosalind_ba6a.txt', 'r') as reader:\n",
    "    permutation = reader.readline().replace(')', '').replace('(', '').split(' ')\n",
    "\n",
    "permutation = [int(x) for x in permutation]\n",
    "reversals, dist = GreedySorting(permutation)\n",
    "\n",
    "res_6a = open('6a.txt','w')\n",
    "for reversal in reversals:\n",
    "    res_6a.write(\"(\" + \" \".join([\"+\" + str(x) if x > 0 else str(x) for x in reversal]) + \")\" + '\\n')\n",
    "res_6a.close()"
   ]
  },
  {
   "cell_type": "markdown",
   "metadata": {},
   "source": [
    "The pairs (+12 +13) and (-11-10) have something in common; the second element is equal to the first element plus 1. We therefore say that consecutive elements $(p_i p_{i+1})$ in permutation $P = (p_1 . . . p_n)$\n",
    "form an adjacency if $p_{i+1}-p_i = 1$. By definition, for any positive integer $k < n$,\n",
    "both $(k    k + 1)$ and $(-(k + 1) -k)$ are __adjacencies__. \n",
    "\n",
    "If $p_{i+1}- p_i \\neq 1$, then we say that $(p_i p_{i+1})$ is a __breakpoint__.\n",
    "\n",
    "$Adjacencies(P) + Breakpoints(P) = n+1$"
   ]
  },
  {
   "cell_type": "code",
   "execution_count": 113,
   "metadata": {},
   "outputs": [
    {
     "data": {
      "text/plain": [
       "8"
      ]
     },
     "execution_count": 113,
     "metadata": {},
     "output_type": "execute_result"
    }
   ],
   "source": [
    "# 6b no of breakpoints in a permutation\n",
    "\n",
    "p = '(+3 +4 +5 -12 -8 -7 -6 +1 +2 +10 +9 -11 +13 +14)'\n",
    "p = p.replace('(', '').replace(')', '').split(' ')\n",
    "p = [int(x) for x in p]\n",
    "def BreakPoints(P):\n",
    "    P = [0] + P + [max(P) + 1]\n",
    "    breakpoints = 0\n",
    "    for i in range(len(P) - 1):\n",
    "        if P[i+1] - P[i] != 1:\n",
    "            breakpoints += 1\n",
    "    return breakpoints\n",
    "BreakPoints(p)"
   ]
  },
  {
   "cell_type": "code",
   "execution_count": 114,
   "metadata": {},
   "outputs": [
    {
     "data": {
      "text/plain": [
       "94"
      ]
     },
     "execution_count": 114,
     "metadata": {},
     "output_type": "execute_result"
    }
   ],
   "source": [
    "with open('rosalind_ba6b.txt', 'r') as reader:\n",
    "    permutation = reader.readline().replace(')', '').replace('(', '').split(' ')\n",
    "permutation = [int(x) for x in permutation]\n",
    "BreakPoints(permutation)"
   ]
  },
  {
   "cell_type": "markdown",
   "metadata": {
    "collapsed": true
   },
   "source": [
    "- sorting by reversals as the process of breakpoint elimination - reducing the number of breakpoints in a permutation P from Breakpoints(P) to 0\n",
    "\n",
    "- what's the max no of breakpoints that can be eliminated by a single reversal?\n",
    "if $(p_i, p_{i+1})$ formed a breakpoint within the span of a reversal, then these consecutive elements will remain a breakpoint after the reversal changes them into $(-p_{i+1}, -p_i)$ i.e. their differences are still not equal to 1\n",
    "\n",
    "Since all the breakpoints inside and outside the span of a reversal remain breakpoints after a reversal, the only breakpoints that could be eliminated by a reversal are the two breakpoints located on the boundaries of the inverted interval --> a reversal can eliminate max 2 breakpoints\n",
    "\n",
    "Breakpoint theorem: $d_{rev}(P) \\geq Breakpoints(P)/2$\n",
    "\n",
    "It turns out that every permutation of length $n$ can be sorted using at most $n+1$ reversals and the permutation $(+n+(n-1)+\\dots+1)$ requires $n+1$ reversals to sort. Since this permutation has $n+1$ breakpoints, there is a large gap between the lower bound provided by the Breakpoint theorem and the reversal distance\n",
    "\n",
    "Prove that there exists a shortest sequence of reversals sorting a permutation that never breaks a permutation at an adjacency"
   ]
  },
  {
   "cell_type": "markdown",
   "metadata": {},
   "source": [
    "Breakpoint Graphs\n",
    "\n",
    "- Prove that the red and blue edges in any breakpoint graph form alternating cycles. Hint: How many red and blue edges meet at each node of the breakpoint graph? (pg 317)\n",
    "\n",
    "2-break: a rearrangement that replaces 2 red edges with 2 new red edges on the same 4 nodes\n",
    "\n",
    "2-break distance, d(P, Q): min # of 2-breaks transforming genome P into genome Q\n",
    "\n",
    "Cycles(P, Q) = # of red-blue alternating cycles in BreakPointGraph(P, Q)\n",
    "Blocks(P, Q) = # of synteny blocks in the case that P and Q have the same number of synteny blocks\n",
    "\n",
    "When P and Q are identical -> Cycles(P, Q) = 2\n",
    "\n",
    "Trivial cycles = cycles of length 2\n",
    "\n",
    "Trivial breakpoint graph = breakpoint graph formed by identical genomes\n",
    "\n",
    "- Prove that Cycles(P, Q) < Blocks(P, Q) unless P = Q"
   ]
  },
  {
   "cell_type": "markdown",
   "metadata": {},
   "source": [
    "__Chromosome To Cycle Problem__\n",
    "\n",
    "Solve the Chromosome To Cycle Problem.\n",
    "\n",
    "__Given__: A chromosome Chromosome containing n synteny blocks.\n",
    "\n",
    "__Return__: The sequence Nodes of integers between 1 and 2n resulting from applying ChromosomeToCycle to Chromosome."
   ]
  },
  {
   "cell_type": "code",
   "execution_count": 31,
   "metadata": {
    "collapsed": true
   },
   "outputs": [],
   "source": [
    "# 6f ChromosomeToCycle\n",
    "def ChromosomeToCycle(Chromosome):\n",
    "    nodes = []\n",
    "    for j in range(len(Chromosome)):\n",
    "        i = Chromosome[j]\n",
    "        if i > 0:\n",
    "            nodes.append(2*i-1)\n",
    "            nodes.append(2*i)\n",
    "        else:\n",
    "            nodes.append(-2*i)\n",
    "            nodes.append(-2*i-1)\n",
    "    return nodes"
   ]
  },
  {
   "cell_type": "code",
   "execution_count": 33,
   "metadata": {},
   "outputs": [
    {
     "data": {
      "text/plain": [
       "[1, 2, 4, 3, 6, 5, 7, 8]"
      ]
     },
     "execution_count": 33,
     "metadata": {},
     "output_type": "execute_result"
    }
   ],
   "source": [
    "ChromosomeToCycle([1, -2, -3, 4])"
   ]
  },
  {
   "cell_type": "code",
   "execution_count": 30,
   "metadata": {},
   "outputs": [
    {
     "name": "stdout",
     "output_type": "stream",
     "text": [
      "(2 1 3 4 6 5 8 7 10 9 11 12 14 13 15 16 17 18 20 19 22 21 23 24 26 25 28 27 30 29 31 32 34 33 35 36 38 37 39 40 42 41 44 43 45 46 48 47 50 49 52 51 54 53 56 55 58 57 59 60 62 61 63 64 66 65 67 68 70 69 71 72 74 73 75 76 78 77 80 79 81 82 83 84 85 86 87 88 90 89 91 92 93 94 96 95 98 97 99 100 101 102 104 103 106 105 107 108 109 110 112 111 113 114 116 115 117 118 120 119 121 122 123 124 126 125)\n"
     ]
    }
   ],
   "source": [
    "test_file = 'rosalind_ba6f.txt'\n",
    "with open(test_file, 'r') as reader:\n",
    "    Chromosome = reader.readline().strip('\\n')\n",
    "    Chromosome = Chromosome.replace(\"(\", \"\").replace(\")\", \"\")\n",
    "    Chromosome = [int(x) for x in Chromosome.split()]\n",
    "\n",
    "cycle = ChromosomeToCycle(Chromosome)\n",
    "print(\"(\" + \" \".join(map(str, cycle)) + \")\")"
   ]
  },
  {
   "cell_type": "markdown",
   "metadata": {},
   "source": [
    "__Cycle To Chromosome Problem__\n",
    "\n",
    "Solve the Cycle to Chromosome Problem.\n",
    "\n",
    "__Given__: A sequence Nodes of integers between 1 and 2n.\n",
    "\n",
    "__Return__: The chromosome Chromosome containing n synteny blocks resulting from applying CycleToChromosome to Nodes."
   ]
  },
  {
   "cell_type": "code",
   "execution_count": 69,
   "metadata": {},
   "outputs": [],
   "source": [
    "# 6g Cycle to Chromosome\n",
    "def CycleToChromosome(Nodes):\n",
    "    Chromosome = []\n",
    "    for i in range(0, len(Nodes), 2):\n",
    "        if Nodes[i] < Nodes[i+1]:\n",
    "            Chromosome.append(Nodes[i+1]//2)\n",
    "        else:\n",
    "            Chromosome.append(-Nodes[i]//2)\n",
    "    return Chromosome"
   ]
  },
  {
   "cell_type": "code",
   "execution_count": 70,
   "metadata": {},
   "outputs": [
    {
     "data": {
      "text/plain": [
       "[1, -2, -3, 4]"
      ]
     },
     "execution_count": 70,
     "metadata": {},
     "output_type": "execute_result"
    }
   ],
   "source": [
    "CycleToChromosome([int(x) for x in '1 2 4 3 6 5 7 8'.split(' ')])"
   ]
  },
  {
   "cell_type": "code",
   "execution_count": 68,
   "metadata": {},
   "outputs": [
    {
     "name": "stdout",
     "output_type": "stream",
     "text": [
      "(-1 +2 -3 -4 -5 +6 +7 +8 -9 -10 +11 +12 -13 -14 +15 -16 -17 -18 -19 -20 +21 +22 +23 +24 +25 +26 +27 -28 +29 -30 +31 +32 -33 -34 +35 +36 +37 +38 -39 -40 +41 +42 +43 -44 -45 -46 +47 +48 -49 +50 -51 -52 -53 +54 -55 -56 +57 +58 -59 +60 +61 -62 -63)\n"
     ]
    }
   ],
   "source": [
    "test_file = 'rosalind_ba6g.txt'\n",
    "with open(test_file, 'r') as reader:\n",
    "    Nodes = reader.readline().strip('\\n')\n",
    "    Nodes = Nodes.replace(\"(\", \"\").replace(\")\", \"\")\n",
    "    Nodes = [int(x) for x in Nodes.split()]\n",
    "\n",
    "Chromosome = CycleToChromosome(Nodes)\n",
    "print(\"(\" + \" \".join([\"+\" + str(x) if x > 0 else str(x) for x in Chromosome]) + \")\")"
   ]
  },
  {
   "cell_type": "code",
   "execution_count": 121,
   "metadata": {
    "collapsed": true
   },
   "outputs": [],
   "source": [
    "# 6h, need to check again\n",
    "def ColoredEdges(P):\n",
    "    edges = []\n",
    "    for chromosome in P:\n",
    "        nodes = ChromosomeToCycle(chromosome)\n",
    "        for j in range(1, len(nodes), 2):\n",
    "            if j != len(nodes) - 1:\n",
    "                edges.append([nodes[j], nodes[j+1]])\n",
    "\n",
    "            else:\n",
    "                edges.append([nodes[j], nodes[0]])\n",
    "\n",
    "    return edges"
   ]
  },
  {
   "cell_type": "code",
   "execution_count": 122,
   "metadata": {},
   "outputs": [
    {
     "data": {
      "text/plain": [
       "[[2, 4], [3, 6], [5, 1], [8, 9], [10, 12], [11, 7]]"
      ]
     },
     "execution_count": 122,
     "metadata": {},
     "output_type": "execute_result"
    }
   ],
   "source": [
    "chromosomes = [[+1, -2, -3],[+4, +5, -6]]\n",
    "ColoredEdges(chromosomes)\n"
   ]
  },
  {
   "cell_type": "code",
   "execution_count": 123,
   "metadata": {},
   "outputs": [
    {
     "data": {
      "text/plain": [
       "'(1, 4), (3, 5), (6, 8), (7, 10), (9, 11), (12, 14), (13, 16), (15, 17), (18, 19), (20, 22), (21, 23), (24, 26), (25, 27), (28, 30), (29, 31), (32, 34), (33, 35), (36, 38), (37, 39), (40, 41), (42, 43), (44, 46), (45, 48), (47, 50), (49, 51), (52, 2), (54, 56), (55, 58), (57, 59), (60, 61), (62, 63), (64, 66), (65, 67), (68, 70), (69, 72), (71, 73), (74, 76), (75, 78), (77, 80), (79, 82), (81, 83), (84, 86), (85, 88), (87, 89), (90, 91), (92, 93), (94, 95), (96, 97), (98, 99), (100, 102), (101, 104), (103, 106), (105, 107), (108, 109), (110, 112), (111, 53), (114, 115), (116, 117), (118, 119), (120, 122), (121, 123), (124, 125), (126, 128), (127, 129), (130, 132), (131, 134), (133, 136), (135, 137), (138, 139), (140, 141), (142, 144), (143, 145), (146, 148), (147, 150), (149, 152), (151, 153), (154, 155), (156, 157), (158, 113), (159, 162), (161, 164), (163, 166), (165, 168), (167, 170), (169, 172), (171, 174), (173, 175), (176, 178), (177, 179), (180, 182), (181, 183), (184, 186), (185, 187), (188, 189), (190, 191), (192, 193), (194, 196), (195, 197), (198, 199), (200, 201), (202, 204), (203, 205), (206, 208), (207, 209), (210, 160), (212, 214), (213, 216), (215, 217), (218, 220), (219, 221), (222, 224), (223, 225), (226, 228), (227, 230), (229, 232), (231, 234), (233, 235), (236, 238), (237, 239), (240, 241), (242, 244), (243, 245), (246, 248), (247, 249), (250, 251), (252, 254), (253, 255), (256, 258), (257, 259), (260, 261), (262, 264), (263, 265), (266, 267), (268, 270), (269, 211), (272, 273), (274, 276), (275, 278), (277, 279), (280, 282), (281, 284), (283, 285), (286, 287), (288, 290), (289, 292), (291, 293), (294, 295), (296, 298), (297, 300), (299, 302), (301, 303), (304, 306), (305, 307), (308, 309), (310, 312), (311, 313), (314, 315), (316, 317), (318, 319), (320, 322), (321, 323), (324, 325), (326, 328), (327, 330), (329, 332), (331, 271), (333, 335), (336, 337), (338, 339), (340, 341), (342, 344), (343, 345), (346, 347), (348, 350), (349, 351), (352, 353), (354, 356), (355, 358), (357, 360), (359, 362), (361, 364), (363, 365), (366, 367), (368, 370), (369, 371), (372, 374), (373, 375), (376, 378), (377, 380), (379, 381), (382, 334), (384, 385), (386, 388), (387, 390), (389, 391), (392, 394), (393, 396), (395, 397), (398, 400), (399, 402), (401, 404), (403, 405), (406, 408), (407, 410), (409, 411), (412, 414), (413, 415), (416, 417), (418, 420), (419, 422), (421, 424), (423, 426), (425, 428), (427, 429), (430, 432), (431, 433), (434, 436), (435, 438), (437, 439), (440, 442), (441, 383)'"
      ]
     },
     "execution_count": 123,
     "metadata": {},
     "output_type": "execute_result"
    }
   ],
   "source": [
    "test_file = 'rosalind_ba6h.txt'\n",
    "with open(test_file, 'r') as reader:\n",
    "    chromosomes = reader.readline().strip()\n",
    "chromosomes = chromosomes[1:-1]\n",
    "chromosomes = chromosomes.split(')(')\n",
    "for i in range(len(chromosomes)):\n",
    "    chromosomes[i] = [int(x) for x in chromosomes[i].split(' ')]\n",
    "\n",
    "edges = ColoredEdges(chromosomes)\n",
    "', '.join([str(tuple(edge)) for edge in edges])"
   ]
  },
  {
   "cell_type": "code",
   "execution_count": 111,
   "metadata": {
    "collapsed": true
   },
   "outputs": [],
   "source": [
    "# 6i GraphToGenome, need to check again\n",
    "\n",
    "def GraphToGenome(GenomeGraph):\n",
    "    P = []\n",
    "    Cycles = []\n",
    "    temp = []\n",
    "    for i in range(len(GenomeGraph)):\n",
    "        if i == len(GenomeGraph) - 1:\n",
    "            temp += GenomeGraph[i]\n",
    "            Cycles.append(temp)\n",
    "        elif GenomeGraph[i][1] == GenomeGraph[i+1][0] + 1 or GenomeGraph[i][1] == GenomeGraph[i+1][0] - 1:\n",
    "            temp += GenomeGraph[i]\n",
    "        else:\n",
    "            temp += GenomeGraph[i]\n",
    "            Cycles.append(temp)\n",
    "            temp = []\n",
    "    for cycle in Cycles:\n",
    "        Chromosome = CycleToChromosome([cycle[-1]] + cycle[:-1])\n",
    "        P.append(Chromosome)\n",
    "    \n",
    "    return P"
   ]
  },
  {
   "cell_type": "code",
   "execution_count": 115,
   "metadata": {},
   "outputs": [
    {
     "name": "stdout",
     "output_type": "stream",
     "text": [
      "[[1, -2, -3], [4, 5, -6]]\n",
      "[[1, -2, -3], [-4, 5, -6]]\n"
     ]
    }
   ],
   "source": [
    "print(GraphToGenome([(2, 4), (3, 6), (5, 1), (8, 9), (10, 12), (11, 7)]))\n",
    "print(GraphToGenome([(2, 4), (3, 6), (5, 1), (7, 9), (10, 12), (11, 8)]))"
   ]
  },
  {
   "cell_type": "markdown",
   "metadata": {
    "collapsed": true
   },
   "source": [
    "__2-Break Distance Problem__\n",
    "\n",
    "Find the 2-break distance between two genomes.\n",
    "\n",
    "__Given__: Two genomes with circular chromosomes on the same set of synteny blocks.\n",
    "\n",
    "__Return__: The 2-break distance between these two genomes."
   ]
  },
  {
   "cell_type": "code",
   "execution_count": 119,
   "metadata": {
    "collapsed": true
   },
   "outputs": [],
   "source": [
    "# 6c 2-break distance problem\n",
    "\n",
    "def find_next_edge(current, edges):\n",
    "    if len(edges) == 0:\n",
    "        return -1\n",
    "    idx = 0\n",
    "    while not (current[0] in edges[idx] or current[1] in edges[idx]):\n",
    "        idx += 1\n",
    "        if idx == len(edges):\n",
    "            return -1\n",
    "        \n",
    "    return edges[idx]\n",
    "\n",
    "def TwoBreakDist(P, Q):\n",
    "    edgesP = ColoredEdges(P)\n",
    "    edgesQ = ColoredEdges(Q)\n",
    "    edges = edgesP + edgesQ\n",
    "    print(edges)\n",
    "    blocks = set()\n",
    "    \n",
    "    for edge in edges:\n",
    "        blocks.add(edge[0])\n",
    "        blocks.add(edge[1])\n",
    "    \n",
    "    Cycles = []\n",
    "    \n",
    "    while len(edges) != 0:\n",
    "        start = edges[0]\n",
    "        edges.remove(edges[0])\n",
    "        Cycle = [start]\n",
    "        current = find_next_edge(start, edges)\n",
    "        \n",
    "        while current != -1:\n",
    "            Cycle.append(current)\n",
    "            edges.remove(current)\n",
    "            current = find_next_edge(current, edges)\n",
    "        Cycles.append(Cycle)\n",
    "    \n",
    "    return len(blocks)//2 - len(Cycles)"
   ]
  },
  {
   "cell_type": "code",
   "execution_count": 124,
   "metadata": {},
   "outputs": [
    {
     "name": "stdout",
     "output_type": "stream",
     "text": [
      "[[2, 3], [4, 5], [6, 7], [8, 9], [10, 11], [12, 1], [2, 6], [5, 12], [11, 10], [9, 1], [4, 8], [7, 3]]\n"
     ]
    },
    {
     "data": {
      "text/plain": [
       "3"
      ]
     },
     "execution_count": 124,
     "metadata": {},
     "output_type": "execute_result"
    }
   ],
   "source": [
    "P = '(+1 +2 +3 +4 +5 +6)'[1:-1].split(')(')\n",
    "for i in range(len(P)):\n",
    "    P[i] = [int(x) for x in P[i].split(' ')]\n",
    "    \n",
    "Q = '(+1 -3 -6 -5)(+2 -4)'[1:-1].split(')(')\n",
    "for i in range(len(Q)):\n",
    "    Q[i] = [int(x) for x in Q[i].split(' ')]\n",
    "\n",
    "TwoBreakDist(P, Q)"
   ]
  },
  {
   "cell_type": "code",
   "execution_count": null,
   "metadata": {
    "collapsed": true
   },
   "outputs": [],
   "source": []
  }
 ],
 "metadata": {
  "kernelspec": {
   "display_name": "Python 3",
   "language": "python",
   "name": "python3"
  },
  "language_info": {
   "codemirror_mode": {
    "name": "ipython",
    "version": 3
   },
   "file_extension": ".py",
   "mimetype": "text/x-python",
   "name": "python",
   "nbconvert_exporter": "python",
   "pygments_lexer": "ipython3",
   "version": "3.6.7"
  }
 },
 "nbformat": 4,
 "nbformat_minor": 2
}
