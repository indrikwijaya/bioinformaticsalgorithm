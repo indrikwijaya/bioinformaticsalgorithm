{
 "cells": [
  {
   "cell_type": "markdown",
   "metadata": {},
   "source": [
    "Practical complications that make genome assembly more difficult:\n",
    "\n",
    "1. DNA is double-stranded, and we have no way of knowing a priori which strand a given read derives from, meaning that we will not know whether to use a read or its reverse complement when assembling a particular strand of a genome. \n",
    "\n",
    "2. Modern sequencing machines are not perfect, and the reads that they generate often contain errors. Sequencing errors complicate genome assembly because they prevent us from identifying all overlapping reads. \n",
    "\n",
    "3. Some regions of the genome may not be covered by any reads, making it impossible to reconstruct the entire genome."
   ]
  },
  {
   "cell_type": "code",
   "execution_count": 1,
   "metadata": {
    "collapsed": true
   },
   "outputs": [],
   "source": [
    "# 3a String Composition\n",
    "\n",
    "def StringComposition(k, text):\n",
    "    return sorted([text[i:i+k] for i in range(len(text) - k + 1)])"
   ]
  },
  {
   "cell_type": "code",
   "execution_count": 2,
   "metadata": {},
   "outputs": [
    {
     "data": {
      "text/plain": [
       "['AATCC', 'ATCCA', 'CAATC', 'CCAAC', 'TCCAA']"
      ]
     },
     "execution_count": 2,
     "metadata": {},
     "output_type": "execute_result"
    }
   ],
   "source": [
    "StringComposition(5, 'CAATCCAAC')"
   ]
  },
  {
   "cell_type": "code",
   "execution_count": null,
   "metadata": {
    "collapsed": true
   },
   "outputs": [],
   "source": [
    "test_file = 'rosalind_ba3a.txt'\n",
    "k_text = []\n",
    "with open(test_file, 'r') as reader:\n",
    "    for line in reader:\n",
    "        k_text.append(line.strip('\\n'))\n",
    "for string in StringComposition(int(k_text[0]), k_text[1]):\n",
    "    print(string)"
   ]
  },
  {
   "cell_type": "markdown",
   "metadata": {},
   "source": [
    "Repeats complicate genome assembly"
   ]
  },
  {
   "cell_type": "code",
   "execution_count": 2,
   "metadata": {
    "collapsed": true
   },
   "outputs": [],
   "source": [
    "# 3b Reconstruct a String from its Genome Path\n",
    "def ReconstructString(kmers):\n",
    "    return kmers[0] + ''.join([kmer[-1] for kmer in kmers[1:]])"
   ]
  },
  {
   "cell_type": "code",
   "execution_count": 4,
   "metadata": {},
   "outputs": [
    {
     "data": {
      "text/plain": [
       "'ACCGAAGCT'"
      ]
     },
     "execution_count": 4,
     "metadata": {},
     "output_type": "execute_result"
    }
   ],
   "source": [
    "ReconstructString(['ACCGA', 'CCGAA', 'CGAAG', 'GAAGC', 'AAGCT'])"
   ]
  },
  {
   "cell_type": "code",
   "execution_count": null,
   "metadata": {
    "collapsed": true
   },
   "outputs": [],
   "source": [
    "test_file = 'rosalind_ba3b.txt'\n",
    "kmers = []\n",
    "with open(test_file, 'r') as reader:\n",
    "    for line in reader:\n",
    "        kmers.append(line.strip('\\n'))\n",
    "ReconstructString(kmers)"
   ]
  },
  {
   "cell_type": "code",
   "execution_count": 3,
   "metadata": {
    "collapsed": true
   },
   "outputs": [],
   "source": [
    "# 3c Overlap Graph\n",
    "\n",
    "def OverlapGraph(kmers):\n",
    "    graphs = {}\n",
    "    for kmer in kmers:\n",
    "        if kmer not in graphs:\n",
    "            rest_kmers = list(filter(lambda x: x != kmer, kmers))\n",
    "            edges = [rest_kmer for rest_kmer in rest_kmers if kmer[1:] == rest_kmer[:-1]]\n",
    "            if len(edges):\n",
    "                graphs[kmer] = edges\n",
    "    return graphs"
   ]
  },
  {
   "cell_type": "code",
   "execution_count": 6,
   "metadata": {},
   "outputs": [
    {
     "data": {
      "text/plain": [
       "{'AGGCA': ['GGCAT'],\n",
       " 'CATGC': ['ATGCG'],\n",
       " 'GCATG': ['CATGC'],\n",
       " 'GGCAT': ['GCATG']}"
      ]
     },
     "execution_count": 6,
     "metadata": {},
     "output_type": "execute_result"
    }
   ],
   "source": [
    "OverlapGraph(['ATGCG', 'GCATG', 'CATGC', 'AGGCA', 'GGCAT'])"
   ]
  },
  {
   "cell_type": "code",
   "execution_count": null,
   "metadata": {
    "collapsed": true
   },
   "outputs": [],
   "source": [
    "test_file = 'rosalind_ba3c.txt'\n",
    "kmers = []\n",
    "with open(test_file, 'r') as reader:\n",
    "    for line in reader:\n",
    "        kmers.append(line.strip('\\n'))\n",
    "for kmer, edge in OverlapGraph(kmers).items():\n",
    "    print(kmer + ' -> ' + edge[0])"
   ]
  },
  {
   "cell_type": "markdown",
   "metadata": {},
   "source": [
    "__Hamiltonian Path Problem__: Construct a Hamiltonian path in a graph.\n",
    "\n",
    "__Input__: A directed graph.\n",
    "\n",
    "__Output__: A path visiting every node in the graph exactly once (if such a path exists).\n",
    "\n",
    "A binary string is a string composed only of 0’s and 1’s; a binary string is k-universal if it contains every binary k-mer exactly once. For example, 0001110100 is a 3-universal string, as it contains each of the eight binary 3-mers (000, 001, 011, 111, 110, 101, 010, and 100) exactly once.\n",
    "\n",
    "Finding a k-universal string is equivalent to solving the String Reconstruction Problem when the k-mer composition is the collection of all binary k-mers. Thus, finding a k-universal string can be reduced to finding a Hamiltonian path in the overlap graph formed on all binary k-mers (see the figure below)"
   ]
  },
  {
   "cell_type": "code",
   "execution_count": 4,
   "metadata": {
    "collapsed": true
   },
   "outputs": [],
   "source": [
    "# 3d De Bruijn Graph\n",
    "\n",
    "def generateEdges(kmer, kmers):\n",
    "    rest_kmers = list(filter(lambda x: x != kmer, kmers))\n",
    "    edges = [rest_kmer[:-1] for rest_kmer in rest_kmers if kmer[1:] == rest_kmer[:-1]]\n",
    "    \n",
    "    return edges\n",
    "\n",
    "def DeBruijnFromString(k, text):\n",
    "    kmers = [text[i:i+k] for i in range(len(text) - k + 1)]\n",
    "    graphs = {}\n",
    "    for kmer in kmers:\n",
    "        if kmer[:-1] in graphs:\n",
    "            graphs[kmer[:-1]].add(kmer[1:])\n",
    "        else:\n",
    "            graphs[kmer[:-1]] = {kmer[1:]}\n",
    "\n",
    "    return graphs"
   ]
  },
  {
   "cell_type": "code",
   "execution_count": 5,
   "metadata": {},
   "outputs": [
    {
     "data": {
      "text/plain": [
       "{'AAG': {'AGA'},\n",
       " 'AGA': {'GAT'},\n",
       " 'ATT': {'TTC'},\n",
       " 'CTA': {'TAC'},\n",
       " 'CTC': {'TCT'},\n",
       " 'GAT': {'ATT'},\n",
       " 'TCT': {'CTA', 'CTC'},\n",
       " 'TTC': {'TCT'}}"
      ]
     },
     "execution_count": 5,
     "metadata": {},
     "output_type": "execute_result"
    }
   ],
   "source": [
    "DeBruijnFromString(4, 'AAGATTCTCTAC')"
   ]
  },
  {
   "cell_type": "code",
   "execution_count": 6,
   "metadata": {},
   "outputs": [
    {
     "name": "stdout",
     "output_type": "stream",
     "text": [
      "============================= test session starts ==============================\n",
      "platform darwin -- Python 3.6.7, pytest-3.0.7, py-1.4.33, pluggy-0.4.0\n",
      "rootdir: /Users/indrikwijaya/Documents/bioinformaticsalgorithm/chp3_GenomeAssembly, inifile:\n",
      "collected 4042 items / 3 skipped\n",
      "\n",
      ". ................................................................................................................................................................................................F.............................................................................................................F...F.....F..........................................................................................................................................................................................................................................................................................................................................................................................sss......s........s..............s..................................s.......................s..........................................................................................................................................................................................................................................................................................................................................................................................................................................................................................................................................................................................................................................................................................................................................................................................................................................................................................................................................................................................................................................................................................................................................................................................................................................................................................................................................................................................................................................................................................................................................................................................................................................................................................................................................................................................................................................................................................................................................................................................................................................................................................................................................................................................................................................................................................................................................................................................................................................................................................................................................................................................................................................................................................................................................................................................................................................................................................................................................................................................................................................................................................................................................................................FFF.....................s.......................................................................................................................................................................................\n",
      "\n",
      "=================================== FAILURES ===================================\n",
      " TestMinimumWeightFullMatching.test_minimum_weight_full_matching_incomplete_graph \n",
      "\n",
      "self = <networkx.algorithms.bipartite.tests.test_matching.TestMinimumWeightFullMatching object at 0x113b71ac8>\n",
      "\n",
      "    def test_minimum_weight_full_matching_incomplete_graph(self):\n",
      "        B = nx.Graph()\n",
      "        B.add_nodes_from([1, 2], bipartite=0)\n",
      "        B.add_nodes_from([3, 4], bipartite=1)\n",
      "        B.add_edge(1, 4, weight=100)\n",
      "        B.add_edge(2, 3, weight=100)\n",
      "        B.add_edge(2, 4, weight=50)\n",
      ">       matching = minimum_weight_full_matching(B)\n",
      "\n",
      "B          = <networkx.classes.graph.Graph object at 0x11aa889b0>\n",
      "self       = <networkx.algorithms.bipartite.tests.test_matching.TestMinimumWeightFullMatching object at 0x113b71ac8>\n",
      "\n",
      "../../../anaconda3/lib/python3.6/site-packages/networkx/algorithms/bipartite/tests/test_matching.py:220: \n",
      "_ _ _ _ _ _ _ _ _ _ _ _ _ _ _ _ _ _ _ _ _ _ _ _ _ _ _ _ _ _ _ _ _ _ _ _ _ _ _ _ \n",
      "../../../anaconda3/lib/python3.6/site-packages/networkx/algorithms/bipartite/matching.py:577: in minimum_weight_full_matching\n",
      "    left_matches = scipy.optimize.linear_sum_assignment(weights)\n",
      "_ _ _ _ _ _ _ _ _ _ _ _ _ _ _ _ _ _ _ _ _ _ _ _ _ _ _ _ _ _ _ _ _ _ _ _ _ _ _ _ \n",
      "\n",
      "cost_matrix = array([[ inf, 100.],\n",
      "       [100.,  50.]])\n",
      "\n",
      "    def linear_sum_assignment(cost_matrix):\n",
      "        \"\"\"Solve the linear sum assignment problem.\n",
      "    \n",
      "        The linear sum assignment problem is also known as minimum weight matching\n",
      "        in bipartite graphs. A problem instance is described by a matrix C, where\n",
      "        each C[i,j] is the cost of matching vertex i of the first partite set\n",
      "        (a \"worker\") and vertex j of the second set (a \"job\"). The goal is to find\n",
      "        a complete assignment of workers to jobs of minimal cost.\n",
      "    \n",
      "        Formally, let X be a boolean matrix where :math:`X[i,j] = 1` iff row i is\n",
      "        assigned to column j. Then the optimal assignment has cost\n",
      "    \n",
      "        .. math::\n",
      "            \\\\min \\\\sum_i \\\\sum_j C_{i,j} X_{i,j}\n",
      "    \n",
      "        s.t. each row is assignment to at most one column, and each column to at\n",
      "        most one row.\n",
      "    \n",
      "        This function can also solve a generalization of the classic assignment\n",
      "        problem where the cost matrix is rectangular. If it has more rows than\n",
      "        columns, then not every row needs to be assigned to a column, and vice\n",
      "        versa.\n",
      "    \n",
      "        The method used is the Hungarian algorithm, also known as the Munkres or\n",
      "        Kuhn-Munkres algorithm.\n",
      "    \n",
      "        Parameters\n",
      "        ----------\n",
      "        cost_matrix : array\n",
      "            The cost matrix of the bipartite graph.\n",
      "    \n",
      "        Returns\n",
      "        -------\n",
      "        row_ind, col_ind : array\n",
      "            An array of row indices and one of corresponding column indices giving\n",
      "            the optimal assignment. The cost of the assignment can be computed\n",
      "            as ``cost_matrix[row_ind, col_ind].sum()``. The row indices will be\n",
      "            sorted; in the case of a square cost matrix they will be equal to\n",
      "            ``numpy.arange(cost_matrix.shape[0])``.\n",
      "    \n",
      "        Notes\n",
      "        -----\n",
      "        .. versionadded:: 0.17.0\n",
      "    \n",
      "        Examples\n",
      "        --------\n",
      "        >>> cost = np.array([[4, 1, 3], [2, 0, 5], [3, 2, 2]])\n",
      "        >>> from scipy.optimize import linear_sum_assignment\n",
      "        >>> row_ind, col_ind = linear_sum_assignment(cost)\n",
      "        >>> col_ind\n",
      "        array([1, 0, 2])\n",
      "        >>> cost[row_ind, col_ind].sum()\n",
      "        5\n",
      "    \n",
      "        References\n",
      "        ----------\n",
      "        1. http://csclab.murraystate.edu/bob.pilgrim/445/munkres.html\n",
      "    \n",
      "        2. Harold W. Kuhn. The Hungarian Method for the assignment problem.\n",
      "           *Naval Research Logistics Quarterly*, 2:83-97, 1955.\n",
      "    \n",
      "        3. Harold W. Kuhn. Variants of the Hungarian method for assignment\n"
     ]
    },
    {
     "name": "stdout",
     "output_type": "stream",
     "text": [
      "           problems. *Naval Research Logistics Quarterly*, 3: 253-258, 1956.\n",
      "    \n",
      "        4. Munkres, J. Algorithms for the Assignment and Transportation Problems.\n",
      "           *J. SIAM*, 5(1):32-38, March, 1957.\n",
      "    \n",
      "        5. https://en.wikipedia.org/wiki/Hungarian_algorithm\n",
      "        \"\"\"\n",
      "        cost_matrix = np.asarray(cost_matrix)\n",
      "        if len(cost_matrix.shape) != 2:\n",
      "            raise ValueError(\"expected a matrix (2-d array), got a %r array\"\n",
      "                             % (cost_matrix.shape,))\n",
      "    \n",
      "        if not (np.issubdtype(cost_matrix.dtype, np.number) or\n",
      "                cost_matrix.dtype == np.dtype(np.bool)):\n",
      "            raise ValueError(\"expected a matrix containing numerical entries, got %s\"\n",
      "                             % (cost_matrix.dtype,))\n",
      "    \n",
      "        if np.any(np.isinf(cost_matrix) | np.isnan(cost_matrix)):\n",
      ">           raise ValueError(\"matrix contains invalid numeric entries\")\n",
      "E           ValueError: matrix contains invalid numeric entries\n",
      "\n",
      "cost_matrix = array([[ inf, 100.],\n",
      "       [100.,  50.]])\n",
      "\n",
      "../../../anaconda3/lib/python3.6/site-packages/scipy/optimize/_hungarian.py:93: ValueError\n",
      "____________________ TestFlowBetweennessCentrality.test_K4 _____________________\n",
      "\n",
      "self = <networkx.algorithms.centrality.tests.test_current_flow_betweenness_centrality.TestFlowBetweennessCentrality object at 0x113c38d68>\n",
      "\n",
      "    def test_K4(self):\n",
      "        \"\"\"Betweenness centrality: K4\"\"\"\n",
      "        G = nx.complete_graph(4)\n",
      "        for solver in [\"full\", \"lu\", \"cg\"]:\n",
      "            b = nx.current_flow_betweenness_centrality(\n",
      ">               G, normalized=False, solver=solver\n",
      "            )\n",
      "\n",
      "G          = <networkx.classes.graph.Graph object at 0x11ab225c0>\n",
      "b          = {0: 0.75, 1: 0.75, 2: 0.75, 3: 0.75}\n",
      "b_answer   = {0: 0.75, 1: 0.75, 2: 0.75, 3: 0.75}\n",
      "n          = 3\n",
      "self       = <networkx.algorithms.centrality.tests.test_current_flow_betweenness_centrality.TestFlowBetweennessCentrality object at 0x113c38d68>\n",
      "solver     = 'cg'\n",
      "\n",
      "../../../anaconda3/lib/python3.6/site-packages/networkx/algorithms/centrality/tests/test_current_flow_betweenness_centrality.py:40: \n",
      "_ _ _ _ _ _ _ _ _ _ _ _ _ _ _ _ _ _ _ _ _ _ _ _ _ _ _ _ _ _ _ _ _ _ _ _ _ _ _ _ \n",
      "<decorator-gen-272>:2: in current_flow_betweenness_centrality\n",
      "    ???\n",
      "../../../anaconda3/lib/python3.6/site-packages/networkx/utils/decorators.py:78: in _not_implemented_for\n",
      "    return not_implement_for_func(*args, **kwargs)\n",
      "../../../anaconda3/lib/python3.6/site-packages/networkx/algorithms/centrality/current_flow_betweenness.py:229: in current_flow_betweenness_centrality\n",
      "    for row, (s, t) in flow_matrix_row(H, weight=weight, dtype=dtype, solver=solver):\n",
      "../../../anaconda3/lib/python3.6/site-packages/networkx/algorithms/centrality/flow_matrix.py:29: in flow_matrix_row\n",
      "    row = np.dot(B, C.get_rows(u, v))\n",
      "../../../anaconda3/lib/python3.6/site-packages/networkx/algorithms/centrality/flow_matrix.py:63: in get_rows\n",
      "    self.C[r % self.w, 1:] = self.solve_inverse(r)\n",
      "_ _ _ _ _ _ _ _ _ _ _ _ _ _ _ _ _ _ _ _ _ _ _ _ _ _ _ _ _ _ _ _ _ _ _ _ _ _ _ _ \n",
      "\n",
      "self = <networkx.algorithms.centrality.flow_matrix.CGInverseLaplacian object at 0x11aba9e10>\n",
      "r = 0\n",
      "\n",
      "    def solve_inverse(self, r):\n",
      "        rhs = np.zeros(self.n, self.dtype)\n",
      "        rhs[r] = 1\n",
      ">       return linalg.cg(self.L1, rhs[1:], M=self.M, atol=0)[0]\n",
      "E       TypeError: cg() got an unexpected keyword argument 'atol'\n",
      "\n",
      "r          = 0\n",
      "rhs        = array([1., 0., 0., 0.])\n",
      "self       = <networkx.algorithms.centrality.flow_matrix.CGInverseLaplacian object at 0x11aba9e10>\n",
      "\n",
      "../../../anaconda3/lib/python3.6/site-packages/networkx/algorithms/centrality/flow_matrix.py:130: TypeError\n",
      "_________________ TestFlowBetweennessCentrality.test_solvers2 __________________\n",
      "\n",
      "self = <networkx.algorithms.centrality.tests.test_current_flow_betweenness_centrality.TestFlowBetweennessCentrality object at 0x11ac77358>\n",
      "\n",
      "    def test_solvers2(self):\n",
      "        \"\"\"Betweenness centrality: alternate solvers\"\"\"\n",
      "        G = nx.complete_graph(4)\n",
      "        for solver in [\"full\", \"lu\", \"cg\"]:\n",
      "            b = nx.current_flow_betweenness_centrality(\n",
      ">               G, normalized=False, solver=solver\n",
      "            )\n",
      "\n",
      "G          = <networkx.classes.graph.Graph object at 0x11ac777f0>\n",
      "b          = {0: 0.75, 1: 0.75, 2: 0.75, 3: 0.75}\n",
      "b_answer   = {0: 0.75, 1: 0.75, 2: 0.75, 3: 0.75}\n",
      "n          = 3\n",
      "self       = <networkx.algorithms.centrality.tests.test_current_flow_betweenness_centrality.TestFlowBetweennessCentrality object at 0x11ac77358>\n",
      "solver     = 'cg'\n",
      "\n",
      "../../../anaconda3/lib/python3.6/site-packages/networkx/algorithms/centrality/tests/test_current_flow_betweenness_centrality.py:76: \n",
      "_ _ _ _ _ _ _ _ _ _ _ _ _ _ _ _ _ _ _ _ _ _ _ _ _ _ _ _ _ _ _ _ _ _ _ _ _ _ _ _ \n",
      "<decorator-gen-272>:2: in current_flow_betweenness_centrality\n",
      "    ???\n",
      "../../../anaconda3/lib/python3.6/site-packages/networkx/utils/decorators.py:78: in _not_implemented_for\n",
      "    return not_implement_for_func(*args, **kwargs)\n",
      "../../../anaconda3/lib/python3.6/site-packages/networkx/algorithms/centrality/current_flow_betweenness.py:229: in current_flow_betweenness_centrality\n",
      "    for row, (s, t) in flow_matrix_row(H, weight=weight, dtype=dtype, solver=solver):\n",
      "../../../anaconda3/lib/python3.6/site-packages/networkx/algorithms/centrality/flow_matrix.py:29: in flow_matrix_row\n",
      "    row = np.dot(B, C.get_rows(u, v))\n",
      "../../../anaconda3/lib/python3.6/site-packages/networkx/algorithms/centrality/flow_matrix.py:63: in get_rows\n",
      "    self.C[r % self.w, 1:] = self.solve_inverse(r)\n",
      "_ _ _ _ _ _ _ _ _ _ _ _ _ _ _ _ _ _ _ _ _ _ _ _ _ _ _ _ _ _ _ _ _ _ _ _ _ _ _ _ \n",
      "\n",
      "self = <networkx.algorithms.centrality.flow_matrix.CGInverseLaplacian object at 0x11ac77710>\n",
      "r = 0\n",
      "\n",
      "    def solve_inverse(self, r):\n",
      "        rhs = np.zeros(self.n, self.dtype)\n",
      "        rhs[r] = 1\n",
      ">       return linalg.cg(self.L1, rhs[1:], M=self.M, atol=0)[0]\n",
      "E       TypeError: cg() got an unexpected keyword argument 'atol'\n",
      "\n",
      "r          = 0\n",
      "rhs        = array([1., 0., 0., 0.])\n",
      "self       = <networkx.algorithms.centrality.flow_matrix.CGInverseLaplacian object at 0x11ac77710>\n",
      "\n",
      "../../../anaconda3/lib/python3.6/site-packages/networkx/algorithms/centrality/flow_matrix.py:130: TypeError\n",
      "____________ TestApproximateFlowBetweennessCentrality.test_solvers _____________\n",
      "\n",
      "self = <networkx.algorithms.centrality.tests.test_current_flow_betweenness_centrality.TestApproximateFlowBetweennessCentrality object at 0x11ac86208>\n",
      "\n",
      "    def test_solvers(self):\n",
      "        \"Approximate current-flow betweenness centrality: solvers\"\n",
      "        G = nx.complete_graph(4)\n",
      "        epsilon = 0.1\n",
      "        for solver in [\"full\", \"lu\", \"cg\"]:\n",
      "            b = approximate_cfbc(\n",
      ">               G, normalized=False, solver=solver, epsilon=0.5 * epsilon\n",
      "            )\n",
      "\n",
      "G          = <networkx.classes.graph.Graph object at 0x11ac86cc0>\n",
      "b          = {0: 0.7800811176205256, 1: 0.7523659305993469, 2: 0.7476340694006091, 3: 0.7199188823794305}\n",
      "b_answer   = {0: 0.75, 1: 0.75, 2: 0.75, 3: 0.75}\n",
      "epsilon    = 0.1\n",
      "n          = 3\n",
      "self       = <networkx.algorithms.centrality.tests.test_current_flow_betweenness_centrality.TestApproximateFlowBetweennessCentrality object at 0x11ac86208>\n",
      "solver     = 'cg'\n",
      "\n",
      "../../../anaconda3/lib/python3.6/site-packages/networkx/algorithms/centrality/tests/test_current_flow_betweenness_centrality.py:134: \n",
      "_ _ _ _ _ _ _ _ _ _ _ _ _ _ _ _ _ _ _ _ _ _ _ _ _ _ _ _ _ _ _ _ _ _ _ _ _ _ _ _ \n",
      "<decorator-gen-270>:2: in approximate_current_flow_betweenness_centrality\n",
      "    ???\n",
      "../../../anaconda3/lib/python3.6/site-packages/networkx/utils/decorators.py:469: in _random_state\n",
      "    return func(*new_args, **kwargs)\n",
      "<decorator-gen-269>:2: in approximate_current_flow_betweenness_centrality\n",
      "    ???\n",
      "../../../anaconda3/lib/python3.6/site-packages/networkx/utils/decorators.py:78: in _not_implemented_for\n",
      "    return not_implement_for_func(*args, **kwargs)\n",
      "../../../anaconda3/lib/python3.6/site-packages/networkx/algorithms/centrality/current_flow_betweenness.py:134: in approximate_current_flow_betweenness_centrality\n",
      "    p = C.solve(b)\n",
      "_ _ _ _ _ _ _ _ _ _ _ _ _ _ _ _ _ _ _ _ _ _ _ _ _ _ _ _ _ _ _ _ _ _ _ _ _ _ _ _ \n",
      "\n",
      "self = <networkx.algorithms.centrality.flow_matrix.CGInverseLaplacian object at 0x11ac86be0>\n",
      "rhs = array([ 1., -1.,  0.,  0.])\n",
      "\n",
      "    def solve(self, rhs):\n"
     ]
    },
    {
     "name": "stdout",
     "output_type": "stream",
     "text": [
      "        s = np.zeros(rhs.shape, dtype=self.dtype)\n",
      ">       s[1:] = linalg.cg(self.L1, rhs[1:], M=self.M, atol=0)[0]\n",
      "E       TypeError: cg() got an unexpected keyword argument 'atol'\n",
      "\n",
      "rhs        = array([ 1., -1.,  0.,  0.])\n",
      "s          = array([0., 0., 0., 0.])\n",
      "self       = <networkx.algorithms.centrality.flow_matrix.CGInverseLaplacian object at 0x11ac86be0>\n",
      "\n",
      "../../../anaconda3/lib/python3.6/site-packages/networkx/algorithms/centrality/flow_matrix.py:124: TypeError\n",
      "___________________________ TestYaml.testUndirected ____________________________\n",
      "\n",
      "self = <networkx.readwrite.tests.test_yaml.TestYaml object at 0x115af3eb8>\n",
      "\n",
      "    def testUndirected(self):\n",
      ">       self.assert_equal(self.G, data=False)\n",
      "\n",
      "self       = <networkx.readwrite.tests.test_yaml.TestYaml object at 0x115af3eb8>\n",
      "\n",
      "../../../anaconda3/lib/python3.6/site-packages/networkx/readwrite/tests/test_yaml.py:44: \n",
      "_ _ _ _ _ _ _ _ _ _ _ _ _ _ _ _ _ _ _ _ _ _ _ _ _ _ _ _ _ _ _ _ _ _ _ _ _ _ _ _ \n",
      "../../../anaconda3/lib/python3.6/site-packages/networkx/readwrite/tests/test_yaml.py:35: in assert_equal\n",
      "    Gin = nx.read_yaml(fname)\n",
      "<decorator-gen-806>:2: in read_yaml\n",
      "    ???\n",
      "../../../anaconda3/lib/python3.6/site-packages/networkx/utils/decorators.py:239: in _open_file\n",
      "    result = func_to_be_decorated(*new_args, **kwargs)\n",
      "_ _ _ _ _ _ _ _ _ _ _ _ _ _ _ _ _ _ _ _ _ _ _ _ _ _ _ _ _ _ _ _ _ _ _ _ _ _ _ _ \n",
      "\n",
      "path = <_io.TextIOWrapper name='/var/folders/bz/hfdfh__j0nx02c41r07kwf880000gn/T/tmpxfu09j47' mode='r' encoding='UTF-8'>\n",
      "\n",
      "    @open_file(0, mode=\"r\")\n",
      "    def read_yaml(path):\n",
      "        \"\"\"Read graph in YAML format from path.\n",
      "    \n",
      "        YAML is a data serialization format designed for human readability\n",
      "        and interaction with scripting languages [1]_.\n",
      "    \n",
      "        Parameters\n",
      "        ----------\n",
      "        path : file or string\n",
      "           File or filename to read.  Filenames ending in .gz or .bz2\n",
      "           will be uncompressed.\n",
      "    \n",
      "        Returns\n",
      "        -------\n",
      "        G : NetworkX graph\n",
      "    \n",
      "        Examples\n",
      "        --------\n",
      "        >>> G = nx.path_graph(4)\n",
      "        >>> nx.write_yaml(G, \"test.yaml\")\n",
      "        >>> G = nx.read_yaml(\"test.yaml\")\n",
      "    \n",
      "        References\n",
      "        ----------\n",
      "        .. [1] http://www.yaml.org\n",
      "    \n",
      "        \"\"\"\n",
      "        try:\n",
      "            import yaml\n",
      "        except ImportError as e:\n",
      "            raise ImportError(\"read_yaml() requires PyYAML: http://pyyaml.org/\") from e\n",
      "    \n",
      ">       G = yaml.load(path, Loader=yaml.FullLoader)\n",
      "E       AttributeError: module 'yaml' has no attribute 'FullLoader'\n",
      "\n",
      "path       = <_io.TextIOWrapper name='/var/folders/bz/hfdfh__j0nx02c41r07kwf880000gn/T/tmpxfu09j47' mode='r' encoding='UTF-8'>\n",
      "yaml       = <module 'yaml' from '/Users/indrikwijaya/anaconda3/lib/python3.6/site-packages/yaml/__init__.py'>\n",
      "\n",
      "../../../anaconda3/lib/python3.6/site-packages/networkx/readwrite/nx_yaml.py:91: AttributeError\n",
      "____________________________ TestYaml.testDirected _____________________________\n",
      "\n",
      "self = <networkx.readwrite.tests.test_yaml.TestYaml object at 0x1a2490d630>\n",
      "\n",
      "    def testDirected(self):\n",
      ">       self.assert_equal(self.DG, data=False)\n",
      "\n",
      "self       = <networkx.readwrite.tests.test_yaml.TestYaml object at 0x1a2490d630>\n",
      "\n",
      "../../../anaconda3/lib/python3.6/site-packages/networkx/readwrite/tests/test_yaml.py:47: \n",
      "_ _ _ _ _ _ _ _ _ _ _ _ _ _ _ _ _ _ _ _ _ _ _ _ _ _ _ _ _ _ _ _ _ _ _ _ _ _ _ _ \n",
      "../../../anaconda3/lib/python3.6/site-packages/networkx/readwrite/tests/test_yaml.py:35: in assert_equal\n",
      "    Gin = nx.read_yaml(fname)\n",
      "<decorator-gen-806>:2: in read_yaml\n",
      "    ???\n",
      "../../../anaconda3/lib/python3.6/site-packages/networkx/utils/decorators.py:239: in _open_file\n",
      "    result = func_to_be_decorated(*new_args, **kwargs)\n",
      "_ _ _ _ _ _ _ _ _ _ _ _ _ _ _ _ _ _ _ _ _ _ _ _ _ _ _ _ _ _ _ _ _ _ _ _ _ _ _ _ \n",
      "\n",
      "path = <_io.TextIOWrapper name='/var/folders/bz/hfdfh__j0nx02c41r07kwf880000gn/T/tmpkyq0akvq' mode='r' encoding='UTF-8'>\n",
      "\n",
      "    @open_file(0, mode=\"r\")\n",
      "    def read_yaml(path):\n",
      "        \"\"\"Read graph in YAML format from path.\n",
      "    \n",
      "        YAML is a data serialization format designed for human readability\n",
      "        and interaction with scripting languages [1]_.\n",
      "    \n",
      "        Parameters\n",
      "        ----------\n",
      "        path : file or string\n",
      "           File or filename to read.  Filenames ending in .gz or .bz2\n",
      "           will be uncompressed.\n",
      "    \n",
      "        Returns\n",
      "        -------\n",
      "        G : NetworkX graph\n",
      "    \n",
      "        Examples\n",
      "        --------\n",
      "        >>> G = nx.path_graph(4)\n",
      "        >>> nx.write_yaml(G, \"test.yaml\")\n",
      "        >>> G = nx.read_yaml(\"test.yaml\")\n",
      "    \n",
      "        References\n",
      "        ----------\n",
      "        .. [1] http://www.yaml.org\n",
      "    \n",
      "        \"\"\"\n",
      "        try:\n",
      "            import yaml\n",
      "        except ImportError as e:\n",
      "            raise ImportError(\"read_yaml() requires PyYAML: http://pyyaml.org/\") from e\n",
      "    \n",
      ">       G = yaml.load(path, Loader=yaml.FullLoader)\n",
      "E       AttributeError: module 'yaml' has no attribute 'FullLoader'\n",
      "\n",
      "path       = <_io.TextIOWrapper name='/var/folders/bz/hfdfh__j0nx02c41r07kwf880000gn/T/tmpkyq0akvq' mode='r' encoding='UTF-8'>\n",
      "yaml       = <module 'yaml' from '/Users/indrikwijaya/anaconda3/lib/python3.6/site-packages/yaml/__init__.py'>\n",
      "\n",
      "../../../anaconda3/lib/python3.6/site-packages/networkx/readwrite/nx_yaml.py:91: AttributeError\n",
      "___________________________ TestYaml.testMultiGraph ____________________________\n",
      "\n",
      "self = <networkx.readwrite.tests.test_yaml.TestYaml object at 0x1a239785f8>\n",
      "\n",
      "    def testMultiGraph(self):\n",
      ">       self.assert_equal(self.MG, data=True)\n",
      "\n",
      "self       = <networkx.readwrite.tests.test_yaml.TestYaml object at 0x1a239785f8>\n",
      "\n",
      "../../../anaconda3/lib/python3.6/site-packages/networkx/readwrite/tests/test_yaml.py:50: \n",
      "_ _ _ _ _ _ _ _ _ _ _ _ _ _ _ _ _ _ _ _ _ _ _ _ _ _ _ _ _ _ _ _ _ _ _ _ _ _ _ _ \n",
      "../../../anaconda3/lib/python3.6/site-packages/networkx/readwrite/tests/test_yaml.py:35: in assert_equal\n",
      "    Gin = nx.read_yaml(fname)\n",
      "<decorator-gen-806>:2: in read_yaml\n",
      "    ???\n",
      "../../../anaconda3/lib/python3.6/site-packages/networkx/utils/decorators.py:239: in _open_file\n",
      "    result = func_to_be_decorated(*new_args, **kwargs)\n",
      "_ _ _ _ _ _ _ _ _ _ _ _ _ _ _ _ _ _ _ _ _ _ _ _ _ _ _ _ _ _ _ _ _ _ _ _ _ _ _ _ \n",
      "\n",
      "path = <_io.TextIOWrapper name='/var/folders/bz/hfdfh__j0nx02c41r07kwf880000gn/T/tmpui0629_f' mode='r' encoding='UTF-8'>\n",
      "\n",
      "    @open_file(0, mode=\"r\")\n",
      "    def read_yaml(path):\n",
      "        \"\"\"Read graph in YAML format from path.\n",
      "    \n",
      "        YAML is a data serialization format designed for human readability\n",
      "        and interaction with scripting languages [1]_.\n",
      "    \n",
      "        Parameters\n",
      "        ----------\n",
      "        path : file or string\n",
      "           File or filename to read.  Filenames ending in .gz or .bz2\n",
      "           will be uncompressed.\n",
      "    \n",
      "        Returns\n",
      "        -------\n",
      "        G : NetworkX graph\n",
      "    \n",
      "        Examples\n",
      "        --------\n",
      "        >>> G = nx.path_graph(4)\n",
      "        >>> nx.write_yaml(G, \"test.yaml\")\n",
      "        >>> G = nx.read_yaml(\"test.yaml\")\n",
      "    \n",
      "        References\n",
      "        ----------\n",
      "        .. [1] http://www.yaml.org\n",
      "    \n",
      "        \"\"\"\n",
      "        try:\n",
      "            import yaml\n",
      "        except ImportError as e:\n",
      "            raise ImportError(\"read_yaml() requires PyYAML: http://pyyaml.org/\") from e\n",
      "    \n",
      ">       G = yaml.load(path, Loader=yaml.FullLoader)\n",
      "E       AttributeError: module 'yaml' has no attribute 'FullLoader'\n",
      "\n",
      "path       = <_io.TextIOWrapper name='/var/folders/bz/hfdfh__j0nx02c41r07kwf880000gn/T/tmpui0629_f' mode='r' encoding='UTF-8'>\n",
      "yaml       = <module 'yaml' from '/Users/indrikwijaya/anaconda3/lib/python3.6/site-packages/yaml/__init__.py'>\n",
      "\n",
      "../../../anaconda3/lib/python3.6/site-packages/networkx/readwrite/nx_yaml.py:91: AttributeError\n",
      "============= 7 failed, 4026 passed, 12 skipped in 150.57 seconds ==============\n"
     ]
    },
    {
     "data": {
      "text/plain": [
       "False"
      ]
     },
     "execution_count": 6,
     "metadata": {},
     "output_type": "execute_result"
    }
   ],
   "source": [
    "import networkx as nx\n",
    "nx.test()"
   ]
  },
  {
   "cell_type": "code",
   "execution_count": 100,
   "metadata": {
    "collapsed": true
   },
   "outputs": [],
   "source": [
    "test_file = 'rosalind_ba3d.txt'\n",
    "with open(test_file, 'r') as reader:\n",
    "    k = int(reader.readline())\n",
    "    text = reader.readline().strip()\n",
    "debruijn_file = open('debruijnstring.txt', 'a')\n",
    "debruijn = [' -> '.join([item[0], ','.join(item[1])]) for item in DeBruijnFromString(k, text).items()]\n",
    "debruijn_file.write('\\n'.join(debruijn))\n",
    "debruijn_file.close()\n"
   ]
  },
  {
   "cell_type": "code",
   "execution_count": null,
   "metadata": {
    "collapsed": true
   },
   "outputs": [],
   "source": [
    "DeBruijnFromString(12, 'CTGAAGACCTCTCCACATTACTACGATATAAATCATTTCAGCCTCTAGATACGCCTTGGTGGGTGGGGTTGGCAATTTACGATATGTCCGAATGATTTGACACCAAATACCTTAGCTAGCCCCAAGGAAAATTCTGGGCTTTACGTTGGCCGAGCCACATTACTACAGTAAGGTTAAGCAACCAGCCAGTCGCTCATAAGGACTCCACGCCTCCCGTTACTGACTTCCAACAACAATGTGACAGTAGACTGGAACCTGGGAGGACATTATTGATTCGCCGCGAATCTTCTAAGGTATTTTACCCCCACTGGTCACCTTAACCATTAAGACCTCGAAGTGACACCTAGCCTCTTAACACCCAACTCCACCGACAATACCTATTCGCTGACAAGCGGGACATCCGATCGCCCCTGACTCGAGGTGTCTACCGTCCATCGATTGCTAAACTTTGTTAGGAGTCTAAGCGAACCATGGGAAGGGGGCGGCAGTCAACGTGCTCCTTTAGTGAGGTACCATATTCTTACAGCATGTGGAGCGCAGCAAACTAGCGACCGGGAGTACTCCCACAACCCTGGGTACGTACTGCACTTTTTTCAAGAGCCAGGGTCATTTAAATAGCATCTTTGCTCTTTCTGATAAGGGGGCGACCATCTCCGAATTGAGCCAAACGCTGGTATAAGACTCGTCTCATGACTCCCTAGCCATTTGTATGTTGTCATTTCTGATTTTAGCAGGTAAAACGTAAGGCCTGCTAAAGAATCACGCGGGGAGGCCTTAAATTTCGTCATGGAGCAATCGTCCTAGATTGCTGTGAAGGTTCGTACCAGTAGAGTCTAATGTGCGTAAATGTTAACTGGCCGTATATTCTCTGGTGAGCTGAAACAGAAAGCTGGCAGAAAGCCACTCTTGCTGTTTCGTGTGTACGGACATCGGGATAGTACCAAAAAGCATGTTCTTCATCTGGCGATGCTTGATGTCTACCGTAGACACCTTCATACGT')"
   ]
  },
  {
   "cell_type": "markdown",
   "metadata": {},
   "source": [
    "Consider the following questions.\n",
    "\n",
    "1. If we gave you the de Bruijn graph DeBruijnk(Text) without giving you Text, could you reconstruct Text?\n",
    "2. Construct the de Bruijn graphs DeBruijn2(TAATGCCATGGGATGTT), DeBruijn3(TAATGCCATGGGATGTT), and DeBruijn4(TAATGCCATGGGATGTT). What do you notice?\n",
    "3. How does the graph DeBruijn3(TAATGCCATGGGATGTT) compare to DeBruijn3(TAATGGGATGCCATGTT)?\n",
    "\n",
    "Solving the String Reconstruction Problem reduces to finding a path in the De Bruijn graph that visits every _edge_ exactly one"
   ]
  },
  {
   "cell_type": "markdown",
   "metadata": {},
   "source": [
    "__Eulerian Path Problem__: Construct an Eulerian path in a graph.\n",
    "\n",
    "__Input__: A directed graph.\n",
    "\n",
    "__Output__: A path visiting every edge in the graph exactly once (if it exists).\n",
    "\n",
    "For an arbitrary string Text, we define CompositionGraphk(Text) as the graph consisting of |Text|−k+1 isolated edges, where edges are labeled by k-mers in Text; every edge labeled by a k-mer edge connects nodes labeled by the prefix and suffix of this k-mer. The graph CompositionGraphk(Text) is just a collection of isolated edges representing the k-mers in the k-mer composition of Text, meaning that we can construct CompositionGraph(Text) from the k-mer composition of Text. Gluing nodes with the same label in CompositionGraphk(Text) produces DeBruijnk(Text). Thus, we can construct the de Bruijn graph of a genome without knowing the genome!"
   ]
  },
  {
   "cell_type": "markdown",
   "metadata": {},
   "source": [
    "__DeBruijn Graph from k-mers Problem__: Construct the de Bruijn graph from a set of k-mers.\n",
    "\n",
    "__Input__: A collection of k-mers Patterns.\n",
    "\n",
    "__Output__: The adjacency list of the de Bruijn graph DeBruijn(Patterns)."
   ]
  },
  {
   "cell_type": "code",
   "execution_count": 9,
   "metadata": {
    "collapsed": true
   },
   "outputs": [],
   "source": [
    "# 3e De Bruijn Graph from Kmers\n",
    "def DeBruijnFromKmers(kmers):\n",
    "    graphs = {kmer[:-1]: [] for kmer in kmers}\n",
    "    for kmer in kmers:\n",
    "        graphs[kmer[:-1]].append(kmer[1:])\n",
    "    return graphs"
   ]
  },
  {
   "cell_type": "code",
   "execution_count": 10,
   "metadata": {},
   "outputs": [
    {
     "data": {
      "text/plain": [
       "{'AGG': ['GGG'],\n",
       " 'CAG': ['AGG', 'AGG'],\n",
       " 'GAG': ['AGG'],\n",
       " 'GGA': ['GAG'],\n",
       " 'GGG': ['GGG', 'GGA']}"
      ]
     },
     "execution_count": 10,
     "metadata": {},
     "output_type": "execute_result"
    }
   ],
   "source": [
    "DeBruijnFromKmers(['GAGG','CAGG','GGGG','GGGA','CAGG','AGGG','GGAG'])"
   ]
  },
  {
   "cell_type": "code",
   "execution_count": null,
   "metadata": {
    "collapsed": true,
    "scrolled": true
   },
   "outputs": [],
   "source": [
    "test_file = 'rosalind_ba3e.txt'\n",
    "kmers = []\n",
    "with open(test_file, 'r') as reader:\n",
    "    for line in reader:\n",
    "        kmers.append(line.strip('\\n'))\n",
    "#debruijn_file = open('debruijnskmers.txt', 'a')\n",
    "debruijn = [' -> '.join([item[0], ','.join(item[1])]) for item in DeBruijnFromKmers(kmers).items()]\n",
    "#debruijn_file.write('\\n'.join(debruijn))\n",
    "#debruijn_file.close()\n",
    "debruijn"
   ]
  },
  {
   "cell_type": "markdown",
   "metadata": {},
   "source": [
    "We have already defined an Eulerian path as a path in a graph traversing each edge of a graph exactly once. A cycle that traverses each edge of a graph exactly once is called an Eulerian cycle, and we say that a graph containing such a cycle is Eulerian.\n",
    "\n",
    "__Eulerian Cycle Problem__: Find an Eulerian cycle in a graph.\n",
    "\n",
    "__Input__: A graph.\n",
    "\n",
    "__Output__: An Eulerian cycle in this graph, if one exists.\n",
    "\n",
    "Computer scientists classify an algorithm as polynomial if its running time can be bounded by a polynomial in the length of the input data. On the other hand, an algorithm is exponential if its runtime on some datasets is exponential in the length of the input data. Although Euler's algorithm is polynomial, the Hamiltonian Path Problem belongs to a special class of problems for which all attempts to develop a polynomial algorithm have failed"
   ]
  },
  {
   "cell_type": "markdown",
   "metadata": {},
   "source": [
    "Thus, in order for a graph to be Eulerian, the number of incoming edges at any node must be equal to the number of outgoing edges at that node. We define the indegree and outdegree of a node v (denoted in(v) and out(v), respectively) as the number of edges leading into and out of v. \n",
    "\n",
    "A node v is __balanced__ if __in(v) = out(v)__, \n",
    "\n",
    "and a graph is balanced if all its nodes are balanced. "
   ]
  },
  {
   "cell_type": "markdown",
   "metadata": {},
   "source": [
    "The graph in the figure below is balanced but not Eulerian because it is __disconnected__, meaning that some nodes cannot be reached from other nodes. In any disconnected graph, it is impossible to find an Eulerian cycle. In contrast, we say that a directed graph is strongly connected if it is possible to reach any node from every other node. We now know that an Eulerian graph must be both balanced and __strongly connected__. Euler’s Theorem states that these two conditions are sufficient to guarantee that an arbitrary graph is Eulerian. As a result, it implies that we can determine whether a graph is Eulerian without ever having to draw any cycles.\n",
    "\n",
    "__Euler’s Theorem__: Every balanced, strongly connected directed graph is Eulerian."
   ]
  },
  {
   "cell_type": "code",
   "execution_count": 50,
   "metadata": {},
   "outputs": [
    {
     "data": {
      "text/plain": [
       "[6, 5, 4, 2, 1, 0, 3, 2, 6, 8, 7, 9, 6]"
      ]
     },
     "execution_count": 50,
     "metadata": {},
     "output_type": "execute_result"
    }
   ],
   "source": [
    "from random import randint\n",
    "\n",
    "test_edges = {0:[3], 1:[0], 2:[1, 6], 3:[2], 4:[2], 5:[4], 6: [5, 8], 7:[9], 8:[7], 9:[6]}\n",
    "\n",
    "def EulerianCycle(adj_list):\n",
    "    '''Generates an Eulerian Cycle given adjacency list'''\n",
    "    current_node = list(adj_list.keys())[randint(0, len(adj_list.keys())-1)]\n",
    "    path = [current_node]\n",
    "    \n",
    "    # get the initial cycle\n",
    "    while True:\n",
    "        path.append(adj_list[current_node][0])\n",
    "        \n",
    "        if len(adj_list[current_node]) == 1:\n",
    "            del adj_list[current_node]\n",
    "        else:\n",
    "            adj_list[current_node] = adj_list[current_node][1:]\n",
    "        \n",
    "        if path[-1] in adj_list:\n",
    "            current_node = path[-1]\n",
    "        else:\n",
    "            break\n",
    "    \n",
    "    # continually expand the initial cycle until we're out of adjacency list\n",
    "    while len(adj_list) > 0:\n",
    "\n",
    "        for i in range(len(path)):\n",
    "\n",
    "            if path[i] in adj_list:\n",
    "                current_node = path[i]\n",
    "                cycle = [current_node]\n",
    "                \n",
    "                while True:\n",
    "                    cycle.append(adj_list[current_node][0])\n",
    "                    \n",
    "                    if len(adj_list[current_node]) == 1:\n",
    "                        del adj_list[current_node]\n",
    "                    else:\n",
    "                        adj_list[current_node] = adj_list[current_node][1:]\n",
    "                    \n",
    "                    if cycle[-1] in adj_list:\n",
    "                        current_node = cycle[-1]\n",
    "                    else:\n",
    "                        break\n",
    "                path = path[:i] + cycle + path[i+1:]\n",
    "    return path\n",
    "EulerianCycle(test_edges)"
   ]
  },
  {
   "cell_type": "code",
   "execution_count": 49,
   "metadata": {},
   "outputs": [
    {
     "name": "stdout",
     "output_type": "stream",
     "text": [
      "[(0, 1), (1, 2), (2, 4), (4, 5), (5, 6), (6, 9), (9, 7), (7, 8), (8, 6), (6, 2), (2, 3), (3, 0)]\n"
     ]
    }
   ],
   "source": [
    "edges = [(0, 3), (1, 0), (2, 1), (2, 6), (3, 2), (4, 2), (5, 4), (6, 5), (6, 8), (7, 9), (8, 7), (9, 6)]\n",
    "G = nx.Graph()\n",
    "G.add_edges_from(edges)\n",
    "G.number_of_edges()\n",
    "print(list(nx.eulerian_path(G)))"
   ]
  },
  {
   "cell_type": "code",
   "execution_count": 198,
   "metadata": {
    "collapsed": true
   },
   "outputs": [],
   "source": [
    "with open('rosalind_ba3f.txt') as input_data:\n",
    "    edges = {}\n",
    "    for edge in [line.strip().split(' -> ') for line in input_data.readlines()]:\n",
    "        if ',' in edge[1]:\n",
    "            edges[int(edge[0])] = list(map(int,edge[1].split(',')))\n",
    "        else:\n",
    "            edges[int(edge[0])] = [int(edge[1])]\n",
    "\n",
    "# Get the Eulerian cycle.\n",
    "path = EulerianCycle(edges)\n",
    "\n",
    "# Print and save the answer.\n",
    "#print('->'.join(map(str,path)))\n",
    "with open('euleriancycle.txt', 'w') as output_data:\n",
    "    output_data.write('->'.join(list(map(str,path))))"
   ]
  },
  {
   "cell_type": "code",
   "execution_count": 59,
   "metadata": {
    "collapsed": true
   },
   "outputs": [],
   "source": [
    "from functools import reduce\n",
    "from copy import deepcopy\n",
    "# 3g Eulerian Path\n",
    "\n",
    "def EulerianPath(adj_list):\n",
    "    '''Returns an Eulerian path given adjacency list'''\n",
    "    \n",
    "    # Determine the unbalanced edges.\n",
    "    out_values = reduce(lambda a, b: a+b, adj_list.values())\n",
    "\n",
    "    for node in set(out_values + list(adj_list.keys())):\n",
    "        out_value = out_values.count(node)\n",
    "        if node in adj_list:\n",
    "            in_value = len(adj_list[node])\n",
    "        else:\n",
    "            in_value = 0\n",
    "        \n",
    "        if in_value < out_value:\n",
    "            unbalanced_from = node\n",
    "        elif out_value < in_value:\n",
    "            unbalanced_to = node\n",
    "\n",
    "    # add an edge connecting the unbalanced edges\n",
    "    if unbalanced_from in adj_list:\n",
    "        adj_list[unbalanced_from].append(unbalanced_to)\n",
    "    else:\n",
    "        adj_list[unbalanced_from] = [unbalanced_to]\n",
    "    \n",
    "    # Get the Eulerian cycle form the edges, including the unbalanced edge\n",
    "    cycle = EulerianCycle(adj_list)\n",
    "    \n",
    "    # Find the location of the unbalanced edge in the Eulerian cycle\n",
    "    divide_point = list(filter(lambda i: cycle[i:i+2] == [unbalanced_from, unbalanced_to], \n",
    "                              range(len(cycle) - 1)))[0]\n",
    "    \n",
    "    # Remove the unbalanced edge, and shift appropriately, overlapping the head and tail\n",
    "    return cycle[divide_point+1:] + cycle[1:divide_point+1]"
   ]
  },
  {
   "cell_type": "code",
   "execution_count": 68,
   "metadata": {},
   "outputs": [
    {
     "name": "stdout",
     "output_type": "stream",
     "text": [
      "[(6, 7), (7, 8), (8, 9), (9, 6), (6, 3), (3, 0), (0, 2), (2, 1), (1, 3), (3, 4)]\n"
     ]
    }
   ],
   "source": [
    "test_edges = {0:[2], 1:[3], 2:[1], 3:[0, 4], 6: [3, 7], 7:[8], 8:[9], 9:[6]}\n",
    "edgesList = [(k, i) for k, l in test_edges.items() for i in l]\n",
    "G = nx.DiGraph()\n",
    "G.add_edges_from(edgesList)\n",
    "G.number_of_edges()\n",
    "print(list(nx.eulerian_path(G)))"
   ]
  },
  {
   "cell_type": "code",
   "execution_count": 67,
   "metadata": {},
   "outputs": [
    {
     "name": "stdout",
     "output_type": "stream",
     "text": [
      "1 4 6\n"
     ]
    },
    {
     "data": {
      "text/plain": [
       "'6->7->8->9->6->3->0->2->1->3->4'"
      ]
     },
     "execution_count": 67,
     "metadata": {},
     "output_type": "execute_result"
    }
   ],
   "source": [
    "test_edges = {0:[2], 1:[3], 2:[1], 3:[0, 4], 6: [3, 7], 7:[8], 8:[9], 9:[6]}\n",
    "'->'.join([str(node) for node in EulerianPath(deepcopy(test_edges))])\n",
    "\n"
   ]
  },
  {
   "cell_type": "code",
   "execution_count": 54,
   "metadata": {
    "scrolled": true
   },
   "outputs": [
    {
     "name": "stdout",
     "output_type": "stream",
     "text": [
      "{0: [1642, 3, 343], 1: [0, 199, 262, 32, 55, 7], 10: [11, 13, 140], 100: [1000, 101], 1000: [1001], 1001: [1002], 1002: [100, 1516], 1003: [118, 1883], 1004: [1003], 1005: [1004, 2067], 1006: [2281, 229], 1007: [1008], 1008: [1006, 2056], 1009: [1011], 101: [7], 1010: [233], 1011: [1010], 1012: [82], 1013: [1014], 1014: [1012], 1015: [1016], 1016: [1017, 1379], 1017: [147], 1018: [1020], 1019: [896], 102: [100], 1020: [1019, 1051, 2294], 1021: [1022], 1022: [151], 1023: [1021], 1024: [1026], 1025: [94], 1026: [1025], 1027: [165], 1028: [1027], 1029: [1028], 103: [105], 1030: [1031, 1089], 1031: [1032], 1032: [155], 1033: [1034], 1034: [1035], 1035: [914], 1036: [2567, 816], 1037: [1038], 1038: [1036], 1039: [2435, 347], 104: [15], 1040: [1041], 1041: [1039, 1217, 1437], 1042: [1044], 1043: [1042, 1276], 1044: [1090, 737], 1045: [1046, 2305, 2354], 1046: [435], 1047: [1045], 1048: [291], 1049: [1050], 105: [104], 1050: [1048], 1051: [1052], 1052: [1053], 1053: [1020], 1054: [1055], 1055: [1056, 1788], 1056: [829], 1057: [658], 1058: [1059], 1059: [1057], 106: [143, 197, 21, 322], 1060: [1061], 1061: [323], 1062: [1060, 2534], 1063: [2158, 534], 1064: [1065], 1065: [1063], 1066: [1068, 2244], 1067: [1066, 1290], 1068: [334], 1069: [1070], 107: [106, 1506, 1593], 1070: [1071, 1575, 1701], 1071: [973], 1072: [447], 1073: [1072, 1980], 1074: [1073], 1075: [1076, 1234], 1076: [642], 1077: [1075, 1101], 1078: [1452, 859], 1079: [1078], 108: [107], 1080: [1079, 1974, 2763], 1081: [904], 1082: [1083], 1083: [1081], 1084: [1086], 1085: [147], 1086: [1085], 1087: [1030], 1088: [1087], 1089: [1088, 1445], 109: [111, 549], 1090: [1091], 1091: [1092, 1947], 1092: [1044], 1093: [1095, 1106], 1094: [1093], 1095: [1203, 857], 1096: [795], 1097: [1098], 1098: [1096], 1099: [1100], 11: [2], 110: [109, 242], 1100: [1077], 1101: [1099, 1161, 1744], 1102: [1104], 1103: [1784, 402], 1104: [1103], 1105: [1093], 1106: [1107], 1107: [1105, 2005], 1108: [1109], 1109: [1681, 56], 111: [546, 744, 8, 824], 1110: [1108], 1111: [96], 1112: [1113], 1113: [1111], 1114: [1116], 1115: [718], 1116: [1115], 1117: [1118], 1118: [1119], 1119: [880], 112: [114, 388], 1120: [1121], 1121: [1693, 1907, 677], 1122: [1120], 1123: [1125], 1124: [1123], 1125: [427], 1126: [1127, 2262], 1127: [1128], 1128: [318], 1129: [1131], 113: [112, 1687, 178], 1130: [556], 1131: [1130, 2473], 1132: [1134, 2703], 1133: [1719, 474], 1134: [1133], 1135: [1137, 1563, 2156], 1136: [561], 1137: [1136, 2358], 1138: [817], 1139: [1140], 114: [27], 1140: [1138], 1141: [712], 1142: [1143], 1143: [1141], 1144: [1145], 1145: [1146, 1861], 1146: [94], 1147: [1148, 1558], 1148: [614], 1149: [1147], 115: [58], 1150: [1151, 2499], 1151: [983], 1152: [1150], 1153: [1155], 1154: [1153], 1155: [249], 1156: [438], 1157: [1158], 1158: [1156, 1543], 1159: [1160], 116: [115, 1438, 423, 543], 1160: [1101, 1322, 1999], 1161: [1159], 1162: [1164], 1163: [952], 1164: [1163], 1165: [1167], 1166: [1165], 1167: [169], 1168: [222, 2453], 1169: [1170], 117: [116, 231, 980], 1170: [1168], 1171: [1172, 2445], 1172: [420], 1173: [1171], 1174: [1176], 1175: [1174], 1176: [601], 1177: [1179], 1178: [1177], 1179: [357], 118: [1005, 120], 1180: [1181, 2075], 1181: [1659, 914], 1182: [1180], 1183: [715], 1184: [1183], 1185: [1184], 1186: [1411, 631], 1187: [1186, 1200], 1188: [1187], 1189: [264], 119: [244, 395, 77], 1190: [1191], 1191: [1189], 1192: [398], 1193: [1194], 1194: [1192, 1482], 1195: [952], 1196: [1195, 1417], 1197: [1196], 1198: [1187], 1199: [1198], 12: [10, 18, 2290, 558], 120: [119], 1200: [1199], 1201: [1202], 1202: [1095], 1203: [1201], 1204: [1205], 1205: [1206, 1635], 1206: [891], 1207: [1208], 1208: [1209], 1209: [743], 121: [122, 149, 470], 1210: [664], 1211: [1212], 1212: [1210], 1213: [1215, 1779], 1214: [412], 1215: [1214], 1216: [1041], 1217: [1218], 1218: [1216], 1219: [1221], 122: [123, 239], 1220: [1219], 1221: [1548, 2118, 63], 1222: [600], 1223: [1224], 1224: [1222, 2093], 1225: [1226], 1226: [203], 1227: [1225], 1228: [1229], 1229: [146], 123: [758, 91], 1230: [1228], 1231: [198], 1232: [1233], 1233: [1231], 1234: [1235], 1235: [1236], 1236: [1075], 1237: [1238, 2407], 1238: [170], 1239: [1237, 1292, 1834], 124: [125, 224, 475], 1240: [682], 1241: [1240], 1242: [1241, 2019], 1243: [1244, 2595], 1244: [899], 1245: [1243], 1246: [268], 1247: [1248], 1248: [1246], 1249: [1250], 125: [20], 1250: [1251], 1251: [874], 1252: [1253, 2403], 1253: [1254], 1254: [894], 1255: [1256, 1807], 1256: [1257], 1257: [614], 1258: [1259, 1325], 1259: [249], 126: [124], 1260: [1258], 1261: [1262], 1262: [1263, 1458], 1263: [910], 1264: [1266], 1265: [1264], 1266: [898], 1267: [1268], 1268: [875], 1269: [1267, 2477], 127: [128], 1270: [1272], 1271: [1270], 1272: [556], 1273: [1274, 2517], 1274: [295], 1275: [1273], 1276: [1278, 2527], 1277: [1043], 1278: [1277], 1279: [1280], 128: [131, 616, 72, 747], 1280: [1281], 1281: [71], 1282: [72], 1283: [1282], 1284: [1283], 1285: [1287], 1286: [564], 1287: [1286], 1288: [1067, 1485], 1289: [1288], 129: [127, 521, 674], 1290: [1289], 1291: [1239, 2461], 1292: [1293], 1293: [1291], 1294: [1296, 1426, 2410], 1295: [1294], 1296: [423], 1297: [1298], 1298: [1299, 1317], 1299: [662], 13: [15, 204, 29], 130: [128], 1300: [1302], 1301: [592], 1302: [1301, 1654], 1303: [1304], 1304: [499], 1305: [1303], 1306: [2438, 312], 1307: [1308], 1308: [1306], 1309: [1310], 131: [132], 1310: [1311], 1311: [439], 1312: [1314], 1313: [561], 1314: [1313, 2743], 1315: [1298], 1316: [1315], 1317: [1316], 1318: [627], 1319: [1318], 132: [130, 367], 1320: [1319, 1793], 1321: [1160], 1322: [1323], 1323: [1321], 1324: [1326], 1325: [1324], 1326: [1258], 1327: [1329], 1328: [1327], 1329: [338], 133: [2042, 81], 1330: [904], 1331: [1332], 1332: [1330], 1333: [582], 1334: [1335, 1473], 1335: [1333, 2406], 1336: [1338], 1337: [2675, 44], 1338: [1337, 1621], 1339: [1341], 134: [133, 2097], 1340: [1342, 635], 1341: [1340], 1342: [1343], 1343: [1344], 1344: [1340], 1345: [142], 1346: [1347], 1347: [1345], 1348: [1349, 1455], 1349: [573], 135: [134], 1350: [1348], 1351: [1353], 1352: [1943, 274], 1353: [1352], 1354: [72], 1355: [1354, 2302, 2506], 1356: [1355], 1357: [768], 1358: [1357], 1359: [1358], 136: [137], 1360: [27], 1361: [1362], 1362: [1360], 1363: [860], 1364: [1365, 1813, 1889], 1365: [1363], 1366: [1368], 1367: [1366, 2279], 1368: [564], 1369: [1370], 137: [138, 2587, 317], 1370: [1371], 1371: [857], 1372: [349], 1373: [1372], 1374: [1373], 1375: [936], 1376: [1375], 1377: [1376], 1378: [1380], 1379: [1378], 138: [2752, 35], 1380: [1016], 1381: [1383, 2150], 1382: [1381], 1383: [406], 1384: [1386, 1569], 1385: [941], 1386: [1385], 1387: [1388], 1388: [1389], 1389: [1614, 315], 139: [10], 1390: [1392], 1391: [140], 1392: [1391], 1393: [802], 1394: [1395], 1395: [1393], 1396: [1397], 1397: [1398, 2456], 1398: [669], 1399: [1400], 14: [10, 571, 791, 80, 95], 140: [1390, 141, 640, 857], 1400: [450], 1401: [1399], 1402: [1403], 1403: [2197, 983], 1404: [1402], 1405: [1407], 1406: [24], 1407: [1406], 1408: [1410], 1409: [549], 141: [139, 159], 1410: [1409], 1411: [1412], 1412: [1413], 1413: [1186], 1414: [1415], 1415: [197], 1416: [1414], 1417: [1418], 1418: [1419], 1419: [1196], 142: [106, 1346, 165, 769], 1420: [1421], 1421: [1422], 1422: [163, 2332], 1423: [1425], 1424: [1423], 1425: [352], 1426: [1427], 1427: [1428], 1428: [1294], 1429: [1431, 2440], 143: [144], 1430: [1429], 1431: [2797, 834], 1432: [287], 1433: [1432], 1434: [1433], 1435: [1436], 1436: [1041], 1437: [1435], 1438: [1440], 1439: [116], 144: [142], 1440: [1439], 1441: [1442, 1490, 1981], 1442: [965], 1443: [1441], 1444: [1089], 1445: [1446], 1446: [1444], 1447: [790], 1448: [1447, 2113], 1449: [1448], 145: [147, 315], 1450: [1078], 1451: [1450], 1452: [1451], 1453: [1454], 1454: [1348], 1455: [1453], 1456: [1457], 1457: [1262], 1458: [1456], 1459: [1460], 146: [1230, 145], 1460: [819], 1461: [1459], 1462: [1463], 1463: [1464], 1464: [770], 1465: [1466], 1466: [707], 1467: [1465], 1468: [1470], 1469: [1468], 147: [1015, 1084, 265, 70], 1470: [703], 1471: [1472], 1472: [1334], 1473: [1471], 1474: [801], 1475: [1474], 1476: [1475, 2026], 1477: [1479], 1478: [1477, 2688], 1479: [614], 148: [150, 1536], 1480: [1194], 1481: [1480], 1482: [1481], 1483: [1484], 1484: [1288], 1485: [1483], 1486: [1488], 1487: [1486], 1488: [273], 1489: [1491], 149: [148], 1490: [1489], 1491: [1441], 1492: [1493, 2078], 1493: [1494], 1494: [54], 1495: [1496], 1496: [453], 1497: [1495], 1498: [885], 1499: [1498], 15: [103, 14], 150: [121, 1838, 788], 1500: [1499], 1501: [812], 1502: [1501, 1729], 1503: [1502], 1504: [1505], 1505: [107], 1506: [1504, 1671], 1507: [1509], 1508: [165], 1509: [1508, 1915], 151: [1023, 319, 56], 1510: [532], 1511: [1510], 1512: [1511, 1949], 1513: [312], 1514: [1515], 1515: [1513], 1516: [1518], 1517: [1002], 1518: [1517], 1519: [530], 152: [151, 194], 1520: [1519], 1521: [1520], 1522: [1523, 1648, 2175], 1523: [1524], 1524: [274], 1525: [722], 1526: [1527, 2671], 1527: [1525], 1528: [1530], 1529: [285], 153: [152, 1825], 1530: [1529], 1531: [1532], 1532: [1533], 1533: [1541, 45], 1534: [1535], 1535: [148, 2432], 1536: [1534, 2718], 1537: [1538, 2225], 1538: [229], 1539: [1537], 154: [155], 1540: [1542], 1541: [1540, 1876], 1542: [1533], 1543: [1544], 1544: [1545], 1545: [1158], 1546: [1221], 1547: [1546, 2660], 1548: [1547], 1549: [1551], 155: [1030, 156], 1550: [1588, 536], 1551: [1550], 1552: [919], 1553: [1552], 1554: [1553], 1555: [877], 1556: [1557], 1557: [1555], 1558: [1559], 1559: [1560, 1753], 156: [227, 70], 1560: [1147], 1561: [1135, 1640], 1562: [1561], 1563: [1562], 1564: [1566], 1565: [49], 1566: [1565], 1567: [1568], 1568: [1384], 1569: [1567], 157: [141, 184, 418], 1570: [866], 1571: [1572, 1747, 2559], 1572: [1570], 1573: [1574], 1574: [1070, 2153], 1575: [1573], 1576: [990], 1577: [1576], 1578: [1577], 1579: [350], 158: [157], 1580: [1579, 2602], 1581: [1580], 1582: [1584], 1583: [1582], 1584: [731], 1585: [1586], 1586: [1587], 1587: [1761, 470], 1588: [1589], 1589: [1590], 159: [158], 1590: [1550], 1591: [107], 1592: [1591], 1593: [1592], 1594: [778], 1595: [1596], 1596: [1594], 1597: [1599], 1598: [619], 1599: [1598], 16: [12, 21, 23, 258, 75], 160: [161], 1600: [1602], 1601: [1600], 1602: [64], 1603: [1605], 1604: [1603], 1605: [612], 1606: [867], 1607: [1606], 1608: [1607], 1609: [318], 161: [220, 50], 1610: [1609], 1611: [1610], 1612: [1389], 1613: [1612, 1986], 1614: [1613], 1615: [1616], 1616: [1617], 1617: [1918, 749], 1618: [1619], 1619: [309], 162: [160, 820], 1620: [1618], 1621: [1622, 1666], 1622: [1623], 1623: [1338, 2555], 1624: [1625], 1625: [1626], 1626: [678], 1627: [1628], 1628: [1629], 1629: [396], 163: [1420, 164, 210, 218, 748], 1630: [1631], 1631: [1632], 1632: [658], 1633: [1205, 1871], 1634: [1633], 1635: [1634], 1636: [1638], 1637: [1636, 2450], 1638: [573], 1639: [1561, 1781], 164: [142, 2627, 672], 1640: [1641], 1641: [1639], 1642: [1643, 2187], 1643: [1644], 1644: [0, 1673], 1645: [361], 1646: [1645], 1647: [1646, 1936], 1648: [1650], 1649: [1522], 165: [1029, 1507, 163, 666, 785], 1650: [1649], 1651: [1653], 1652: [566], 1653: [1652], 1654: [1656], 1655: [1302], 1656: [1655], 1657: [1658], 1658: [1181], 1659: [1657, 1989], 166: [51], 1660: [1662], 1661: [898], 1662: [1661], 1663: [1664, 2741], 1664: [1665], 1665: [52], 1666: [1667], 1667: [1668], 1668: [1621], 1669: [1506], 167: [166, 1802, 269], 1670: [1669], 1671: [1670], 1672: [1644, 2795], 1673: [1674], 1674: [1672], 1675: [975], 1676: [1675, 2084], 1677: [1676], 1678: [985], 1679: [1678], 168: [167, 282], 1680: [1679], 1681: [1682], 1682: [1683], 1683: [1109], 1684: [1686], 1685: [1684], 1686: [2012, 496], 1687: [1689], 1688: [113], 1689: [1688], 169: [1166, 171], 1690: [866], 1691: [1690], 1692: [1691], 1693: [1694], 1694: [1695], 1695: [1121, 2120], 1696: [1697], 1697: [1698, 2737], 1698: [179, 2238], 1699: [1700], 17: [16], 170: [1239, 35, 495], 1700: [1070], 1701: [1699], 1702: [1703], 1703: [986], 1704: [1702, 2010], 1705: [1706], 1706: [284], 1707: [1705], 1708: [612], 1709: [1708], 171: [170, 539], 1710: [1709], 1711: [1713], 1712: [1711], 1713: [1789, 2352, 512], 1714: [1716], 1715: [789], 1716: [1715], 1717: [1718], 1718: [1133], 1719: [1717], 172: [385, 416, 499, 69], 1720: [1854, 519], 1721: [1722], 1722: [1720], 1723: [238], 1724: [1725], 1725: [1723], 1726: [1727], 1727: [99], 1728: [1726], 1729: [1730, 2722], 173: [174], 1730: [1731], 1731: [1502, 1767], 1732: [1734], 1733: [1732], 1734: [214], 1735: [399], 1736: [1737], 1737: [1735, 2255], 1738: [1740], 1739: [672], 174: [172, 406], 1740: [1739, 1895], 1741: [679], 1742: [1743], 1743: [1741], 1744: [1746, 1841], 1745: [1101], 1746: [1745], 1747: [1748], 1748: [1749], 1749: [1571, 2211], 175: [42], 1750: [187, 2509], 1751: [1752, 1897], 1752: [1750], 1753: [1754, 2248], 1754: [1755], 1755: [1559, 2736], 1756: [817], 1757: [1758], 1758: [1756], 1759: [1760], 176: [175], 1760: [1587], 1761: [1759], 1762: [1763], 1763: [478], 1764: [1762], 1765: [1731], 1766: [1765], 1767: [1766, 1830], 1768: [1769], 1769: [1770], 177: [176, 374], 1770: [2428, 580], 1771: [1772], 1772: [540], 1773: [1771], 1774: [828], 1775: [1774], 1776: [1775], 1777: [1213], 1778: [1777], 1779: [1778], 178: [180, 433], 1780: [1782], 1781: [1780], 1782: [1639], 1783: [1785, 2563], 1784: [1783], 1785: [1103], 1786: [1055], 1787: [1786, 2233], 1788: [1787], 1789: [1791, 2040], 179: [113, 1696, 292, 463], 1790: [1713], 1791: [1790], 1792: [1320], 1793: [1794], 1794: [1792], 1795: [1796], 1796: [1797], 1797: [394], 1798: [995], 1799: [1800], 18: [17, 40], 180: [179, 908], 1800: [1798, 1961], 1801: [167], 1802: [1803], 1803: [1801], 1804: [1805], 1805: [210], 1806: [1804], 1807: [1808, 2459], 1808: [1809], 1809: [1255], 181: [183], 1810: [1811, 2500], 1811: [1812], 1812: [353], 1813: [1815], 1814: [1364], 1815: [1814], 1816: [1817], 1817: [1818, 1963], 1818: [781], 1819: [1820], 182: [216, 86], 1820: [2037, 409], 1821: [1819], 1822: [1824], 1823: [410], 1824: [1823], 1825: [1826], 1826: [1827], 1827: [153], 1828: [1767], 1829: [1828], 183: [182, 2195], 1830: [1829], 1831: [41], 1832: [1831], 1833: [1832], 1834: [1836], 1835: [1239], 1836: [1835], 1837: [1839], 1838: [1837], 1839: [150], 184: [185, 205], 1840: [1744], 1841: [1842], 1842: [1840], 1843: [1845], 1844: [1843], 1845: [63], 1846: [1848], 1847: [590], 1848: [1847], 1849: [810], 185: [186], 1850: [1849], 1851: [1850], 1852: [1720], 1853: [1852], 1854: [1853], 1855: [1856], 1856: [1857], 1857: [2750, 992], 1858: [1860], 1859: [1858], 186: [157], 1860: [752], 1861: [1863], 1862: [1145], 1863: [1862, 1976], 1864: [1865], 1865: [1866], 1866: [206], 1867: [1868], 1868: [1869], 1869: [548], 187: [1751, 189, 289, 816], 1870: [1872], 1871: [1870, 1910], 1872: [1633, 2088], 1873: [1874], 1874: [1998, 260], 1875: [1873], 1876: [1877], 1877: [1878], 1878: [1541], 1879: [1881], 188: [187], 1880: [1879], 1881: [591], 1882: [1884, 2387], 1883: [1882], 1884: [1003], 1885: [1886, 2059], 1886: [529], 1887: [1885], 1888: [1890], 1889: [1888], 189: [39], 1890: [1364], 1891: [1892], 1892: [1893], 1893: [370], 1894: [1896], 1895: [1894, 2326], 1896: [1740], 1897: [1899], 1898: [1751], 1899: [1898], 19: [16, 60], 190: [191, 366], 1900: [1968, 808], 1901: [1900], 1902: [1901], 1903: [828], 1904: [1905], 1905: [1903], 1906: [1121], 1907: [1908], 1908: [1906], 1909: [1871], 191: [192], 1910: [1911, 2384], 1911: [1909], 1912: [479], 1913: [1914], 1914: [1912], 1915: [1917], 1916: [1509], 1917: [1916], 1918: [1920], 1919: [1617], 192: [58], 1920: [1919, 2467], 1921: [1922], 1922: [1923], 1923: [623], 1924: [1925], 1925: [591], 1926: [1924], 1927: [1929], 1928: [1927], 1929: [924], 193: [152, 275], 1930: [1931], 1931: [802], 1932: [1930], 1933: [1935], 1934: [975], 1935: [1934], 1936: [1937], 1937: [1938], 1938: [1647, 2374], 1939: [1940], 194: [195, 329], 1940: [2216, 702], 1941: [1939], 1942: [1944], 1943: [1942], 1944: [1352], 1945: [1091], 1946: [1945, 1951], 1947: [1946], 1948: [1950], 1949: [1948], 195: [193, 962], 1950: [1512], 1951: [1952], 1952: [1953, 2178], 1953: [1946], 1954: [66], 1955: [1954], 1956: [1955], 1957: [718], 1958: [1957], 1959: [1958], 196: [106], 1960: [1962], 1961: [1960], 1962: [1800], 1963: [1964, 2023], 1964: [1965], 1965: [1817], 1966: [1967], 1967: [1900], 1968: [1966], 1969: [1971], 197: [1416, 198], 1970: [1969, 2136], 1971: [310], 1972: [1080], 1973: [1972], 1974: [1973], 1975: [1863], 1976: [1977], 1977: [1975], 1978: [1073], 1979: [1978], 198: [1232, 196], 1980: [1979], 1981: [1982], 1982: [1983, 2286], 1983: [1441], 1984: [1613], 1985: [1984], 1986: [1985], 1987: [1659], 1988: [1987], 1989: [1988], 199: [201], 1990: [1991], 1991: [1992], 1992: [794], 1993: [864], 1994: [1995], 1995: [1993, 2104], 1996: [1874], 1997: [1996], 1998: [1997], 1999: [2001], 2: [1, 12, 427, 6], 20: [126, 19], 200: [1], 2000: [1160], 2001: [2000], 2002: [2004], 2003: [962], 2004: [2003], 2005: [2007], 2006: [1107], 2007: [2006], 2008: [1704], 2009: [2008, 2634], 201: [200], 2010: [2009], 2011: [2013], 2012: [2011], 2013: [1686], 2014: [509], 2015: [2016, 2348], 2016: [2014], 2017: [1242], 2018: [2017, 2021, 2246, 2637], 2019: [2018, 2131], 202: [203], 2020: [2018], 2021: [2022, 2335], 2022: [2020], 2023: [2025], 2024: [1963], 2025: [2024, 2044], 2026: [2028], 2027: [1476], 2028: [2027], 2029: [70], 203: [1227, 13, 2063, 2720], 2030: [2029, 2329], 2031: [2030], 2032: [897], 2033: [2032, 2679], 2034: [2033], 2035: [1820], 2036: [2035], 2037: [2036], 2038: [1789], 2039: [2038], 204: [202], 2040: [2039], 2041: [2043], 2042: [2041], 2043: [133], 2044: [2045], 2045: [2046], 2046: [2025], 2047: [2048], 2048: [2780, 991], 2049: [2047], 205: [206], 2050: [2051, 2068], 2051: [2269, 329], 2052: [2050, 2496], 2053: [687], 2054: [2053], 2055: [2054, 2181], 2056: [2057], 2057: [2058], 2058: [1008], 2059: [2060], 206: [1864, 207, 461], 2060: [2061], 2061: [1885], 2062: [203], 2063: [2064], 2064: [2062], 2065: [1005], 2066: [2065], 2067: [2066], 2068: [2070], 2069: [2050], 207: [184], 2070: [2069], 2071: [2072], 2072: [2324, 618], 2073: [2071], 2074: [2076], 2075: [2074], 2076: [1180, 2700], 2077: [2079], 2078: [2077], 2079: [1492], 208: [209, 691], 2080: [51], 2081: [2082], 2082: [2080], 2083: [2085], 2084: [2083], 2085: [1676], 2086: [1872], 2087: [2086], 2088: [2087], 2089: [2090], 209: [163, 303], 2090: [647], 2091: [2089], 2092: [1224], 2093: [2094], 2094: [2092], 2095: [134], 2096: [2095], 2097: [2096], 2098: [2100], 2099: [2098], 21: [108, 20, 526], 210: [1806, 208, 594], 2100: [414], 2101: [2103], 2102: [2101], 2103: [366], 2104: [2106], 2105: [1995], 2106: [2105], 2107: [814], 2108: [2107], 2109: [2108], 211: [2316, 59], 2110: [2112], 2111: [2110], 2112: [421], 2113: [2114], 2114: [2115], 2115: [1448, 2523], 2116: [1221], 2117: [2116, 2629], 2118: [2117], 2119: [2121], 212: [211, 2200, 530], 2120: [2119], 2121: [1695], 2122: [58], 2123: [2122], 2124: [2123], 2125: [2127], 2126: [2125], 2127: [962], 2128: [2130], 2129: [2128], 213: [212], 2130: [343], 2131: [2132], 2132: [2133], 2133: [2019], 2134: [2135], 2135: [1970], 2136: [2134], 2137: [859], 2138: [2139], 2139: [2137], 214: [1733, 215, 248, 582], 2140: [2142], 2141: [692], 2142: [2141], 2143: [990], 2144: [2143], 2145: [2144], 2146: [2147], 2147: [2148], 2148: [285], 2149: [2151], 215: [182, 381, 436, 479], 2150: [2149], 2151: [1381], 2152: [1574], 2153: [2154, 2464], 2154: [2152, 2545], 2155: [2157], 2156: [2155], 2157: [1135], 2158: [2160], 2159: [1063, 2621], 216: [214], 2160: [2159], 2161: [2162], 2162: [906], 2163: [2161], 2164: [2165], 2165: [2166], 2166: [542], 2167: [2168], 2168: [482], 2169: [2167], 217: [219, 454], 2170: [2172], 2171: [422], 2172: [2171], 2173: [2174], 2174: [1522], 2175: [2173], 2176: [2177], 2177: [1952], 2178: [2176], 2179: [2180], 218: [217], 2180: [2055], 2181: [2179], 2182: [731], 2183: [2184], 2184: [2182], 2185: [1642], 2186: [2185], 2187: [2186], 2188: [2190], 2189: [2188], 219: [163, 2693], 2190: [842], 2191: [2192], 2192: [2193], 2193: [928], 2194: [183], 2195: [2196], 2196: [2194], 2197: [2199], 2198: [1403], 2199: [2198], 22: [24, 850], 220: [222, 2665], 2200: [2201], 2201: [2202], 2202: [212], 2203: [2204], 2204: [2205], 2205: [359], 2206: [412], 2207: [2208], 2208: [2206], 2209: [1749], 221: [161, 2786], 2210: [2209], 2211: [2210], 2212: [2214, 2413], 2213: [2212], 2214: [76], 2215: [2217], 2216: [2215], 2217: [1940], 2218: [2219], 2219: [2220], 222: [1169, 221], 2220: [55], 2221: [2223], 2222: [939], 2223: [2222], 2224: [1537], 2225: [2226], 2226: [2224], 2227: [4], 2228: [2229], 2229: [2227], 223: [124], 2230: [465], 2231: [2230], 2232: [2231], 2233: [2234], 2234: [2235], 2235: [1787], 2236: [2237], 2237: [1698], 2238: [2236], 2239: [336], 224: [225], 2240: [2239], 2241: [2240], 2242: [2243], 2243: [1066], 2244: [2242], 2245: [2247], 2246: [2245], 2247: [2018], 2248: [2250], 2249: [1753], 225: [223], 2250: [2249], 2251: [2252], 2252: [2253], 2253: [478], 2254: [1737], 2255: [2256], 2256: [2254], 2257: [452], 2258: [2257], 2259: [2258], 226: [228], 2260: [1126], 2261: [2260], 2262: [2261], 2263: [945], 2264: [2263], 2265: [2264], 2266: [2267], 2267: [2268], 2268: [2518, 460], 2269: [2271], 227: [226], 2270: [2051], 2271: [2270], 2272: [2273], 2273: [466], 2274: [2272], 2275: [2276], 2276: [800], 2277: [2275], 2278: [1367], 2279: [2280], 228: [156], 2280: [2278], 2281: [2282], 2282: [2283], 2283: [1006], 2284: [2285], 2285: [1982], 2286: [2284], 2287: [66], 2288: [2289], 2289: [2287, 2339], 229: [1007, 117, 1539, 334], 2290: [2292], 2291: [12], 2292: [2291], 2293: [1020], 2294: [2295], 2295: [2293], 2296: [2297], 2297: [797], 2298: [2296], 2299: [2300], 23: [22], 230: [229, 399], 2300: [2301, 2706], 2301: [888], 2302: [2304], 2303: [1355], 2304: [2303], 2305: [2307], 2306: [1045], 2307: [2306], 2308: [2309], 2309: [2310, 2580], 231: [230], 2310: [962], 2311: [719], 2312: [2311], 2313: [2312], 2314: [2315], 2315: [211], 2316: [2314], 2317: [2318], 2318: [2319], 2319: [871], 232: [233], 2320: [2322], 2321: [2320], 2322: [873], 2323: [2325], 2324: [2323], 2325: [2072], 2326: [2328], 2327: [1895], 2328: [2327], 2329: [2330], 233: [1009, 32], 2330: [2331], 2331: [2030], 2332: [2333], 2333: [2334], 2334: [1422], 2335: [2337], 2336: [2021], 2337: [2336], 2338: [2289], 2339: [2340], 234: [232, 536], 2340: [2338], 2341: [2343], 2342: [896], 2343: [2342], 2344: [2346], 2345: [2344], 2346: [292], 2347: [2349], 2348: [2347], 2349: [2015, 2382], 235: [236], 2350: [1713], 2351: [2350], 2352: [2351], 2353: [2355], 2354: [2353], 2355: [1045], 2356: [2357], 2357: [1137, 2542], 2358: [2356], 2359: [2360], 236: [237], 2360: [968], 2361: [2359], 2362: [2363], 2363: [896], 2364: [2362], 2365: [2367], 2366: [2365], 2367: [327], 2368: [2369], 2369: [2370], 237: [351, 523, 53], 2370: [2646, 584], 2371: [2373, 2576], 2372: [900], 2373: [2372], 2374: [2376], 2375: [1938], 2376: [2375], 2377: [902], 2378: [2377], 2379: [2378], 238: [122, 1724, 497], 2380: [2381], 2381: [2349], 2382: [2380], 2383: [1910], 2384: [2385], 2385: [2383], 2386: [1882], 2387: [2388], 2388: [2386], 2389: [2390], 239: [240, 295], 2390: [325], 2391: [2389], 2392: [2393], 2393: [2586, 538], 2394: [2392], 2395: [412], 2396: [2397], 2397: [2395], 2398: [2399], 2399: [2400], 24: [1405, 16], 240: [238], 2400: [335], 2401: [1252], 2402: [2401], 2403: [2402], 2404: [1335], 2405: [2404], 2406: [2405, 2599], 2407: [2409], 2408: [1237], 2409: [2408], 241: [110], 2410: [2412], 2411: [1294], 2412: [2411, 2684], 2413: [2414], 2414: [2415], 2415: [2212], 2416: [2418], 2417: [698], 2418: [2417], 2419: [2420], 242: [243], 2420: [2421], 2421: [680], 2422: [992], 2423: [2422], 2424: [2423], 2425: [2426], 2426: [436], 2427: [2425], 2428: [2429], 2429: [2430], 243: [241, 506], 2430: [1770], 2431: [2433, 2596], 2432: [2431], 2433: [1535], 2434: [2436], 2435: [2434], 2436: [1039], 2437: [2439], 2438: [2437], 2439: [1306], 244: [246, 860], 2440: [2441], 2441: [2442], 2442: [1429], 2443: [2444], 2444: [1171], 2445: [2443], 2446: [2447], 2447: [2448], 2448: [698], 2449: [2451], 245: [119], 2450: [2449], 2451: [1637], 2452: [2454], 2453: [2452], 2454: [1168], 2455: [2457], 2456: [2455], 2457: [1397], 2458: [2460], 2459: [2458], 246: [245, 424], 2460: [1807], 2461: [2463], 2462: [1291], 2463: [2462], 2464: [2465], 2465: [2466], 2466: [2153], 2467: [2469], 2468: [1920], 2469: [2468], 247: [249, 352], 2470: [2472], 2471: [2470], 2472: [843], 2473: [2475], 2474: [1131], 2475: [2474], 2476: [1269], 2477: [2478], 2478: [2476], 2479: [2480], 248: [247], 2480: [720], 2481: [2479], 2482: [2484], 2483: [2482], 2484: [454], 2485: [2486], 2486: [2487], 2487: [711], 2488: [908], 2489: [2488], 249: [1154, 1260, 214, 948], 2490: [2489], 2491: [829], 2492: [2491], 2493: [2492], 2494: [2052, 2570], 2495: [2494], 2496: [2495], 2497: [1150], 2498: [2497], 2499: [2498], 25: [27, 46], 250: [251, 638], 2500: [2501], 2501: [2502], 2502: [1810], 2503: [2504], 2504: [2505], 2505: [519], 2506: [2507], 2507: [2508], 2508: [1355], 2509: [2510], 251: [252], 2510: [2511], 2511: [1750], 2512: [2514], 2513: [829], 2514: [2513], 2515: [1273], 2516: [2515], 2517: [2516, 2538], 2518: [2520], 2519: [2268], 252: [79], 2520: [2519], 2521: [2522], 2522: [2115], 2523: [2521], 2524: [2525, 2758], 2525: [400], 2526: [2524], 2527: [2529], 2528: [1276], 2529: [2528], 253: [254, 659], 2530: [329], 2531: [2532], 2532: [2530], 2533: [2535], 2534: [2533], 2535: [1062], 2536: [2517], 2537: [2536], 2538: [2537], 2539: [2540], 254: [255], 2540: [520], 2541: [2539], 2542: [2543], 2543: [2544], 2544: [2357], 2545: [2547], 2546: [2154], 2547: [2546], 2548: [503], 2549: [2550], 255: [93], 2550: [2548], 2551: [860], 2552: [2553], 2553: [2551], 2554: [2556], 2555: [2554], 2556: [1623], 2557: [1571], 2558: [2557], 2559: [2558], 256: [16], 2560: [283], 2561: [2560], 2562: [2561], 2563: [2565], 2564: [1783], 2565: [2564], 2566: [2568], 2567: [2566], 2568: [1036], 2569: [2571], 257: [256], 2570: [2569], 2571: [2494], 2572: [2573], 2573: [2574], 2574: [691], 2575: [2577], 2576: [2575], 2577: [2371], 2578: [2579], 2579: [2309], 258: [257, 271], 2580: [2578], 2581: [693], 2582: [2581], 2583: [2582], 2584: [2585], 2585: [2393], 2586: [2584], 2587: [2588], 2588: [2589, 2697], 2589: [137], 259: [55], 2590: [411], 2591: [2590], 2592: [2591], 2593: [1243], 2594: [2593], 2595: [2594], 2596: [2597], 2597: [2598], 2598: [2431], 2599: [2601], 26: [6], 260: [1875, 259], 2600: [2406], 2601: [2600], 2602: [2604], 2603: [1580], 2604: [2603, 2788], 2605: [2607], 2606: [80], 2607: [2606], 2608: [596], 2609: [2610], 261: [260, 2768], 2610: [2608], 2611: [2612], 2612: [2613], 2613: [960], 2614: [2615], 2615: [501], 2616: [2614], 2617: [2618], 2618: [2619], 2619: [314], 262: [263], 2620: [2159], 2621: [2622], 2622: [2620], 2623: [2624], 2624: [2625], 2625: [816], 2626: [164], 2627: [2628], 2628: [2626], 2629: [2631], 263: [264, 959], 2630: [2117], 2631: [2630], 2632: [2009], 2633: [2632], 2634: [2633], 2635: [2018], 2636: [2635], 2637: [2636], 2638: [2639], 2639: [81], 264: [1, 1190], 2640: [2638], 2641: [2642], 2642: [2643], 2643: [397], 2644: [2370], 2645: [2644], 2646: [2645], 2647: [2648], 2648: [73], 2649: [2647], 265: [266], 2651: [922], 2653: [2655], 2654: [2653], 2655: [807], 2656: [2658], 2657: [2656], 2658: [884], 2659: [2661], 266: [267], 2660: [2659], 2661: [1547], 2662: [738], 2663: [2664], 2664: [2662], 2665: [2667], 2666: [220], 2667: [2666], 2668: [68], 2669: [2670], 267: [147, 359], 2670: [2668], 2671: [2672], 2672: [2673], 2673: [1526], 2674: [1337], 2675: [2676], 2676: [2674], 2677: [2678], 2678: [2033], 2679: [2677], 268: [1247, 167], 2680: [2681], 2681: [539], 2682: [2680], 2683: [2412], 2684: [2685], 2685: [2683], 2686: [1478], 2687: [2686], 2688: [2687], 2689: [2691], 269: [270], 2690: [2689], 2691: [949], 2692: [2694], 2693: [2692], 2694: [219], 2695: [2588], 2696: [2695], 2697: [2696], 2698: [2076], 2699: [2698], 27: [113, 1361, 26], 270: [268], 2700: [2699], 2701: [1132], 2702: [2701], 2703: [2702], 2704: [2300], 2705: [2704], 2706: [2705], 2707: [2708], 2708: [806], 2709: [2707], 271: [273], 2710: [472], 2711: [2712], 2712: [2710], 2713: [2715], 2714: [2713], 2715: [515], 2716: [1536], 2717: [2716], 2718: [2717], 2719: [2721], 272: [258], 2720: [2719], 2721: [203], 2722: [2723], 2723: [2724], 2724: [1729], 2725: [2726], 2726: [777], 2727: [2725], 2728: [414], 2729: [2728], 273: [1487, 272, 555], 2730: [2729], 2731: [2732], 2732: [2733], 2733: [721], 2734: [1755], 2735: [2734], 2736: [2735], 2737: [2738], 2738: [2739], 2739: [1697], 274: [1351, 1522, 193], 2740: [1663], 2741: [2742], 2742: [2740], 2743: [2745], 2744: [1314], 2745: [2744], 2746: [2747], 2747: [2748], 2748: [634], 2749: [2751], 275: [276], 2750: [2749], 2751: [1857], 2752: [2754], 2753: [138], 2754: [2753], 2755: [2756], 2756: [2757], 2757: [836], 2758: [2760], 2759: [2524], 276: [274, 678], 2760: [2759], 2761: [1080], 2762: [2761], 2763: [2762], 2764: [2766], 2765: [337], 2766: [2765], 2767: [2769], 2768: [2767], 2769: [261], 277: [279], 2770: [595], 2771: [2772], 2772: [2770], 2773: [433], 2774: [2775], 2775: [2773], 2776: [2777], 2777: [2778], 2778: [967], 2779: [2048], 278: [5], 2780: [2781], 2781: [2779], 2782: [565], 2783: [2782], 2784: [2783], 2785: [2787], 2786: [2785], 2787: [221], 2788: [2790], 2789: [2604], 279: [278, 574], 2790: [2789], 2791: [2793], 2792: [2791], 2793: [963], 2794: [1672], 2795: [2796], 2796: [2794], 2797: [2798], 2798: [2799], 2799: [1431], 28: [30], 280: [168], 281: [280, 650], 282: [281, 304], 283: [2562, 284], 284: [1707, 59, 811], 285: [1528, 2146, 283], 286: [288], 287: [1434, 286, 331], 288: [35], 289: [291], 29: [28], 290: [187, 922], 291: [1049, 290, 685], 292: [2345, 293, 512, 684, 847], 293: [294], 294: [179], 295: [1275, 297], 296: [239], 297: [296], 298: [300], 299: [598, 73], 3: [2, 467, 711], 30: [13], 300: [299], 301: [302, 431], 302: [209, 608], 303: [301, 414], 304: [305], 305: [306], 306: [282], 307: [87], 308: [307], 309: [1620, 308], 31: [1, 64, 71, 949], 310: [1970, 311], 311: [76], 312: [1307, 1514, 310], 313: [314], 314: [145, 2617], 315: [1387, 313], 316: [137, 989], 317: [318], 318: [1126, 1611, 316], 319: [321], 32: [234, 33], 320: [151, 568, 838], 321: [320, 403], 322: [324], 323: [106, 1062, 634], 324: [323], 325: [2391, 49, 587], 326: [327], 327: [2366, 325], 328: [330], 329: [2052, 2531, 328], 33: [31, 38, 628, 972], 330: [194, 984], 331: [332], 332: [333], 333: [287, 372, 662], 334: [1067, 336, 863], 335: [229, 2398], 336: [2241, 335, 725], 337: [2764, 339, 836], 338: [1328, 56], 339: [338], 34: [36], 340: [441, 533, 86], 341: [342, 363], 342: [340, 957], 343: [2129, 345], 344: [0, 562, 906], 345: [344], 346: [348, 873], 347: [1040, 93], 348: [347], 349: [1374, 237], 35: [136, 169, 287, 34, 52, 93], 350: [1581, 349], 351: [350], 352: [1424, 354], 353: [1810, 247, 458, 731, 751], 354: [353], 355: [357], 356: [68, 716], 357: [1178, 356], 358: [267], 359: [2203, 360], 36: [4], 360: [358], 361: [1647, 362], 362: [341], 363: [361], 364: [190], 365: [364], 366: [2102, 365, 504], 367: [368, 936], 368: [369, 377], 369: [132], 37: [39, 45, 67], 370: [1891, 333], 371: [370, 492], 372: [371], 373: [177], 374: [375], 375: [373], 376: [378], 377: [376], 378: [368], 379: [380], 38: [37, 51, 877], 380: [215], 381: [379], 382: [68], 383: [384], 384: [382], 385: [387, 890], 386: [172], 387: [386], 388: [390, 740], 389: [112], 39: [188, 33, 483], 390: [389], 391: [392], 392: [393, 559], 393: [89], 394: [119, 1795], 395: [396], 396: [1627, 394], 397: [230, 2641, 696], 398: [1193, 397], 399: [1736, 398], 4: [2228, 35, 5], 40: [42], 400: [2526, 402], 401: [400, 810], 402: [1102, 81], 403: [404, 938], 404: [405, 773], 405: [321, 833], 406: [1382, 407, 450], 407: [408, 488], 408: [174], 409: [1821, 410], 41: [18, 1833], 410: [1822, 91], 411: [2592, 409], 412: [1213, 2207, 2396, 303], 413: [412], 414: [2099, 2730, 413], 415: [172], 416: [417], 417: [415, 703], 418: [419], 419: [420], 42: [177, 41], 420: [1173, 157], 421: [116, 2111, 601], 422: [2170, 421], 423: [1295, 422], 424: [425], 425: [426], 426: [246], 427: [1124, 428], 428: [429], 429: [2, 443], 43: [37], 430: [301], 431: [432], 432: [430], 433: [2774, 434], 434: [435], 435: [1047, 178, 517], 436: [2427, 437, 485], 437: [438], 438: [1157, 215, 622], 439: [1309, 440], 44: [1336, 43, 631, 993], 440: [340], 441: [439], 442: [429], 443: [444], 444: [442], 445: [446, 679], 446: [447], 447: [1074, 93], 448: [406], 449: [448], 45: [1531, 44], 450: [1401, 449], 451: [77], 452: [2259, 453], 453: [1497, 451], 454: [2483, 456], 455: [217], 456: [455, 796], 457: [459], 458: [457], 459: [353], 46: [48], 460: [206, 2266], 461: [462], 462: [460], 463: [464], 464: [465], 465: [179, 2232], 466: [2274, 468], 467: [466], 468: [3], 469: [121], 47: [25], 470: [1585, 471], 471: [469, 756], 472: [2711, 58], 473: [472], 474: [1132, 473, 913], 475: [476], 476: [477], 477: [124], 478: [1764, 2251, 480], 479: [1913, 478], 48: [47], 480: [215], 481: [482], 482: [2169, 39], 483: [481], 484: [486, 510], 485: [484], 486: [436, 867], 487: [489], 488: [487], 489: [407], 49: [1564, 326, 50], 490: [491, 614], 491: [371, 514], 492: [490], 493: [494], 494: [170], 495: [493], 496: [1685, 238], 497: [498, 966], 498: [496], 499: [1305, 501], 5: [2, 277], 50: [162, 38], 500: [172], 501: [2616, 500, 736], 502: [366], 503: [2549, 502], 504: [503, 767], 505: [507], 506: [505, 777], 507: [243], 508: [484, 900], 509: [2015, 508], 51: [168, 2081, 49], 510: [509, 952], 511: [513], 512: [1712, 511], 513: [292, 854], 514: [516], 515: [2714, 491], 516: [515], 517: [519], 518: [435], 519: [1721, 2503, 518, 976], 52: [1663, 53], 520: [129, 2541], 521: [522], 522: [520], 523: [525], 524: [237], 525: [524, 605], 526: [528], 527: [21], 528: [527], 529: [1887, 212], 53: [235, 54], 530: [1521, 531], 531: [529], 532: [1512, 534], 533: [532], 534: [1064, 340], 535: [537], 536: [1549, 535], 537: [234], 538: [171, 2394, 620], 539: [2682, 540], 54: [1492, 35], 540: [1773, 538], 541: [542], 542: [116, 2164], 543: [541, 565], 544: [545], 545: [111], 546: [544], 547: [548], 548: [109, 1867], 549: [1408, 547], 55: [2218, 261, 57, 762, 87], 550: [58], 551: [552], 552: [550], 553: [273], 554: [553], 555: [554], 556: [1129, 12, 1271, 876], 557: [556], 558: [557], 559: [560], 56: [1, 1110, 153, 337], 560: [561], 561: [1135, 1312, 392], 562: [563, 645], 563: [564, 626], 564: [1285, 1367, 344, 801], 565: [2784, 567, 830], 566: [1651, 543, 941], 567: [566], 568: [570], 569: [320], 57: [56], 570: [569], 571: [572], 572: [573], 573: [1350, 14, 1637], 574: [575], 575: [576], 576: [279, 846], 577: [579], 578: [577], 579: [72], 58: [117, 190, 2124, 474, 551, 59], 580: [1768, 581, 921], 581: [214, 802], 582: [1334, 580], 583: [584], 584: [2368, 73], 585: [583], 586: [325], 587: [588], 588: [586, 657], 589: [591], 59: [19, 213, 285, 61], 590: [1846, 589], 591: [1880, 1926, 9], 592: [1300, 210], 593: [592], 594: [593], 595: [2771, 90], 596: [2609, 595, 763], 597: [596, 735], 598: [599], 599: [600], 6: [25, 4, 841], 60: [58, 721], 600: [1223, 299], 601: [1175, 603], 602: [421], 603: [602], 604: [606], 605: [604], 606: [525, 887], 607: [609], 608: [607], 609: [302], 61: [62], 610: [611], 611: [612, 654], 612: [1604, 1710, 77], 613: [490], 614: [1149, 1255, 1478, 615], 615: [613], 616: [617], 617: [618], 618: [128, 2073], 619: [1597, 538], 62: [63], 620: [621], 621: [619], 622: [623, 827], 623: [1921, 624], 624: [438], 625: [627, 646], 626: [625], 627: [1320, 563], 628: [629], 629: [630], 63: [1220, 1844, 59], 630: [33], 631: [1188, 632], 632: [633], 633: [44], 634: [2746, 636], 635: [1339, 323], 636: [635], 637: [639], 638: [637], 639: [250], 64: [1601, 66, 77, 89], 640: [641, 698], 641: [642], 642: [1077, 140], 643: [644, 702], 644: [562], 645: [643, 930], 646: [647], 647: [2091, 648], 648: [625, 669], 649: [651, 927, 985], 65: [31], 650: [649], 651: [281], 652: [611], 653: [652], 654: [653], 655: [656], 656: [588, 690], 657: [655], 658: [1058, 1630, 253], 659: [660], 66: [1956, 2288, 65], 660: [658, 893], 661: [333], 662: [1297, 663], 663: [661], 664: [1211, 665], 665: [165], 666: [664], 667: [648], 668: [667], 669: [1396, 668], 67: [69], 670: [671, 896], 671: [164], 672: [1738, 670], 673: [129], 674: [675], 675: [673, 918], 676: [677], 677: [1122, 276], 678: [1624, 676], 679: [1742, 680, 713], 68: [2669, 355, 37, 383, 84], 680: [2419, 681], 681: [445], 682: [1242, 292], 683: [682], 684: [683], 685: [686], 686: [687], 687: [2055, 291], 688: [689], 689: [656], 69: [173, 68, 911], 690: [688, 707], 691: [2572, 692], 692: [2140, 693], 693: [208, 2583, 781], 694: [695, 998], 695: [397, 901, 973], 696: [694], 697: [640], 698: [2416, 2446, 699], 699: [697], 7: [102, 8], 70: [146, 154, 2031, 31], 700: [701], 701: [643], 702: [1941, 700], 703: [1469, 704], 704: [705], 705: [417], 706: [708], 707: [1467, 706], 708: [690], 709: [3], 71: [1279, 72], 710: [709], 711: [2485, 710], 712: [1142, 714], 713: [712], 714: [679], 715: [1185, 717], 716: [715, 728], 717: [356], 718: [1114, 1959, 720], 719: [2313, 88], 72: [1284, 129, 1356, 578, 70], 720: [2481, 719, 780], 721: [2731, 722], 722: [1526, 723], 723: [60], 724: [726], 725: [724], 726: [336], 727: [729], 728: [727], 729: [716], 73: [2649, 298, 585, 74], 730: [732, 885], 731: [1583, 2183, 730], 732: [353], 733: [734], 734: [597], 735: [733], 736: [737, 881], 737: [1043, 738], 738: [2663, 501, 817], 739: [388], 74: [16, 98], 740: [741], 741: [739], 742: [743], 743: [111, 1207], 744: [742], 745: [746], 746: [128], 747: [745], 748: [750], 749: [1615, 163], 75: [73], 750: [749], 751: [753], 752: [1859, 353], 753: [752], 754: [755], 755: [471], 756: [754], 757: [123], 758: [759], 759: [757], 76: [2213, 312, 78], 760: [761], 761: [55], 762: [760], 763: [765], 764: [596], 765: [764], 766: [504], 767: [768], 768: [1359, 766], 769: [770], 77: [118, 452, 610, 76], 770: [1462, 771, 794], 771: [142], 772: [774], 773: [772], 774: [404], 775: [776], 776: [506], 777: [2727, 775], 778: [1595, 720], 779: [778], 78: [64], 780: [779], 781: [1816, 782], 782: [783], 783: [693], 784: [165], 785: [786], 786: [784], 787: [789], 788: [787], 789: [150, 1714], 79: [250, 81], 790: [14, 1449, 943], 791: [792], 792: [790], 793: [770], 794: [1990, 795], 795: [1097, 793], 796: [797], 797: [2298, 798], 798: [456], 799: [800], 8: [110, 9], 80: [2605, 79], 800: [2277, 564], 801: [1476, 799], 802: [1394, 1932, 803], 803: [804], 804: [581], 805: [96], 806: [2709, 805], 807: [2654, 806], 808: [1902, 401], 809: [808], 81: [135, 14, 2640, 401], 810: [1851, 809], 811: [812], 812: [1503, 813], 813: [284], 814: [2109, 815], 815: [187], 816: [1037, 2623, 814], 817: [1139, 1757, 819], 818: [738], 819: [1461, 818], 82: [1013, 68], 820: [822, 868], 821: [162], 822: [821], 823: [825], 824: [823], 825: [111], 826: [828], 827: [826], 828: [1776, 1904, 622], 829: [1054, 2493, 2512, 565], 83: [82], 830: [831], 831: [829], 832: [834], 833: [832], 834: [1430, 405], 835: [337], 836: [2755, 837], 837: [835], 838: [840], 839: [320], 84: [83], 840: [839], 841: [843], 842: [2189, 6], 843: [2471, 842], 844: [576], 845: [844], 846: [845], 847: [848], 848: [849], 849: [292], 85: [86], 850: [852], 851: [22], 852: [851], 853: [513], 854: [855], 855: [853], 856: [140], 857: [1094, 1369, 858], 858: [856], 859: [1080, 2138, 861], 86: [181, 341, 55], 860: [1364, 2552, 859], 861: [244], 862: [864], 863: [862], 864: [1994, 334], 865: [866], 866: [1571, 1692, 486], 867: [1608, 865], 868: [870], 869: [820], 87: [309, 85], 870: [869], 871: [2317, 872], 872: [346], 873: [2321, 871], 874: [1249, 875], 875: [1269, 556], 876: [874], 877: [1556, 879], 878: [38], 879: [878], 88: [718, 90], 880: [1117, 736], 881: [882], 882: [880, 933], 883: [884], 884: [2657, 730], 885: [1500, 883], 886: [888], 887: [886], 888: [2299, 606], 889: [891], 89: [391, 88], 890: [889], 891: [1204, 385], 892: [894], 893: [892], 894: [1252, 660], 895: [897], 896: [1018, 2341, 2364, 895], 897: [2034, 670], 898: [1265, 1660, 899], 899: [1245, 508], 9: [1, 590], 90: [597, 64], 900: [2371, 898], 901: [902], 902: [2379, 903], 903: [695, 996], 904: [1082, 1331, 905], 905: [344], 906: [2163, 904], 907: [909], 908: [2490, 907], 909: [180, 968], 91: [121, 411, 92], 910: [1261, 69], 911: [912], 912: [910], 913: [914], 914: [1033, 1182, 915], 915: [474], 916: [917], 917: [675], 918: [916], 919: [1554, 920], 92: [35], 920: [580], 921: [919], 922: [2652, 923], 923: [924], 924: [1928, 290], 925: [649], 926: [925], 927: [926], 928: [2191, 929], 929: [645], 93: [253, 346, 445, 91], 930: [928], 931: [932], 932: [882], 933: [931], 934: [935], 935: [367], 936: [1377, 934], 937: [403], 938: [939], 939: [2221, 937], 94: [1024, 1144, 96], 940: [942], 941: [1384, 940], 942: [566], 943: [945], 944: [790], 945: [2265, 944], 946: [249], 947: [946], 948: [947], 949: [2690, 950], 95: [94], 950: [951], 951: [31], 952: [1162, 1197, 954], 953: [510], 954: [953], 955: [956], 956: [342], 957: [955], 958: [960], 959: [958], 96: [1112, 14, 807], 960: [2611, 263], 961: [195], 962: [2002, 2126, 2308, 963], 963: [2792, 961], 964: [965], 965: [1443, 497], 966: [964], 967: [2776, 909], 968: [2361, 969], 969: [967], 97: [99], 970: [33], 971: [970], 972: [971], 973: [1069, 974], 974: [975], 975: [1677, 1933, 695], 976: [978], 977: [519], 978: [977], 979: [981], 98: [97], 980: [979], 981: [117], 982: [330], 983: [1152, 1404, 982], 984: [983], 985: [1680, 986], 986: [1704, 987], 987: [649], 988: [316], 989: [990], 99: [1728, 74], 990: [1578, 2145, 988], 991: [2049, 44], 992: [1855, 2424, 991], 993: [992], 994: [903], 995: [1799, 994], 996: [995], 997: [999], 998: [997], 999: [694]}\n"
     ]
    }
   ],
   "source": [
    "with open('rosalind_ba3g.txt') as input_data:\n",
    "    edges = {}\n",
    "    for edge in [line.strip().split(' -> ') for line in input_data.readlines()]:\n",
    "        if ',' in edge[1]:\n",
    "            edges[int(edge[0])] = list(map(int,edge[1].split(',')))\n",
    "        else:\n",
    "            edges[int(edge[0])] = [int(edge[1])]\n",
    "print(edges)\n",
    "# Get the Eulerian cycle.\n",
    "path = EulerianPath(edges)\n",
    "\n",
    "# Print and save the answer.\n",
    "#print('->'.join(map(str,path)))\n",
    "with open('eulerianpath.txt', 'w') as output_data:\n",
    "    output_data.write('->'.join(list(map(str,path))))\n"
   ]
  },
  {
   "cell_type": "markdown",
   "metadata": {},
   "source": [
    "We can therefore summarize this solution using the following pseudocode, which relies on three problems that we have already solved:\n",
    "\n",
    "The de Bruijn Graph Construction Problem;\n",
    "The Eulerian Path Problem;\n",
    "The String Spelled by a Genome Path Problem.\n",
    "    StringReconstruction(Patterns)\n",
    "    \n",
    "        dB ← DeBruijn(Patterns)\n",
    "        \n",
    "        path ← EulerianPath(dB)\n",
    "        \n",
    "        Text ← PathToGenome(path)\n",
    "        \n",
    "        return Text"
   ]
  },
  {
   "cell_type": "code",
   "execution_count": 14,
   "metadata": {
    "collapsed": true
   },
   "outputs": [],
   "source": [
    "# 3h String Reconstruction\n",
    "def StringReconstruction(k, Patterns):\n",
    "    dB = DeBruijnFromKmers(Patterns)\n",
    "    path = EulerianPath(dB)\n",
    "    \n",
    "    return ReconstructString(path)"
   ]
  },
  {
   "cell_type": "code",
   "execution_count": 15,
   "metadata": {},
   "outputs": [
    {
     "data": {
      "text/plain": [
       "'GGCTTACCA'"
      ]
     },
     "execution_count": 15,
     "metadata": {},
     "output_type": "execute_result"
    }
   ],
   "source": [
    "StringReconstruction(4, ['CTTA', 'ACCA', 'TACC', 'GGCT', 'GCTT', 'TTAC'])"
   ]
  },
  {
   "cell_type": "code",
   "execution_count": null,
   "metadata": {
    "collapsed": true
   },
   "outputs": [],
   "source": [
    "k_patterns = []\n",
    "with open('rosalind_ba3h.txt', 'r') as data:\n",
    "    for line in data:\n",
    "        k_patterns.append(line.strip('\\n'))\n",
    "k = int(k_patterns[0])\n",
    "patterns = k_patterns[1:]\n",
    "StringReconstruction(k, patterns)"
   ]
  },
  {
   "cell_type": "code",
   "execution_count": 16,
   "metadata": {
    "collapsed": true
   },
   "outputs": [],
   "source": [
    "from itertools import product\n",
    "\n",
    "def kUniversalCircularString(k):\n",
    "    # create the edges\n",
    "    adj_list = {}\n",
    "    for kmer in [''.join(item) for item in list(product('01', repeat = k))]:\n",
    "        if kmer[:-1] in adj_list:\n",
    "            adj_list[kmer[:-1]].append(kmer[1:])\n",
    "        else:\n",
    "            adj_list[kmer[:-1]] = [kmer[1:]]\n",
    "    # get the eulerian cycle, remove the repeated last entry for the associated path\n",
    "    \n",
    "    path = EulerianCycle(adj_list)\n",
    "    \n",
    "    return ''.join([item[0] for item in path[:-1]])"
   ]
  },
  {
   "cell_type": "code",
   "execution_count": 17,
   "metadata": {},
   "outputs": [
    {
     "data": {
      "text/plain": [
       "'0110000100111101'"
      ]
     },
     "execution_count": 17,
     "metadata": {},
     "output_type": "execute_result"
    }
   ],
   "source": [
    "kUniversalCircularString(4)"
   ]
  },
  {
   "cell_type": "code",
   "execution_count": 18,
   "metadata": {},
   "outputs": [
    {
     "data": {
      "text/plain": [
       "'10010100001111011111001011111010011111011011011111100011111101011111110011111111101110001101110010101010010101110011101010011101110100101110101101010101101110110100110110101110111100010111100110111101010111101100010101100011001100011101100100100101100101101100110100100110101100111000100111001100111100100111101000101101000110001000110101000111001000111100000101100000111110000101110000110110000111000000111010000011010000101010000000001000000101000100001000100100000100101001000101001100000001100001001100100001'"
      ]
     },
     "execution_count": 18,
     "metadata": {},
     "output_type": "execute_result"
    }
   ],
   "source": [
    "kUniversalCircularString(9)"
   ]
  },
  {
   "cell_type": "markdown",
   "metadata": {},
   "source": [
    "__String Reconstruction from Read-Pairs Problem__: Reconstruct a string from its paired composition.\n",
    "\n",
    "__Input__: A collection of paired k-mers PairedReads and an integer d.\n",
    "\n",
    "__Output__: A string Text with (k,d)-mer composition equal to PairedReads (if such a string exists).\n",
    "\n",
    "Not every Eulerian path in the paired DeBruijn graph constructed from (k, d)-mer composition spells out a solution of the String Reconstruction from Read-Pairs problem"
   ]
  },
  {
   "cell_type": "code",
   "execution_count": 64,
   "metadata": {
    "collapsed": true
   },
   "outputs": [],
   "source": [
    "paired_list = ['GAGA|TTGA', 'TCGT|GATG', 'CGTG|ATGT', 'TGGT|TGAG', 'GTGA|TGTT', 'GTGG|GTGA', 'TGAG|GTTG', 'GGTC|GAGA', 'GTCG|AGAT']\n",
    "\n",
    "def StringReconstructionFromReadPairs(k, d, pairedKmers):\n",
    "    pairedKmers = [pair.split('|') for pair in pairedKmers]\n",
    "    # Construct adjacency list from paired kmers\n",
    "    paired_adj_list = {}\n",
    "    for pair in pairedKmers:\n",
    "        if (pair[0][:-1], pair[1][:-1]) in paired_adj_list:\n",
    "            paired_adj_list[(pair[0][:-1], pair[1][:-1])].append((pair[0][1:], pair[1][1:]))\n",
    "        else:\n",
    "            paired_adj_list[(pair[0][:-1], pair[1][:-1])] = [(pair[0][1:], pair[1][1:])]\n",
    "    \n",
    "    # Get Eulerian path from the paired adjacency list\n",
    "    paired_path = EulerianPath(paired_adj_list)\n",
    "\n",
    "    # Recombine the paths, accounting for their overlaps\n",
    "    strings = [paired_path[0][i] + ''.join(map(lambda x: x[i][-1], paired_path[1:])) for i in range(2)]\n",
    "    \n",
    "    text = strings[0][:k+d] + strings[1]\n",
    "    \n",
    "    return text"
   ]
  },
  {
   "cell_type": "code",
   "execution_count": 65,
   "metadata": {},
   "outputs": [
    {
     "data": {
      "text/plain": [
       "'GTGGTCGTGAGATGTTGA'"
      ]
     },
     "execution_count": 65,
     "metadata": {},
     "output_type": "execute_result"
    }
   ],
   "source": [
    "StringReconstructionFromReadPairs(4, 2, paired_list)"
   ]
  },
  {
   "cell_type": "code",
   "execution_count": null,
   "metadata": {
    "collapsed": true
   },
   "outputs": [],
   "source": [
    "test_file = 'rosalind_ba3j.txt'\n",
    "k_d_pairedkmers = []\n",
    "with open(test_file, 'r') as reader:\n",
    "    for line in reader:\n",
    "        k_d_pairedkmers.append(line.strip('\\n'))\n",
    "k = int(k_d_pairedkmers[0].split(' ')[0])\n",
    "d = int(k_d_pairedkmers[0].split(' ')[1])\n",
    "pairedKmers = k_d_pairedkmers[1:]\n",
    "StringReconstructionFromReadPairs(k, d, pairedKmers)"
   ]
  },
  {
   "cell_type": "markdown",
   "metadata": {},
   "source": [
    "Even after read breaking, most assemblies still have gaps in k-mer coverage, causing the de Bruijn graph to have missing edges, and so the search for an Eulerian path fails. In this case, biologists often settle on assembling contigs (long, contiguous segments of the genome) rather than entire chromosomes. For example, a typical bacterial sequencing project may result in about a hundred contigs, ranging in length from a few thousand to a few hundred thousand nucleotides. For most genomes, the order of these contigs along the genome remains unknown. Needless to say, biologists would prefer to have the entire genomic sequence, but the cost of ordering the contigs into a final assembly and closing the gaps using more expensive experimental methods is often prohibitive.\n",
    "\n",
    "Fortunately, we can derive contigs from the de Bruijn graph. A path in a graph is called non-branching if in(v) = out(v) = 1 for each intermediate node v of this path, i.e., for each node except possibly the starting and ending node of a path. A maximal non-branching path is a non-branching path that cannot be extended into a longer non-branching path. We are interested in these paths because the strings of nucleotides that they spell out must be present in any assembly with a given k-mer composition. For this reason, contigs correspond to strings spelled by maximal non-branching paths in the de Bruijn graph. "
   ]
  },
  {
   "cell_type": "code",
   "execution_count": null,
   "metadata": {
    "collapsed": true
   },
   "outputs": [],
   "source": []
  }
 ],
 "metadata": {
  "kernelspec": {
   "display_name": "Python 3",
   "language": "python",
   "name": "python3"
  },
  "language_info": {
   "codemirror_mode": {
    "name": "ipython",
    "version": 3
   },
   "file_extension": ".py",
   "mimetype": "text/x-python",
   "name": "python",
   "nbconvert_exporter": "python",
   "pygments_lexer": "ipython3",
   "version": "3.6.7"
  }
 },
 "nbformat": 4,
 "nbformat_minor": 2
}
