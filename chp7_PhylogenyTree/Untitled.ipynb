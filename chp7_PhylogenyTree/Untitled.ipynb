{
 "cells": [
  {
   "cell_type": "markdown",
   "metadata": {},
   "source": [
    "- distance matrix must be:\n",
    "    1) symmetric\n",
    "    2) non-negative\n",
    "    3) satisfy triangle inequality\n",
    "    \n",
    "- __tree__: connected graph without cycles\n",
    "\n",
    "- __leaves__: nodes having degree 1\n",
    "\n",
    "- __internal nodes__: nodes with degree > 1\n",
    "\n",
    "- __parent(j)__: the only node connected to j by an edge\n",
    "\n",
    "- __limb__ : an edge connecting a leaf to its parent\n",
    "\n",
    "Prove:\n",
    "- every tree with at least 2 nodes has at least 2 leaves\n",
    "\n",
    "- every tree with n nodes has n-1 edges\n",
    "\n",
    "- __rooted tree__: a tree that has one node called __root__ and the edges in the tree automatically inherit an implicit orientation away from the root\n",
    "\n",
    "- __unrooted tree__: tree without a designated root"
   ]
  },
  {
   "cell_type": "markdown",
   "metadata": {},
   "source": [
    "In this chapter, we define the length of a path in a tree as the sum of the lengths of its edges (rather than the number of edges on the path). As a result, the evolutionary distance between two present-day species corresponding to leaves i and j in a tree T is equal to the length of the unique path connecting i and j, denoted $d_{i, j}(T)$.\n",
    "\n",
    "__Distance Between Leaves Problem__\n",
    "\n",
    "Compute the distances between leaves in a weighted tree.\n",
    "\n",
    "__Given__: An integer n followed by the adjacency list of a weighted tree with n leaves.\n",
    "\n",
    "\n",
    "__Return__: A space-separated n x n (di, j), where di, j is the length of the path between leaves i and j."
   ]
  },
  {
   "cell_type": "code",
   "execution_count": 1,
   "metadata": {
    "collapsed": true
   },
   "outputs": [],
   "source": [
    "import queue\n",
    "#7a dist between leaves\n",
    "# https://github.com/egeulgen/Bioinformatics_Textbook_Track/blob/master/solutions/BA7A.py\n",
    "class Node:\n",
    "    def __init__(self, label):\n",
    "        self.label = label\n",
    "        self.linked_nodes = set()\n",
    "\n",
    "class Tree:\n",
    "    def __init__(self):\n",
    "        self.nodes_dict = {}\n",
    "    \n",
    "    def add_node(self, label):\n",
    "        if label in self.nodes_dict:\n",
    "            return self.nodes_dict[label]\n",
    "    \n",
    "        node = Node(label)\n",
    "        self.nodes_dict[label] = node\n",
    "        return node\n",
    "\n",
    "    # function to construct tree from adj list\n",
    "    def construct_tree(self, adj_list):\n",
    "        for line in adj_list:\n",
    "            labels, weight = line.split(':')\n",
    "            weight = int(weight)\n",
    "            label1, label2 = [int(x) for x in labels.split('->')]\n",
    "            \n",
    "            node1 = self.add_node(label1)\n",
    "            node2 = self.add_node(label2)\n",
    "            \n",
    "            node1.linked_nodes.add((label2, weight))\n",
    "            node2.linked_nodes.add((label1, weight))\n",
    "            \n",
    "    def distance(self, label_a, label_b):\n",
    "        visited = [False] * len(self.nodes_dict)\n",
    "        distance = [0] * len(self.nodes_dict)\n",
    "        \n",
    "        Q = queue.Queue()\n",
    "        distance[label_a] = 0\n",
    "        \n",
    "        Q.put(label_a)\n",
    "        visited[label_a] = True\n",
    "        while not Q.empty():\n",
    "            x = Q.get()\n",
    "            for label2, weight in self.nodes_dict[x].linked_nodes:\n",
    "                if not visited[label2]:\n",
    "                    distance[label2] = distance[x] + weight\n",
    "                    Q.put(label2)\n",
    "                    visited[label2] = True\n",
    "        return distance[label_b]\n",
    "    \n",
    "    def distance_matrix_between_leaves(self, n_leaves):\n",
    "        distance_mat = [[0 for _ in range(n_leaves)] for _ in range(n_leaves)]\n",
    "        for i in range(n_leaves):\n",
    "            for j in range(n_leaves):\n",
    "                distance_mat[i][j] = self.distance(i, j)\n",
    "        return distance_mat\n",
    "        "
   ]
  },
  {
   "cell_type": "code",
   "execution_count": 8,
   "metadata": {},
   "outputs": [],
   "source": [
    "test_file = 'rosalind_ba7a.txt'\n",
    "n_adj_list = []\n",
    "f = open(test_file, 'r')\n",
    "n_adj_list = f.readlines()\n",
    "\n",
    "n = int(n_adj_list[0])\n",
    "adj_list = n_adj_list[1:]\n",
    "adj_list = [edges.strip('\\n') for edges in adj_list]\n",
    "\n",
    "t = Tree()\n",
    "t.construct_tree(adj_list)\n",
    "result = t.distance_matrix_between_leaves(n)\n",
    "# for row in result:\n",
    "#     print(\" \".join(map(str, row)))"
   ]
  },
  {
   "cell_type": "code",
   "execution_count": 53,
   "metadata": {},
   "outputs": [
    {
     "data": {
      "text/plain": [
       "{(0, 0): 0,\n",
       " (0, 1): 13,\n",
       " (0, 2): 21,\n",
       " (0, 3): 22,\n",
       " (1, 0): 13,\n",
       " (1, 1): 0,\n",
       " (1, 2): 12,\n",
       " (1, 3): 13,\n",
       " (2, 0): 21,\n",
       " (2, 1): 12,\n",
       " (2, 2): 0,\n",
       " (2, 3): 13,\n",
       " (3, 0): 22,\n",
       " (3, 1): 13,\n",
       " (3, 2): 13,\n",
       " (3, 3): 0}"
      ]
     },
     "execution_count": 53,
     "metadata": {},
     "output_type": "execute_result"
    }
   ],
   "source": [
    "import networkx as nx\n",
    "adj_list_nx = []\n",
    "for weighted_edges in adj_list:\n",
    "    node_1 = int(weighted_edges.split('->')[0])\n",
    "    node_2 = int(weighted_edges.split(':')[0].split('->')[1])\n",
    "    weight = int(weighted_edges.split(':')[1])\n",
    "    adj_list_nx.append((node_1, node_2, weight))\n",
    "#print(adj_list_nx[:5])\n",
    "\n",
    "test_edges = [(0, 4, 11), (1, 4, 2), (2, 5, 6), (3, 5, 7), (4, 0, 11), (4, 1, 2), (4, 5, 4), \n",
    "             (5, 4, 4), (5, 3, 7), (5, 2, 6)]\n",
    "graph = nx.DiGraph()\n",
    "\n",
    "# add weighted edges\n",
    "graph.add_weighted_edges_from(test_edges)\n",
    "#paths = sorted(nx.all_simple_paths(graph))\n",
    "\n",
    "# get leaves\n",
    "leaves = [x for x in graph.nodes() if graph.out_degree(x) == 1 and graph.in_degree(x) ==1]\n",
    "\n",
    "# create edges from leaves\n",
    "edges_from_leaves = list(set([(i, j) for i in leaves for j in leaves]))\n",
    "paths_from_leaves = {}\n",
    "for edges in edges_from_leaves:\n",
    "    paths_from_leaves[edges] = list(nx.all_simple_edge_paths(graph, source = edges[0], target = edges[1]))\n",
    "\n",
    "weights_from_leaves = {edges: 0 for edges in paths_from_leaves}\n",
    "for edges in paths_from_leaves:\n",
    "    if paths_from_leaves[edges] == []:\n",
    "        weights_from_leaves[edges] = 0\n",
    "    else:\n",
    "        connecting_edges = paths_from_leaves[edges][0]\n",
    "        for edge in connecting_edges:\n",
    "            weights_from_leaves[edges] += graph.get_edge_data(edge[0], edge[1])['weight']\n",
    "weights_from_leaves\n"
   ]
  },
  {
   "cell_type": "markdown",
   "metadata": {},
   "source": [
    "A weighted unrooted tree T fits a distance matrix D if $d_{i,j}(T) = D_{i,j}$ for every pair of leaves $i$ and $j$\n",
    "\n",
    "a distance matrix is __additive__ if there exists a tree that fits this matrix and non-additive otherwise\n",
    "\n",
    "a path in a tree is __non-branching__ if every node other than the beginning and ending node of the path has degree equal to 2\n",
    "\n",
    "a non-branching path is __maximal__ if it is not a subpath of an even longer non-branching path\n",
    "\n",
    "a __simple tree__ is a tree whose nodes's degree not equal to 2, other than the beginning and ending node of the path\n",
    "\n",
    "--> If a matrix is additive, then there exists a _unique_ simple tree fitting this matrix\n",
    "\n",
    "Denote $Tree(D)$ as the simple tree fitting the additive distance matrix D\n",
    "\n",
    "* Prove that every simple tree with n leaves has at most n-2 internal nodes"
   ]
  },
  {
   "cell_type": "markdown",
   "metadata": {
    "collapsed": true
   },
   "source": [
    "__Distance-Based Phylogeny Problem:__\n",
    "\n",
    "Reconstruct an evolutionary tree fitting a distance matrix.\n",
    "\n",
    "__Input__: A distance matrix.\n",
    "\n",
    "__Output__: A tree fitting this distance matrix.\n",
    "\n",
    "natural 1st step in solving this problem would be to ensure that the 2 closest species wrt the distance matrix D correspond to __neighbors__ in Tree(D). ie the min value of $D_{i, j}$ should correspond to leaves i and j having the same parent\n",
    "\n",
    "__off-diagonal__ is the minimum element of a matrix\n",
    "\n",
    "__Theorem__: every simple tree with at least three nodes has a pair of neighboring trees (proof in pg 12)\n",
    "\n",
    "for neighboring leaves i and j sharing a parent node m, for every other leaf k in the tree:\n",
    "\n",
    "$d_{k, m} = \\frac{D_{i,k} + D_{j, k} - D_{i, j}}{2}$\n",
    "\n",
    "in the case when deg(m) = 3, removing leaves i and j from the tree turns m into a leaf and thus reduces the total numbre of leaves --> equivalent to removing rows i and j as well as columns i and j from D, then adding a new row and column corresponding to their parent m, where the distances from m to other leaves are computed according to the above formula\n",
    "\n",
    "--> recursive algo for the distance-based phylogeny problem:\n",
    "- find a pair of neighboring leaves i and j by selecting the min $D_{i, j}$ in the distance matrix\n",
    "\n",
    "- replace i and j with their parent, and recompute the distances from this parent to all other leaves as described above\n",
    "\n",
    "- solve the distance-based phylogeny problem for the smaller tree\n",
    "\n",
    "- add the previously removed leaves i and j back to the tree\n",
    "\n",
    "yet this will fail!\n",
    "\n",
    "rather than looking for a pair of neighbors in Tree(D), we will instead reduce the size of the tree by trimming its leaves one at a time"
   ]
  },
  {
   "cell_type": "markdown",
   "metadata": {},
   "source": [
    "- given a leaf j in a tree, denote $LIMBLENGTH(J)$ as the length of the limb connecting j with its parent\n",
    "\n",
    "- edges that aren't limb must connect two internal nodes and are called __internal edges__\n",
    "\n",
    "__Limb length theorem__: Given an additive matrix D and a leaf j, \n",
    "$LIMBLENGTH(j) = min(\\frac{D_{i, j} + D_{j, k} - D_{i, k}}{2})$ over all leaves i and k\n",
    "\n",
    "__Limb Length Problem__\n",
    "\n",
    "Find the limb length for a leaf in a tree.\n",
    "\n",
    "__Given__: An integer n, followed by an integer j between 0 and n - 1, followed by a space-separated additive distance matrix D (whose elements are integers).\n",
    "\n",
    "__Return__: The limb length of the leaf in Tree(D) corresponding to row j of this distance matrix (use 0-based indexing)."
   ]
  },
  {
   "cell_type": "code",
   "execution_count": 8,
   "metadata": {
    "collapsed": true
   },
   "outputs": [],
   "source": [
    "# 7b find limb length\n",
    "\n",
    "def LimbLength(j, dist_mat):\n",
    "    other_leaves = [i for i in range(len(dist_mat)) if i != j]\n",
    "    \n",
    "    limb_length = []\n",
    "    \n",
    "    for idx_i in range(len(other_leaves) - 1):\n",
    "        for idx_k in range(idx_i, len(other_leaves)):\n",
    "            i = other_leaves[idx_i]\n",
    "            k = other_leaves[idx_k]\n",
    "            limb_length.append((dist_mat[i][j] + dist_mat[j][k] - dist_mat[i][k])/2)\n",
    "\n",
    "    return min(limb_length)"
   ]
  },
  {
   "cell_type": "code",
   "execution_count": 10,
   "metadata": {},
   "outputs": [
    {
     "data": {
      "text/plain": [
       "2.0"
      ]
     },
     "execution_count": 10,
     "metadata": {},
     "output_type": "execute_result"
    }
   ],
   "source": [
    "n = 4\n",
    "j = 1\n",
    "dist_mat = [[0, 13, 21, 22], [13, 0,12,13], [21,12,0,13], [22,13,13,0]]\n",
    "\n",
    "LimbLength(j, dist_mat)"
   ]
  },
  {
   "cell_type": "code",
   "execution_count": 12,
   "metadata": {},
   "outputs": [
    {
     "data": {
      "text/plain": [
       "289.0"
      ]
     },
     "execution_count": 12,
     "metadata": {},
     "output_type": "execute_result"
    }
   ],
   "source": [
    "test_file = 'rosalind_ba7b.txt'\n",
    "n_j_dist_mat = open(test_file, 'r').read().splitlines()\n",
    "n = int(n_j_dist_mat[0])\n",
    "j = int(n_j_dist_mat[1])\n",
    "dist_mat = [[int(x) for x in line.split()] for line in n_j_dist_mat[2:]]\n",
    "\n",
    "LimbLength(j, dist_mat)"
   ]
  },
  {
   "cell_type": "markdown",
   "metadata": {
    "collapsed": true
   },
   "source": [
    "__Additive Phylogeny Problem__\n",
    "\n",
    "Construct the simple tree fitting an additive matrix.\n",
    "\n",
    "__Given__: n and a tab-delimited n x n additive matrix.\n",
    "\n",
    "__Return__: A weighted adjacency list for the simple tree fitting this matrix.\n",
    "\n",
    "Note on formatting: The adjacency list must have consecutive integer node labels starting from 0. The n leaves must be labeled 0, 1, ..., n-1 in order of their appearance in the distance matrix. Labels for internal nodes may be labeled in any order but must start from n and increase consecutively."
   ]
  },
  {
   "cell_type": "code",
   "execution_count": null,
   "metadata": {
    "collapsed": true
   },
   "outputs": [],
   "source": [
    "def AdditivePhylogeny(D, n):\n",
    "    if n == 2:\n",
    "        return D[1][2]\n",
    "    \n",
    "    limbLength = LimbLength(n, D)\n",
    "    for j in range(1, n-1):\n",
    "        D[j][n] = D[j][n] - limbLength\n",
    "        D[n][j] = D[j][n]"
   ]
  },
  {
   "cell_type": "code",
   "execution_count": null,
   "metadata": {
    "collapsed": true
   },
   "outputs": [],
   "source": []
  }
 ],
 "metadata": {
  "kernelspec": {
   "display_name": "Python 3",
   "language": "python",
   "name": "python3"
  },
  "language_info": {
   "codemirror_mode": {
    "name": "ipython",
    "version": 3
   },
   "file_extension": ".py",
   "mimetype": "text/x-python",
   "name": "python",
   "nbconvert_exporter": "python",
   "pygments_lexer": "ipython3",
   "version": "3.6.7"
  }
 },
 "nbformat": 4,
 "nbformat_minor": 2
}
