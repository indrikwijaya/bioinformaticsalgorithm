{
 "cells": [
  {
   "cell_type": "markdown",
   "metadata": {},
   "source": [
    "- with the rise of MRSA at hand, developing new antibiotics represents a central challenge to modern medicine\n",
    "- a difficult problem in antibiotics research is that of sequencing newly discovered antibiotics, or determining the order of amino acids making up the antibiotic peptide"
   ]
  },
  {
   "cell_type": "code",
   "execution_count": 149,
   "metadata": {
    "collapsed": true
   },
   "outputs": [],
   "source": [
    "## 4a Translate an RNA string into an amino acid string\n",
    "table = { \n",
    "        'AUA':'I', 'AUC':'I', 'AUU':'I', 'AUG':'M', \n",
    "        'ACA':'T', 'ACC':'T', 'ACG':'T', 'ACU':'T', \n",
    "        'AAC':'N', 'AAU':'N', 'AAA':'K', 'AAG':'K', \n",
    "        'AGC':'S', 'AGU':'S', 'AGA':'R', 'AGG':'R',                  \n",
    "        'CUA':'L', 'CUC':'L', 'CUG':'L', 'CUU':'L', \n",
    "        'CCA':'P', 'CCC':'P', 'CCG':'P', 'CCU':'P', \n",
    "        'CAC':'H', 'CAU':'H', 'CAA':'Q', 'CAG':'Q', \n",
    "        'CGA':'R', 'CGC':'R', 'CGG':'R', 'CGU':'R', \n",
    "        'GUA':'V', 'GUC':'V', 'GUG':'V', 'GUU':'V', \n",
    "        'GCA':'A', 'GCC':'A', 'GCG':'A', 'GCU':'A', \n",
    "        'GAC':'D', 'GAU':'D', 'GAA':'E', 'GAG':'E', \n",
    "        'GGA':'G', 'GGC':'G', 'GGG':'G', 'GGU':'G', \n",
    "        'UCA':'S', 'UCC':'S', 'UCG':'S', 'UCU':'S', \n",
    "        'UUC':'F', 'UUU':'F', 'UUA':'L', 'UUG':'L', \n",
    "        'UAC':'Y', 'UAU':'Y', 'UAA':'_', 'UAG':'_', \n",
    "        'UGC':'C', 'UGU':'C', 'UGA':'_', 'UGG':'W', \n",
    "    }\n",
    "\n",
    "def Translate(rna):\n",
    "    codons = [rna[i:i+3] for i in range(0, len(rna), 3)]\n",
    "    amino_acids = ''.join([table[codon] for codon in codons])\n",
    "    if amino_acids[-1] == '_':\n",
    "        amino_acids = amino_acids[:-1]\n",
    "    return amino_acids"
   ]
  },
  {
   "cell_type": "code",
   "execution_count": 2,
   "metadata": {},
   "outputs": [
    {
     "data": {
      "text/plain": [
       "'MAMAPRTEINSTRING'"
      ]
     },
     "execution_count": 2,
     "metadata": {},
     "output_type": "execute_result"
    }
   ],
   "source": [
    "Translate('AUGGCCAUGGCGCCCAGAACUGAGAUCAAUAGUACCCGUAUUAACGGGUGA')"
   ]
  },
  {
   "cell_type": "code",
   "execution_count": null,
   "metadata": {
    "collapsed": true
   },
   "outputs": [],
   "source": [
    "test_file = 'rosalind_ba4a.txt'\n",
    "with open(test_file, 'r') as reader:\n",
    "    rna = reader.readline().strip('\\n')\n",
    "Translate(rna)"
   ]
  },
  {
   "cell_type": "markdown",
   "metadata": {},
   "source": [
    "We say that a DNA string _Pattern_ encodes an amino acid string _Peptide_ if the RNA string transcribed from either _Pattern_ or its reverse complement _Pattern_ translates into Peptide. For example, the DNA string __GAAACT__ is transcribed into __GAAACU__ and translated into __ET__. The reverse complement of this DNA string, __AGTTTC__, is transcribed into __AGUUUC__ and translated into __SF__. Thus, __GAAACT__ encodes both __ET__ and __SF__"
   ]
  },
  {
   "cell_type": "code",
   "execution_count": 150,
   "metadata": {
    "collapsed": true
   },
   "outputs": [],
   "source": [
    "# 4b find substrings of a genome encoding a given amino acid string\n",
    "base_comp = {'A': 'U', 'G': 'C', 'C': 'G', 'U': 'A'}\n",
    "\n",
    "def ReverseComplement(rna):\n",
    "    comp = ''.join([base_comp[base] for base in rna])\n",
    "    return comp[-1::-1]\n",
    "\n",
    "def FindSubstring(dna, peptide):\n",
    "    rna = dna.replace('T', 'U')\n",
    "    \n",
    "    len_codon = 3*len(peptide)\n",
    "    \n",
    "    substrings = []\n",
    "    def getSubstring(rna, peptide):\n",
    "        substrings = []\n",
    "        for i in range(0, len(rna), 3):\n",
    "            if len(rna[i:i+len_codon]) < len_codon:\n",
    "                break             \n",
    "            if Translate(rna[i:i+len_codon]) == peptide:\n",
    "                substrings.append(rna[i:i+len_codon])\n",
    "            if Translate(ReverseComplement(rna[i:i+len_codon])) == peptide:\n",
    "                substrings.append(rna[i:i+len_codon])\n",
    "\n",
    "        return [substring.replace('U', 'T') for substring in substrings]\n",
    "\n",
    "    for start in range(3):\n",
    "        substrings += getSubstring(rna[start:], peptide)\n",
    "    return substrings\n"
   ]
  },
  {
   "cell_type": "code",
   "execution_count": 4,
   "metadata": {},
   "outputs": [
    {
     "data": {
      "text/plain": [
       "['ATGGCC', 'ATGGCC', 'GGCCAT']"
      ]
     },
     "execution_count": 4,
     "metadata": {},
     "output_type": "execute_result"
    }
   ],
   "source": [
    "FindSubstring('ATGGCCATGGCCCCCAGAACTGAGATCAATAGTACCCGTATTAACGGGTGA', 'MA')"
   ]
  },
  {
   "cell_type": "code",
   "execution_count": null,
   "metadata": {
    "collapsed": true
   },
   "outputs": [],
   "source": [
    "test_file = 'rosalind_ba4b.txt'\n",
    "with open(test_file, 'r') as reader:\n",
    "    dna = reader.readline().strip('\\n')\n",
    "    peptide = reader.readline().strip('\\n')\n",
    "for string in FindSubstring(dna, peptide):\n",
    "    print(string)"
   ]
  },
  {
   "cell_type": "code",
   "execution_count": 52,
   "metadata": {},
   "outputs": [
    {
     "data": {
      "text/plain": [
       "'MA'"
      ]
     },
     "execution_count": 52,
     "metadata": {},
     "output_type": "execute_result"
    }
   ],
   "source": [
    "table['AUG'] + table['GCC']"
   ]
  },
  {
   "cell_type": "markdown",
   "metadata": {},
   "source": [
    "In 1969, Fritz Lipmann (another Nobel laureate) demonstrated that tyrocidines and gramicidins are __non-ribosomal peptides (NRPs)__, synthesized not by the ribosome, but by a giant protein called NRP synthetase. This enzyme pieces together antibiotic peptides without any reliance on RNA or the genetic code\n",
    "\n",
    "The reason why many NRPs have pharmaceutical applications is that they have been optimized by eons of evolution as \"molecular bullets\" that bacteria and fungi use to kill their enemies. If these enemies happen to be pathogens, researchers are eager to borrow these bullets as antibacterial drugs. However, NRPs are not limited to antibiotics: many of them represent anti-tumor agents and immunosuppressors, while others are used by bacteria to communicate with other cells.\n",
    "\n",
    "No of subpeptides in a cyclic peptide of lenth n have $$ n(n-1) + 2 $$"
   ]
  },
  {
   "cell_type": "code",
   "execution_count": 151,
   "metadata": {
    "collapsed": true
   },
   "outputs": [],
   "source": [
    "mass_table = {'G': 57, 'A': 71, 'S': 87, 'P': 97, 'V': 99, 'T': 101, 'C': 103, 'I': 113,\n",
    "              'L': 113, 'N': 114, 'D': 115, 'K': 128, 'Q': 128, 'E': 129, 'M': 131, 'H': 137,\n",
    "              'F': 147, 'R': 156, 'Y': 163, 'W': 186}"
   ]
  },
  {
   "cell_type": "code",
   "execution_count": 152,
   "metadata": {},
   "outputs": [
    {
     "name": "stdout",
     "output_type": "stream",
     "text": [
      "[0, 113, 114, 128, 129, 227, 242, 242, 257, 355, 356, 370, 371, 484]\n"
     ]
    },
    {
     "data": {
      "text/plain": [
       "[0, 113, 114, 128, 129, 227, 242, 242, 257, 355, 356, 370, 371, 484]"
      ]
     },
     "execution_count": 152,
     "metadata": {},
     "output_type": "execute_result"
    }
   ],
   "source": [
    "from functools import reduce\n",
    "\n",
    "# 4c get theoretical spectrum from a given peptide\n",
    "def getMass(peptide):\n",
    "    return reduce(lambda a, b: a+b, [mass_table[amino_acid] for amino_acid in peptide])\n",
    "\n",
    "def GenerateTheoreticalSpectrum(peptide):\n",
    "\n",
    "    subpeptides = []\n",
    "    for i in range(len(peptide)-1):\n",
    "        string = peptide + peptide[:i]\n",
    "        for j in range(0, len(string)):\n",
    "            if len(string[j:i + j + 1]) < i+1:\n",
    "                break\n",
    "            subpeptides.append(string[j:i+j+1])\n",
    "    return [0] + sorted([getMass(peptide) for peptide in subpeptides]) + [getMass(peptide)]\n",
    "        \n",
    "print(GenerateTheoreticalSpectrum('LEQN'))\n",
    "GenerateTheoreticalSpectrum('NQEL')"
   ]
  },
  {
   "cell_type": "code",
   "execution_count": 153,
   "metadata": {},
   "outputs": [
    {
     "data": {
      "text/plain": [
       "True"
      ]
     },
     "execution_count": 153,
     "metadata": {},
     "output_type": "execute_result"
    }
   ],
   "source": [
    "extra_test = ' '.join([str(mass) for mass in GenerateTheoreticalSpectrum('IAQMLFYCKVATN')])\n",
    "output = '0 71 71 99 101 103 113 113 114 128 128 131 147 163 170 172 184 199 215 227 227 231 244 259 260 266 271 286 298 298 310 312 328 330 330 372 385 391 394 399 399 399 401 413 423 426 443 443 470 493 498 502 513 519 526 527 541 554 556 557 564 569 590 598 616 626 640 654 657 658 665 670 682 697 697 703 711 729 729 753 753 771 779 785 785 800 812 817 824 825 828 842 856 866 884 892 913 918 925 926 928 941 955 956 963 969 980 984 989 1012 1039 1039 1056 1059 1069 1081 1083 1083 1083 1088 1091 1097 1110 1152 1152 1154 1170 1172 1184 1184 1196 1211 1216 1222 1223 1238 1251 1255 1255 1267 1283 1298 1310 1312 1319 1335 1351 1354 1354 1368 1369 1369 1379 1381 1383 1411 1411 1482'\n",
    "\n",
    "extra_test == output"
   ]
  },
  {
   "cell_type": "code",
   "execution_count": 250,
   "metadata": {},
   "outputs": [
    {
     "data": {
      "text/plain": [
       "'0 57 57 87 87 97 103 113 115 115 128 129 144 147 154 156 172 184 186 202 204 216 228 231 234 241 241 257 259 285 291 301 315 319 328 331 331 342 344 356 358 360 372 388 388 406 413 418 443 445 457 459 469 471 473 475 475 503 505 514 516 532 546 556 560 572 586 588 590 592 599 603 629 643 647 647 659 661 675 689 700 702 703 714 732 744 746 748 760 762 771 787 790 806 815 817 829 831 833 845 863 874 875 877 888 902 916 918 930 930 934 948 974 978 985 987 989 991 1005 1017 1021 1031 1045 1061 1063 1072 1074 1102 1102 1104 1106 1108 1118 1120 1132 1134 1159 1164 1171 1189 1189 1205 1217 1219 1221 1233 1235 1246 1246 1249 1258 1262 1276 1286 1292 1318 1320 1336 1336 1343 1346 1349 1361 1373 1375 1391 1393 1405 1421 1423 1430 1433 1448 1449 1462 1462 1464 1474 1480 1490 1490 1520 1520 1577'"
      ]
     },
     "execution_count": 250,
     "metadata": {},
     "output_type": "execute_result"
    }
   ],
   "source": [
    "test_file = 'rosalind_ba4c.txt'\n",
    "with open(test_file, 'r') as reader:\n",
    "    peptide = reader.readline().strip('\\n')\n",
    "\n",
    "' '.join([str(mass) for mass in GenerateTheoreticalSpectrum(peptide)])"
   ]
  },
  {
   "cell_type": "code",
   "execution_count": 154,
   "metadata": {},
   "outputs": [
    {
     "data": {
      "text/plain": [
       "3548135554209773"
      ]
     },
     "execution_count": 154,
     "metadata": {},
     "output_type": "execute_result"
    }
   ],
   "source": [
    "# 4d Compute the no of peptides of given total mass\n",
    "def cnt(a, k, n):\n",
    "    if k == 1:\n",
    "        return 1 if n % a[0] == 0 else 0\n",
    "    return sum(cnt(a, k - 1, n - i * a[k - 1]) for i in range(0, int(n / a[k - 1]) + 1))\n",
    "\n",
    "#print(cnt(list(mass_table.values()), len(mass_table), 1024))\n",
    "\n",
    "def CountPeptide(mass):\n",
    "    NumPeptides = {}\n",
    "    masses = list(set(mass_table.values()))\n",
    "    for i in range(57):\n",
    "        NumPeptides[i] = 0\n",
    "    \n",
    "    for mass in range(57, mass + 1):\n",
    "        NumPeptides[mass] = masses.count(mass)\n",
    "        for int_mass in masses:\n",
    "            if mass >= int_mass:\n",
    "                if NumPeptides[mass - int_mass] > 0:\n",
    "                    NumPeptides[mass] += NumPeptides[mass - int_mass]\n",
    "    return NumPeptides[mass]\n",
    "        \n",
    "CountPeptide(1024)\n",
    "CountPeptide(1475)"
   ]
  },
  {
   "cell_type": "code",
   "execution_count": 175,
   "metadata": {
    "collapsed": true
   },
   "outputs": [],
   "source": [
    "def LinearSpectrum(peptide):\n",
    "    prefixMass = [0]*(len(peptide))\n",
    "    for i in range(len(peptide)):\n",
    "        for amino_acid in mass_table:\n",
    "            if amino_acid == peptide[i]:\n",
    "                prefixMass[i] = prefixMass[i-1] + mass_table[amino_acid]\n",
    "    prefixMass = [0] + prefixMass\n",
    "    #print(prefixMass)\n",
    "    linear_spectrum = [0]\n",
    "    for i in range(0, len(peptide)):\n",
    "        for j in range(i+1, len(peptide)+1):\n",
    "            #print(i, j, peptide[i:j])\n",
    "            linear_spectrum.append(prefixMass[j] - prefixMass[i])\n",
    "    \n",
    "    return sorted(linear_spectrum)"
   ]
  },
  {
   "cell_type": "code",
   "execution_count": 176,
   "metadata": {},
   "outputs": [
    {
     "data": {
      "text/plain": [
       "[0, 113, 114, 128, 129, 242, 242, 257, 370, 371, 484]"
      ]
     },
     "execution_count": 176,
     "metadata": {},
     "output_type": "execute_result"
    }
   ],
   "source": [
    "LinearSpectrum('NQEL')"
   ]
  },
  {
   "cell_type": "code",
   "execution_count": null,
   "metadata": {},
   "outputs": [],
   "source": [
    "# 4j\n",
    "test_file = 'rosalind_ba4j.txt'\n",
    "with open(test_file, 'r') as reader:\n",
    "    peptide = reader.readline().strip('\\n')\n",
    "' '.join([str(aa) for aa in LinearSpectrum(peptide)])"
   ]
  },
  {
   "cell_type": "code",
   "execution_count": 157,
   "metadata": {
    "collapsed": true
   },
   "outputs": [],
   "source": [
    "def CyclicSpectrum(peptide):\n",
    "    prefixMass = [0]*(len(peptide))\n",
    "    for i in range(len(peptide)):\n",
    "        for amino_acid in mass_table:\n",
    "            if amino_acid == peptide[i]:\n",
    "                prefixMass[i] = prefixMass[i-1] + mass_table[amino_acid]\n",
    "    prefixMass = [0] + prefixMass\n",
    "                \n",
    "    peptideMass = prefixMass[len(peptide)]\n",
    "    cyclic_spectrum = [0]\n",
    "    for i in range(len(peptide)):\n",
    "        for j in range(i+1, len(peptide)+1):\n",
    "            cyclic_spectrum.append(prefixMass[j] - prefixMass[i])\n",
    "            if i > 0 and j < len(peptide):\n",
    "                cyclic_spectrum.append(peptideMass - (prefixMass[j] - prefixMass[i]))\n",
    "    \n",
    "    return sorted(cyclic_spectrum)"
   ]
  },
  {
   "cell_type": "code",
   "execution_count": 158,
   "metadata": {},
   "outputs": [
    {
     "data": {
      "text/plain": [
       "[0, 113, 114, 128, 129, 227, 242, 242, 257, 355, 356, 370, 371, 484]"
      ]
     },
     "execution_count": 158,
     "metadata": {},
     "output_type": "execute_result"
    }
   ],
   "source": [
    "CyclicSpectrum('NQEL')"
   ]
  },
  {
   "cell_type": "markdown",
   "metadata": {},
   "source": [
    "__Cyclopeptide Sequencing Problem__: Given an ideal spectrum, find a cyclic peptide whose theoretical spectrum matches the experimental spectrum.\n",
    "\n",
    "__Input__: A collection of (possibly repeated) integers Spectrum corresponding to an ideal spectrum.\n",
    "\n",
    "__Output__: An amino acid string Peptide such that Cyclospectrum(Peptide) = Spectrum (if such a string exists)."
   ]
  },
  {
   "cell_type": "markdown",
   "metadata": {},
   "source": [
    "No of subpeptides a linear peptide of given length $n$ have: $$\\frac{n(n+1)}{2} + 1$$"
   ]
  },
  {
   "cell_type": "markdown",
   "metadata": {},
   "source": [
    "Given an experimental spectrum _Spectrum_ of a cyclic peptide, a linear peptide is __consistent__ with _Spectrum_ if every mass in its theoretical spectrum is contained in _Spectrum_. If a mass appears more than once in the theoretical spectrum of the linear peptide, then it must appear at least that many times in _Spectrum_ in order for the linear peptide to be consistent with _Spectrum_. For example, a linear peptide can still be consistent with the theoretical spectrum of NQEL if the peptide’s spectrum contains 242 twice. But it cannot be consistent with the theoretical spectrum of NQEL if its spectrum contains 113 twice.\n",
    "\n",
    "The key to our new algorithm is that every linear subpeptide of a cyclic peptide Peptide is consistent with _Cyclospectrum(Peptide)_. Thus, to solve the Cyclopeptide Sequencing Problem for Spectrum, we can safely ban all peptides that are inconsistent with _Spectrum_ from the growing set Peptides, which powers the bounding step that we described above.\n",
    "\n",
    "What about the branching step? Given the current collection of linear peptides Peptides, define _Expand(Peptides)_ as a new collection containing all possible extensions of peptides in Peptides by a single amino acid mass."
   ]
  },
  {
   "cell_type": "code",
   "execution_count": 159,
   "metadata": {
    "collapsed": true
   },
   "outputs": [],
   "source": [
    "# 4e find a cyclic peptide with theoretical spectrum matching an ideal spectrum\n",
    "\n",
    "def expand(l):\n",
    "    lc = l[:] # list copy\n",
    "    for i in lc:\n",
    "        l.remove(i)\n",
    "        for m in mass_table.values():\n",
    "            temp = i[:] # list copy\n",
    "            temp.append(m)\n",
    "            l.append(temp)\n",
    "            \n",
    "def cut_peptide(peptide):\n",
    "    result = []\n",
    "    for cut in range(1, len(peptide)): # cut size\n",
    "        for i in range(len(peptide) - cut):\n",
    "            result.append(peptide[i:i + cut])\n",
    "            result.append(peptide[i + cut:] + peptide[:i]) # cyclic peptide\n",
    "    result.append(peptide)\n",
    "    \n",
    "    return result\n",
    "\n",
    "def is_consistent(peptide, spectrum):\n",
    "    spectrum_copy = spectrum[:]\n",
    "    for subpeptide in peptide:\n",
    "        if subpeptide not in spectrum_copy:\n",
    "            return False\n",
    "        else:\n",
    "            spectrum_copy.remove(subpeptide)\n",
    "    return True\n",
    "\n",
    "def CycloPeptideSequencing(spectrum):\n",
    "    peptides = [[]]\n",
    "    while len(peptides) != 0:\n",
    "        expand(peptides)\n",
    "        for peptide in peptides:\n",
    "            p_spectrum = [0] + [sum(s) for s in cut_peptide(peptide)]\n",
    "            if max(p_spectrum) == max(spectrum):\n",
    "                if sorted(p_spectrum) == spectrum:\n",
    "                    print('-'.join([str(x) for x in peptide]))\n",
    "                    peptides.remove(peptide)\n",
    "            else:\n",
    "                if not is_consistent(peptide, spectrum):\n",
    "                    peptides.remove(peptide)"
   ]
  },
  {
   "cell_type": "code",
   "execution_count": 183,
   "metadata": {},
   "outputs": [
    {
     "ename": "KeyboardInterrupt",
     "evalue": "",
     "output_type": "error",
     "traceback": [
      "\u001b[0;31m---------------------------------------------------------------------------\u001b[0m",
      "\u001b[0;31mKeyboardInterrupt\u001b[0m                         Traceback (most recent call last)",
      "\u001b[0;32m<ipython-input-183-a9c95104b696>\u001b[0m in \u001b[0;36m<module>\u001b[0;34m()\u001b[0m\n\u001b[0;32m----> 1\u001b[0;31m \u001b[0mCycloPeptideSequencing\u001b[0m\u001b[0;34m(\u001b[0m\u001b[0;34m'0 113 128 186 241 299 314 427'\u001b[0m\u001b[0;34m.\u001b[0m\u001b[0msplit\u001b[0m\u001b[0;34m(\u001b[0m\u001b[0;34m' '\u001b[0m\u001b[0;34m)\u001b[0m\u001b[0;34m)\u001b[0m\u001b[0;34m\u001b[0m\u001b[0;34m\u001b[0m\u001b[0m\n\u001b[0m",
      "\u001b[0;32m<ipython-input-159-cb07551abcb9>\u001b[0m in \u001b[0;36mCycloPeptideSequencing\u001b[0;34m(spectrum)\u001b[0m\n\u001b[1;32m     32\u001b[0m     \u001b[0mpeptides\u001b[0m \u001b[0;34m=\u001b[0m \u001b[0;34m[\u001b[0m\u001b[0;34m[\u001b[0m\u001b[0;34m]\u001b[0m\u001b[0;34m]\u001b[0m\u001b[0;34m\u001b[0m\u001b[0;34m\u001b[0m\u001b[0m\n\u001b[1;32m     33\u001b[0m     \u001b[0;32mwhile\u001b[0m \u001b[0mlen\u001b[0m\u001b[0;34m(\u001b[0m\u001b[0mpeptides\u001b[0m\u001b[0;34m)\u001b[0m \u001b[0;34m!=\u001b[0m \u001b[0;36m0\u001b[0m\u001b[0;34m:\u001b[0m\u001b[0;34m\u001b[0m\u001b[0;34m\u001b[0m\u001b[0m\n\u001b[0;32m---> 34\u001b[0;31m         \u001b[0mexpand\u001b[0m\u001b[0;34m(\u001b[0m\u001b[0mpeptides\u001b[0m\u001b[0;34m)\u001b[0m\u001b[0;34m\u001b[0m\u001b[0;34m\u001b[0m\u001b[0m\n\u001b[0m\u001b[1;32m     35\u001b[0m         \u001b[0;32mfor\u001b[0m \u001b[0mpeptide\u001b[0m \u001b[0;32min\u001b[0m \u001b[0mpeptides\u001b[0m\u001b[0;34m:\u001b[0m\u001b[0;34m\u001b[0m\u001b[0;34m\u001b[0m\u001b[0m\n\u001b[1;32m     36\u001b[0m             \u001b[0mp_spectrum\u001b[0m \u001b[0;34m=\u001b[0m \u001b[0;34m[\u001b[0m\u001b[0;36m0\u001b[0m\u001b[0;34m]\u001b[0m \u001b[0;34m+\u001b[0m \u001b[0;34m[\u001b[0m\u001b[0msum\u001b[0m\u001b[0;34m(\u001b[0m\u001b[0ms\u001b[0m\u001b[0;34m)\u001b[0m \u001b[0;32mfor\u001b[0m \u001b[0ms\u001b[0m \u001b[0;32min\u001b[0m \u001b[0mcut_peptide\u001b[0m\u001b[0;34m(\u001b[0m\u001b[0mpeptide\u001b[0m\u001b[0;34m)\u001b[0m\u001b[0;34m]\u001b[0m\u001b[0;34m\u001b[0m\u001b[0;34m\u001b[0m\u001b[0m\n",
      "\u001b[0;32m<ipython-input-164-610f939f554c>\u001b[0m in \u001b[0;36mexpand\u001b[0;34m(peptides)\u001b[0m\n\u001b[1;32m      4\u001b[0m     \u001b[0;32mfor\u001b[0m \u001b[0mpep\u001b[0m \u001b[0;32min\u001b[0m \u001b[0mpeptides\u001b[0m\u001b[0;34m:\u001b[0m\u001b[0;34m\u001b[0m\u001b[0;34m\u001b[0m\u001b[0m\n\u001b[1;32m      5\u001b[0m         \u001b[0;32mfor\u001b[0m \u001b[0mmass\u001b[0m \u001b[0;32min\u001b[0m \u001b[0mset\u001b[0m\u001b[0;34m(\u001b[0m\u001b[0mmass_table\u001b[0m\u001b[0;34m.\u001b[0m\u001b[0mvalues\u001b[0m\u001b[0;34m(\u001b[0m\u001b[0;34m)\u001b[0m\u001b[0;34m)\u001b[0m\u001b[0;34m:\u001b[0m\u001b[0;34m\u001b[0m\u001b[0;34m\u001b[0m\u001b[0m\n\u001b[0;32m----> 6\u001b[0;31m             \u001b[0mnew_peptides\u001b[0m\u001b[0;34m.\u001b[0m\u001b[0mappend\u001b[0m\u001b[0;34m(\u001b[0m\u001b[0mpep\u001b[0m \u001b[0;34m+\u001b[0m \u001b[0;34m[\u001b[0m\u001b[0mmass\u001b[0m\u001b[0;34m]\u001b[0m\u001b[0;34m)\u001b[0m\u001b[0;34m\u001b[0m\u001b[0;34m\u001b[0m\u001b[0m\n\u001b[0m\u001b[1;32m      7\u001b[0m     \u001b[0;32mreturn\u001b[0m \u001b[0mnew_peptides\u001b[0m\u001b[0;34m\u001b[0m\u001b[0;34m\u001b[0m\u001b[0m\n\u001b[1;32m      8\u001b[0m \u001b[0;34m\u001b[0m\u001b[0m\n",
      "\u001b[0;31mKeyboardInterrupt\u001b[0m: "
     ]
    }
   ],
   "source": [
    "CycloPeptideSequencing('0 113 128 186 241 299 314 427'.split(' '))"
   ]
  },
  {
   "cell_type": "code",
   "execution_count": 161,
   "metadata": {
    "collapsed": true
   },
   "outputs": [],
   "source": [
    "# 4f Compute the score of a cyclic peptide against a spectrum\n",
    "def Score(peptide, spectrum):\n",
    "    theoretical_spectrum = CyclicSpectrum(peptide)\n",
    "    spectrum = [int(mass) for mass in spectrum]\n",
    "    unique_masses = set(theoretical_spectrum + spectrum)\n",
    "    \n",
    "    result = 0\n",
    "    for mass in unique_masses:\n",
    "        result += min(theoretical_spectrum.count(mass), spectrum.count(mass))\n",
    "    return result"
   ]
  },
  {
   "cell_type": "code",
   "execution_count": 162,
   "metadata": {},
   "outputs": [
    {
     "data": {
      "text/plain": [
       "11"
      ]
     },
     "execution_count": 162,
     "metadata": {},
     "output_type": "execute_result"
    }
   ],
   "source": [
    "Score('NQEL', '0 99 113 114 128 227 257 299 355 356 370 371 484'.split(' '))"
   ]
  },
  {
   "cell_type": "code",
   "execution_count": 163,
   "metadata": {},
   "outputs": [
    {
     "data": {
      "text/plain": [
       "521"
      ]
     },
     "execution_count": 163,
     "metadata": {},
     "output_type": "execute_result"
    }
   ],
   "source": [
    "Score('VYYEVDWTMGRQIDPDEYPIAQCTRHRATILTLPDWQM',\n",
    "'0 71 71 87 87 97 97 99 101 101 101 101 103 113 113 113 113 113 115 115 115 115 128 128 129 129 131 131 137 147 156 156 156 163 163 163 163 172 184 186 186 199 204 210 212 212 214 214 214 216 218 226 227 228 230 231 232 243 244 244 257 259 260 260 262 273 276 278 278 281 285 287 292 293 293 301 302 303 312 314 319 325 326 327 327 327 327 328 331 332 341 358 360 364 373 374 374 375 377 389 390 391 393 394 398 402 403 407 407 409 415 416 418 425 428 429 440 440 441 441 444 445 449 456 464 465 472 475 488 490 492 494 497 499 502 503 503 504 504 505 505 512 516 517 520 521 521 531 540 541 544 550 554 556 559 560 569 570 572 573 577 578 587 592 592 601 603 605 612 613 617 618 618 619 621 621 622 625 628 634 634 653 655 657 659 661 669 671 672 675 678 680 684 688 691 696 701 704 705 707 714 715 716 716 718 721 722 723 724 732 734 735 743 748 749 749 756 768 769 775 776 781 781 785 791 792 799 800 804 806 808 809 816 819 822 822 825 829 829 830 835 836 836 843 846 847 850 852 852 870 872 877 879 887 890 895 900 904 905 905 906 912 913 919 919 921 923 928 931 932 935 937 938 942 942 944 947 948 948 953 959 961 965 976 985 985 985 992 999 1005 1008 1013 1015 1016 1020 1024 1024 1028 1032 1035 1036 1036 1036 1043 1046 1049 1050 1051 1061 1061 1062 1062 1066 1068 1069 1073 1075 1076 1089 1090 1098 1100 1114 1117 1122 1123 1131 1132 1133 1133 1133 1137 1137 1137 1139 1141 1148 1149 1152 1155 1160 1162 1162 1163 1174 1174 1176 1179 1183 1191 1198 1199 1201 1201 1204 1219 1220 1224 1225 1229 1232 1232 1234 1244 1245 1248 1250 1250 1252 1252 1253 1261 1261 1262 1263 1264 1265 1273 1280 1288 1296 1302 1302 1305 1312 1313 1316 1316 1318 1325 1332 1335 1335 1339 1345 1347 1349 1350 1351 1354 1354 1360 1362 1363 1363 1367 1369 1376 1377 1387 1388 1391 1392 1392 1393 1397 1403 1410 1415 1417 1425 1425 1428 1433 1434 1440 1444 1451 1460 1463 1464 1464 1464 1464 1464 1465 1469 1475 1477 1479 1488 1491 1492 1497 1501 1502 1505 1510 1520 1525 1525 1526 1526 1530 1531 1534 1540 1540 1543 1547 1548 1556 1561 1564 1564 1566 1577 1578 1579 1588 1590 1590 1592 1593 1597 1603 1606 1619 1623 1626 1627 1627 1627 1628 1634 1635 1637 1637 1638 1639 1641 1648 1648 1653 1662 1665 1671 1674 1676 1677 1681 1689 1693 1693 1695 1703 1706 1708 1719 1724 1724 1727 1729 1734 1735 1738 1740 1742 1742 1750 1752 1752 1753 1754 1754 1756 1760 1763 1765 1766 1778 1784 1785 1790 1792 1794 1804 1804 1806 1808 1821 1821 1823 1832 1837 1837 1837 1851 1853 1853 1853 1855 1857 1857 1862 1865 1866 1866 1867 1871 1871 1875 1879 1879 1883 1885 1889 1890 1891 1897 1905 1908 1916 1919 1923 1928 1933 1936 1941 1941 1949 1952 1964 1966 1966 1966 1966 1967 1968 1968 1977 1980 1984 1984 1985 1988 1992 2000 2004 2004 2009 2010 2012 2020 2020 2022 2028 2031 2034 2034 2036 2037 2041 2046 2051 2052 2053 2056 2065 2079 2079 2081 2081 2087 2091 2093 2097 2097 2105 2111 2113 2115 2116 2122 2123 2124 2129 2131 2133 2135 2138 2139 2140 2147 2148 2152 2153 2159 2160 2165 2168 2168 2169 2178 2180 2184 2187 2192 2197 2198 2206 2206 2209 2215 2224 2226 2237 2237 2240 2244 2244 2244 2247 2250 2253 2255 2260 2263 2264 2266 2268 2269 2277 2280 2286 2287 2293 2293 2294 2296 2297 2300 2301 2307 2309 2310 2311 2315 2315 2324 2334 2337 2339 2341 2352 2354 2356 2359 2369 2378 2378 2382 2383 2384 2386 2392 2393 2396 2397 2399 2400 2400 2406 2407 2413 2416 2424 2425 2427 2429 2430 2433 2438 2440 2443 2446 2449 2449 2449 2453 2456 2456 2467 2469 2478 2484 2487 2487 2495 2496 2501 2506 2509 2513 2515 2524 2525 2525 2528 2533 2534 2540 2541 2545 2546 2553 2554 2555 2558 2560 2562 2564 2569 2570 2571 2577 2578 2580 2582 2588 2596 2596 2600 2602 2606 2612 2612 2614 2614 2628 2637 2640 2641 2642 2647 2652 2656 2657 2659 2659 2662 2665 2671 2673 2673 2681 2683 2684 2689 2689 2693 2701 2705 2708 2709 2709 2713 2716 2725 2725 2726 2727 2727 2727 2727 2729 2741 2744 2752 2752 2757 2760 2765 2770 2774 2777 2785 2788 2796 2802 2803 2804 2808 2810 2814 2814 2818 2822 2822 2826 2827 2827 2828 2831 2836 2836 2838 2840 2840 2840 2842 2856 2856 2856 2861 2870 2872 2872 2885 2887 2889 2889 2899 2901 2903 2908 2909 2915 2927 2928 2930 2933 2937 2939 2939 2940 2941 2941 2943 2951 2951 2953 2955 2958 2959 2964 2966 2969 2969 2974 2985 2987 2990 2998 3000 3000 3004 3012 3016 3017 3019 3022 3028 3031 3040 3045 3045 3052 3054 3055 3056 3056 3058 3059 3065 3066 3066 3066 3067 3070 3074 3087 3090 3096 3100 3101 3103 3103 3105 3114 3115 3116 3127 3129 3129 3132 3137 3145 3146 3150 3153 3153 3159 3162 3163 3167 3167 3168 3168 3173 3183 3188 3191 3192 3196 3201 3202 3205 3214 3216 3218 3224 3228 3229 3229 3229 3229 3229 3230 3233 3242 3249 3253 3259 3260 3265 3268 3268 3276 3278 3283 3290 3296 3300 3301 3301 3302 3305 3306 3316 3317 3324 3326 3330 3330 3331 3333 3339 3339 3342 3343 3344 3346 3348 3354 3358 3358 3361 3368 3375 3377 3377 3380 3381 3388 3391 3391 3397 3405 3413 3420 3428 3429 3430 3431 3432 3432 3440 3441 3441 3443 3443 3445 3448 3449 3459 3461 3461 3464 3468 3469 3473 3474 3489 3492 3492 3494 3495 3502 3510 3514 3517 3519 3519 3530 3531 3531 3533 3538 3541 3544 3545 3552 3554 3556 3556 3556 3560 3560 3560 3561 3562 3570 3571 3576 3579 3593 3595 3603 3604 3617 3618 3620 3624 3625 3627 3631 3631 3632 3632 3642 3643 3644 3647 3650 3657 3657 3657 3658 3661 3665 3669 3669 3673 3677 3678 3680 3685 3688 3694 3701 3708 3708 3708 3717 3728 3732 3734 3740 3745 3745 3746 3749 3751 3751 3755 3756 3758 3761 3762 3765 3770 3772 3774 3774 3780 3781 3787 3788 3788 3789 3793 3798 3803 3806 3814 3816 3821 3823 3841 3841 3843 3846 3847 3850 3857 3857 3858 3863 3864 3864 3868 3871 3871 3874 3877 3884 3885 3887 3889 3893 3894 3901 3902 3908 3912 3912 3917 3918 3924 3925 3937 3944 3944 3945 3950 3958 3959 3961 3969 3970 3971 3972 3975 3977 3977 3978 3979 3986 3988 3989 3992 3997 4002 4005 4009 4013 4015 4018 4021 4022 4024 4032 4034 4036 4038 4040 4059 4059 4065 4068 4071 4072 4072 4074 4075 4075 4076 4080 4081 4088 4090 4092 4101 4101 4106 4115 4116 4120 4121 4123 4124 4133 4134 4137 4139 4143 4149 4152 4153 4162 4172 4172 4173 4176 4177 4181 4188 4188 4189 4189 4190 4190 4191 4194 4196 4199 4201 4203 4205 4218 4221 4228 4229 4237 4244 4248 4249 4252 4252 4253 4253 4264 4265 4268 4275 4277 4278 4284 4286 4286 4290 4291 4295 4299 4300 4302 4303 4304 4316 4318 4319 4319 4320 4329 4333 4335 4352 4361 4362 4365 4366 4366 4366 4366 4367 4368 4374 4379 4381 4390 4391 4392 4400 4400 4401 4406 4408 4412 4415 4415 4417 4420 4431 4433 4433 4434 4436 4449 4449 4450 4461 4462 4463 4465 4466 4467 4475 4477 4479 4479 4479 4481 4481 4483 4489 4494 4507 4507 4509 4521 4530 4530 4530 4530 4537 4537 4537 4546 4556 4562 4562 4564 4564 4565 4565 4578 4578 4578 4578 4580 4580 4580 4580 4580 4590 4592 4592 4592 4592 4594 4596 4596 4606 4606 4622 4622 4693'.split(' '))"
   ]
  },
  {
   "cell_type": "code",
   "execution_count": 91,
   "metadata": {},
   "outputs": [
    {
     "data": {
      "text/plain": [
       "862"
      ]
     },
     "execution_count": 91,
     "metadata": {},
     "output_type": "execute_result"
    }
   ],
   "source": [
    "test_file = 'rosalind_ba4f.txt'\n",
    "with open(test_file, 'r') as reader:\n",
    "    peptide = reader.readline().strip('\\n')\n",
    "    spectrum = reader.readline().strip('\\n').split(' ')\n",
    "Score(peptide, spectrum)"
   ]
  },
  {
   "cell_type": "markdown",
   "metadata": {},
   "source": [
    "To generalize “Find a Cyclic Peptide with Theoretical Spectrum Matching an Ideal Spectrum” to handle “noisy” spectra having false and missing masses, we need to relax the requirement that a candidate peptide’s theoretical spectrum must match the experimental spectrum exactly, and instead incorporate a scoring function that will select the peptide whose theoretical spectrum matches the given experimental spectrum the most closely. Given a cyclic peptide Peptide and a spectrum Spectrum, we define Score(Peptide, Spectrum) as the number of masses shared between Cyclospectrum(Peptide) and Spectrum. Recalling Figure 1, if\n",
    "\n",
    "$$Spectrum = \\{0, 99, 113, 114, 128, 227, 257, 299, 355, 356, 370, 371, 484\\},$$\n",
    "then $Score(\"NQEL\", Spectrum) = 11.$\n",
    "\n",
    "To limit the number of candidate peptides under consideration, we will use a Leaderboard, which holds the N highest scoring candidate peptides for further extension. At each step, we will expand all candidate peptides found in Leaderboard by adding every possible amino acid to the end. Then, we will eliminate those peptides whose newly calculated scores are not high enough to keep them on the Leaderboard. This idea is similar to the notion of a “cut” in a golf tournament; after the cut, only the top N golfers are allowed to play in the next round, since they are the only players who have a reasonable chance of winning.\n",
    "\n",
    "To be fair, a cut should include anyone who is tied with the Nth-place competitor. Thus, Leaderboard should be trimmed down to the “N highest-scoring peptides including ties”, which may include more than N peptides. Given a list of peptides Leaderboard, a spectrum Spectrum, and an integer N, Cut(Leaderboard, Spectrum, N) returns the top N highest-scoring peptides in <Leaderboard (including ties) with respect to Spectrum. We now introduce LEADERBOARDCYCLOPEPTIDESEQUENCING. In what follows, the 0-peptide is the peptide \"\" containing no amino acids."
   ]
  },
  {
   "cell_type": "code",
   "execution_count": 164,
   "metadata": {
    "collapsed": true
   },
   "outputs": [],
   "source": [
    "# 4g Implement LeaderBoardCycloPeptideSequencing\n",
    "def expand(peptides):\n",
    "    new_peptides = []\n",
    "    for pep in peptides:\n",
    "        for mass in set(mass_table.values()):\n",
    "            new_peptides.append(pep + [mass])\n",
    "    return new_peptides\n",
    "\n",
    "def Trim(leaderboard, spectrum, N):\n",
    "    if len(leaderboard) <= N:\n",
    "        return leaderboard\n",
    "\n",
    "    scores = {}\n",
    "    for i, peptide in enumerate(leaderboard):\n",
    "        scores[i] = Score(peptide, spectrum)\n",
    "    \n",
    "    sorted_scores = sorted(scores.values(), reverse = True)\n",
    "    cutoff = sorted_scores[N-1]\n",
    "    \n",
    "    return [leaderboard[idx] for idx, score in scores.items() if score >= cutoff]\n",
    "\n",
    "def LeaderBoardCycloPeptideSequencing(N, spectrum):\n",
    "    leaderboard = [[]]\n",
    "    leader_peptide = []\n",
    "    spectrum = list(map(lambda x: int(x), spectrum))\n",
    "    while len(leaderboard) >= 0:\n",
    "        leaderboard = expand(leaderboard)\n",
    "        for peptide in leaderboard:\n",
    "            if sum(peptide) == max(spectrum):\n",
    "                if Score(peptide, spectrum) > Score(leader_peptide, spectrum):\n",
    "                    leader_peptide = peptide\n",
    "            elif sum(peptide) > max(spectrum):\n",
    "                leaderboard = [aa for aa in leaderboard if aa != peptide]\n",
    "        leaderboard = Trim(leaderboard, spectrum, N)\n",
    "    \n",
    "    return leaderboard"
   ]
  },
  {
   "cell_type": "code",
   "execution_count": null,
   "metadata": {},
   "outputs": [],
   "source": [
    "LeaderBoardCycloPeptideSequencing(10, '0 71 113 129 147 200 218 260 313 331 347 389 460'.split(' '))"
   ]
  },
  {
   "cell_type": "markdown",
   "metadata": {},
   "source": [
    "__Spectral Convolution Problem__\n",
    "\n",
    "Compute the convolution of a spectrum.\n",
    "\n",
    "__Given__: A collection of integers Spectrum.\n",
    "\n",
    "__Return__: The list of elements in the convolution of Spectrum in decreasing order of their multiplicities. If an element has multiplicity k, it should appear exactly k times."
   ]
  },
  {
   "cell_type": "code",
   "execution_count": 165,
   "metadata": {
    "collapsed": true
   },
   "outputs": [],
   "source": [
    "# 4h Generate convolution of a spectrum\n",
    "def convolution(spectrum):\n",
    "    spectrum = list(map(lambda i: int(i), spectrum))\n",
    "    convolution = [i-j for i in spectrum for j in spectrum if i > j]\n",
    "    convolution_mult = {element: convolution.count(element) for element in convolution}\n",
    "    convolution_mult_sorted = {k: v for k, v in sorted(convolution_mult.items(), key = lambda item: item[1],\n",
    "                                                      reverse = True)}\n",
    "    \n",
    "    output = []\n",
    "    for element in convolution_mult_sorted:\n",
    "        output += [element]*convolution_mult_sorted[element]\n",
    "    \n",
    "    output = [str(element) for element in output]\n",
    "    return ' '.join(output)"
   ]
  },
  {
   "cell_type": "code",
   "execution_count": 182,
   "metadata": {},
   "outputs": [
    {
     "data": {
      "text/plain": [
       "'5'"
      ]
     },
     "execution_count": 182,
     "metadata": {},
     "output_type": "execute_result"
    }
   ],
   "source": [
    "convolution([2, 7])"
   ]
  },
  {
   "cell_type": "code",
   "execution_count": 145,
   "metadata": {},
   "outputs": [
    {
     "name": "stdout",
     "output_type": "stream",
     "text": [
      "{137: 2, 186: 2, 49: 1, 323: 1}\n"
     ]
    },
    {
     "data": {
      "text/plain": [
       "'137 137 186 186 49 323'"
      ]
     },
     "execution_count": 145,
     "metadata": {},
     "output_type": "execute_result"
    }
   ],
   "source": [
    "convolution('0 137 186 323'.split(' '))"
   ]
  },
  {
   "cell_type": "code",
   "execution_count": null,
   "metadata": {
    "collapsed": true
   },
   "outputs": [],
   "source": [
    "test_file = 'rosalind_ba4h.txt'\n",
    "with open(test_file, 'r') as reader:\n",
    "    spectrum = reader.readline().strip('\\n')\n",
    "f = open('4h.txt', 'w')\n",
    "f.write(convolution(spectrum.split(' ')))"
   ]
  },
  {
   "cell_type": "markdown",
   "metadata": {},
   "source": [
    "Given an experimental spectrum, we first compute the convolution of an experimental spectrum. We then select the M most frequent elements between 57 and 200 in the convolution to form an extended alphabet of candidate amino acid masses. In order to be fair, we should include the top M elements of the convolution \"with ties\". Finally, we run the algorithm __LeaderboardCyclopeptideSequencing__, where the amino acid masses are restricted to this alphabet.\n",
    "\n",
    "__Implement ConvolutionCyclopeptideSequencing__\n",
    "\n",
    "__Given__: An integer M, an integer N, and a collection of (possibly repeated) integers Spectrum.\n",
    "\n",
    "__Return__: A cyclic peptide LeaderPeptide with amino acids taken only from the top M elements (and ties) of the convolution of Spectrum that fall between 57 and 200, and where the size of Leaderboard is restricted to the top N (and ties)."
   ]
  },
  {
   "cell_type": "code",
   "execution_count": 173,
   "metadata": {
    "collapsed": true
   },
   "outputs": [],
   "source": [
    "# 4i Implement ConvolutionCycloPeptideSequencing\n",
    "\n",
    "def expand_masses(peptides, masses):\n",
    "    new_peptides = []\n",
    "    for peptide in peptides:\n",
    "        for mass in masses:\n",
    "            new_peptides.append(peptide + [mass])\n",
    "    return new_peptides\n",
    "\n",
    "def find_masses(spectrum, M):\n",
    "    convolutions = list(map(lambda i: int(i), convolution(spectrum).split(' ')))\n",
    "    topM = [conv for conv in convolutions if 57 <= conv <= 200]\n",
    "    \n",
    "    freq_dict = {}\n",
    "    for mass in set(convolutions):\n",
    "        freq_dict[mass] = convolutions.count(mass)\n",
    "    \n",
    "    sorted_freq_dict = sorted(freq_dict.items(), key = lambda item: item[1], reverse = True)\n",
    "    masses = [mass for mass, freq in sorted_freq_dict if freq >= sorted_freq_dict[M][1]]\n",
    "    return sorted(masses)\n",
    "\n",
    "def ConvolutionCycloPeptideSequencing(M, N, spectrum):\n",
    "    spectrum = list(map(lambda i: int(i), spectrum))\n",
    "    masses = find_masses(spectrum, M)\n",
    "    leaderboard = [[]]\n",
    "    leader_peptide = []\n",
    "    \n",
    "    while len(leaderboard) >= 0:\n",
    "        leaderboard = expand_masses(leaderboard, masses)\n",
    "        for peptide in leaderboard:\n",
    "            if sum(peptide) == max(spectrum):\n",
    "                if Score(peptide, spectrum) > Score(leader_peptide, spectrum):\n",
    "                    leader_peptide = peptide\n",
    "            elif sum(peptide) > max(spectrum):\n",
    "                leaderboard = [aa for aa in leaderboard if aa != peptide]\n",
    "        leaderboard = Trim(leaderboard, spectrum, N)\n",
    "    \n",
    "    return leader_peptide"
   ]
  },
  {
   "cell_type": "code",
   "execution_count": null,
   "metadata": {},
   "outputs": [],
   "source": [
    "ConvolutionCycloPeptideSequencing(20, 60,\n",
    "                                 '57 57 71 99 129 137 170 186 194 208 228 265 285 299 307 323 356 364 394 422 493'.split(' '))"
   ]
  },
  {
   "cell_type": "code",
   "execution_count": null,
   "metadata": {
    "collapsed": true
   },
   "outputs": [],
   "source": []
  }
 ],
 "metadata": {
  "kernelspec": {
   "display_name": "Python 3",
   "language": "python",
   "name": "python3"
  },
  "language_info": {
   "codemirror_mode": {
    "name": "ipython",
    "version": 3
   },
   "file_extension": ".py",
   "mimetype": "text/x-python",
   "name": "python",
   "nbconvert_exporter": "python",
   "pygments_lexer": "ipython3",
   "version": "3.6.7"
  }
 },
 "nbformat": 4,
 "nbformat_minor": 2
}
