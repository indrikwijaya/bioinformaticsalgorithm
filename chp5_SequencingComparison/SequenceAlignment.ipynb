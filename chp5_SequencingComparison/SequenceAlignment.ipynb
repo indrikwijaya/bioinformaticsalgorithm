{
 "cells": [
  {
   "cell_type": "markdown",
   "metadata": {},
   "source": [
    "Marahiel’s cracking of the non-ribosomal code is just one of many biological problems that have benefited from sequence comparison. Another striking example of the power of sequence comparison was established in 1983 when Russell Doolittle compared the newly sequenced __platelet derived growth factor (PDGF)__ gene with all other genes known at the time. Doolittle stunned cancer biologists when he showed that PDGF was very similar to the sequence of a gene known as __v-sis__. The two genes’ similarity was puzzling because their functions differ greatly; the PDGF gene encodes a protein stimulating cell growth, whereas v-sis is an __oncogene__, or a gene in viruses that causes a cancer-like transformation of infected human cells. Following Doolittle’s discovery, scientists hypothesized that some forms of cancer might be caused by a good gene doing the right thing at the wrong time. The link between PDGF and v-sis established a new paradigm; searching all new sequences against sequence databases is now the first order of business in genomics."
   ]
  },
  {
   "cell_type": "markdown",
   "metadata": {},
   "source": [
    "Columns containing the same letter in both rows are called __matches__ and represent conserved nucleotides, whereas columns containing different letters are called __mismatches__ and represent single-nucleotide substitutions. Columns containing a space symbol are called __indels__: a column containing a space symbol in the top row of the alignment is called an __insertion__, as it implies the insertion of a symbol when transforming v into w; a column containing a space symbol in the bottom row of the alignment is called a __deletion__, as it indicates the deletion of a symbol when transforming v into w. The alignment above has four matches, two mismatches, one insertion, and two deletions.\n",
    "\n",
    "The matches in an alignment of two strings define a __common subsequence__ of the two strings, or a sequence of symbols appearing in the same order (although not necessarily consecutively) in both strings. For example, the alignment above indicates that ATGT is a common subsequence of ATGTTATA and ATCGTCC. An alignment of two strings maximizing the number of matches therefore corresponds to a __longest common subsequence (LCS)__ of these strings. Note that two strings may have more than one longest common subsequence.\n",
    "\n",
    "__Longest Common Subsequence Problem__: Find a longest common subsequence of two strings.\n",
    "\n",
    "__Input__: Two strings.\n",
    "\n",
    "__Output__: A longest common subsequence of these strings."
   ]
  },
  {
   "cell_type": "markdown",
   "metadata": {},
   "source": [
    "We will represent the map of Manhattan as a directed graph ManhattanGraph in which we model each intersection as a node and represent each city block between two intersections as a directed edge indicating the legal direction of travel (↓ or →), as shown below. We then assign each directed edge a weight equal to the number of attractions along the corresponding block. The starting (blue) node is called the source node, and the ending (red) node is called the sink node. Adding the weights along a path from the source to the sink yields the number of attractions along that path; therefore, to solve the Manhattan Tourist Problem, we need to find a maximum-weight path connecting the source to the sink (also called a longest path) in ManhattanGraph.\n",
    "\n",
    "__Manhattan Tourist Problem__: Find a longest path in a rectangular city.\n",
    "\n",
    "__Input__: A weighted n × m rectangular grid with n + 1 rows and m + 1 columns.\n",
    "\n",
    "__Output__: A longest path from source (0,0) to sink (n, m) in the grid.\n",
    "\n",
    "How many different paths are there to move from one corner to the extreme corner in a $m \\times n$ grid? $C(m+n, n)$"
   ]
  },
  {
   "cell_type": "markdown",
   "metadata": {},
   "source": [
    "__Longest Path in a Directed Graph Problem__: Find a longest path between two nodes in an edge-weighted directed graph.\n",
    "\n",
    "__Input__: An edge-weighted directed graph with source and sink nodes.\n",
    "\n",
    "__Output__: A longest path from source to sink in the directed graph.\n",
    "\n",
    "* we will consider Directed __Acyclic__ Graph instead\n",
    "\n",
    "Recall that finding a longest common subsequence of two strings is equivalent to finding an alignment of these strings maximizing the number of matches. In the figure below, we highlight all diagonal edges of AlignmentGraph(ATGTTATA, ATCGTCC) corresponding to matches. If we assign a weight of 1 to all these edges and 0 to all other edges, then the Longest Common Subsequence Problem is equivalent to finding a longest path in this weighted DAG!"
   ]
  },
  {
   "cell_type": "code",
   "execution_count": 1,
   "metadata": {},
   "outputs": [
    {
     "data": {
      "text/plain": [
       "2"
      ]
     },
     "execution_count": 1,
     "metadata": {},
     "output_type": "execute_result"
    }
   ],
   "source": [
    "# 5a implement recursive for coin change problem\n",
    "def RecursiveChange(money, coins):\n",
    "    if money == 0:\n",
    "        return 0\n",
    "    minNumCoins = 10**20\n",
    "    \n",
    "    for i in range(len(coins)):\n",
    "        if money >= coins[i]:\n",
    "            numCoins = RecursiveChange(money - coins[i], coins)\n",
    "            if numCoins + 1 < minNumCoins:\n",
    "                minNumCoins = numCoins + 1\n",
    "    return minNumCoins\n",
    "\n",
    "RecursiveChange(40, [1, 5, 10, 20, 25, 50])"
   ]
  },
  {
   "cell_type": "code",
   "execution_count": 2,
   "metadata": {
    "collapsed": true
   },
   "outputs": [],
   "source": [
    "def DPchange(money, coins):\n",
    "    minNumCoins = [0] + [(money/min(coins)) + 1]*money\n",
    "    for m in range(1, money + 1):\n",
    "        for coin in coins:\n",
    "            if m >= coin:\n",
    "                currentNumCoins = minNumCoins[m - coin] + 1\n",
    "                if currentNumCoins < minNumCoins[m]:\n",
    "                    minNumCoins[m] = currentNumCoins\n",
    "    return minNumCoins[money]"
   ]
  },
  {
   "cell_type": "code",
   "execution_count": 3,
   "metadata": {},
   "outputs": [
    {
     "data": {
      "text/plain": [
       "2"
      ]
     },
     "execution_count": 3,
     "metadata": {},
     "output_type": "execute_result"
    }
   ],
   "source": [
    "DPchange(40, [1, 5, 10, 20, 25, 50])"
   ]
  },
  {
   "cell_type": "code",
   "execution_count": 4,
   "metadata": {},
   "outputs": [
    {
     "data": {
      "text/plain": [
       "707"
      ]
     },
     "execution_count": 4,
     "metadata": {},
     "output_type": "execute_result"
    }
   ],
   "source": [
    "test_file = 'rosalind_ba5a.txt'\n",
    "with open(test_file, 'r') as header:\n",
    "    money = int(header.readline().strip('\\n'))\n",
    "    coins = list(map(lambda x: int(x), header.readline().strip('\\n').split(',')))\n",
    "\n",
    "DPchange(money, coins)"
   ]
  },
  {
   "cell_type": "markdown",
   "metadata": {},
   "source": [
    "SouthOrEast(i, j)\n",
    "  \n",
    "  if i = 0 and j = 0\n",
    "  \n",
    "     return 0\n",
    "\n",
    "  x ← −∞, y ← −∞\n",
    "  \n",
    "  if i > 0\n",
    "  \n",
    "      x ← SouthOrEast(i − 1, j) + weight of the vertical edge into (i, j)\n",
    "\n",
    "  if j > 0\n",
    "      \n",
    "      y ← SouthOrEast(i, j − 1) + weight of the horizontal edge into (i, j)\n",
    "\n",
    "  return max{x, y}"
   ]
  },
  {
   "cell_type": "markdown",
   "metadata": {},
   "source": [
    "For i > 0 and j > 0, the only way to reach node (i, j) is by moving down from node (i − 1, j) or by moving right from node (i, j − 1). Thus, si, j can be computed as the maximum of two values:\n",
    "\n",
    "$s_{i - 1, j}$ + weight of the vertical edge from (i - 1, j) to (i, j)\n",
    "\n",
    "$s_{i, j - 1}$ + weight of the horizontal edge from (i, j - 1) to (i, j)"
   ]
  },
  {
   "cell_type": "markdown",
   "metadata": {},
   "source": [
    "ManhattanTourist(n, m, Down, Right)\n",
    "\n",
    "  s_{0, 0} ← 0\n",
    "  \n",
    "  for i ← 1 to n\n",
    "  \n",
    "    s_{i, 0} ← s_{i-1, 0} + down_{i-1, 0}\n",
    "    \n",
    "  for j ← 1 to m\n",
    "  \n",
    "    s_{0, j} ← s_{0, j−1} + right_{0, j-1}\n",
    "    \n",
    "  for i ← 1 to n\n",
    "  \n",
    "    for j ← 1 to m\n",
    "    \n",
    "      s_{i, j} ← max[s_{i - 1, j} + down_{i-1, j}, s_{i, j - 1} + right_{i, j-1}]\n",
    "      \n",
    "  return s{n, m}"
   ]
  },
  {
   "cell_type": "code",
   "execution_count": 3,
   "metadata": {
    "collapsed": true
   },
   "outputs": [],
   "source": [
    "#5b Manhattan Tourist\n",
    "import numpy as np\n",
    "def ManhattanTourist(n, m, Down, Right):\n",
    "    s = np.zeros((n+1, m+1)).tolist()\n",
    "    \n",
    "    for i in range(1, n+1):\n",
    "        s[i][0] = s[i-1][0] + Down[i-1][0]\n",
    "    for j in range(1, m+1):\n",
    "        s[0][j] = s[0][j-1] + Right[0][j-1]\n",
    "    \n",
    "    for i in range(1, n+1):\n",
    "        for j in range(1, m+1):\n",
    "            s[i][j] = max(s[i-1][j] + Down[i-1][j], s[i][j-1] + Right[i][j-1])\n",
    "    return s[n][m]"
   ]
  },
  {
   "cell_type": "code",
   "execution_count": 4,
   "metadata": {},
   "outputs": [
    {
     "name": "stdout",
     "output_type": "stream",
     "text": [
      "[[1, 0, 2, 4, 3], [4, 6, 5, 2, 1], [4, 4, 5, 2, 1], [5, 6, 8, 5, 3]]\n",
      "[[3, 2, 4, 0], [3, 2, 4, 2], [0, 7, 3, 3], [3, 3, 0, 2], [1, 3, 2, 2]]\n"
     ]
    },
    {
     "data": {
      "text/plain": [
       "34.0"
      ]
     },
     "execution_count": 4,
     "metadata": {},
     "output_type": "execute_result"
    }
   ],
   "source": [
    "n, m = 4, 4\n",
    "Down = ['1 0 2 4 3'.split(' '),\n",
    "        '4 6 5 2 1'.split(' '),\n",
    "        '4 4 5 2 1'.split(' '),\n",
    "        '5 6 8 5 3'.split(' ')]\n",
    "Down = [[int(j) for j in i] for i in Down]\n",
    "print(Down)\n",
    "Right = ['3 2 4 0'.split(' '),\n",
    "      '3 2 4 2'.split(' '),\n",
    "      '0 7 3 3'.split(' '),\n",
    "      '3 3 0 2'.split(' '),\n",
    "      '1 3 2 2'.split(' ')]\n",
    "Right = [[int(j) for j in i] for i in Right]\n",
    "print(Right)\n",
    "ManhattanTourist(n, m, Down, Right)"
   ]
  },
  {
   "cell_type": "code",
   "execution_count": 7,
   "metadata": {},
   "outputs": [
    {
     "data": {
      "text/plain": [
       "103.0"
      ]
     },
     "execution_count": 7,
     "metadata": {},
     "output_type": "execute_result"
    }
   ],
   "source": [
    "test_file = 'rosalind_ba5b.txt'\n",
    "with open('rosalind_ba5b.txt') as input_data:\n",
    "    n, m = input_data.readline().strip('\\n').split(' ')\n",
    "    Down, Right = [[list(map(int, row.split())) for row in matrix.split('\\n')] for matrix in input_data.read().strip().split('\\n-\\n')]\n",
    "\n",
    "# Get the maximum distance\n",
    "\n",
    "ManhattanTourist(int(n), int(m), Down, Right)\n"
   ]
  },
  {
   "cell_type": "markdown",
   "metadata": {},
   "source": [
    "The hitch to using dynamic programming in order to find the length of a longest path in a DAG is that we must decide on the order in which to visit nodes when computing the values sb according to the recurrence\n",
    "\n",
    "\n",
    "$$s_b = max_{\\text{all predecessors a of node b}} [s_a + \\text{weight of edge from a to b}]$$\n",
    "\n",
    "This ordering of nodes is important, since by the time we reach node b, the values sa for all its predecessors must have already been computed. We have managed to hide this issue for rectangular grids because the order in which we have computed the $s_{i, j}$ ensured that we would never consider a node before visiting all of its predecessors.\n",
    "\n",
    "Formally, an ordering of nodes $(a_1, ... , a_k)$ in a DAG is called a topological ordering if every edge $(a_i, a_j)$ of the DAG connects a node with a smaller index to a node with a larger index, i.e., $i < j$.\n",
    "\n",
    "__Why do we favor vertical backtracking edges (over horizontal and diagonal) in OutputLCS?__\n",
    "All 3 types of backtracking edges (horizontal, vertical and diagonal) are equally important; this simply starts the analysis with vertical edges bc it has to start somewhere! this will indeed bias the solutions if there are multiple LCS, in which case you may want to vary backtracking over multiple runs"
   ]
  },
  {
   "cell_type": "code",
   "execution_count": 104,
   "metadata": {
    "collapsed": true
   },
   "outputs": [],
   "source": [
    "# 5c longest common subsequence\n",
    "\n",
    "def LCSBackTrack(v, w):\n",
    "    v = '-' + v\n",
    "    w = '-' + w\n",
    "    s = np.zeros((len(v), len(w))).tolist()\n",
    "    backtrack = np.zeros((len(v), len(w))).tolist()\n",
    "\n",
    "    for i in range(1, len(v)):\n",
    "        for j in range(1, len(w)):\n",
    "            match = 0\n",
    "            if v[i] == w[j]:\n",
    "                match = 1\n",
    "            s[i][j] = max(s[i-1][j], s[i][j-1], s[i-1][j-1] + match)\n",
    "\n",
    "            if s[i][j] == s[i-1][j]:\n",
    "                backtrack[i][j] = 'down'\n",
    "            elif s[i][j] == s[i][j-1]:\n",
    "                backtrack[i][j] = 'right'\n",
    "            elif s[i][j] == s[i-1][j-1] + match:\n",
    "                backtrack[i][j] = 'diagonal'\n",
    "    return backtrack\n",
    "\n",
    "\n",
    "def OutputLCS(v, w):\n",
    "    backtrack = LCSBackTrack(v, w)\n",
    "    #print(backtrack)\n",
    "    LCS = \"\"\n",
    "    i = len(v)\n",
    "    j = len(w)\n",
    "    while i > 0 and j > 0:\n",
    "        if backtrack[i][j] == 'down':\n",
    "            i -= 1\n",
    "        elif backtrack[i][j] == 'right':\n",
    "            j -= 1\n",
    "        else:\n",
    "            LCS = v[i-1] + LCS\n",
    "            i -= 1\n",
    "            j -= 1\n",
    "    return LCS\n",
    "            "
   ]
  },
  {
   "cell_type": "code",
   "execution_count": 105,
   "metadata": {},
   "outputs": [
    {
     "data": {
      "text/plain": [
       "'AACTTG'"
      ]
     },
     "execution_count": 105,
     "metadata": {},
     "output_type": "execute_result"
    }
   ],
   "source": [
    "v = 'AACCTTGG'\n",
    "w = 'ACACTGTGA'\n",
    "OutputLCS(v, w)"
   ]
  },
  {
   "cell_type": "code",
   "execution_count": 97,
   "metadata": {},
   "outputs": [
    {
     "data": {
      "text/plain": [
       "'TGGTTTTGGTTGCTGAATAATCTCCTGGGCGACGGTCAAGTCCTAGTTACTCCCCAACCTGCCCTTAAGTTTTAGGTGTGATCTCCCATCCCGAGAGAGCCGGGTACTCGACTGCTTGTTGCCGGGCCATATGCTACAGGAGGCTCACGCACACAGCAGGTCTAGTGTTTAAGGCCCATTTGTATTCATAGGTGAGCAAAGAATTTGTGCGAGCTACCATGGGGTGATTACGCAACAATTCAGTCCAAAACATGTCGTCCTCGTCAAAGTGTATGATCAAAGTTACTACAGACTGGAGATCGCCTTGAACGTAAGTGCGAGAAGACGGCGCTCATCTGCGCCTCCCTAATTTCCATCGTCAGTCGTGCTAATGGCCTCTCTTCACGGCAGCTTTCGCCATCCTACTAACTTGCAGGTGTGAGCTCCATATCAAAATGGCATGTCCCTTCGCTACAACATACGAACTCTTTAGACCGATTCAGGATAGGGGCGCTGGGATCTTCTGATATTCCGAAACTTGAGCAATAACACTCCATAGGACTTGGGGCGCAATTAATTTGGACCCCGTTGCCAGCCCCAAAGAGGCTGCCTGCGCTAAA'"
      ]
     },
     "execution_count": 97,
     "metadata": {},
     "output_type": "execute_result"
    }
   ],
   "source": [
    "test_file = 'rosalind_ba5c.txt'\n",
    "with open(test_file, 'r') as reader:\n",
    "    v = reader.readline().strip('\\n')\n",
    "    w = reader.readline().strip('\\n')\n",
    "OutputLCS(v, w)\n",
    "        "
   ]
  },
  {
   "cell_type": "code",
   "execution_count": 102,
   "metadata": {
    "collapsed": true
   },
   "outputs": [],
   "source": [
    "# from https://github.com/egeulgen/Bioinformatics_Textbook_Track/blob/master/solutions/BA5C.py\n",
    "def LCS(v, w):\n",
    "    v = '-' + v\n",
    "    w = '-' + w\n",
    "\n",
    "    S = [[0 for _ in range(len(w))] for _ in range(len(v))]\n",
    "    Backtrack = [[None for _ in range(len(w))] for _ in range(len(v))]\n",
    "\n",
    "    for i in range(1, len(v)):\n",
    "        for j in range(1, len(w)):\n",
    "            tmp = S[i - 1][j - 1] + (1 if v[i] == w[j] else 0)\n",
    "            S[i][j] = max(S[i - 1][j], S[i][j - 1], tmp)\n",
    "\n",
    "            if S[i][j] == S[i - 1][j]:\n",
    "                Backtrack[i][j] = \"up\"\n",
    "            elif S[i][j] == S[i][j - 1]:\n",
    "                Backtrack[i][j] = \"left\"\n",
    "            else:\n",
    "                Backtrack[i][j] = \"diag\"\n",
    "\n",
    "    LCS = \"\"\n",
    "    while i > 0 and j > 0:\n",
    "        if Backtrack[i][j] == \"diag\":\n",
    "            LCS = v[i] + LCS\n",
    "            i -= 1\n",
    "            j -= 1\n",
    "        elif Backtrack[i][j] == \"left\":\n",
    "            j -= 1\n",
    "        else:\n",
    "            i -= 1\n",
    "\n",
    "    return LCS"
   ]
  },
  {
   "cell_type": "code",
   "execution_count": 103,
   "metadata": {},
   "outputs": [
    {
     "data": {
      "text/plain": [
       "'AACTTG'"
      ]
     },
     "execution_count": 103,
     "metadata": {},
     "output_type": "execute_result"
    }
   ],
   "source": [
    "LCS(v, w)"
   ]
  },
  {
   "cell_type": "markdown",
   "metadata": {},
   "source": [
    "**Longest Path in a DAG Problem**\n",
    "\n",
    "Find a longest path between two nodes in an edge-weighted DAG.\n",
    "\n",
    "**Given**: An integer representing the source node of a graph, followed by an integer representing the sink node of the graph, followed by an edge-weighted graph. The graph is represented by a modified adjacency list in which the notation \"0->1:7\" indicates that an edge connects node 0 to node 1 with weight 7.\n",
    "\n",
    "**Return**: The length of a longest path in the graph, followed by a longest path. (If multiple longest paths exist, you may return any one.)\n",
    "\n",
    "__If there are many topological orders, which one should I use for computing alignments?__\n",
    "all topological orderings results in the same computing alignment algorithms, so you can choose any one you like"
   ]
  },
  {
   "cell_type": "code",
   "execution_count": 106,
   "metadata": {
    "collapsed": true
   },
   "outputs": [],
   "source": [
    "# 5d find longest path in a DAG\n",
    "\n",
    "def topological_ordering(graph):\n",
    "    '''Return the topological ordering for the given graph'''\n",
    "    # initial and convert variables appropriately\n",
    "    graph = set(graph)\n",
    "    ordering = []\n",
    "    candidates = list({edge[0] for edge in graph} - {edge[1] for edge in graph})\n",
    "    print(candidates)\n",
    "    # get the topological ordering\n",
    "    while len(candidates) != 0:\n",
    "        # add the next candidate to the ordering\n",
    "        ordering.append(candidates[0])\n",
    "        \n",
    "        # remove outgoing edges and store outgoing nodes\n",
    "        temp_nodes = []\n",
    "        for edge in list(filter(lambda e:e[0] == candidates[0], graph)):\n",
    "            graph.remove(edge)\n",
    "            temp_nodes.append(edge[1])\n",
    "        \n",
    "        # add outgoing nodes to candidate list if it has no other incoming edges\n",
    "        for node in temp_nodes:\n",
    "            if node not in {edge[1] for edge in graph}:\n",
    "                candidates.append(node)\n",
    "        \n",
    "        # remove the current candidate\n",
    "        candidates = candidates[1:]\n",
    "    \n",
    "    return ordering\n",
    "\n",
    "def longest_path(graph, edges, source, sink):\n",
    "    '''Return the length and path of the longest path of a given DAG'''\n",
    "    # get the topological ordering from the source to sink, not including the source\n",
    "    graph_ordered = topological_ordering(graph)\n",
    "    graph_ordered = graph_ordered[graph_ordered.index(source) + 1: graph_ordered.index(sink) + 1]\n",
    "    \n",
    "    # initialize S and backtrack\n",
    "    S = {node: -1000 for node in {edge[0] for edge in graph.keys()} | {edge[1] for edge in graph.keys()}}\n",
    "    S[source] = 0\n",
    "    backtrack = {node: None for node in graph_ordered}\n",
    "    \n",
    "    # Iterate through the topological order to get the distances, store predecessors in backtrack\n",
    "    for node in graph_ordered:\n",
    "        try:\n",
    "            S[node], backtrack[node] = max(map(lambda e: [S[e[0]] + graph[e], e[0]], \n",
    "                                               filter(lambda e: e[1] == node, graph.keys())), key=lambda p:p[0])\n",
    "        # ValueError occurs if max() is empty, i.e. the given node has no predecessor. This is fine, as graph_ordered can include unrelated verices\n",
    "        # Ignore such nodes, as they will not factor into the longest path from source to sink\n",
    "        except ValueError:\n",
    "            pass\n",
    "        \n",
    "    # Backtrack the longest path\n",
    "    path = [sink]\n",
    "    while path[0] != source:\n",
    "        path = [backtrack[path[0]]] + path\n",
    "        \n",
    "    return S[sink], '->'.join([str(node) for node in path])"
   ]
  },
  {
   "cell_type": "code",
   "execution_count": 107,
   "metadata": {},
   "outputs": [
    {
     "name": "stdout",
     "output_type": "stream",
     "text": [
      "{0: [1, 2], 2: [3], 1: [4], 3: [4]}\n",
      "{(0, 1): 7, (0, 2): 4, (2, 3): 2, (1, 4): 1, (3, 4): 3}\n",
      "[0]\n"
     ]
    },
    {
     "data": {
      "text/plain": [
       "(9, '0->2->3->4')"
      ]
     },
     "execution_count": 107,
     "metadata": {},
     "output_type": "execute_result"
    }
   ],
   "source": [
    "input_test = ['0->1:7', '0->2:4', '2->3:2', '1->4:1', '3->4:3']\n",
    "edges, edge_weight = {}, {}\n",
    "for pair in [line.strip().split('->') for line in input_test]:\n",
    "    if int(pair[0]) not in edges:\n",
    "        edges[int(pair[0])] = [int(pair[1].split(':')[0])]\n",
    "    else:\n",
    "        edges[int(pair[0])].append(int(pair[1].split(':')[0]))\n",
    "\n",
    "    edge_weight[int(pair[0]), int(pair[1].split(':')[0])] = int(pair[1].split(':')[1])\n",
    "print(edges)\n",
    "print(edge_weight)\n",
    "source = 0\n",
    "sink = 4\n",
    "longest_path(edge_weight, edges, source, sink)"
   ]
  },
  {
   "cell_type": "code",
   "execution_count": 127,
   "metadata": {},
   "outputs": [
    {
     "name": "stdout",
     "output_type": "stream",
     "text": [
      "[0, 2, 3, 1, 4]\n",
      "[0, 2, 3, 4]\n",
      "9\n"
     ]
    }
   ],
   "source": [
    "import networkx as nx\n",
    "\n",
    "dg = nx.DiGraph()\n",
    "dg.add_weighted_edges_from([(0, 1, 7), (0, 2, 4), (2, 3, 2), (1, 4, 1), (3, 4, 3)])\n",
    "print(list(nx.topological_sort(dg)))\n",
    "print(nx.dag.dag_longest_path(dg))\n",
    "print(nx.dag.dag_longest_path_length(dg))"
   ]
  },
  {
   "cell_type": "code",
   "execution_count": 133,
   "metadata": {},
   "outputs": [
    {
     "name": "stdout",
     "output_type": "stream",
     "text": [
      "13 46\n",
      "[0, 1, 2, 3, 34, 5, 6, 7, 9, 11, 13, 14, 20]\n"
     ]
    },
    {
     "data": {
      "text/plain": [
       "(39, '13->46')"
      ]
     },
     "execution_count": 133,
     "metadata": {},
     "output_type": "execute_result"
    }
   ],
   "source": [
    "with open('rosalind_ba5d.txt') as input_data:\n",
    "    source, sink = [int(input_data.readline()) for repeat in range(2)]\n",
    "\n",
    "    # Construct the edges and edge weights.\n",
    "    edges, edge_weight = {}, {}\n",
    "    for pair in [line.strip().split('->') for line in input_data.readlines()]:\n",
    "        if int(pair[0]) not in edges:\n",
    "            edges[int(pair[0])] = [int(pair[1].split(':')[0])]\n",
    "        else:\n",
    "            edges[int(pair[0])].append(int(pair[1].split(':')[0]))\n",
    "\n",
    "        edge_weight[int(pair[0]), int(pair[1].split(':')[0])] = int(pair[1].split(':')[1])\n",
    "print(source, sink)\n",
    "longest_path(edge_weight, edges, source, sink)\n"
   ]
  },
  {
   "cell_type": "code",
   "execution_count": 138,
   "metadata": {},
   "outputs": [
    {
     "name": "stdout",
     "output_type": "stream",
     "text": [
      "[5, 21, 27, 32, 44, 47]\n",
      "146\n",
      "0\n",
      "[13, 46] 39\n"
     ]
    }
   ],
   "source": [
    "edge_weight_for_nx = []\n",
    "for edge in edge_weight:\n",
    "    edge_weight_for_nx.append((edge[0], edge[1], edge_weight[edge]))\n",
    "dg = nx.DiGraph()\n",
    "dg.add_weighted_edges_from(edge_weight_for_nx)\n",
    "print(nx.dag.dag_longest_path(dg))\n",
    "print(nx.dag.dag_longest_path_length(dg))\n",
    "\n",
    "# for two nodes\n",
    "nodes_in_longest_path = max(nx.all_simple_paths(dg, source, sink), key = lambda x: x[1])\n",
    "length = 0\n",
    "for i in range(0, len(nodes_in_longest_path)-1):\n",
    "    length += edge_weight[(nodes_in_longest_path[i], nodes_in_longest_path[i+1])]\n",
    "print(nodes_in_longest_path, length)"
   ]
  },
  {
   "cell_type": "code",
   "execution_count": 4,
   "metadata": {
    "collapsed": true
   },
   "outputs": [],
   "source": [
    "BLOSUM62 = {\n",
    "    ('W', 'F'): 1, ('L', 'R'): -2, ('S', 'P'): -1, ('V', 'T'): 0,\n",
    "    ('Q', 'Q'): 5, ('N', 'A'): -2, ('Z', 'Y'): -2, ('W', 'R'): -3,\n",
    "    ('Q', 'A'): -1, ('S', 'D'): 0, ('H', 'H'): 8, ('S', 'H'): -1,\n",
    "    ('H', 'D'): -1, ('L', 'N'): -3, ('W', 'A'): -3, ('Y', 'M'): -1,\n",
    "    ('G', 'R'): -2, ('Y', 'I'): -1, ('Y', 'E'): -2, ('B', 'Y'): -3,\n",
    "    ('Y', 'A'): -2, ('V', 'D'): -3, ('B', 'S'): 0, ('Y', 'Y'): 7,\n",
    "    ('G', 'N'): 0, ('E', 'C'): -4, ('Y', 'Q'): -1, ('Z', 'Z'): 4,\n",
    "    ('V', 'A'): 0, ('C', 'C'): 9, ('M', 'R'): -1, ('V', 'E'): -2,\n",
    "    ('T', 'N'): 0, ('P', 'P'): 7, ('V', 'I'): 3, ('V', 'S'): -2,\n",
    "    ('Z', 'P'): -1, ('V', 'M'): 1, ('T', 'F'): -2, ('V', 'Q'): -2,\n",
    "    ('K', 'K'): 5, ('P', 'D'): -1, ('I', 'H'): -3, ('I', 'D'): -3,\n",
    "    ('T', 'R'): -1, ('P', 'L'): -3, ('K', 'G'): -2, ('M', 'N'): -2,\n",
    "    ('P', 'H'): -2, ('F', 'Q'): -3, ('Z', 'G'): -2, ('X', 'L'): -1,\n",
    "    ('T', 'M'): -1, ('Z', 'C'): -3, ('X', 'H'): -1, ('D', 'R'): -2,\n",
    "    ('B', 'W'): -4, ('X', 'D'): -1, ('Z', 'K'): 1, ('F', 'A'): -2,\n",
    "    ('Z', 'W'): -3, ('F', 'E'): -3, ('D', 'N'): 1, ('B', 'K'): 0,\n",
    "    ('X', 'X'): -1, ('F', 'I'): 0, ('B', 'G'): -1, ('X', 'T'): 0,\n",
    "    ('F', 'M'): 0, ('B', 'C'): -3, ('Z', 'I'): -3, ('Z', 'V'): -2,\n",
    "    ('S', 'S'): 4, ('L', 'Q'): -2, ('W', 'E'): -3, ('Q', 'R'): 1,\n",
    "    ('N', 'N'): 6, ('W', 'M'): -1, ('Q', 'C'): -3, ('W', 'I'): -3,\n",
    "    ('S', 'C'): -1, ('L', 'A'): -1, ('S', 'G'): 0, ('L', 'E'): -3,\n",
    "    ('W', 'Q'): -2, ('H', 'G'): -2, ('S', 'K'): 0, ('Q', 'N'): 0,\n",
    "    ('N', 'R'): 0, ('H', 'C'): -3, ('Y', 'N'): -2, ('G', 'Q'): -2,\n",
    "    ('Y', 'F'): 3, ('C', 'A'): 0, ('V', 'L'): 1, ('G', 'E'): -2,\n",
    "    ('G', 'A'): 0, ('K', 'R'): 2, ('E', 'D'): 2, ('Y', 'R'): -2,\n",
    "    ('M', 'Q'): 0, ('T', 'I'): -1, ('C', 'D'): -3, ('V', 'F'): -1,\n",
    "    ('T', 'A'): 0, ('T', 'P'): -1, ('B', 'P'): -2, ('T', 'E'): -1,\n",
    "    ('V', 'N'): -3, ('P', 'G'): -2, ('M', 'A'): -1, ('K', 'H'): -1,\n",
    "    ('V', 'R'): -3, ('P', 'C'): -3, ('M', 'E'): -2, ('K', 'L'): -2,\n",
    "    ('V', 'V'): 4, ('M', 'I'): 1, ('T', 'Q'): -1, ('I', 'G'): -4,\n",
    "    ('P', 'K'): -1, ('M', 'M'): 5, ('K', 'D'): -1, ('I', 'C'): -1,\n",
    "    ('Z', 'D'): 1, ('F', 'R'): -3, ('X', 'K'): -1, ('Q', 'D'): 0,\n",
    "    ('X', 'G'): -1, ('Z', 'L'): -3, ('X', 'C'): -2, ('Z', 'H'): 0,\n",
    "    ('B', 'L'): -4, ('B', 'H'): 0, ('F', 'F'): 6, ('X', 'W'): -2,\n",
    "    ('B', 'D'): 4, ('D', 'A'): -2, ('S', 'L'): -2, ('X', 'S'): 0,\n",
    "    ('F', 'N'): -3, ('S', 'R'): -1, ('W', 'D'): -4, ('V', 'Y'): -1,\n",
    "    ('W', 'L'): -2, ('H', 'R'): 0, ('W', 'H'): -2, ('H', 'N'): 1,\n",
    "    ('W', 'T'): -2, ('T', 'T'): 5, ('S', 'F'): -2, ('W', 'P'): -4,\n",
    "    ('L', 'D'): -4, ('B', 'I'): -3, ('L', 'H'): -3, ('S', 'N'): 1,\n",
    "    ('B', 'T'): -1, ('L', 'L'): 4, ('Y', 'K'): -2, ('E', 'Q'): 2,\n",
    "    ('Y', 'G'): -3, ('Z', 'S'): 0, ('Y', 'C'): -2, ('G', 'D'): -1,\n",
    "    ('B', 'V'): -3, ('E', 'A'): -1, ('Y', 'W'): 2, ('E', 'E'): 5,\n",
    "    ('Y', 'S'): -2, ('C', 'N'): -3, ('V', 'C'): -1, ('T', 'H'): -2,\n",
    "    ('P', 'R'): -2, ('V', 'G'): -3, ('T', 'L'): -1, ('V', 'K'): -2,\n",
    "    ('K', 'Q'): 1, ('R', 'A'): -1, ('I', 'R'): -3, ('T', 'D'): -1,\n",
    "    ('P', 'F'): -4, ('I', 'N'): -3, ('K', 'I'): -3, ('M', 'D'): -3,\n",
    "    ('V', 'W'): -3, ('W', 'W'): 11, ('M', 'H'): -2, ('P', 'N'): -2,\n",
    "    ('K', 'A'): -1, ('M', 'L'): 2, ('K', 'E'): 1, ('Z', 'E'): 4,\n",
    "    ('X', 'N'): -1, ('Z', 'A'): -1, ('Z', 'M'): -1, ('X', 'F'): -1,\n",
    "    ('K', 'C'): -3, ('B', 'Q'): 0, ('X', 'B'): -1, ('B', 'M'): -3,\n",
    "    ('F', 'C'): -2, ('Z', 'Q'): 3, ('X', 'Z'): -1, ('F', 'G'): -3,\n",
    "    ('B', 'E'): 1, ('X', 'V'): -1, ('F', 'K'): -3, ('B', 'A'): -2,\n",
    "    ('X', 'R'): -1, ('D', 'D'): 6, ('W', 'G'): -2, ('Z', 'F'): -3,\n",
    "    ('S', 'Q'): 0, ('W', 'C'): -2, ('W', 'K'): -3, ('H', 'Q'): 0,\n",
    "    ('L', 'C'): -1, ('W', 'N'): -4, ('S', 'A'): 1, ('L', 'G'): -4,\n",
    "    ('W', 'S'): -3, ('S', 'E'): 0, ('H', 'E'): 0, ('S', 'I'): -2,\n",
    "    ('H', 'A'): -2, ('S', 'M'): -1, ('Y', 'L'): -1, ('Y', 'H'): 2,\n",
    "    ('Y', 'D'): -3, ('E', 'R'): 0, ('X', 'P'): -2, ('G', 'G'): 6,\n",
    "    ('G', 'C'): -3, ('E', 'N'): 0, ('Y', 'T'): -2, ('Y', 'P'): -3,\n",
    "    ('T', 'K'): -1, ('A', 'A'): 4, ('P', 'Q'): -1, ('T', 'C'): -1,\n",
    "    ('V', 'H'): -3, ('T', 'G'): -2, ('I', 'Q'): -3, ('Z', 'T'): -1,\n",
    "    ('C', 'R'): -3, ('V', 'P'): -2, ('P', 'E'): -1, ('M', 'C'): -1,\n",
    "    ('K', 'N'): 0, ('I', 'I'): 4, ('P', 'A'): -1, ('M', 'G'): -3,\n",
    "    ('T', 'S'): 1, ('I', 'E'): -3, ('P', 'M'): -2, ('M', 'K'): -1,\n",
    "    ('I', 'A'): -1, ('P', 'I'): -3, ('R', 'R'): 5, ('X', 'M'): -1,\n",
    "    ('L', 'I'): 2, ('X', 'I'): -1, ('Z', 'B'): 1, ('X', 'E'): -1,\n",
    "    ('Z', 'N'): 0, ('X', 'A'): 0, ('B', 'R'): -1, ('B', 'N'): 3,\n",
    "    ('F', 'D'): -3, ('X', 'Y'): -1, ('Z', 'R'): 0, ('F', 'H'): -1,\n",
    "    ('B', 'F'): -3, ('F', 'L'): 0, ('X', 'Q'): -1, ('B', 'B'): 4\n",
    "}\n",
    "\n",
    "PAM250 = {'A': {'A': 2, 'C': -2, 'D': 0, 'E': 0, 'F': -3, 'G': 1, 'H': -1, 'I': -1, 'K': -1, 'L': -2, 'M': -1, 'N': 0,\n",
    "                'P': 1, 'Q': 0, 'R': -2, 'S': 1, 'T': 1, 'V': 0, 'W': -6, 'Y': -3},\n",
    "          'C': {'A': -2, 'C': 12, 'D': -5, 'E': -5, 'F': -4, 'G': -3, 'H': -3, 'I': -2, 'K': -5, 'L': -6, 'M': -5,\n",
    "                'N': -4, 'P': -3, 'Q': -5, 'R': -4, 'S': 0, 'T': -2, 'V': -2, 'W': -8, 'Y': 0},\n",
    "          'D': {'A': 0, 'C': -5, 'D': 4, 'E': 3, 'F': -6, 'G': 1, 'H': 1, 'I': -2, 'K': 0, 'L': -4, 'M': -3, 'N': 2,\n",
    "                'P': -1, 'Q': 2, 'R': -1, 'S': 0, 'T': 0, 'V': -2, 'W': -7, 'Y': -4},\n",
    "          'E': {'A': 0, 'C': -5, 'D': 3, 'E': 4, 'F': -5, 'G': 0, 'H': 1, 'I': -2, 'K': 0, 'L': -3, 'M': -2, 'N': 1,\n",
    "                'P': -1, 'Q': 2, 'R': -1, 'S': 0, 'T': 0, 'V': -2, 'W': -7, 'Y': -4},\n",
    "          'F': {'A': -3, 'C': -4, 'D': -6, 'E': -5, 'F': 9, 'G': -5, 'H': -2, 'I': 1, 'K': -5, 'L': 2, 'M': 0, 'N': -3,\n",
    "                'P': -5, 'Q': -5, 'R': -4, 'S': -3, 'T': -3, 'V': -1, 'W': 0, 'Y': 7},\n",
    "          'G': {'A': 1, 'C': -3, 'D': 1, 'E': 0, 'F': -5, 'G': 5, 'H': -2, 'I': -3, 'K': -2, 'L': -4, 'M': -3, 'N': 0,\n",
    "                'P': 0, 'Q': -1, 'R': -3, 'S': 1, 'T': 0, 'V': -1, 'W': -7, 'Y': -5},\n",
    "          'H': {'A': -1, 'C': -3, 'D': 1, 'E': 1, 'F': -2, 'G': -2, 'H': 6, 'I': -2, 'K': 0, 'L': -2, 'M': -2, 'N': 2,\n",
    "                'P': 0, 'Q': 3, 'R': 2, 'S': -1, 'T': -1, 'V': -2, 'W': -3, 'Y': 0},\n",
    "          'I': {'A': -1, 'C': -2, 'D': -2, 'E': -2, 'F': 1, 'G': -3, 'H': -2, 'I': 5, 'K': -2, 'L': 2, 'M': 2, 'N': -2,\n",
    "                'P': -2, 'Q': -2, 'R': -2, 'S': -1, 'T': 0, 'V': 4, 'W': -5, 'Y': -1},\n",
    "          'K': {'A': -1, 'C': -5, 'D': 0, 'E': 0, 'F': -5, 'G': -2, 'H': 0, 'I': -2, 'K': 5, 'L': -3, 'M': 0, 'N': 1,\n",
    "                'P': -1, 'Q': 1, 'R': 3, 'S': 0, 'T': 0, 'V': -2, 'W': -3, 'Y': -4},\n",
    "          'L': {'A': -2, 'C': -6, 'D': -4, 'E': -3, 'F': 2, 'G': -4, 'H': -2, 'I': 2, 'K': -3, 'L': 6, 'M': 4, 'N': -3,\n",
    "                'P': -3, 'Q': -2, 'R': -3, 'S': -3, 'T': -2, 'V': 2, 'W': -2, 'Y': -1},\n",
    "          'M': {'A': -1, 'C': -5, 'D': -3, 'E': -2, 'F': 0, 'G': -3, 'H': -2, 'I': 2, 'K': 0, 'L': 4, 'M': 6, 'N': -2,\n",
    "                'P': -2, 'Q': -1, 'R': 0, 'S': -2, 'T': -1, 'V': 2, 'W': -4, 'Y': -2},\n",
    "          'N': {'A': 0, 'C': -4, 'D': 2, 'E': 1, 'F': -3, 'G': 0, 'H': 2, 'I': -2, 'K': 1, 'L': -3, 'M': -2, 'N': 2,\n",
    "                'P': 0, 'Q': 1, 'R': 0, 'S': 1, 'T': 0, 'V': -2, 'W': -4, 'Y': -2},\n",
    "          'P': {'A': 1, 'C': -3, 'D': -1, 'E': -1, 'F': -5, 'G': 0, 'H': 0, 'I': -2, 'K': -1, 'L': -3, 'M': -2, 'N': 0,\n",
    "                'P': 6, 'Q': 0, 'R': 0, 'S': 1, 'T': 0, 'V': -1, 'W': -6, 'Y': -5},\n",
    "          'Q': {'A': 0, 'C': -5, 'D': 2, 'E': 2, 'F': -5, 'G': -1, 'H': 3, 'I': -2, 'K': 1, 'L': -2, 'M': -1, 'N': 1,\n",
    "                'P': 0, 'Q': 4, 'R': 1, 'S': -1, 'T': -1, 'V': -2, 'W': -5, 'Y': -4},\n",
    "          'R': {'A': -2, 'C': -4, 'D': -1, 'E': -1, 'F': -4, 'G': -3, 'H': 2, 'I': -2, 'K': 3, 'L': -3, 'M': 0, 'N': 0,\n",
    "                'P': 0, 'Q': 1, 'R': 6, 'S': 0, 'T': -1, 'V': -2, 'W': 2, 'Y': -4},\n",
    "          'S': {'A': 1, 'C': 0, 'D': 0, 'E': 0, 'F': -3, 'G': 1, 'H': -1, 'I': -1, 'K': 0, 'L': -3, 'M': -2, 'N': 1,\n",
    "                'P': 1, 'Q': -1, 'R': 0, 'S': 2, 'T': 1, 'V': -1, 'W': -2, 'Y': -3},\n",
    "          'T': {'A': 1, 'C': -2, 'D': 0, 'E': 0, 'F': -3, 'G': 0, 'H': -1, 'I': 0, 'K': 0, 'L': -2, 'M': -1, 'N': 0,\n",
    "                'P': 0, 'Q': -1, 'R': -1, 'S': 1, 'T': 3, 'V': 0, 'W': -5, 'Y': -3},\n",
    "          'V': {'A': 0, 'C': -2, 'D': -2, 'E': -2, 'F': -1, 'G': -1, 'H': -2, 'I': 4, 'K': -2, 'L': 2, 'M': 2, 'N': -2,\n",
    "                'P': -1, 'Q': -2, 'R': -2, 'S': -1, 'T': 0, 'V': 4, 'W': -6, 'Y': -2},\n",
    "          'W': {'A': -6, 'C': -8, 'D': -7, 'E': -7, 'F': 0, 'G': -7, 'H': -3, 'I': -5, 'K': -3, 'L': -2, 'M': -4,\n",
    "                'N': -4, 'P': -6, 'Q': -5, 'R': 2, 'S': -2, 'T': -5, 'V': -6, 'W': 17, 'Y': 0},\n",
    "          'Y': {'A': -3, 'C': 0, 'D': -4, 'E': -4, 'F': 7, 'G': -5, 'H': 0, 'I': -1, 'K': -4, 'L': -1, 'M': -2, 'N': -2,\n",
    "                'P': -5, 'Q': -4, 'R': -4, 'S': -3, 'T': -3, 'V': -2, 'W': 0, 'Y': 10}}"
   ]
  },
  {
   "cell_type": "markdown",
   "metadata": {},
   "source": [
    "**Global Alignment Problem**\n",
    "\n",
    "Find the highest-scoring alignment between two strings using a scoring matrix.\n",
    "\n",
    "**Given**: Two amino acid strings.\n",
    "\n",
    "**Return**: The maximum alignment score of these strings followed by an alignment achieving this maximum score. Use the BLOSUM62 scoring matrix and indel penalty σ = 5. (If multiple alignments achieving the maximum score exist, you may return any one.)"
   ]
  },
  {
   "cell_type": "code",
   "execution_count": 21,
   "metadata": {
    "collapsed": true
   },
   "outputs": [],
   "source": [
    "# 5e global alignment\n",
    "# https://github.com/egeulgen/Bioinformatics_Textbook_Track/blob/master/solutions/BA5E.py\n",
    "def GlobalAlignment(str1, str2, indel_penalty = 5):\n",
    "    str1 = '-' + str1\n",
    "    str2 = '-' + str2\n",
    "    \n",
    "    score_mat = [[0 for _ in range(len(str2))] for _ in range(len(str1))]\n",
    "    backtrack_mat = [[None for _ in range(len(str2))] for _ in range(len(str1))]\n",
    "    \n",
    "    for i in range(len(str1)):\n",
    "        score_mat[i][0] = -indel_penalty * i\n",
    "        backtrack_mat[i][0] = 'u'\n",
    "    \n",
    "    for j in range(len(str2)):\n",
    "        score_mat[0][j] = -indel_penalty*i\n",
    "        backtrack_mat[0][j] = 'l'\n",
    "        \n",
    "    for i in range(1, len(str1)):\n",
    "        for j in range(1, len(str2)):\n",
    "            if (str1[i], str2[j]) in BLOSUM62:\n",
    "                key = (str1[i], str2[j])\n",
    "            else:\n",
    "                key = (str2[j], str1[i])\n",
    "            \n",
    "            score1 = score_mat[i-1][j-1] + BLOSUM62[key]\n",
    "            score2 = score_mat[i-1][j] - indel_penalty\n",
    "            score3 = score_mat[i][j-1] - indel_penalty\n",
    "            score_mat[i][j] = max(score1, score2, score3)\n",
    "            \n",
    "            if score_mat[i][j] == score1:\n",
    "                backtrack_mat[i][j] = 'diag'\n",
    "            elif score_mat[i][j] == score2:\n",
    "                backtrack_mat[i][j] = 'down'\n",
    "            elif score_mat[i][j] == score3:\n",
    "                backtrack_mat[i][j] = 'right'\n",
    "    \n",
    "    i = len(str1) - 1\n",
    "    j = len(str2) - 1\n",
    "    \n",
    "    aligned_1, aligned_2 = '', ''\n",
    "    while backtrack_mat[i][j] is not None:\n",
    "        if backtrack_mat[i][j] == 'diag':\n",
    "            aligned_1 = str1[i] + aligned_1\n",
    "            aligned_2 = str2[j] + aligned_2\n",
    "            i -= 1\n",
    "            j -= 1\n",
    "        elif backtrack_mat[i][j] == 'down':\n",
    "            aligned_1 = str1[i] + aligned_1\n",
    "            aligned_2 = '-' + aligned_2\n",
    "            i -= 1\n",
    "            \n",
    "        elif backtrack_mat[i][j] == 'right':\n",
    "            aligned_1 = '-' + aligned_1\n",
    "            aligned_2 = str2[j] + aligned_2\n",
    "            j -= 1\n",
    "    \n",
    "    return score_mat[len(str1) - 1][len(str2) - 1], aligned_1, aligned_2"
   ]
  },
  {
   "cell_type": "code",
   "execution_count": 22,
   "metadata": {},
   "outputs": [
    {
     "ename": "KeyboardInterrupt",
     "evalue": "",
     "output_type": "error",
     "traceback": [
      "\u001b[0;31m---------------------------------------------------------------------------\u001b[0m",
      "\u001b[0;31mKeyboardInterrupt\u001b[0m                         Traceback (most recent call last)",
      "\u001b[0;32m<ipython-input-22-0d3d26e9c376>\u001b[0m in \u001b[0;36m<module>\u001b[0;34m()\u001b[0m\n\u001b[0;32m----> 1\u001b[0;31m \u001b[0mGlobalAlignment\u001b[0m\u001b[0;34m(\u001b[0m\u001b[0;34m'PLEASANTLY'\u001b[0m\u001b[0;34m,\u001b[0m \u001b[0;34m'MEANLY'\u001b[0m\u001b[0;34m)\u001b[0m\u001b[0;34m\u001b[0m\u001b[0;34m\u001b[0m\u001b[0m\n\u001b[0m",
      "\u001b[0;32m<ipython-input-21-be879eb3120c>\u001b[0m in \u001b[0;36mGlobalAlignment\u001b[0;34m(str1, str2, indel_penalty)\u001b[0m\n\u001b[1;32m     50\u001b[0m             \u001b[0mi\u001b[0m \u001b[0;34m-=\u001b[0m \u001b[0;36m1\u001b[0m\u001b[0;34m\u001b[0m\u001b[0;34m\u001b[0m\u001b[0m\n\u001b[1;32m     51\u001b[0m \u001b[0;34m\u001b[0m\u001b[0m\n\u001b[0;32m---> 52\u001b[0;31m         \u001b[0;32melif\u001b[0m \u001b[0mbacktrack_mat\u001b[0m\u001b[0;34m[\u001b[0m\u001b[0mi\u001b[0m\u001b[0;34m]\u001b[0m\u001b[0;34m[\u001b[0m\u001b[0mj\u001b[0m\u001b[0;34m]\u001b[0m \u001b[0;34m==\u001b[0m \u001b[0;34m'right'\u001b[0m\u001b[0;34m:\u001b[0m\u001b[0;34m\u001b[0m\u001b[0;34m\u001b[0m\u001b[0m\n\u001b[0m\u001b[1;32m     53\u001b[0m             \u001b[0maligned_1\u001b[0m \u001b[0;34m=\u001b[0m \u001b[0;34m'-'\u001b[0m \u001b[0;34m+\u001b[0m \u001b[0maligned_1\u001b[0m\u001b[0;34m\u001b[0m\u001b[0;34m\u001b[0m\u001b[0m\n\u001b[1;32m     54\u001b[0m             \u001b[0maligned_2\u001b[0m \u001b[0;34m=\u001b[0m \u001b[0mstr2\u001b[0m\u001b[0;34m[\u001b[0m\u001b[0mj\u001b[0m\u001b[0;34m]\u001b[0m \u001b[0;34m+\u001b[0m \u001b[0maligned_2\u001b[0m\u001b[0;34m\u001b[0m\u001b[0;34m\u001b[0m\u001b[0m\n",
      "\u001b[0;31mKeyboardInterrupt\u001b[0m: "
     ]
    }
   ],
   "source": [
    "GlobalAlignment('PLEASANTLY', 'MEANLY')"
   ]
  },
  {
   "cell_type": "code",
   "execution_count": 57,
   "metadata": {},
   "outputs": [
    {
     "ename": "KeyboardInterrupt",
     "evalue": "",
     "output_type": "error",
     "traceback": [
      "\u001b[0;31m---------------------------------------------------------------------------\u001b[0m",
      "\u001b[0;31mKeyboardInterrupt\u001b[0m                         Traceback (most recent call last)",
      "\u001b[0;32m<ipython-input-57-3996f1106e42>\u001b[0m in \u001b[0;36m<module>\u001b[0;34m()\u001b[0m\n\u001b[1;32m      3\u001b[0m     \u001b[0mstr2\u001b[0m \u001b[0;34m=\u001b[0m \u001b[0mreader\u001b[0m\u001b[0;34m.\u001b[0m\u001b[0mreadline\u001b[0m\u001b[0;34m(\u001b[0m\u001b[0;34m)\u001b[0m\u001b[0;34m.\u001b[0m\u001b[0mstrip\u001b[0m\u001b[0;34m(\u001b[0m\u001b[0;34m'\\n'\u001b[0m\u001b[0;34m)\u001b[0m\u001b[0;34m\u001b[0m\u001b[0;34m\u001b[0m\u001b[0m\n\u001b[1;32m      4\u001b[0m \u001b[0;34m\u001b[0m\u001b[0m\n\u001b[0;32m----> 5\u001b[0;31m \u001b[0;32mfor\u001b[0m \u001b[0mi\u001b[0m \u001b[0;32min\u001b[0m \u001b[0mGlobalAlignment\u001b[0m\u001b[0;34m(\u001b[0m\u001b[0mstr1\u001b[0m\u001b[0;34m,\u001b[0m \u001b[0mstr2\u001b[0m\u001b[0;34m)\u001b[0m\u001b[0;34m:\u001b[0m\u001b[0;34m\u001b[0m\u001b[0;34m\u001b[0m\u001b[0m\n\u001b[0m\u001b[1;32m      6\u001b[0m     \u001b[0mprint\u001b[0m\u001b[0;34m(\u001b[0m\u001b[0mi\u001b[0m\u001b[0;34m)\u001b[0m\u001b[0;34m\u001b[0m\u001b[0;34m\u001b[0m\u001b[0m\n",
      "\u001b[0;32m<ipython-input-54-788592d6a62d>\u001b[0m in \u001b[0;36mGlobalAlignment\u001b[0;34m(str1, str2, indel_penalty)\u001b[0m\n\u001b[1;32m     25\u001b[0m             \u001b[0mscore1\u001b[0m \u001b[0;34m=\u001b[0m \u001b[0mscore_mat\u001b[0m\u001b[0;34m[\u001b[0m\u001b[0mi\u001b[0m\u001b[0;34m-\u001b[0m\u001b[0;36m1\u001b[0m\u001b[0;34m]\u001b[0m\u001b[0;34m[\u001b[0m\u001b[0mj\u001b[0m\u001b[0;34m-\u001b[0m\u001b[0;36m1\u001b[0m\u001b[0;34m]\u001b[0m \u001b[0;34m+\u001b[0m \u001b[0mBLOSUM62\u001b[0m\u001b[0;34m[\u001b[0m\u001b[0mkey\u001b[0m\u001b[0;34m]\u001b[0m\u001b[0;34m\u001b[0m\u001b[0;34m\u001b[0m\u001b[0m\n\u001b[1;32m     26\u001b[0m             \u001b[0mscore2\u001b[0m \u001b[0;34m=\u001b[0m \u001b[0mscore_mat\u001b[0m\u001b[0;34m[\u001b[0m\u001b[0mi\u001b[0m\u001b[0;34m-\u001b[0m\u001b[0;36m1\u001b[0m\u001b[0;34m]\u001b[0m\u001b[0;34m[\u001b[0m\u001b[0mj\u001b[0m\u001b[0;34m]\u001b[0m \u001b[0;34m-\u001b[0m \u001b[0mindel_penalty\u001b[0m\u001b[0;34m\u001b[0m\u001b[0;34m\u001b[0m\u001b[0m\n\u001b[0;32m---> 27\u001b[0;31m             \u001b[0mscore3\u001b[0m \u001b[0;34m=\u001b[0m \u001b[0mscore_mat\u001b[0m\u001b[0;34m[\u001b[0m\u001b[0mi\u001b[0m\u001b[0;34m]\u001b[0m\u001b[0;34m[\u001b[0m\u001b[0mj\u001b[0m\u001b[0;34m-\u001b[0m\u001b[0;36m1\u001b[0m\u001b[0;34m]\u001b[0m \u001b[0;34m-\u001b[0m \u001b[0mindel_penalty\u001b[0m\u001b[0;34m\u001b[0m\u001b[0;34m\u001b[0m\u001b[0m\n\u001b[0m\u001b[1;32m     28\u001b[0m             \u001b[0mscore_mat\u001b[0m\u001b[0;34m[\u001b[0m\u001b[0mi\u001b[0m\u001b[0;34m]\u001b[0m\u001b[0;34m[\u001b[0m\u001b[0mj\u001b[0m\u001b[0;34m]\u001b[0m \u001b[0;34m=\u001b[0m \u001b[0mmax\u001b[0m\u001b[0;34m(\u001b[0m\u001b[0mscore1\u001b[0m\u001b[0;34m,\u001b[0m \u001b[0mscore2\u001b[0m\u001b[0;34m,\u001b[0m \u001b[0mscore3\u001b[0m\u001b[0;34m)\u001b[0m\u001b[0;34m\u001b[0m\u001b[0;34m\u001b[0m\u001b[0m\n\u001b[1;32m     29\u001b[0m \u001b[0;34m\u001b[0m\u001b[0m\n",
      "\u001b[0;31mKeyboardInterrupt\u001b[0m: "
     ]
    }
   ],
   "source": [
    "with open('rosalind_ba5e.txt', 'r') as reader:\n",
    "    str1 = reader.readline().strip('\\n')\n",
    "    str2 = reader.readline().strip('\\n')\n",
    "\n",
    "for i in GlobalAlignment(str1, str2):\n",
    "    print(i)"
   ]
  },
  {
   "cell_type": "markdown",
   "metadata": {},
   "source": [
    "**Local Alignment Problem**\n",
    "\n",
    "Find the highest-scoring local alignment between two strings.\n",
    "\n",
    "**Given**: Two amino acid strings.\n",
    "\n",
    "**Return**: The maximum score of a local alignment of the strings, followed by a local alignment of these strings achieving the maximum score. Use the PAM250 scoring matrix and indel penalty σ = 5. (If multiple local alignments achieving the maximum score exist, you may return any one.)\n",
    "\n",
    "__How do we know where the conserved region in a local alignment starts and ends?__\n",
    "If we knew in advance where the conserved region between 2 strings begins and ends, then we could simply change the source and sink to be the starting and ending nodes of the conserved interval. However, the key point is that we do not know this information in advance. Fortunately, since local alignment adds free taxi rides from the source (0, 0) to every node (and from every node to the sink (n, m)) of the alignment graph, it explores all possible starting and ending positions of conserved region.\n",
    "\n",
    "__When to use global/local alignment__?\n",
    "Unless biologists have a good reason to align entire strings (e.g. alignment of genes between very close species such as human and chimpanzee), they use local alignment.\n",
    "\n",
    "__Advantages of global over local?__\n",
    "When biologists analyze the evolutionary history of a protein across various species, they often use global alignment. Also, most multiple alignment tools align entire sequences, rather than their substrings, as it is difficult to determine which substrings to align in the case of multiple proteins."
   ]
  },
  {
   "cell_type": "code",
   "execution_count": 17,
   "metadata": {
    "collapsed": true
   },
   "outputs": [],
   "source": [
    "# 5f local alignment\n",
    "# https://github.com/egeulgen/Bioinformatics_Textbook_Track/blob/master/solutions/BA5F.py\n",
    "def LocalAlignment(str1, str2, indel_penalty = 5):\n",
    "    str1 = '-' + str1\n",
    "    str2 = '-' + str2\n",
    "    \n",
    "    score_mat = [[0 for _ in range(len(str2))] for _ in range(len(str1))]\n",
    "    backtrack_mat = [[None for _ in range(len(str2))] for _ in range(len(str1))]\n",
    "    \n",
    "    for i in range(1, len(str1)):\n",
    "        for j in range(1, len(str2)):\n",
    "            if str1[i] in PAM250.keys():\n",
    "                key1 = str1[i]\n",
    "                key2 = str2[j]\n",
    "            else:\n",
    "                key1 = str2[j]\n",
    "                key2 = str1[i]\n",
    "            \n",
    "            score1 = score_mat[i-1][j-1] + PAM250[key1][key2]\n",
    "            score2 = score_mat[i-1][j] - indel_penalty\n",
    "            score3 = score_mat[i][j-1] - indel_penalty\n",
    "            score_mat[i][j] = max(score1, score2, score3, 0)\n",
    "            \n",
    "            if score_mat[i][j] == score1:\n",
    "                backtrack_mat[i][j] = 'diag'\n",
    "            elif score_mat[i][j] == score2:\n",
    "                backtrack_mat[i][j] = 'down'\n",
    "            elif score_mat[i][j] == score3:\n",
    "                backtrack_mat[i][j] = 'right'\n",
    "                \n",
    "    max_score = -1\n",
    "    for i in range(len(str1)):\n",
    "        for j in range(len(str2)):\n",
    "            if score_mat[i][j] > max_score:\n",
    "                max_score = score_mat[i][j]\n",
    "                max_i, max_j = i, j\n",
    "    \n",
    "    i, j = max_i, max_j\n",
    "    aligned_1, aligned_2 = '', ''\n",
    "    \n",
    "    while backtrack_mat[i][j] is not None:\n",
    "        direction = backtrack_mat[i][j]\n",
    "        if direction == 'diag':\n",
    "            aligned_1 = str1[i] + aligned_1\n",
    "            aligned_2 = str2[j] + aligned_2\n",
    "            i -= 1\n",
    "            j -= 1\n",
    "        elif direction == 'down':\n",
    "            aligned_1 = str1[i] + aligned_1\n",
    "            aligned_2 = '-' + aligned_2\n",
    "            i -= 1\n",
    "            \n",
    "        elif direction == 'right':\n",
    "            aligned_1 = '-' + aligned_1\n",
    "            aligned_2 = str2[j] + aligned_2\n",
    "            j -= 1\n",
    "    return max_score, aligned_1, aligned_2"
   ]
  },
  {
   "cell_type": "code",
   "execution_count": 18,
   "metadata": {},
   "outputs": [
    {
     "data": {
      "text/plain": [
       "(15, 'EANL-Y', 'ENALTY')"
      ]
     },
     "execution_count": 18,
     "metadata": {},
     "output_type": "execute_result"
    }
   ],
   "source": [
    "LocalAlignment('MEANLY', 'PENALTY')"
   ]
  },
  {
   "cell_type": "markdown",
   "metadata": {},
   "source": [
    "**Edit Distance Problem**\n",
    "\n",
    "Find the edit distance between two strings.\n",
    "\n",
    "**Given**: Two amino acid strings.\n",
    "\n",
    "**Return**: The edit distance between these strings."
   ]
  },
  {
   "cell_type": "code",
   "execution_count": 59,
   "metadata": {
    "collapsed": true
   },
   "outputs": [],
   "source": [
    "# 5g\n",
    "# https://github.com/egeulgen/Bioinformatics_Textbook_Track/blob/master/solutions/BA5G.py\n",
    "def EditDistance(str1, str2):\n",
    "    str1 = '-' + str1\n",
    "    str2 = '-' + str2\n",
    "    \n",
    "    score_mat = [[0 for _ in range(len(str2))] for _ in range(len(str1))]\n",
    "    \n",
    "    for i in range(len(str1)):\n",
    "        score_mat[i][0] = i\n",
    "    \n",
    "    for j in range(len(str2)):\n",
    "        score_mat[0][j] = j\n",
    "        \n",
    "    for i in range(1, len(str1)):\n",
    "        for j in range(1, len(str2)):\n",
    "            score1 = score_mat[i-1][j-1] + (1 if str1[i] != str2[j] else 0)\n",
    "            score2 = score_mat[i-1][j] + 1\n",
    "            score3 = score_mat[i][j-1] + 1\n",
    "            score_mat[i][j] = min(score1, score2, score3)\n",
    "    \n",
    "    return score_mat[len(str1) - 1][len(str2) - 1]"
   ]
  },
  {
   "cell_type": "code",
   "execution_count": 60,
   "metadata": {},
   "outputs": [
    {
     "data": {
      "text/plain": [
       "5"
      ]
     },
     "execution_count": 60,
     "metadata": {},
     "output_type": "execute_result"
    }
   ],
   "source": [
    "EditDistance('PLEASANTLY', 'MEANLY')"
   ]
  },
  {
   "cell_type": "code",
   "execution_count": 62,
   "metadata": {},
   "outputs": [
    {
     "data": {
      "text/plain": [
       "1981"
      ]
     },
     "execution_count": 62,
     "metadata": {},
     "output_type": "execute_result"
    }
   ],
   "source": [
    "with open('rosalind_ba5g.txt', 'r') as reader:\n",
    "    str1 = reader.readline().strip('\\n')\n",
    "    str2 = reader.readline().strip('\\n')\n",
    "EditDistance(str1, str2)"
   ]
  },
  {
   "cell_type": "markdown",
   "metadata": {},
   "source": [
    "Say that we wish to compare the approximately 20,000 amino acid-long NRP synthetase from Bacillus brevis with the approximately 600 amino acid-long A-domain from Streptomyces roseosporus, the bacterium that produces the powerful antibiotic Daptomycin. We hope to find a region within the longer protein sequence v that has high similarity with all of the shorter sequence w. Global alignment will not work because it tries to align all of v to all of w; local alignment will not work because it tries to align substrings of both v and w. Thus, we have a distinct alignment application called the Fitting Alignment Problem.\n",
    "\n",
    "“Fitting” w to v requires finding a substring v′ of v that maximizes the global alignment score between v′ and w among all substrings of v.\n",
    "\n",
    "**Fitting Alignment Problem**\n",
    "\n",
    "Construct a highest-scoring fitting alignment between two strings.\n",
    "\n",
    "**Given**: Two DNA strings v and w, where v has length at most 10000 and w has length at most 1000.\n",
    "\n",
    "**Return**: The maximum score of a fitting alignment of v and w, followed by a fitting alignment achieving this maximum score. Use the simple scoring method in which matches count +1 and both the mismatch and indel penalties are equal to 1. (If multiple fitting alignments achieving the maximum score exist, you may return any one.)"
   ]
  },
  {
   "cell_type": "code",
   "execution_count": 25,
   "metadata": {
    "collapsed": true
   },
   "outputs": [],
   "source": [
    "# 5h Fitting Alignment problem\n",
    "# https://github.com/egeulgen/Bioinformatics_Textbook_Track/blob/master/solutions/BA5H.py\n",
    "\n",
    "def FittingAlignment(str1, str2, indel_penalty = 1):\n",
    "    str1 = '-' + str1\n",
    "    str2 = '-' + str2\n",
    "    \n",
    "    score_mat = [[0 for _ in range(len(str2))] for _ in range(len(str1))]\n",
    "    backtrack_mat = [[None for _ in range(len(str2))] for _ in range(len(str1))]\n",
    "    \n",
    "    for i in range(1, len(str1)):\n",
    "        for j in range(1, len(str2)):\n",
    "            score1 = score_mat[i-1][j-1] + (1 if str1[i] == str2[j] else -1)\n",
    "            score2 = score_mat[i-1][j] - indel_penalty\n",
    "            score3 = score_mat[i][j-1] - indel_penalty\n",
    "            score_mat[i][j] = max(score1, score2, score3)\n",
    "            \n",
    "            if score_mat[i][j] == score1:\n",
    "                backtrack_mat[i][j] = 'diag'\n",
    "            elif score_mat[i][j] == score2:\n",
    "                backtrack_mat[i][j] = 'down'\n",
    "            elif score_mat[i][j] == score3:\n",
    "                backtrack_mat[i][j] = 'right'\n",
    "            \n",
    "    j = len(str2) - 1\n",
    "    \n",
    "    # get the position of the highest scoring cell corresponding to the end of the shorter word w\n",
    "    i = max(enumerate([score_mat[row][j] for row in range(len(str2)-1, len(str1) -1)]), \n",
    "            key = lambda x: x[1])[0] + len(str2) - 1\n",
    "    max_score = score_mat[i][j]\n",
    "    \n",
    "    aligned_1 = aligned_2 = ''\n",
    "    \n",
    "    while backtrack_mat[i][j] is not None:\n",
    "        direction = backtrack_mat[i][j]\n",
    "        if direction == 'diag':\n",
    "            aligned_1 = str1[i] + aligned_1\n",
    "            aligned_2 = str2[j] + aligned_2\n",
    "            i -= 1\n",
    "            j -= 1\n",
    "        elif direction == 'down':\n",
    "            aligned_1 = str1[i] + aligned_1\n",
    "            aligned_2 = '-' + aligned_2\n",
    "            i -= 1\n",
    "        else:\n",
    "            aligned_1 = '-' + aligned_1\n",
    "            aligned_2 = str2[j] + aligned_2\n",
    "            j -= 1\n",
    "        \n",
    "    return max_score, aligned_1, aligned_2"
   ]
  },
  {
   "cell_type": "code",
   "execution_count": 26,
   "metadata": {},
   "outputs": [
    {
     "data": {
      "text/plain": [
       "(2, 'TAGGCTTA', 'TA-G-ATA')"
      ]
     },
     "execution_count": 26,
     "metadata": {},
     "output_type": "execute_result"
    }
   ],
   "source": [
    "FittingAlignment('GTAGGCTTAAGGTTA', 'TAGATA')"
   ]
  },
  {
   "cell_type": "code",
   "execution_count": 27,
   "metadata": {},
   "outputs": [
    {
     "data": {
      "text/plain": [
       "(135,\n",
       " 'A-TCTGC-TAAAAATCCTTGTTAGCATAC-CTAGTATG-GCTTTGA-AATGTACCGTGGCCAG-TTGTGTGGATTGCTAGAGAGG-G-CAACCTTTCT-CCAAGCAC-TATACAACGGTCGT-ATG-C-TG-GCT--C-GGA---A-A-A-GTT-C-CCGT-TCCCTCCCAACATACAGGAGCCGCTG-CGCCACACTAG-GAGCGTTT--CCGC-T-GA----T-GATACTGTTC--G-GGC-GC-CGTAGGAAA-GATCCACTGCGTGGAGTTC-GTA-GA--AAGGATCCACAGG-GGAGCAGTG--TGA-AGCGGTGTATTTG--CTGA-GCT-AGCAT-GCTATG-G-A-TGCCAGCCTGAGCGCAAGTCGTGTATTGCC-AGCCTAGTTTTGCAGTCTTTTTG-TCTGAGCG-GCCGCCTA-AGGGTTAACGTAAAGTTACTGTA-GTTACTCG--CTGCCAAGACTTTTCGGCAGAACCCG-CGGA-GTT-----TTT--CTGGTCATACG-ACATCGGCTCGACTTACCTAGCTGCTTGCGGTGTGAGGGCTTAGGGCTCACGGCTGATAGAATGGATATA-ACCCACTTGAAAGATGCCGGAGG-CGCGGTTCAAAG-GTTAATCAGCGAGGAAATACCG--GGGGT-T-AT--TCACGTTGTTC-ATCTCAACCA-TATCACG-T-CAGCAACTCC----GGC-AGCGATAGATTAGTCCGGC--TAGGGAGGAGACTTAAGATTCTCCGTCTCGT--CAAACGGGTTCGCCTGCTGCACACCCAGGC-TTCCCGC--C--GCGTT-T-TTCTGCC-CGT----AGT-C--ACCAGACGAG-TGCCCTAGTGCTTATGGGGCGACGTTCGGTCG-TTAGTTGATC-TACG-CATGTGATCA-CAGGT-ACC--ACTGCACCT-GGTGATTC-AATCT-CGC-CCGTGATTA-CAA--CATGG-GTCCTCACTTGGTACCTATTGATA-CGC-CTAG-A-TAAATGGACCTGTAGTTTAACGAACATGTCGGCA-ACGACT-GAAAAACCTTCTGCTA-A',\n",
       " 'ATTCAACTTAAAAA--C--G-T--C--ACGCT-GTTTGCG-ATTGATAGTG-A--GT--CC-GCCCG-G-GGA----TAGAGAGGTGTC--TCTTGGTACCCTTC-CGT-T-TGACGGTCGTGAAGTCATGAGGTGGCAGGATGGACATACTTTGCGGCGTACCCCT-GCAA-GT-C-GGA-ACG--GAC-AAACACT-GCGATTATTTAACCCCGTCGATCTTTAGA-AC-GATCATGTCCCAGCACG-AGCAAATGATGTACT-C-TCTA--TCAG-AGGATCAAGGA-CC-C-GGAGTA-CAGTGAAGGACA-CAGTG-AGTTGAACACACGCTGTGC-TCGCAATGAGAACT-CCAG-C---G-GC-AG--GAG--GT-CCTA-CCTA-TTTT-CTGAC-TTACGCTC-GAG-GAG-CG-TTATATAG-TATC-T--TTTTA--GCACTTTAATGGAAATG-TAA-AC-TATCCGCAGAACAGGTC-AATGTTAAGACTTTGCCTGG---GAGGTATATC-GC-CGA--TA---A---GATTGAAGT-TGTGGG---ACCGTTCCCCG-T-ACGGAGT-GCTTTACACGC-C-T--AAGAT-CGGGAGGTTGC--TT-TAGGCGTT--TCA-C-A-G-ACCACCGTCGGGCTATCATAATCACG-TG--CGAAGT--A-CATTCTCACGCTGCAAAAAC-CCTAATTACAAG-GATTTA-TAAACTGACATTAACG-GGACA-GTAAG--TCTCC-T-TTGTGGC-AAC-GTTTAGGGAGGTCCA-ATCCA-GCATT-GTGCTACATGCGTTGTGGACTGCCGTGTGAGAAGTCCTTATC-GGCGAGATG---TAATCCTT-CGCAGCAAC--TCGGT-GACCAGCAGAACGAACGTCATGTG-T-AGCAAGTAACCTTACTTC-TTTAGGAAATTCTGAT-TGAGCACAG-CACTACCAATTC-TGGTGT-CGCAC-T-G-A---ATTCATAGAGCTCAAGTATTCAACGGAAC----GTTTCACG--CAT-T-GGCATGCGA-TAGTAACAGATTGT-TTATA')"
      ]
     },
     "execution_count": 27,
     "metadata": {},
     "output_type": "execute_result"
    }
   ],
   "source": [
    "with open('rosalind_ba5h.txt', 'r') as reader:\n",
    "    str1 = reader.readline().strip('\\n')\n",
    "    str2 = reader.readline().strip('\\n')\n",
    "FittingAlignment(str1, str2)"
   ]
  },
  {
   "cell_type": "code",
   "execution_count": 62,
   "metadata": {},
   "outputs": [
    {
     "name": "stdout",
     "output_type": "stream",
     "text": [
      "135\n",
      "AT-CTGCT-AAAAATCCTTGTTAGCATAC-CTAGTATGGCT-TTGAAATGT-ACCGTGGCCAGTT-GTGTGGATTGCTAGAGAGG-GCAAC-CTTTCT-CCAAGCAC-TATACAACGGTCGT-ATG-C-TG-GCT--C-GGA---A-A-AGTTC-C--CGTTCCCTCC-CAACATACAGGAGCCGCTGCGCCA-CACTAG-GAGCGTTT--CCGC-T-GAT-----GATACTGTTCGGG-CGCC-GTA-G-G-AAA-GATCCACTGCGTGGAGTTC-GTAG-A--AAGGATCCACAGGGG-AGCAGTGT-G-A-AGCGGTGTATTTG--CTGA-GCTA-GCAT-GCTATG-GA--TGCCAGCCTGAGCGCAAGTCGTGTATTGCC-AGCCTAGTTTTGCAGTCTTTTTGTCT-GAGCG-GCCGCCTA-AGGGTTAACGTAAAGTTACTGTAGTT-ACTCGC--TGCCAAGACTTTTCGGCAGAACCCG-CGGA-GTT-----TTT-C-TGGTCATACG-ACATCGGCTCGACTTACCTAGCTGCTTGCGGTGTGAGGGCTTAGGGCTCACGGCTGATA-GAATG-GATATA-ACCCACTTGAAAGATGCCGGAGGC-GCGGTTCAAAG-GTTAATCAGCGAGGAAATACCGG-GGG-T-T-AT--TCACGTTGTTC-ATCTCAACCATA-TCACG-T-CAGCAACTCCGGCAG--CGATAG-ATT-AGTC--CGG-CTAGGGA-GGAGACT-TAAGATTCTCCGTCTCGT--CAAACGGGTTCGCCTGCTGCACACCCAGGC-TTCCCGC--C--GCGTTTTT--CTGCCC-GT-AGTCA--CC--A--GACGAG-TGCCCTAGTGCTTATGGGGCGACGTTCGGTCGTT-AGTTGATCTA-CG-CATGTGATCA-CAGGTA-CC--ACTGCACCT-GGTGATTCA-ATCTC-GCCCGTG-ATTAC-AA--CATGG-GTCCTCACTTGGTACCTATTGATAC-GC-CTAG-ATA-AATGGACCTGTAGTTTAACGAACATGTCGGCAA-CGACT-GAAAAACCTTCTGCTA-A\n",
      "ATTCAACTTAAAAA--C--G-T--C--ACGCT-GT-TTGCGATTGATA-GTGA--GT--CC-GCCCG-G-GGA----TAGAGAGGTG--TCTCTTGGTACCCTTC-CGT-T-TGACGGTCGTGAAGTCATGAGGTGGCAGGATGGACATACTTTGCGGCGTACCC-CTGCAA-GT-C-GGA-ACG--G-ACAAACACT-GCGATTATTTAACCCCGTCGATCTTTAGA-AC-GATCATGTC-CCAGCACGAGCAAATGATGTACT-C-TCTA--TCAG-AGGATCAAGGA-CC-C-GGAGTA-CAGTGAAGGACA-CAGTG-AGTTGAACACACGCTGTGC-TCGCAATGAGAACT-CCAG-C---G-GC-AG--GAG--GT-CCTA-CCTA-TTTT-CTGAC-TTACG-CTCGAG-GAG-CG-TTATATAG-TATC-T--TTTTA--GCACTTTAATGGAAATG-TAA-AC-TATCCGCAGAACAGGTC-AATGTTAAGACTTTGCCTGG---GAGGTATATC-GC-CGA--TA---A---GATTGAAGT-TGTGGG---ACCGTTC-C--CCG-TACGGA-GTGCTTTACACGC-C-T--AAGAT-CGGGAGGTTGC--TT-TAGGCGTT--TCA-C-A-G-ACCACCGTCGGGCTATCATAATCACG-TG--CGAAGT--A-CATTCTCACGCTGCAAAAAC-CC-TAATTAC-A-AGGATTTA-TAAACTGAC-ATTAACGG-GACAGTAAG--TCTCC-T-TTGTGGC-AAC-GTTTAGGGAGGTCCA-ATCCA-GCATT-GTGCTACATGCGTTGTGGACTGCCGTGTGAG-AAGTCCTTATCGGCGAGATG---TAATCCTT-CGCAGCAAC--TCGGT-GACCAGCAGAACGAACGTCATGTG-T-AGCAAGTAACCTTACTTC-TTTAGGAAATTCTGAT-TGAGCAC-AGCACTACCAATTC-TGGTGT-CGCAC-T-G-A---ATTCATAGAGCTCAAGTATTCAACGGAAC----GTTTCACG--CAT-T-GGCATGCGA-TAGTAACAGATTGT-TTATA\n"
     ]
    }
   ],
   "source": [
    "import re\n",
    "\n",
    "from Bio import pairwise2\n",
    "from Bio.pairwise2 import format_alignment\n",
    "from Bio.SubsMat import MatrixInfo as matlist\n",
    "\n",
    "align = pairwise2.align.globalms(str1, str2, 1, -1, -1, -1, penalize_end_gaps=(True, False))\n",
    "print(int(align[0][2]))\n",
    "\n",
    "start = re.search(r'[^\\-]', align[0][1]).start()\n",
    "end = re.search(r'[^\\-]', align[0][1][::-1]).start()\n",
    "\n",
    "end = len(align[0][1]) - end\n",
    "\n",
    "print(align[0][0][start:end])\n",
    "print(align[0][1][start:end])"
   ]
  },
  {
   "cell_type": "markdown",
   "metadata": {},
   "source": [
    "When we assembled genomes, we discussed how to use overlapping reads to assemble a genome, a problem that was complicated by errors in reads. We would like to find overlaps between error-prone reads as well.\n",
    "\n",
    "An overlap alignment of strings v = v1 ... vn and w = w1 ... wm is a global alignment of a __suffix of v__ with a __prefix of w__. An optimal overlap alignment of strings v and w maximizes the global alignment score between an i-suffix of v and a j-prefix of w (i.e., between vi ... vn and w1 ... wj) among all i and j.\n",
    "\n",
    "__Overlap Alignment Problem__\n",
    "\n",
    "Construct a highest-scoring overlap alignment between two strings.\n",
    "\n",
    "__Given__: Two protein strings v and w, each of length at most 1000.\n",
    "\n",
    "__Return__: The score of an optimal overlap alignment of v and w, followed by an alignment of a suffix v’ of v and a prefix w’ of w achieving this maximum score. Use an alignment score in which matches count +1 and both the mismatch and indel penalties are 2. (If multiple overlap alignments achieving the maximum score exist, you may return any one.)"
   ]
  },
  {
   "cell_type": "code",
   "execution_count": 51,
   "metadata": {
    "collapsed": true
   },
   "outputs": [],
   "source": [
    "# 5I overlap alignment\n",
    "def OverlapAlignment(v, w):\n",
    "    v = '-' + v\n",
    "    w = '-' + w\n",
    "    \n",
    "    score_mat = [[0 for j in range(len(w))] for i in range(len(v))]\n",
    "    backtrack_mat = [[None for j in range(len(w))] for i in range(len(v))]\n",
    "    \n",
    "    for j in range(1, len(w)):\n",
    "        score_mat[0][j] = score_mat[0][j-1] - 2\n",
    "        backtrack_mat[0][j] = 'right'\n",
    "    \n",
    "    for i in range(1, len(v)):\n",
    "        for j in range(1, len(w)):\n",
    "            \n",
    "            score1 = score_mat[i-1][j-1] + (1 if v[i] == w[j] else -2)\n",
    "            score2 = score_mat[i-1][j] - 2\n",
    "            score3 = score_mat[i][j-1] - 2\n",
    "            \n",
    "            score_mat[i][j] = max(score1, score2, score3)\n",
    "            \n",
    "            if score_mat[i][j] == score1:\n",
    "                backtrack_mat[i][j] = 'diag'\n",
    "            elif score_mat[i][j] == score2:\n",
    "                backtrack_mat[i][j] = 'down'\n",
    "            elif score_mat[i][j] == score3:\n",
    "                backtrack_mat[i][j] = 'right'\n",
    "    \n",
    "    i = len(v)-1\n",
    "    j = max(range(len(w)), key = lambda x: score_mat[i][x])\n",
    "    max_score = score_mat[i][j]\n",
    "    \n",
    "    aligned_1, aligned_2 = '', ''\n",
    "    \n",
    "    while backtrack_mat[i][j] is not None:\n",
    "        if backtrack_mat[i][j] == 'diag':\n",
    "            aligned_1 = v[i] + aligned_1\n",
    "            aligned_2 = w[j] + aligned_2\n",
    "            i -= 1\n",
    "            j -= 1\n",
    "        elif backtrack_mat[i][j] == 'down':\n",
    "            aligned_1 = v[i] + aligned_1\n",
    "            aligned_2 = '-' + aligned_2\n",
    "            i -= 1\n",
    "        else:\n",
    "            aligned_1 = '-' + aligned_1\n",
    "            aligned_2 = w[j] + aligned_2\n",
    "            j -= 1\n",
    "    \n",
    "    return max_score, aligned_1, aligned_2"
   ]
  },
  {
   "cell_type": "code",
   "execution_count": 48,
   "metadata": {},
   "outputs": [
    {
     "data": {
      "text/plain": [
       "(13,\n",
       " 'TACCT-GTCGTAACTTGTGC-CA-TTCT-A-GGCCCGTTTTCAC--TTGCGC-TTATGATCATGGTTCCGCTGATCTATATGGGCCGGGTAGGGCACTC-CCAGATGAAGGGGAGTAAT--GGTAGCCGGATCCAAGTGACGCGC-CCTAGCGGCTCC-GGAGTTTGATAGACGTC--GT--GCTA-T-GGAGCGTTGGAGCGACAA--CGCGCTCGTGCTCTGGAAGG-TCG-CTGCT-GATCCGT-AA',\n",
       " 'TA-CTGGTCCTGAC-CCACCTCACTT-TGATGTCCCCTTTTCTCGTTTGCGCATCAAGATC-TGG-CCCGC--AACTAT-T-GGCCGTGAAAGGCACTCATCA-AT-AAAGACAGTACTCACGCGGTCGGATCCAAATG-CGCGCACCGAGCGGC-CCAGGAG-TTGATAG-CGTCGAGTAACCTATTAGGA-C--TCGAG-G-CAACTCGCGCTC-T-CTCAGG-AGGCTCGCCTGCTAG-TCCGTGAA')"
      ]
     },
     "execution_count": 48,
     "metadata": {},
     "output_type": "execute_result"
    }
   ],
   "source": [
    "v = 'PAWHEAE'\n",
    "w = 'HEAGAWGHEE'\n",
    "OverlapAlignment(v, w)\n",
    "\n",
    "v = 'GCTATAAGAATAAACCACTAGATCACCTCCGGCTCGCTCACTCCTGATCATGGTTCGTGCTAACATCGCGCCGCGCTGACGCCGAATCGTTCGTAGGAGACAAGTCGACGACCTCATCTACAGGCAAAAGTTAAATTAGCTCTCGGCTAGATGTGACAATCGGAACCCTGCACCCTGCGTAATAGGGTAAATAGTCGGGAGTTGATGCACACACCTAGATATTGGCTGAATGACAGACTGCCATTCCTGCACTGGAAAGTAGAGTGCATATGTTTCGTGAGATTATGCAGGCTCTACGGTTATACTGGGCTCCACGGATTCGACCGGTACTGTTGATTGAAGACTCTTCTATAGAGGCTCTAACCGCGGAGGCCGCAACCAATCGACAATGAAGCACCCGTCGTCGGTATCGTTGGGAAGGACGACACCGTAAGGGCAGACTTTATCGTGACCCGTCTGCTTGCTAGAAAAGCCCTGGCGTTTGTACAACGTCCGTGCAGAATTAGCGTTTTTCTCAGGAAAGATGAGGGGGTTGATCATCATCTCGTTTCGCACGGGTCAAGCGCATTTTCCTACTGTTTTGGACACAGTACGTCTTCCACTGATCTCATACGGACATTACCAGCACCCTTTTGTACCTGTCGTAACTTGTGCCATTCTAGGCCCGTTTTCACTTGCGCTTATGATCATGGTTCCGCTGATCTATATGGGCCGGGTAGGGCACTCCCAGATGAAGGGGAGTAATGGTAGCCGGATCCAAGTGACGCGCCCTAGCGGCTCCGGAGTTTGATAGACGTCGTGCTATGGAGCGTTGGAGCGACAACGCGCTCGTGCTCTGGAAGGTCGCTGCTGATCCGTAA'\n",
    "w = 'TACTGGTCCTGACCCACCTCACTTTGATGTCCCCTTTTCTCGTTTGCGCATCAAGATCTGGCCCGCAACTATTGGCCGTGAAAGGCACTCATCAATAAAGACAGTACTCACGCGGTCGGATCCAAATGCGCGCACCGAGCGGCCCAGGAGTTGATAGCGTCGAGTAACCTATTAGGACTCGAGGCAACTCGCGCTCTCTCAGGAGGCTCGCCTGCTAGTCCGTGAACGACGGATCTTTGGTGCTGCCTTCCTATCATGACATTGCCTAATAACGAGCGGCACCTACTCCCAGGTCTTTGAAGGGATGGCTTGTTTACCCCGATTCCGAGAAATAGAGATGACTCCTAAGGAAGTAATGAAGGAAGTTCAGTGGTATGGGTATCGTTTAGTTTGCCAGGGAGATTGCCCATAACCTAAGTCCCTAATACAGCAGTAGATCTCACCATAGATGTAGGAAAGCACAGTGATTTAGACGCTTAGCCAAATACAAAGGAATGTACCCCCTCCTAACACTGAGCACCGCTTATTTACTAGTATACTCAGAGTGTGGAGCGCTGAACGTTGTGTCAACAAGAACATAAGCCGCCGTGAATGAATTTGTGAAGGGGAGTGATCATGGTTTTACTCGTGGTAGATTTGGGCAGAACCTGATTCCTCACGTGTGAATGTAATTGAAGCTGACTCCCACACATACAGGCACGATTCTTTTAGATGATGTTTTAGGAAGCGCATTTCGTATTAACACTGCCTTGCATTTGATAACCATCACTTGTTCATTACATGATCCCATAGGGCCGTGTTGTTACTTTCGTGTTAGTCGAGCAGTATGACCACCTTTTCGGCGCTTGATATGCCTCAAGACGTGCGATTCAAGGAATCAAACAAATGAACGCCGCACTGGATGACTGGG'\n",
    "OverlapAlignment(v, w)"
   ]
  },
  {
   "cell_type": "code",
   "execution_count": 50,
   "metadata": {},
   "outputs": [
    {
     "name": "stdout",
     "output_type": "stream",
     "text": [
      "26\n",
      "ACTCGGATCAGGAGTAAGAATG--GCGAGGCTCTGAGTGAC-GAAAGGTTAA-AGCATAACCG-TTGTG-TTTTT-GTTAAGCTGTA-CTTTGTTAGCCCAGGTGACC-ACC-GGGCACCTCTTATGTC-CG-ATCCTGC-CCG-TATAGGATCGAGCCACTACCTCG--CC-CTCGCATGGTAGTGGCC-GCATTCATCAGCAAACGT-CTGGCTCAGT-ATGAATT-TA-TCTGCTGGTTG-TCTAAAGGAAATTTATACGA-C\n",
      "AAT--GATTA-GAGTAA-AAAGCAG-GA-GC-CTGAATGACTGTAAGGTTAATAGTAT-ACCGATTGTGTTTTTTCGTTAAG-TGCATCTTTG-CGGCCCAGGTGACCTACCGGGGCTCCTCGTGGGTCGGGTATCCTGCTCCGTTACAGAATCTAGCCCCTACCTCGTACCAATCACA--GTAATGGCCTGCATTCATC-GGACACTTCCT-GC-AAGTGGCGGATTATACTC-G-TCG-TGATGTAGA-GCAATGCAGA--ATC\n"
     ]
    }
   ],
   "source": [
    "with open('rosalind_ba5i.txt', 'r') as reader:\n",
    "    v = reader.readline().strip('\\n')\n",
    "    w = reader.readline().strip('\\n')\n",
    "for i in OverlapAlignment(v, w):\n",
    "    print(i)"
   ]
  },
  {
   "cell_type": "markdown",
   "metadata": {},
   "source": [
    "A gap is a contiguous sequence of spaces in a row of an alignment. One way to score gaps more appropriately is to define an __affine penalty__ for a gap of length k as σ + ε · (k − 1), where σ is the gap opening penalty, assessed to the first symbol in the gap, and ε is the gap extension penalty, assessed to each additional symbol in the gap. We typically select ε to be smaller than σ so that the affine penalty for a gap of length k is smaller than the penalty for k independent single-nucleotide indels (σ · k).\n",
    "\n",
    "__Alignment with Affine Gap Penalties Problem__\n",
    "\n",
    "Construct a highest-scoring global alignment of two strings (with affine gap penalties).\n",
    "\n",
    "__Given__: Two amino acid strings v and w (each of length at most 100).\n",
    "\n",
    "__Return__: The maximum alignment score between v and w, followed by an alignment of v and w achieving this maximum score. Use the BLOSUM62 scoring matrix, a gap opening penalty of 11, and a gap extension penalty of 1."
   ]
  },
  {
   "cell_type": "code",
   "execution_count": 57,
   "metadata": {},
   "outputs": [],
   "source": [
    "# 5j Alignment with affine gap\n",
    "def AffineGap(v, w, gap_open=11, gap_extend=1):\n",
    "    v = '-' + v\n",
    "    w = '-' + w\n",
    "    \n",
    "    #Initialize score matrices for the 3 layers\n",
    "    middle = [[0 for _ in range(len(w))] for _ in range(len(v))]\n",
    "    lower = [[0 for _ in range(len(w))] for _ in range(len(v))]\n",
    "    upper = [[0 for _ in range(len(w))] for _ in range(len(v))]\n",
    "    \n",
    "    # middle matrix\n",
    "    middle[1][0] = - gap_open\n",
    "    middle[0][1] = - gap_open\n",
    "    \n",
    "    for i in range(2, len(middle)):\n",
    "        middle[i][0] = middle[i-1][0] - gap_extend\n",
    "    for j in range(2, len(middle[0])):\n",
    "        middle[0][j] = middle[0][j-1] - gap_extend\n",
    "\n",
    "    # lower matrix\n",
    "    for i in range(len(lower)):\n",
    "        lower[i][0] = middle[i][0]    \n",
    "    for j in range(len(lower[0])):\n",
    "        lower[0][j] = -1e6\n",
    "    \n",
    "    # upper matrix\n",
    "    for i in range(len(upper)):\n",
    "        upper[i][0] = -1e6\n",
    "    for j in range(len(upper[0])):\n",
    "        upper[0][j] = middle[0][j]\n",
    "    \n",
    "    # initialize backtrack matrices\n",
    "    backtrack_middle = [['diag' for _ in range(len(w))] for _ in range(len(v))]\n",
    "    backtrack_lower = [['down' for _ in range(len(w))] for _ in range(len(v))]\n",
    "    backtrack_upper = [['right' for _ in range(len(w))] for _ in range(len(v))]\n",
    "    \n",
    "    # middle matrix\n",
    "    for i in range(len(backtrack_middle)):\n",
    "        backtrack_middle[i][0] = 'down'\n",
    "    for j in range(len(backtrack_middle[0])):\n",
    "        backtrack_middle[0][j] = 'right'\n",
    "    \n",
    "    # lower matrix\n",
    "    for j in range(len(backtrack_lower[0])):\n",
    "        backtrack_lower[0][j] = 'right'\n",
    "    \n",
    "    # upper matrix\n",
    "    for i in range(len(backtrack_upper)):\n",
    "        backtrack_upper[i][0] = 'down'\n",
    "        \n",
    "    backtrack_middle[0][0] = None\n",
    "    backtrack_lower[0][0] = None\n",
    "    backtrack_upper[0][0] = None\n",
    "    \n",
    "    for i in range(1, len(v)):\n",
    "        for j in range(1, len(w)):\n",
    "            # lower\n",
    "            lower[i][j] = max(lower[i-1][j] - gap_extend, middle[i-1][j] - gap_open)\n",
    "            if lower[i][j] == lower[i-1][j] - gap_extend:\n",
    "                backtrack_lower[i][j] = 'down'\n",
    "            else:\n",
    "                backtrack_lower[i][j] = 'diag'\n",
    "            \n",
    "            # upper\n",
    "            upper[i][j] = max(upper[i][j-1] - gap_extend, middle[i][j-1] - gap_open)\n",
    "            if upper[i][j] == upper[i][j-1] - gap_extend:\n",
    "                backtrack_upper[i][j] = 'right'\n",
    "            else:\n",
    "                backtrack_upper[i][j] = 'diag'\n",
    "            \n",
    "            # middle\n",
    "            if (v[i], w[j]) in BLOSUM62:\n",
    "                key = (v[i], w[j])\n",
    "            else:\n",
    "                key = (w[j], v[i])\n",
    "            diag = middle[i-1][j-1] + BLOSUM62[key]\n",
    "            middle[i][j] = max([diag, upper[i][j], lower[i][j]])\n",
    "            \n",
    "            if middle[i][j] == diag:\n",
    "                backtrack_middle[i][j] = 'diag'\n",
    "            elif middle[i][j] == lower[i][j]:\n",
    "                backtrack_middle[i][j] = 'down'\n",
    "            else:\n",
    "                backtrack_middle[i][j] = 'right'\n",
    "    \n",
    "    i = len(backtrack_middle) - 1\n",
    "    j = len(backtrack_middle[0]) - 1\n",
    "    \n",
    "    aligned_1, aligned_2 = '', ''\n",
    "    \n",
    "    current_layer = 'M'\n",
    "    \n",
    "    while backtrack_middle[i][j] is not None:\n",
    "        if current_layer == 'M':\n",
    "            if backtrack_middle[i][j] == 'diag':\n",
    "                aligned_1 = v[i] + aligned_1\n",
    "                aligned_2 = w[j] + aligned_2\n",
    "                i -= 1\n",
    "                j -= 1\n",
    "            elif backtrack_middle[i][j] == 'down':\n",
    "                current_layer = 'L'\n",
    "            else:\n",
    "                current_layer = 'U'\n",
    "        \n",
    "        elif current_layer == 'L':\n",
    "            if backtrack_lower[i][j] == 'down':\n",
    "                aligned_1 = v[i] + aligned_1\n",
    "                aligned_2 = '-' + aligned_2\n",
    "                i -= 1\n",
    "            elif backtrack_lower[i][j] == 'diag':\n",
    "                aligned_1 = v[i] + aligned_1\n",
    "                aligned_2 = '-' + aligned_2\n",
    "                i -= 1\n",
    "                current_layer = 'M'\n",
    "            else:\n",
    "                current_layer = 'M'\n",
    "        \n",
    "        elif current_layer == 'U':\n",
    "            if backtrack_upper[i][j] == 'right':\n",
    "                aligned_1 = '-' + aligned_1\n",
    "                aligned_2 = w[j] + aligned_2\n",
    "                j -= 1\n",
    "            elif backtrack_lower[i][j] == 'diag':\n",
    "                aligned_1 = '-' + aligned_1\n",
    "                aligned_2 = w[j] + aligned_2\n",
    "                j -= 1\n",
    "                current_layer = 'M'\n",
    "            else:\n",
    "                current_layer = 'M'\n",
    "    \n",
    "    return middle[len(v) - 1][len(w) - 1], aligned_1, aligned_2"
   ]
  },
  {
   "cell_type": "code",
   "execution_count": 58,
   "metadata": {},
   "outputs": [
    {
     "data": {
      "text/plain": [
       "(8, 'PRT---EINS', 'PRTWPSEIN-')"
      ]
     },
     "execution_count": 58,
     "metadata": {},
     "output_type": "execute_result"
    }
   ],
   "source": [
    "v = 'PRTEINS'\n",
    "w = 'PRTWPSEIN'\n",
    "AffineGap(v, w)"
   ]
  },
  {
   "cell_type": "code",
   "execution_count": 59,
   "metadata": {},
   "outputs": [
    {
     "name": "stdout",
     "output_type": "stream",
     "text": [
      "236\n",
      "TAYILYEGNIIIKNFPYEGPGNDSQMRIGMWNNIDGHWTI----MWMI--------GIELYEPILRFQKTTLHWRM-PGAMLRTCGHYR\n",
      "TACILYEGNIPI--FPYEYVGWDSQMRIGMWNNIDGHWTFNFNSMWMIRNDQTCGYWFELYP-----TKTTLHWRFHPGAMLRRCQHYR\n"
     ]
    }
   ],
   "source": [
    "with open('rosalind_ba5j.txt', 'r') as reader:\n",
    "    v = reader.readline().strip('\\n')\n",
    "    w = reader.readline().strip('\\n')\n",
    "for i in AffineGap(v, w):\n",
    "    print(i)"
   ]
  },
  {
   "cell_type": "markdown",
   "metadata": {
    "collapsed": true
   },
   "source": [
    "## Examples of Dynamic Programming\n",
    "\n",
    "1. Knapsack problem\n",
    "\n",
    "2. Weighted Interval Scheduling Problem"
   ]
  },
  {
   "cell_type": "markdown",
   "metadata": {},
   "source": [
    "# 1 knapsack problem\n",
    "\n",
    "Imagine we had a listing of every single thing in Bill Gates’s house. We stole it from some insurance papers. Now, think about the future. What is the optimal solution to this problem?\n",
    "\n",
    "We have a subset, L, which is the optimal solution. L is a subset of S, the set containing all of Bill Gates’s stuff.\n",
    "\n",
    "Let’s pick a random item, N. L either contains N or it doesn’t. If it doesn’t use N, the optimal solution for the problem is the same as $1, \\dots, N-1$. This is assuming that Bill Gate's stuff is sorted by $value/weight$\n",
    "\n",
    "Suppose that the optimum of the original problem isn't optimum of the sub-problem. If we have sub-optimum of the smaller problem then we have a contradiction-we should have an optimum of the whole problem.\n",
    "\n",
    "If L contains N, then the optimal solution for the problem is the same as $1, \\dots, N-1$. We know the item is in, so L already contains N. To complete the computation we focus on the remaining terms. We find the optimal solution to the remaining items.\n",
    "\n",
    "But, we now have a new maximum allowed weight of $W_{max} - W_n$. If item N is contained in the solution, the total weight is now the max weigth take away item N (which is already in the knapsack).\n",
    "\n",
    "These are the 2 cases. Either item N is in the optimal solution or it isn't\n",
    "\n",
    "If the weight of item N is greater than $W_{max}$, then it cannot be included so case 1 is the only possibility.\n",
    "\n",
    "To better define the recursive solution, let $S_k = 1, 2, \\dots, k$ and so $S_0 = \\emptyset$\n",
    "\n",
    "Let $B[k, w]$ be the __maximum total benefit__ obtained using a subset of $S_k$, having a total weigth at most $w$.\n",
    "\n",
    "Then, we define $B[0, w] = 0$ for each $w \\leq W_{max}$.\n",
    "\n",
    "Our desired solution is then $B[n, W_{max}]$.\n",
    "\n",
    "$$ OPT(i) = \\begin{cases} B[k-1, w], \\quad \\text{if w < w_k} \\\\ max(B[k-1, w], B[k-1, w-w_k] + b_k), \\quad \\text{otherwise} \\end{cases} $$\n",
    "\n",
    "\n"
   ]
  },
  {
   "cell_type": "code",
   "execution_count": 2,
   "metadata": {},
   "outputs": [
    {
     "name": "stdout",
     "output_type": "stream",
     "text": [
      "220\n"
     ]
    }
   ],
   "source": [
    "## Returns the max value that can be put in a knapsack of capacity W\n",
    "\n",
    "def knapSack(W, wt, val, n):\n",
    "    \n",
    "    # Base case\n",
    "    if W == 0 or n == 0:\n",
    "        return 0\n",
    "    \n",
    "    # If weight of the nth item is > knapsack capacity, then\n",
    "    # optimal solution cannot include this nth item\n",
    "    if wt[n-1] > W:\n",
    "        return knapSack(W, wt, val, n-1)\n",
    "    \n",
    "    # return the maximum of 2 cases:\n",
    "    # 1) nth item included\n",
    "    # 2) nth item excluded\n",
    "    else:\n",
    "        return max(knapSack(W, wt, val, n-1), knapSack(W-wt[n-1], wt, val, n-1) + val[n-1])\n",
    "    \n",
    "# test\n",
    "val = [60, 100, 120]\n",
    "wt = [10, 20, 30]\n",
    "W = 50\n",
    "n = len(val)\n",
    "print(knapSack(W, wt, val, n))"
   ]
  },
  {
   "cell_type": "markdown",
   "metadata": {},
   "source": [
    "# 2 Weighted Interval Scheduling\n",
    "\n",
    "Base case: if n is 0, that is, if we have 0 PoC then we do nothing -> return 0\n",
    "\n",
    "For each pile of clothes that is compatible with the schedule so far, what's the step? Compatible means that the start time is after the finish time of the pile of clothes currently being washed. We either wash that pile of clothes or don't wash that pile of clothes.\n",
    "\n",
    "To decide, the next compatible PoC for a given pile, p, is the PoC, n, such that\n",
    "$s_n > f_p$ and the difference between $s_n - f_p$ should be minimized.\n",
    "\n",
    "$$OPT(i) = \\begin{cases} 0, \\quad \\text{If i = 0} \\\\ max{v_i + OPT(next[i]), OPT(i+1)},  \\quad \\text{if n > 1} \\end{cases}$$\n",
    " \n",
    "Let’s explore in detail what makes this mathematical recurrence. OPT(i) represents the maximum value schedule for PoC i through to n such that PoC is sorted by start times. OPT(i) is our subproblem from earlier.\n",
    "\n",
    "We start with the base case. All recurrences need somewhere to stop. If we call OPT(0) we’ll be returned with 0.\n",
    "\n",
    "To determine the value of OPT(i), there are two options. We want to take the maximum of these options to meet our goal. Our goal is the maximum value schedule for all piles of clothes. Once we choose the option that gives the maximum result at step i, we memoize its value as OPT(i).\n",
    "\n",
    "Mathematically, the two options - run or not run PoC i, are represented as:\n",
    "$v_i + OPT(next[n])$\n",
    "\n",
    "This represents the decision to run PoC i. It adds the value gained from PoC i to OPT(next[n]), where next[n] represents the next compatible pile of clothing following PoC i. When we add these two values together, we get the maximum value schedule from i through n such that they are sorted by start time if i runs.\n",
    "\n",
    "Sorted by start time here because next[n] is the one immediately after $v_i$, so by default, they are sorted by start time. If we decide not to run i, our value is then OPT(i+1). The value is not gained. OPT(i+1) gives the max value for schedule for i+1 to n, such that they are soreted by start times."
   ]
  },
  {
   "cell_type": "code",
   "execution_count": 6,
   "metadata": {},
   "outputs": [
    {
     "data": {
      "text/plain": [
       "250"
      ]
     },
     "execution_count": 6,
     "metadata": {},
     "output_type": "execute_result"
    }
   ],
   "source": [
    "# Class to represent a job\n",
    "class Job:\n",
    "    def __init__(self, start, finish, profit):\n",
    "        self.start = start\n",
    "        self.finish = finish\n",
    "        self.profit = profit\n",
    "        \n",
    "# A binary search based function to find the latest job (before current job)\n",
    "# that doesn't conflict with current job. 'index' is index of the current job\n",
    "# this function returns -1 if all jobs before index conflict with it.\n",
    "    \n",
    "def binarySearch(job, start_index):\n",
    "    # https://en.wikipedia.org/wiki/Binary_search_algorithm\n",
    "    # initialize 'lo' and 'hi' for binary search\n",
    "    lo = 0\n",
    "    hi = start_index - 1\n",
    "\n",
    "    # perform binary search iteratively\n",
    "    while lo <= hi:\n",
    "        mid = (lo + hi)//2\n",
    "        if job[mid].finish <= job[start_index].start:\n",
    "            if job[mid+1].finish <= job[start_index].start:\n",
    "                lo = mid + 1\n",
    "            else:\n",
    "                return mid\n",
    "        else:\n",
    "            hi = mid -1 \n",
    "\n",
    "# the main function that returns the maximum possible profit from a given array of jobs\n",
    "def schedule(job):\n",
    "    # sort jobs according to time\n",
    "    job = sorted(job, key = lambda j: j.start)\n",
    "\n",
    "    # create an array to store solutions of subproblems.\n",
    "    # table[i] stores the profit for jobs till arr[i]\n",
    "    n = len(job)\n",
    "    table = [0 for _ in range(n)]\n",
    "\n",
    "    table[0] = job[0].profit\n",
    "\n",
    "    # fill entries in table[] using recursive property\n",
    "    for i in range(1, n):\n",
    "        # find profit including the current job\n",
    "        inclProf = job[i].profit\n",
    "        l = binarySearch(job, i)\n",
    "        if l != -1:\n",
    "            inclProf += table[l]\n",
    "\n",
    "        # store maximum of including and excluding\n",
    "        table[i] = max(inclProf, table[i-1])\n",
    "\n",
    "    return table[n-1]\n",
    "    \n",
    "# test\n",
    "job = [Job(1, 2, 50), Job(3, 5, 20), Job(6, 19, 100), Job(2, 100, 200)]\n",
    "schedule(job)"
   ]
  },
  {
   "cell_type": "code",
   "execution_count": null,
   "metadata": {
    "collapsed": true
   },
   "outputs": [],
   "source": []
  }
 ],
 "metadata": {
  "kernelspec": {
   "display_name": "Python 3",
   "language": "python",
   "name": "python3"
  },
  "language_info": {
   "codemirror_mode": {
    "name": "ipython",
    "version": 3
   },
   "file_extension": ".py",
   "mimetype": "text/x-python",
   "name": "python",
   "nbconvert_exporter": "python",
   "pygments_lexer": "ipython3",
   "version": "3.6.7"
  }
 },
 "nbformat": 4,
 "nbformat_minor": 2
}
