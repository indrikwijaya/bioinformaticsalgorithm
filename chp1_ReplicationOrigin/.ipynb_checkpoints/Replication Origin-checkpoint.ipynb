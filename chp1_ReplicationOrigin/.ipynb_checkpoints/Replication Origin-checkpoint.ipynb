{
 "cells": [
  {
   "cell_type": "code",
   "execution_count": 15,
   "metadata": {
    "collapsed": true
   },
   "outputs": [],
   "source": [
    "# 1a Count the no of times a pattern appears in a text\n",
    "\n",
    "def PatternCount(Text, Pattern):\n",
    "    count = 0\n",
    "    for i in range(len(Text) - len(Pattern)+1):\n",
    "        if Text[i:i +len(Pattern)] == Pattern:\n",
    "            count += 1\n",
    "    return count"
   ]
  },
  {
   "cell_type": "code",
   "execution_count": 16,
   "metadata": {},
   "outputs": [
    {
     "data": {
      "text/plain": [
       "2"
      ]
     },
     "execution_count": 16,
     "metadata": {},
     "output_type": "execute_result"
    }
   ],
   "source": [
    "PatternCount('GCGCG', 'GCG')"
   ]
  },
  {
   "cell_type": "code",
   "execution_count": 33,
   "metadata": {
    "collapsed": true
   },
   "outputs": [],
   "source": [
    "test_data_file = 'bioinformaticsalgorithm/rosalind_ba1a.txt'\n",
    "text_pattern = []\n",
    "with open(test_data_file, 'r') as reader:\n",
    "    for line in reader:\n",
    "        text_pattern.append(line.strip('\\n'))"
   ]
  },
  {
   "cell_type": "code",
   "execution_count": 34,
   "metadata": {},
   "outputs": [
    {
     "data": {
      "text/plain": [
       "35"
      ]
     },
     "execution_count": 34,
     "metadata": {},
     "output_type": "execute_result"
    }
   ],
   "source": [
    "PatternCount(text_pattern[0], text_pattern[1])"
   ]
  },
  {
   "cell_type": "code",
   "execution_count": 54,
   "metadata": {
    "collapsed": true
   },
   "outputs": [],
   "source": [
    "# 1b Find the most frequent words in a String\n",
    "\n",
    "def FrequencyTable(Text, k):\n",
    "    freqMap = {}\n",
    "    for i in range(len(Text) - k + 1):\n",
    "        Pattern = Text[i:i + k]\n",
    "        if Pattern not in freqMap.keys():\n",
    "            freqMap[Pattern] = 1\n",
    "        else:\n",
    "            freqMap[Pattern] += 1\n",
    "    return freqMap\n",
    "\n",
    "def FrequentWords(Text, k):\n",
    "    freqMap = FrequencyTable(Text, k)\n",
    "    max_val = max(freqMap.values())\n",
    "    FrequentPatterns = [Pattern for Pattern, count in freqMap.items() if count == max_val]\n",
    "    return FrequentPatterns\n",
    "    "
   ]
  },
  {
   "cell_type": "code",
   "execution_count": 55,
   "metadata": {},
   "outputs": [
    {
     "data": {
      "text/plain": [
       "['GCAT', 'CATG']"
      ]
     },
     "execution_count": 55,
     "metadata": {},
     "output_type": "execute_result"
    }
   ],
   "source": [
    "FrequentWords('ACGTTGCATGTCGCATGATGCATGAGAGCT', 4)"
   ]
  },
  {
   "cell_type": "code",
   "execution_count": 58,
   "metadata": {
    "collapsed": true
   },
   "outputs": [],
   "source": [
    "test_data_file = 'bioinformaticsalgorithm/rosalind_ba1b.txt'\n",
    "text_k = []\n",
    "with open(test_data_file, 'r') as reader:\n",
    "    for line in reader:\n",
    "        text_k.append(line.strip('\\n'))"
   ]
  },
  {
   "cell_type": "code",
   "execution_count": 61,
   "metadata": {},
   "outputs": [
    {
     "data": {
      "text/plain": [
       "['TCTTAGGTCTTAGG']"
      ]
     },
     "execution_count": 61,
     "metadata": {},
     "output_type": "execute_result"
    }
   ],
   "source": [
    "FrequentWords(text_k[0], int(text_k[1]))"
   ]
  },
  {
   "cell_type": "code",
   "execution_count": 75,
   "metadata": {
    "collapsed": true
   },
   "outputs": [],
   "source": [
    "# 1c Find the reverse complement of a String\n",
    "\n",
    "def ReverseComplement(Pattern):\n",
    "    complement = {'A': 'T', 'T': 'A', 'C':'G', 'G': 'C'}\n",
    "    reverse = Pattern[-1::-1]\n",
    "    reverse_complement = [complement[i] for i in reverse]\n",
    "    return ''.join(reverse_complement)"
   ]
  },
  {
   "cell_type": "code",
   "execution_count": 76,
   "metadata": {},
   "outputs": [
    {
     "data": {
      "text/plain": [
       "'ACCGGGTTTT'"
      ]
     },
     "execution_count": 76,
     "metadata": {},
     "output_type": "execute_result"
    }
   ],
   "source": [
    "ReverseComplement('AAAACCCGGT')"
   ]
  },
  {
   "cell_type": "code",
   "execution_count": 84,
   "metadata": {
    "collapsed": true
   },
   "outputs": [],
   "source": [
    "test_data_file = 'bioinformaticsalgorithm/rosalind_ba1c.txt'\n",
    "with open(test_data_file, 'r') as reader:\n",
    "    pattern = reader.read().rstrip('\\n')"
   ]
  },
  {
   "cell_type": "code",
   "execution_count": null,
   "metadata": {
    "collapsed": true
   },
   "outputs": [],
   "source": [
    "ReverseComplement(pattern)"
   ]
  },
  {
   "cell_type": "code",
   "execution_count": 92,
   "metadata": {
    "collapsed": true
   },
   "outputs": [],
   "source": [
    "# 1d Find all occurrences of a Pattern in a String\n",
    "\n",
    "def PatternMatching(Pattern, Genome):\n",
    "    indexes = []\n",
    "    for i in range(len(Genome) - len(Pattern) + 1):\n",
    "        if Genome[i:i + len(Pattern)] == Pattern:\n",
    "            indexes.append(str(i))\n",
    "    return indexes"
   ]
  },
  {
   "cell_type": "code",
   "execution_count": 87,
   "metadata": {},
   "outputs": [
    {
     "data": {
      "text/plain": [
       "[1, 3, 9]"
      ]
     },
     "execution_count": 87,
     "metadata": {},
     "output_type": "execute_result"
    }
   ],
   "source": [
    "PatternMatching('ATAT', 'GATATATGCATATACTT')"
   ]
  },
  {
   "cell_type": "code",
   "execution_count": 88,
   "metadata": {
    "collapsed": true
   },
   "outputs": [],
   "source": [
    "test_data_file = 'bioinformaticsalgorithm/rosalind_ba1d.txt'\n",
    "pattern_genome = []\n",
    "with open(test_data_file, 'r') as reader:\n",
    "    for line in reader:\n",
    "        pattern_genome.append(line.strip('\\n'))"
   ]
  },
  {
   "cell_type": "code",
   "execution_count": 93,
   "metadata": {},
   "outputs": [
    {
     "data": {
      "text/plain": [
       "'59 103 122 167 199 286 293 326 333 340 347 354 361 368 375 413 439 446 484 491 571 587 604 611 637 644 671 697 722 750 791 798 809 818 852 928 1068 1106 1285 1338 1381 1388 1420 1458 1465 1500 1595 1612 1625 1632 1724 1771 1802 1819 1961 2014 2049 2056 2063 2143 2175 2189 2251 2298 2351 2406 2413 2441 2448 2464 2471 2478 2585 2673 2699 2706 2771 2793 2811 2818 2839 2860 2881 2916 2950 3007 3014 3021 3028 3102 3132 3159 3210 3256 3263 3282 3289 3373 3380 3404 3438 3501 3534 3549 3578 3613 3628 3656 3675 3682 3802 3854 3869 3899 3929 3936 3951 3979 3991 4000 4007 4014 4037 4044 4051 4075 4082 4111 4276 4327 4344 4379 4513 4542 4607 4622 4631 4647 4673 4702 4747 4754 4761 4809 4830 4870 4877 4902 4941 4959 4998 5157 5199 5210 5229 5236 5251 5258 5265 5272 5279 5318 5442 5458 5481 5563 5584 5591 5612 5619 5639 5668 5738 5757 5782 5789 5805 5847 5887 5905 5914 6012 6110 6117 6135 6142 6149 6156 6184 6191 6226 6233 6260 6275 6315 6322 6470 6524 6566 6573 6605 6612 6624 6634 6722 6782 6799 6806 6898 6905 6912 6928 6944 7011 7035 7162 7169 7194 7216 7244 7291 7358 7386 7439 7454 7489 7695 7720 7741 7778 7785 7813 7869 7956 7968 8037 8052 8081 8129 8211 8239 8256 8263 8286 8445 8452 8470 8494 8511 8518 8594 8656 8663 8670 8685 8798 8807 8831 8862 8869 8948 9043 9050 9057 9085'"
      ]
     },
     "execution_count": 93,
     "metadata": {},
     "output_type": "execute_result"
    }
   ],
   "source": [
    "' '.join(PatternMatching(pattern_genome[0], pattern_genome[1]))\n"
   ]
  },
  {
   "cell_type": "code",
   "execution_count": 98,
   "metadata": {
    "collapsed": true
   },
   "outputs": [],
   "source": [
    "# 1e Find Patterns forming Clumps in a String\n",
    "\n",
    "def FindClumps(Text, k, L, t):\n",
    "    patterns = []\n",
    "    n = len(Text)\n",
    "    for i in range(n - L + 1):\n",
    "        Window = Text[i : i + L]\n",
    "        freqMap = FrequencyTable(Window, k)\n",
    "        for s in freqMap.keys():\n",
    "            if freqMap[s] >= t:\n",
    "                patterns.append(s)\n",
    "    return ' '.join(list(set(patterns)))"
   ]
  },
  {
   "cell_type": "code",
   "execution_count": 99,
   "metadata": {},
   "outputs": [
    {
     "data": {
      "text/plain": [
       "'GAAGA AATGT CGACA'"
      ]
     },
     "execution_count": 99,
     "metadata": {},
     "output_type": "execute_result"
    }
   ],
   "source": [
    "FindClumps('CGGACTCGACAGATGTGAAGAAATGTGAAGACTGAGTGAAGAGAAGAGGAAACACGACACGACATTGCGACATAATGTACGAATGTAATGTGCCTATGGC',\n",
    "          5, 75, 4)"
   ]
  },
  {
   "cell_type": "code",
   "execution_count": 102,
   "metadata": {
    "collapsed": true
   },
   "outputs": [],
   "source": [
    "test_data_file = 'bioinformaticsalgorithm/rosalind_ba1e.txt'\n",
    "text_klt = []\n",
    "with open(test_data_file, 'r') as reader:\n",
    "    for line in reader:\n",
    "        text_klt.append(line.strip('\\n'))\n",
    "k, L, t = text_klt[1].split(' ')"
   ]
  },
  {
   "cell_type": "code",
   "execution_count": 105,
   "metadata": {},
   "outputs": [
    {
     "data": {
      "text/plain": [
       "'ATACATATCA CAATACATAT CTGAAAGTTC TACTGTGCTT TCGCTCTTAG GCTACACGCA TATCAATACA TCAATACATA TACATATCAA ACAGGCGCGA GACTATACCT ATATCAATAC ATCAATACAT AATACATATC ACATATCAAT CATATCAATA AGAGTCGGCG'"
      ]
     },
     "execution_count": 105,
     "metadata": {},
     "output_type": "execute_result"
    }
   ],
   "source": [
    "FindClumps(text_klt[0], int(k), int(L), int(t))"
   ]
  },
  {
   "cell_type": "code",
   "execution_count": 126,
   "metadata": {
    "collapsed": true
   },
   "outputs": [],
   "source": [
    "# 1f Find a Position in a Genome minimizing the Skew\n",
    "import numpy as np\n",
    "def MinSkew(Genome):\n",
    "    count = 0\n",
    "    counts = []\n",
    "    for i in range(len(Genome)):\n",
    "        if Genome[i] == 'G':\n",
    "            count += 1\n",
    "        elif Genome[i] == 'C':\n",
    "            count -= 1\n",
    "        counts.append(count)\n",
    "    indexes = np.where(counts == np.array(counts).min())[0].tolist()\n",
    "    return ' '.join(str(index + 1) for index in indexes)"
   ]
  },
  {
   "cell_type": "code",
   "execution_count": 127,
   "metadata": {},
   "outputs": [
    {
     "data": {
      "text/plain": [
       "'53 97'"
      ]
     },
     "execution_count": 127,
     "metadata": {},
     "output_type": "execute_result"
    }
   ],
   "source": [
    "MinSkew('CCTATCGGTGGATTAGCATGTCCCTGTACGTTTCGCCGCGAACTAGTTCACACGGCTTGATGGCAAATGGTTTTTCCGGCGACCGTAATCGTCCACCGAG')"
   ]
  },
  {
   "cell_type": "code",
   "execution_count": 131,
   "metadata": {
    "collapsed": true
   },
   "outputs": [],
   "source": [
    "test_data_file = 'bioinformaticsalgorithm/rosalind_ba1f.txt'\n",
    "with open(test_data_file, 'r') as reader:\n",
    "    genome = reader.read().rstrip('\\n')"
   ]
  },
  {
   "cell_type": "code",
   "execution_count": 132,
   "metadata": {},
   "outputs": [
    {
     "data": {
      "text/plain": [
       "'2342 2343'"
      ]
     },
     "execution_count": 132,
     "metadata": {},
     "output_type": "execute_result"
    }
   ],
   "source": [
    "MinSkew(genome)"
   ]
  },
  {
   "cell_type": "code",
   "execution_count": 134,
   "metadata": {
    "collapsed": true
   },
   "outputs": [],
   "source": [
    "# 1g Compute the Hamming Distance between 2 Strings\n",
    "\n",
    "def HammingDistance(dna1, dna2):\n",
    "    if len(dna1) != len(dna2):\n",
    "        print('String are not of equal length')\n",
    "    return sum(n1 != n2 for n1, n2 in zip(dna1, dna2))"
   ]
  },
  {
   "cell_type": "code",
   "execution_count": 135,
   "metadata": {},
   "outputs": [
    {
     "data": {
      "text/plain": [
       "3"
      ]
     },
     "execution_count": 135,
     "metadata": {},
     "output_type": "execute_result"
    }
   ],
   "source": [
    "HammingDistance('GGGCCGTTGGT', 'GGACCGTTGAC')"
   ]
  },
  {
   "cell_type": "code",
   "execution_count": 136,
   "metadata": {
    "collapsed": true
   },
   "outputs": [],
   "source": [
    "test_data_file = 'bioinformaticsalgorithm/rosalind_ba1g.txt'\n",
    "dnas = []\n",
    "with open(test_data_file, 'r') as reader:\n",
    "    for line in reader:\n",
    "        dnas.append(line.strip('\\n'))"
   ]
  },
  {
   "cell_type": "code",
   "execution_count": 137,
   "metadata": {},
   "outputs": [
    {
     "data": {
      "text/plain": [
       "828"
      ]
     },
     "execution_count": 137,
     "metadata": {},
     "output_type": "execute_result"
    }
   ],
   "source": [
    "HammingDistance(dnas[0], dnas[1])"
   ]
  },
  {
   "cell_type": "code",
   "execution_count": 140,
   "metadata": {
    "collapsed": true
   },
   "outputs": [],
   "source": [
    "# 1h Find all Approximate Occurrences of a Pattern in a String\n",
    "\n",
    "def ApproxPatternMatching(Pattern, Text, d):\n",
    "    indexes = []\n",
    "    for i in range(len(Text) - len(Pattern) + 1):\n",
    "        if HammingDistance(Text[i:i + len(Pattern)], Pattern) <= d:\n",
    "            indexes.append(str(i))\n",
    "    return ' '.join(indexes)"
   ]
  },
  {
   "cell_type": "code",
   "execution_count": 141,
   "metadata": {},
   "outputs": [
    {
     "data": {
      "text/plain": [
       "'6 7 26 27 78'"
      ]
     },
     "execution_count": 141,
     "metadata": {},
     "output_type": "execute_result"
    }
   ],
   "source": [
    "ApproxPatternMatching('ATTCTGGA', 'CGCCCGAATCCAGAACGCATTCCCATATTTCGGGACCACTGGCCTCCACGGTACGGACGTCAATCAAATGCCTAGCGGCTTGTGGTTTCTCCTACGCTCC',\n",
    "                     3)"
   ]
  },
  {
   "cell_type": "code",
   "execution_count": 142,
   "metadata": {
    "collapsed": true
   },
   "outputs": [],
   "source": [
    "test_data_file = 'bioinformaticsalgorithm/rosalind_ba1h.txt'\n",
    "pattern_text_d = []\n",
    "with open(test_data_file, 'r') as reader:\n",
    "    for line in reader:\n",
    "        pattern_text_d.append(line.strip('\\n'))"
   ]
  },
  {
   "cell_type": "code",
   "execution_count": null,
   "metadata": {
    "collapsed": true
   },
   "outputs": [],
   "source": [
    "ApproxPatternMatching(pattern_text_d[0], pattern_text_d[1], int(pattern_text_d[2]))"
   ]
  },
  {
   "cell_type": "code",
   "execution_count": 147,
   "metadata": {
    "collapsed": true
   },
   "outputs": [],
   "source": [
    "def ApproximatePatternCount(Text, Pattern, d):\n",
    "    count = 0\n",
    "    for i in range(len(Text) - len(Pattern) + 1):\n",
    "        if HammingDistance(Text[i:i + len(Pattern)], Pattern) <= d:\n",
    "            count += 1\n",
    "    return count"
   ]
  },
  {
   "cell_type": "code",
   "execution_count": 1,
   "metadata": {},
   "outputs": [
    {
     "data": {
      "text/plain": [
       "11"
      ]
     },
     "execution_count": 1,
     "metadata": {},
     "output_type": "execute_result"
    }
   ],
   "source": [
    "SymbolToNumber = {'A': 0, 'C': 1, 'G': 2, 'T': 3}\n",
    "symbols = ['A', 'T', 'C', 'G']\n",
    "\n",
    "def PatternToNumber(Pattern):\n",
    "    if not any(x in Pattern for x in symbols):\n",
    "        return 0\n",
    "    symbol = Pattern[-1]\n",
    "    prefix = Pattern[:-1]\n",
    "    return 4*PatternToNumber(prefix) + SymbolToNumber[symbol]\n",
    "PatternToNumber('AGT')"
   ]
  },
  {
   "cell_type": "code",
   "execution_count": 2,
   "metadata": {},
   "outputs": [
    {
     "data": {
      "text/plain": [
       "27649130759547"
      ]
     },
     "execution_count": 2,
     "metadata": {},
     "output_type": "execute_result"
    }
   ],
   "source": [
    "PatternToNumber('CGCAGCCGCAAGCTGAACCCTGT')"
   ]
  },
  {
   "cell_type": "code",
   "execution_count": 3,
   "metadata": {},
   "outputs": [
    {
     "data": {
      "text/plain": [
       "'GCGGTAA'"
      ]
     },
     "execution_count": 3,
     "metadata": {},
     "output_type": "execute_result"
    }
   ],
   "source": [
    "NumberToSymbol = {0: 'A', 1: 'C', 2:'G', 3:'T'}\n",
    "\n",
    "def NumberToPattern(index, k):\n",
    "    if k == 1:\n",
    "        return NumberToSymbol[index]\n",
    "    prefixIndex = index//4\n",
    "    r = index - 4*prefixIndex\n",
    "    symbol = NumberToSymbol[r]\n",
    "    PrefixPattern = NumberToPattern(prefixIndex, k-1)\n",
    "    return PrefixPattern + symbol\n",
    "NumberToPattern(9904, 7)"
   ]
  },
  {
   "cell_type": "code",
   "execution_count": 4,
   "metadata": {},
   "outputs": [
    {
     "data": {
      "text/plain": [
       "'ACCCGAAC'"
      ]
     },
     "execution_count": 4,
     "metadata": {},
     "output_type": "execute_result"
    }
   ],
   "source": [
    "NumberToPattern(5505, 8)"
   ]
  },
  {
   "cell_type": "code",
   "execution_count": 215,
   "metadata": {
    "collapsed": true
   },
   "outputs": [],
   "source": [
    "def FindingFrequentWordsBySorting(Text, k):\n",
    "    frequentPatterns = []\n",
    "    index = {}\n",
    "    count = {}\n",
    "    for i in range(len(Text) - k +1):\n",
    "        pattern = Text[i:i+k]\n",
    "        index[i] = PatternToNumber(pattern)\n",
    "        count[i] = 1\n",
    "    sortedIndexList = sorted(index.items(), key = lambda item: item[1])\n",
    "    #print(sortedIndexList)\n",
    "    sortedIndex = {i: index[1] for i, index in zip(range(len(sortedIndexList)), sortedIndexList)}\n",
    "    #print(sortedIndex)\n",
    "    for i in range(1, len(Text) - k + 1):\n",
    "        if sortedIndex[i] == sortedIndex[i-1]:\n",
    "            count[i] = count[i-1] + 1\n",
    "    maxCount = max(count.values())\n",
    "    #print(count)\n",
    "    for i in range(len(Text) - k + 1):\n",
    "        if count[i] == maxCount:\n",
    "            pattern = NumberToPattern(sortedIndex[i], k)\n",
    "            frequentPatterns.append(pattern)\n",
    "    return frequentPatterns"
   ]
  },
  {
   "cell_type": "code",
   "execution_count": 216,
   "metadata": {},
   "outputs": [
    {
     "data": {
      "text/plain": [
       "['AA', 'GG']"
      ]
     },
     "execution_count": 216,
     "metadata": {},
     "output_type": "execute_result"
    }
   ],
   "source": [
    "FindingFrequentWordsBySorting('AAGCAAAGGTGGG', 2)"
   ]
  },
  {
   "cell_type": "code",
   "execution_count": 226,
   "metadata": {
    "collapsed": true
   },
   "outputs": [],
   "source": [
    "def ImmediateNeighbors(Pattern):\n",
    "    neighborhood = []\n",
    "    for i in range(len(Pattern)):\n",
    "        letter = Pattern[i]\n",
    "        for symbol in symbols:\n",
    "            if symbol != letter:\n",
    "                neighbor = Pattern[:i] + symbol + Pattern[i+1:]\n",
    "                neighborhood.append(neighbor)\n",
    "    return neighborhood"
   ]
  },
  {
   "cell_type": "code",
   "execution_count": 227,
   "metadata": {},
   "outputs": [
    {
     "data": {
      "text/plain": [
       "['TTG', 'CTG', 'GTG', 'AAG', 'ACG', 'AGG', 'ATA', 'ATT', 'ATC']"
      ]
     },
     "execution_count": 227,
     "metadata": {},
     "output_type": "execute_result"
    }
   ],
   "source": [
    "ImmediateNeighbors('ATG')"
   ]
  },
  {
   "cell_type": "code",
   "execution_count": 431,
   "metadata": {
    "collapsed": true
   },
   "outputs": [],
   "source": [
    "def Neighbors(Pattern, d):\n",
    "    if d == 0:\n",
    "        return Pattern\n",
    "    if len(Pattern) == 1:\n",
    "        return symbols\n",
    "    neighborhood = []\n",
    "    suffixNeighbors = Neighbors(Pattern[1:len(Pattern)], d)\n",
    "    #print('s', suffixNeighbors)\n",
    "    for text in suffixNeighbors:\n",
    "        #print('t', text)\n",
    "        if HammingDistance(Pattern[1:], text) < d:\n",
    "            for symbol in symbols:\n",
    "                neighborhood.append(symbol + text)\n",
    "        else:\n",
    "            neighborhood.append(Pattern[0] + text)\n",
    "    return neighborhood\n",
    "    "
   ]
  },
  {
   "cell_type": "code",
   "execution_count": 249,
   "metadata": {},
   "outputs": [
    {
     "data": {
      "text/plain": [
       "'ATG'"
      ]
     },
     "execution_count": 249,
     "metadata": {},
     "output_type": "execute_result"
    }
   ],
   "source": [
    "Neighbors('ATG', 0)"
   ]
  },
  {
   "cell_type": "code",
   "execution_count": null,
   "metadata": {
    "collapsed": true
   },
   "outputs": [],
   "source": [
    "def IterativeNeighbors(Pattern, d):\n",
    "    neighborhood = []\n",
    "    for j in range(1, d):\n",
    "        for "
   ]
  },
  {
   "cell_type": "code",
   "execution_count": 432,
   "metadata": {
    "collapsed": true
   },
   "outputs": [],
   "source": [
    "# 1i Find the Most Frequent Words with Mismatches in a String\n",
    "def FrequentWordsWithMismatches(Text, k, d):\n",
    "    patterns = []\n",
    "    freqMap = {}\n",
    "    n = len(Text)\n",
    "    for i in range(n - k + 1):\n",
    "        pattern = Text[i:i + k]\n",
    "        neighborhood = Neighbors(pattern, d)\n",
    "        for j in range(len(neighborhood)):\n",
    "            neighbor = neighborhood[j]\n",
    "            if neighbor not in freqMap.keys():\n",
    "                freqMap[neighbor] = 1\n",
    "            else:\n",
    "                freqMap[neighbor] += 1\n",
    "    m = max(freqMap.values())\n",
    "    for pattern in freqMap:\n",
    "        if freqMap[pattern] == m:\n",
    "            patterns.append(pattern)\n",
    "    return ' '.join(patterns)"
   ]
  },
  {
   "cell_type": "code",
   "execution_count": 433,
   "metadata": {},
   "outputs": [
    {
     "data": {
      "text/plain": [
       "'ATGT GATG ATGC'"
      ]
     },
     "execution_count": 433,
     "metadata": {},
     "output_type": "execute_result"
    }
   ],
   "source": [
    "FrequentWordsWithMismatches('ACGTTGCATGTCGCATGATGCATGAGAGCT', 4, 1)"
   ]
  },
  {
   "cell_type": "code",
   "execution_count": 434,
   "metadata": {
    "collapsed": true
   },
   "outputs": [],
   "source": [
    "test_data_file = 'bioinformaticsalgorithm/rosalind_ba1i.txt'\n",
    "text_k_d = [] \n",
    "with open(test_data_file, 'r') as reader:\n",
    "    for line in reader:\n",
    "        text_k_d.append(line.strip('\\n'))\n",
    "   "
   ]
  },
  {
   "cell_type": "code",
   "execution_count": 435,
   "metadata": {},
   "outputs": [
    {
     "data": {
      "text/plain": [
       "'CACGCC'"
      ]
     },
     "execution_count": 435,
     "metadata": {},
     "output_type": "execute_result"
    }
   ],
   "source": [
    "FrequentWordsWithMismatches(text_k_d[0], int(text_k_d[1].split(' ')[0]), int(text_k_d[1].split(' ')[1]))"
   ]
  },
  {
   "cell_type": "code",
   "execution_count": 302,
   "metadata": {
    "collapsed": true
   },
   "outputs": [],
   "source": [
    "def FrequentWordsWithMismatchesSorting(Text, k, d):\n",
    "    frequentPatterns = []\n",
    "    neighborhoods = []\n",
    "    index = {}\n",
    "    count = {}\n",
    "    for i in range(len(Text) - k + 1):\n",
    "        neighborhoods.append(Neighbors(Text[i:i+k], d))\n",
    "    neighborhoods = [kmer for kmers in neighborhoods for kmer in kmers]\n",
    "    for i in range(len(neighborhoods)):\n",
    "        pattern = neighborhoods[i]\n",
    "        index[i] = PatternToNumber(pattern)\n",
    "        count[i] = 1\n",
    "    sortedIndexList = sorted(index.items(), key = lambda item: item[1])\n",
    "    sortedIndex = {i: index[1] for i, index in zip(range(len(sortedIndexList)), sortedIndexList)}\n",
    "    for i in range(len(neighborhoods)-1):\n",
    "        if sortedIndex[i] == sortedIndex[i+1]:\n",
    "            count[i+1] = count[i] + 1\n",
    "    maxCount = max(count.values())\n",
    "    print(count)\n",
    "    for i in range(len(neighborhoods)):\n",
    "        if count[i] == maxCount:\n",
    "            pattern = NumberToPattern(sortedIndex[i], k)\n",
    "            frequentPatterns.append(pattern)\n",
    "    return frequentPatterns"
   ]
  },
  {
   "cell_type": "code",
   "execution_count": 357,
   "metadata": {},
   "outputs": [
    {
     "data": {
      "text/plain": [
       "['ATGC', 'ATGT', 'GATG']"
      ]
     },
     "execution_count": 357,
     "metadata": {},
     "output_type": "execute_result"
    }
   ],
   "source": [
    "FrequentWordsWithMismatchesSorting('ACGTTGCATGTCGCATGATGCATGAGAGCT', 4, 1)"
   ]
  },
  {
   "cell_type": "code",
   "execution_count": 442,
   "metadata": {
    "collapsed": true
   },
   "outputs": [],
   "source": [
    "def FrequentWordsWithMismatchesAndReverseComplement(Text, k, d):\n",
    "    patterns = []\n",
    "    freqMap = {}\n",
    "    freqMap_reverse = {}\n",
    "    n = len(Text)\n",
    "    for i in range(n - k + 1):\n",
    "        pattern = Text[i:i + k]\n",
    "        pattern_reverse = ReverseComplement(pattern)\n",
    "        \n",
    "        neighborhood = Neighbors(pattern, d)\n",
    "        neighborhood_reverse = Neighbors(pattern_reverse, d)\n",
    "        \n",
    "        for j in range(len(neighborhood)):\n",
    "            neighbor = neighborhood[j]\n",
    "            if neighbor not in freqMap.keys():\n",
    "                freqMap[neighbor] = 1\n",
    "            else:\n",
    "                freqMap[neighbor] += 1\n",
    "            \n",
    "            neighbor_reverse = neighborhood_reverse[j]\n",
    "            if neighbor_reverse not in freqMap_reverse.keys():\n",
    "                freqMap_reverse[neighbor_reverse] = 1\n",
    "            else:\n",
    "                freqMap_reverse[neighbor_reverse] += 1\n",
    "\n",
    "    freqMap_combined = {}\n",
    "    for i in freqMap:\n",
    "        if ReverseComplement(i) in freqMap_reverse:\n",
    "            freqMap_combined[i] = freqMap[i] + freqMap_reverse[ReverseComplement(i)]\n",
    "            \n",
    "    print(freqMap)\n",
    "    print(freqMap_reverse)\n",
    "    print(freqMap_combined)\n",
    "    m = max(freqMap_combined.values())\n",
    "    for pattern in freqMap_combined:\n",
    "        if freqMap_combined[pattern] == m:\n",
    "            patterns.append(pattern)\n",
    "    return ' '.join(patterns)"
   ]
  },
  {
   "cell_type": "code",
   "execution_count": 443,
   "metadata": {},
   "outputs": [
    {
     "name": "stdout",
     "output_type": "stream",
     "text": [
      "{'ACGA': 3, 'ACAT': 4, 'ACTT': 1, 'ACCT': 2, 'AAGT': 2, 'ATGT': 5, 'ACGT': 2, 'TCGT': 2, 'CCGT': 1, 'GCGT': 4, 'AGGT': 3, 'ACGC': 3, 'ACGG': 1, 'CGTA': 2, 'CGAT': 2, 'CATT': 4, 'CTTT': 1, 'CCTT': 1, 'AGTT': 2, 'TGTT': 3, 'CGTT': 1, 'GGTT': 1, 'CGCT': 3, 'CGGT': 1, 'CGTC': 2, 'CGTG': 4, 'GTTA': 1, 'GTTT': 1, 'GTTC': 1, 'GTAG': 2, 'GATG': 5, 'ATTG': 1, 'TTTG': 1, 'CTTG': 4, 'GTTG': 3, 'GCTG': 2, 'GGTG': 2, 'GTCG': 2, 'GTGG': 2, 'TTGA': 3, 'TTGT': 2, 'TTAC': 1, 'TTTC': 2, 'TTCC': 1, 'TAGC': 3, 'ATGC': 5, 'TTGC': 3, 'CTGC': 2, 'GTGC': 3, 'TCGC': 2, 'TGGC': 3, 'TTGG': 1, 'TGAA': 4, 'TGTA': 3, 'TACA': 2, 'TTCA': 2, 'TCCA': 2, 'AGCA': 4, 'TGCA': 3, 'CGCA': 3, 'GGCA': 3, 'TGGA': 2, 'TGCT': 4, 'TGCC': 3, 'TGCG': 3, 'GCAA': 3, 'GAAT': 3, 'GTAT': 3, 'TCAT': 4, 'CCAT': 3, 'GCAT': 3, 'GGAT': 4, 'GCTT': 3, 'GCCT': 3, 'GCAC': 3, 'GCAG': 3, 'CATA': 3, 'CATC': 3, 'CAAG': 3, 'AATG': 4, 'TATG': 4, 'CATG': 4, 'CCTG': 3, 'CACG': 3, 'CAGG': 3, 'ATGA': 4, 'ATAT': 1, 'ATTT': 1, 'ATCT': 2, 'CTGT': 1, 'GTGT': 1, 'ATGG': 4, 'TGAC': 3, 'TATC': 1, 'TCTC': 2, 'AGTC': 1, 'TGTC': 1, 'GGTC': 1, 'TGTG': 2, 'GTCA': 1, 'GTCT': 1, 'GTCC': 1, 'GACG': 2, 'ATCG': 1, 'TTCG': 1, 'CTCG': 1, 'GCCG': 1, 'GGCG': 1, 'TCGA': 1, 'TCAC': 1, 'TCCC': 1, 'CCGC': 1, 'GCGC': 2, 'TCGG': 1, 'CGAA': 1, 'CACA': 1, 'CTCA': 1, 'CCCA': 1, 'CGGA': 1, 'CGCC': 1, 'CGCG': 1, 'ATAA': 2, 'ATTA': 2, 'ATCA': 2, 'AAGA': 3, 'CTGA': 2, 'GTGA': 3, 'AGGA': 2, 'TAAT': 1, 'TTAT': 1, 'AGAT': 3, 'TGAT': 2, 'TGGT': 1, 'TGAG': 3, 'GATA': 2, 'GATT': 1, 'GATC': 2, 'GAAG': 1, 'GAGG': 3, 'ATAC': 1, 'ATTC': 1, 'ATCC': 1, 'AAGC': 2, 'AGGC': 1, 'TAAG': 1, 'TTAG': 1, 'TCAG': 1, 'AGAG': 2, 'CGAG': 2, 'GGAG': 2, 'TGGG': 1, 'GAAA': 1, 'GACA': 1, 'TAGA': 1, 'CAGA': 1, 'GAGA': 2, 'GCGA': 1, 'GGGA': 1, 'GAGT': 2, 'GAGC': 2, 'AGAA': 1, 'AGAC': 1, 'AAAG': 1, 'ATAG': 1, 'ACAG': 1, 'AGTG': 1, 'AGCG': 2, 'AGGG': 1, 'GAAC': 1, 'GACC': 1, 'CAGC': 1, 'GGGC': 1, 'AACT': 1, 'AGCT': 1, 'GGCT': 1, 'AGCC': 1}\n",
      "{'ACGA': 2, 'ACAT': 5, 'ACTT': 2, 'ACCT': 3, 'AAGT': 1, 'ATGT': 4, 'ACGT': 2, 'TCGT': 3, 'CCGT': 1, 'GCGT': 3, 'AGGT': 2, 'ACGC': 4, 'ACGG': 1, 'AACA': 3, 'AACT': 2, 'AACC': 1, 'AAAG': 1, 'AATG': 4, 'AACG': 1, 'TACG': 2, 'CACG': 4, 'GACG': 2, 'ATCG': 2, 'ACCG': 1, 'AGCG': 3, 'AAGG': 1, 'CAAA': 1, 'CAAT': 1, 'AAAC': 1, 'TAAC': 1, 'CAAC': 3, 'GAAC': 1, 'CTAC': 2, 'CCAC': 2, 'CGAC': 2, 'CATC': 5, 'CACC': 2, 'CAGC': 2, 'CAAG': 4, 'GAAA': 2, 'GTAA': 1, 'ACAA': 2, 'TCAA': 3, 'CCAA': 1, 'GCAA': 3, 'GGAA': 1, 'GCTA': 3, 'GCCA': 3, 'GCGA': 2, 'GCAT': 5, 'GCAC': 3, 'GCAG': 2, 'TGAA': 2, 'TGTA': 2, 'TACA': 3, 'TTCA': 4, 'TCCA': 2, 'AGCA': 4, 'TGCA': 3, 'CGCA': 3, 'GGCA': 3, 'TGGA': 2, 'TGCT': 4, 'TGCC': 3, 'TGCG': 3, 'ATGA': 4, 'ATAC': 3, 'ATTC': 3, 'ATCC': 4, 'AAGC': 3, 'ATGC': 3, 'TTGC': 3, 'CTGC': 3, 'GTGC': 3, 'AGGC': 3, 'ATGG': 3, 'CATA': 4, 'CATT': 4, 'TATG': 3, 'CATG': 4, 'GATG': 3, 'CTTG': 3, 'CCTG': 3, 'CGTG': 3, 'CAGG': 3, 'AAAT': 1, 'ATAT': 1, 'TCAT': 4, 'CCAT': 4, 'AGAT': 2, 'ACAC': 1, 'ACAG': 1, 'GATA': 1, 'CACA': 2, 'GACA': 1, 'GTCA': 3, 'GAGA': 2, 'GACT': 1, 'GACC': 1, 'CGAA': 1, 'CGAT': 1, 'AGAC': 1, 'TGAC': 1, 'GGAC': 1, 'CGTC': 2, 'CGCC': 1, 'CGGC': 1, 'CGAG': 1, 'GTGA': 1, 'TCGA': 1, 'CCGA': 1, 'GGGA': 1, 'GCGC': 2, 'GCGG': 1, 'TGAG': 1, 'TGTG': 1, 'TTCG': 1, 'TCCG': 1, 'CGCG': 1, 'GGCG': 1, 'TGGG': 1, 'TAAT': 2, 'TTAT': 2, 'TGAT': 2, 'TCTT': 3, 'TCCT': 2, 'TCAC': 3, 'TCAG': 2, 'ATAA': 1, 'ATTA': 1, 'ATCA': 2, 'CTCA': 3, 'ACCA': 1, 'ATCT': 3, 'AATC': 1, 'TATC': 2, 'GATC': 2, 'CTTC': 1, 'CCTC': 3, 'GAAT': 1, 'GTAT': 1, 'GGAT': 1, 'GCTT': 2, 'GCCT': 1, 'CTAA': 1, 'CTTA': 1, 'CCCA': 1, 'CTGA': 1, 'CTCT': 2, 'CTCC': 2, 'CTCG': 2, 'TCTA': 1, 'TTTC': 1, 'ACTC': 2, 'TCTC': 2, 'GCTC': 2, 'TGTC': 1, 'TCCC': 1, 'TCGC': 1, 'TCTG': 1, 'CTAT': 1, 'CTTT': 1, 'CACT': 1, 'TTCT': 1, 'GTCT': 1, 'CCCT': 1, 'CGCT': 2, 'CTGT': 1, 'GTTC': 1, 'GGTC': 1, 'GCCC': 1, 'GCTG': 1, 'AGTT': 1, 'AGCT': 1, 'GGCT': 1, 'AGCC': 1}\n",
      "{'ACGA': 6, 'ACAT': 8, 'ACTT': 2, 'ACCT': 4, 'AAGT': 4, 'ATGT': 10, 'ACGT': 4, 'TCGT': 4, 'CCGT': 2, 'GCGT': 8, 'AGGT': 6, 'ACGC': 6, 'ACGG': 2, 'CGTA': 4, 'CGAT': 4, 'CATT': 8, 'CTTT': 2, 'CCTT': 2, 'AGTT': 4, 'TGTT': 6, 'CGTT': 2, 'GGTT': 2, 'CGCT': 6, 'CGGT': 2, 'CGTC': 4, 'CGTG': 8, 'GTTA': 2, 'GTTT': 2, 'GTTC': 2, 'GTAG': 4, 'GATG': 10, 'ATTG': 2, 'TTTG': 2, 'CTTG': 8, 'GTTG': 6, 'GCTG': 4, 'GGTG': 4, 'GTCG': 4, 'GTGG': 4, 'TTGA': 6, 'TTGT': 4, 'TTAC': 2, 'TTTC': 4, 'TTCC': 2, 'TAGC': 6, 'ATGC': 10, 'TTGC': 6, 'CTGC': 4, 'GTGC': 6, 'TCGC': 4, 'TGGC': 6, 'TTGG': 2, 'TGAA': 8, 'TGTA': 6, 'TACA': 4, 'TTCA': 4, 'TCCA': 4, 'AGCA': 8, 'TGCA': 6, 'CGCA': 6, 'GGCA': 6, 'TGGA': 4, 'TGCT': 8, 'TGCC': 6, 'TGCG': 6, 'GCAA': 6, 'GAAT': 6, 'GTAT': 6, 'TCAT': 8, 'CCAT': 6, 'GCAT': 6, 'GGAT': 8, 'GCTT': 6, 'GCCT': 6, 'GCAC': 6, 'GCAG': 6, 'CATA': 6, 'CATC': 6, 'CAAG': 6, 'AATG': 8, 'TATG': 8, 'CATG': 8, 'CCTG': 6, 'CACG': 6, 'CAGG': 6, 'ATGA': 8, 'ATAT': 2, 'ATTT': 2, 'ATCT': 4, 'CTGT': 2, 'GTGT': 2, 'ATGG': 8, 'TGAC': 6, 'TATC': 2, 'TCTC': 4, 'AGTC': 2, 'TGTC': 2, 'GGTC': 2, 'TGTG': 4, 'GTCA': 2, 'GTCT': 2, 'GTCC': 2, 'GACG': 4, 'ATCG': 2, 'TTCG': 2, 'CTCG': 2, 'GCCG': 2, 'GGCG': 2, 'TCGA': 2, 'TCAC': 2, 'TCCC': 2, 'CCGC': 2, 'GCGC': 4, 'TCGG': 2, 'CGAA': 2, 'CACA': 2, 'CTCA': 2, 'CCCA': 2, 'CGGA': 2, 'CGCC': 2, 'CGCG': 2, 'ATAA': 4, 'ATTA': 4, 'ATCA': 4, 'AAGA': 6, 'CTGA': 4, 'GTGA': 6, 'AGGA': 4, 'TAAT': 2, 'TTAT': 2, 'AGAT': 6, 'TGAT': 4, 'TGGT': 2, 'TGAG': 6, 'GATA': 4, 'GATT': 2, 'GATC': 4, 'GAAG': 2, 'GAGG': 6, 'ATAC': 2, 'ATTC': 2, 'ATCC': 2, 'AAGC': 4, 'AGGC': 2, 'TAAG': 2, 'TTAG': 2, 'TCAG': 2, 'AGAG': 4, 'CGAG': 4, 'GGAG': 4, 'TGGG': 2, 'GAAA': 2, 'GACA': 2, 'TAGA': 2, 'CAGA': 2, 'GAGA': 4, 'GCGA': 2, 'GGGA': 2, 'GAGT': 4, 'GAGC': 4, 'AGAA': 2, 'AGAC': 2, 'AAAG': 2, 'ATAG': 2, 'ACAG': 2, 'AGTG': 2, 'AGCG': 4, 'AGGG': 2, 'GAAC': 2, 'GACC': 2, 'CAGC': 2, 'GGGC': 2, 'AACT': 2, 'AGCT': 2, 'GGCT': 2, 'AGCC': 2}\n"
     ]
    },
    {
     "data": {
      "text/plain": [
       "'ATGT GATG ATGC'"
      ]
     },
     "execution_count": 443,
     "metadata": {},
     "output_type": "execute_result"
    }
   ],
   "source": [
    "FrequentWordsWithMismatchesAndReverseComplement('ACGTTGCATGTCGCATGATGCATGAGAGCT', 4, 1)"
   ]
  },
  {
   "cell_type": "code",
   "execution_count": 424,
   "metadata": {},
   "outputs": [
    {
     "data": {
      "text/plain": [
       "True"
      ]
     },
     "execution_count": 424,
     "metadata": {},
     "output_type": "execute_result"
    }
   ],
   "source": [
    "'ATG' in 'ATGCAT'"
   ]
  },
  {
   "cell_type": "code",
   "execution_count": 421,
   "metadata": {},
   "outputs": [
    {
     "data": {
      "text/plain": [
       "5"
      ]
     },
     "execution_count": 421,
     "metadata": {},
     "output_type": "execute_result"
    }
   ],
   "source": [
    "test = {'ATGT': 4, 'ACGT': 2, 'GCAT': 5, 'TGCA': 3, 'CGCA': 3, 'ATGA': 4, 'ATGC': 3, 'TTGC': 3, 'CATG': 4, 'GATG': 3, 'GAGA': 2, 'TGAG': 1, 'TGAT': 2, 'TGTC': 1, 'TCGC': 1, 'AGCT': 1}\n",
    "test['GCAT']"
   ]
  },
  {
   "cell_type": "code",
   "execution_count": 397,
   "metadata": {
    "collapsed": true
   },
   "outputs": [],
   "source": [
    "def FrequentWordsWithMismatchesSortingAndReverseComplement(Text, k, d):\n",
    "    frequentPatterns = []\n",
    "    neighborhoods = []\n",
    "    index = {}\n",
    "    count = {}\n",
    "    for i in range(len(Text) - k + 1):\n",
    "        neighborhoods.append(Neighbors(Text[i:i+k], d))\n",
    "    neighborhoods_forward = [kmer for kmers in neighborhoods for kmer in kmers]\n",
    "    neighborhoods_reverse = [ReverseComplement(kmer) for kmer in neighborhoods_forward]\n",
    "    neighborhoods = neighborhoods_forward + neighborhoods_reverse\n",
    "\n",
    "    for i in range(len(neighborhoods)):\n",
    "        pattern = neighborhoods[i]\n",
    "        index[i] = PatternToNumber(pattern)\n",
    "        count[i] = 1\n",
    "\n",
    "    sortedIndexList = sorted(index.items(), key = lambda item: item[1])\n",
    "    sortedIndex = {i: index[1] for i, index in zip(range(len(sortedIndexList)), sortedIndexList)}\n",
    "    for i in range(len(neighborhoods)-1):\n",
    "        if sortedIndex[i] == sortedIndex[i+1]:\n",
    "            count[i+1] = count[i] + 1\n",
    "\n",
    "    count_combined = {str(i) + '-' + NumberToPattern(sortedIndex[i], k): count[i] for i in range(len(sortedIndex))}\n",
    "\n",
    "    count_combined_forward = {}\n",
    "    for i in neighborhoods_forward:\n",
    "        \n",
    "#     maxCount = max(count.values())\n",
    "#     for i in range(len(neighborhoods)):\n",
    "#         if count[i] == maxCount:\n",
    "#             pattern = NumberToPattern(sortedIndex[i], k)\n",
    "#             frequentPatterns.append(pattern)\n",
    "#     return frequentPatterns"
   ]
  },
  {
   "cell_type": "code",
   "execution_count": 358,
   "metadata": {},
   "outputs": [
    {
     "data": {
      "text/plain": [
       "[1, 2, 3, 4, 5, 6]"
      ]
     },
     "execution_count": 358,
     "metadata": {},
     "output_type": "execute_result"
    }
   ],
   "source": [
    "[1, 2, 3] + [4, 5, 6]"
   ]
  },
  {
   "cell_type": "code",
   "execution_count": 399,
   "metadata": {
    "collapsed": true
   },
   "outputs": [],
   "source": [
    "def getNeighborhoods(Text, k, d):\n",
    "    frequentPatterns = []\n",
    "    neighborhoods = []\n",
    "    \n",
    "    for i in range(len(Text) - k + 1):\n",
    "        neighborhoods.append(Neighbors(Text[i:i+k], d))\n",
    "    return neighborhoods\n",
    "\n",
    "def getIndexCount(neighborhoods):\n",
    "    index = {}\n",
    "    count = {}\n",
    "    for i in range(len(neighborhoods)):\n",
    "        pattern = neighborhoods[i]\n",
    "        index[i] = PatternToNumber(pattern)\n",
    "        count[i] = 1\n",
    "\n",
    "    return index, count\n",
    "\n",
    "def getCount(neighborhoods, index, count, k):\n",
    "    \n",
    "    sortedIndexList = sorted(index.items(), key = lambda item: item[1])\n",
    "    sortedIndex = {i: index[1] for i, index in zip(range(len(sortedIndexList)), sortedIndexList)}\n",
    "    for i in range(len(neighborhoods)-1):\n",
    "        if sortedIndex[i] == sortedIndex[i+1]:\n",
    "            count[i+1] = count[i] + 1\n",
    "\n",
    "    return {NumberToPattern(sortedIndex[i], k): count[i] for i in range(max(sortedIndex.values()))}\n",
    "\n",
    "def FrequentWordsWithMismatchesSortingAndReverseComplement(Text, k, d):\n",
    "    \n",
    "    frequentPatterns = []\n",
    "    neighborhoods = getNeighborhoods(Text, k, d)\n",
    "    neighborhoods_forward = [kmer for kmers in neighborhoods for kmer in kmers]\n",
    "    neighborhoods_reverse = [ReverseComplement(kmer) for kmers in neighborhoods for kmer in kmers]\n",
    "    \n",
    "    index_forward, count_forward = getIndexCount(neighborhoods_forward)\n",
    "    index_reverse, count_reverse = getIndexCount(neighborhoods_reverse)\n",
    "    \n",
    "    forward_count = getCount(neighborhoods_forward, index_forward, count_forward, k)\n",
    "    reverse_count = getCount(neighborhoods_reverse, index_reverse, count_reverse, k)\n",
    "    \n",
    "    count_combine = {}\n",
    "    print(forward_count)\n",
    "    print(reverse_count)\n",
    "    for i in forward_count.keys():\n",
    "        count_combine[i] = forward_count[i] + reverse_count[ReverseComplement(i)]\n",
    "        \n",
    "    maxCount = max(count_combine.values())\n",
    "    for i in range(len(neighborhoods)):\n",
    "        if count_combine[i] == maxCount:\n",
    "            pattern = NumberToPattern(sortedIndex[i], k)\n",
    "            frequentPatterns.append(pattern)\n",
    "    return frequentPatterns"
   ]
  },
  {
   "cell_type": "code",
   "execution_count": 400,
   "metadata": {},
   "outputs": [
    {
     "name": "stdout",
     "output_type": "stream",
     "text": [
      "{'AAAG': 1, 'AACT': 1, 'AAGA': 3, 'AAGC': 2, 'AAGT': 2, 'AATG': 4, 'ACAG': 1, 'ACAT': 4, 'ACCT': 2, 'ACGA': 3, 'ACGC': 3, 'ACGG': 1, 'ACGT': 2, 'ACTT': 1, 'AGAA': 1, 'AGAC': 1, 'AGAG': 2, 'AGAT': 3, 'AGCA': 4, 'AGCC': 1, 'AGCG': 2, 'AGCT': 1, 'AGGA': 2, 'AGGC': 1, 'AGGG': 1, 'AGGT': 3, 'AGTC': 1, 'AGTG': 1, 'AGTT': 2, 'ATAA': 2, 'ATAC': 1, 'ATAG': 1, 'ATAT': 1, 'ATCA': 2, 'ATCC': 1, 'ATCG': 1, 'ATCT': 2, 'ATGA': 4, 'ATGC': 5, 'ATGG': 4, 'ATGT': 5, 'ATTA': 2, 'ATTC': 1, 'ATTG': 1, 'ATTT': 1, 'CAAG': 3, 'CACA': 1, 'CACG': 3, 'CAGA': 1, 'CAGC': 1, 'CAGG': 3, 'CATA': 3, 'CATC': 3, 'CATG': 4, 'CATT': 4, 'CCAT': 3, 'CCCA': 1, 'CCGC': 1, 'CCGT': 1, 'CCTG': 3, 'CCTT': 1, 'CGAA': 1, 'CGAG': 2, 'CGAT': 2, 'CGCA': 3, 'CGCC': 1, 'CGCG': 1, 'CGCT': 3, 'CGGA': 1, 'CGGT': 1, 'CGTA': 2, 'CGTC': 2, 'CGTG': 4, 'CGTT': 1, 'CTCA': 1, 'CTCG': 1, 'CTGA': 2, 'CTGC': 2, 'CTGT': 1, 'CTTG': 4, 'CTTT': 1, 'GAAA': 1, 'GAAC': 1, 'GAAG': 1, 'GAAT': 3, 'GACA': 1, 'GACC': 1, 'GACG': 2, 'GAGA': 2, 'GAGC': 2, 'GAGG': 3, 'GAGT': 2, 'GATA': 2, 'GATC': 2, 'GATG': 5, 'GATT': 1, 'GCAA': 3, 'GCAC': 3, 'GCAG': 3, 'GCAT': 3, 'GCCG': 1, 'GCCT': 3, 'GCGA': 1, 'GCGC': 2, 'GCGT': 4, 'GCTG': 2, 'GCTT': 3, 'GGAG': 2, 'GGAT': 4, 'GGCA': 3, 'GGCG': 1, 'GGCT': 1, 'GGGA': 1, 'GGGC': 1, 'GGTC': 1, 'GGTG': 2, 'GGTT': 1, 'GTAG': 2, 'GTAT': 3, 'GTCA': 1, 'GTCC': 1, 'GTCG': 2, 'GTCT': 1, 'GTGA': 3, 'GTGC': 3, 'GTGG': 2}\n",
      "{'AAAC': 1, 'AAAG': 1, 'AAAT': 1, 'AACA': 3, 'AACC': 1, 'AACG': 1, 'AACT': 2, 'AAGC': 3, 'AAGG': 1, 'AAGT': 1, 'AATC': 1, 'AATG': 4, 'ACAA': 2, 'ACAC': 1, 'ACAG': 1, 'ACAT': 5, 'ACCA': 1, 'ACCG': 1, 'ACCT': 3, 'ACGA': 2, 'ACGC': 4, 'ACGG': 1, 'ACGT': 2, 'ACTC': 2, 'ACTT': 2, 'AGAC': 1, 'AGAT': 2, 'AGCA': 4, 'AGCC': 1, 'AGCG': 3, 'AGCT': 1, 'AGGC': 3, 'AGGT': 2, 'AGTT': 1, 'ATAA': 1, 'ATAC': 3, 'ATAT': 1, 'ATCA': 2, 'ATCC': 4, 'ATCG': 2, 'ATCT': 3, 'ATGA': 4, 'ATGC': 3, 'ATGG': 3, 'ATGT': 4, 'ATTA': 1, 'ATTC': 3, 'CAAA': 1, 'CAAC': 3, 'CAAG': 4, 'CAAT': 1, 'CACA': 2, 'CACC': 2, 'CACG': 4, 'CACT': 1, 'CAGC': 2, 'CAGG': 3, 'CATA': 4, 'CATC': 5, 'CATG': 4, 'CATT': 4, 'CCAA': 1, 'CCAC': 2, 'CCAT': 4, 'CCCA': 1, 'CCCT': 1, 'CCGA': 1, 'CCGT': 1, 'CCTC': 3, 'CCTG': 3, 'CGAA': 1, 'CGAC': 2, 'CGAG': 1, 'CGAT': 1, 'CGCA': 3, 'CGCC': 1, 'CGCG': 1, 'CGCT': 2, 'CGGC': 1, 'CGTC': 2, 'CGTG': 3, 'CTAA': 1, 'CTAC': 2, 'CTAT': 1, 'CTCA': 3, 'CTCC': 2, 'CTCG': 2, 'CTCT': 2, 'CTGA': 1, 'CTGC': 3, 'CTGT': 1, 'CTTA': 1, 'CTTC': 1, 'CTTG': 3, 'CTTT': 1, 'GAAA': 2, 'GAAC': 1, 'GAAT': 1, 'GACA': 1, 'GACC': 1, 'GACG': 2, 'GACT': 1, 'GAGA': 2, 'GATA': 1, 'GATC': 2, 'GATG': 3, 'GCAA': 3, 'GCAC': 3, 'GCAG': 2, 'GCAT': 5, 'GCCA': 3, 'GCCC': 1, 'GCCT': 1, 'GCGA': 2, 'GCGC': 2, 'GCGG': 1, 'GCGT': 3, 'GCTA': 3, 'GCTC': 2, 'GCTG': 1, 'GCTT': 2, 'GGAA': 1, 'GGAC': 1, 'GGAT': 1, 'GGCA': 1}\n"
     ]
    },
    {
     "ename": "KeyError",
     "evalue": "'TCTT'",
     "output_type": "error",
     "traceback": [
      "\u001b[0;31m---------------------------------------------------------------------------\u001b[0m",
      "\u001b[0;31mKeyError\u001b[0m                                  Traceback (most recent call last)",
      "\u001b[0;32m<ipython-input-400-b812383c5f56>\u001b[0m in \u001b[0;36m<module>\u001b[0;34m()\u001b[0m\n\u001b[0;32m----> 1\u001b[0;31m \u001b[0mFrequentWordsWithMismatchesSortingAndReverseComplement\u001b[0m\u001b[0;34m(\u001b[0m\u001b[0;34m'ACGTTGCATGTCGCATGATGCATGAGAGCT'\u001b[0m\u001b[0;34m,\u001b[0m \u001b[0;36m4\u001b[0m\u001b[0;34m,\u001b[0m \u001b[0;36m1\u001b[0m\u001b[0;34m)\u001b[0m\u001b[0;34m\u001b[0m\u001b[0;34m\u001b[0m\u001b[0m\n\u001b[0m",
      "\u001b[0;32m<ipython-input-399-c6e64642eaef>\u001b[0m in \u001b[0;36mFrequentWordsWithMismatchesSortingAndReverseComplement\u001b[0;34m(Text, k, d)\u001b[0m\n\u001b[1;32m     44\u001b[0m     \u001b[0mprint\u001b[0m\u001b[0;34m(\u001b[0m\u001b[0mreverse_count\u001b[0m\u001b[0;34m)\u001b[0m\u001b[0;34m\u001b[0m\u001b[0;34m\u001b[0m\u001b[0m\n\u001b[1;32m     45\u001b[0m     \u001b[0;32mfor\u001b[0m \u001b[0mi\u001b[0m \u001b[0;32min\u001b[0m \u001b[0mforward_count\u001b[0m\u001b[0;34m.\u001b[0m\u001b[0mkeys\u001b[0m\u001b[0;34m(\u001b[0m\u001b[0;34m)\u001b[0m\u001b[0;34m:\u001b[0m\u001b[0;34m\u001b[0m\u001b[0;34m\u001b[0m\u001b[0m\n\u001b[0;32m---> 46\u001b[0;31m         \u001b[0mcount_combine\u001b[0m\u001b[0;34m[\u001b[0m\u001b[0mi\u001b[0m\u001b[0;34m]\u001b[0m \u001b[0;34m=\u001b[0m \u001b[0mforward_count\u001b[0m\u001b[0;34m[\u001b[0m\u001b[0mi\u001b[0m\u001b[0;34m]\u001b[0m \u001b[0;34m+\u001b[0m \u001b[0mreverse_count\u001b[0m\u001b[0;34m[\u001b[0m\u001b[0mReverseComplement\u001b[0m\u001b[0;34m(\u001b[0m\u001b[0mi\u001b[0m\u001b[0;34m)\u001b[0m\u001b[0;34m]\u001b[0m\u001b[0;34m\u001b[0m\u001b[0;34m\u001b[0m\u001b[0m\n\u001b[0m\u001b[1;32m     47\u001b[0m \u001b[0;34m\u001b[0m\u001b[0m\n\u001b[1;32m     48\u001b[0m     \u001b[0mmaxCount\u001b[0m \u001b[0;34m=\u001b[0m \u001b[0mmax\u001b[0m\u001b[0;34m(\u001b[0m\u001b[0mcount_combine\u001b[0m\u001b[0;34m.\u001b[0m\u001b[0mvalues\u001b[0m\u001b[0;34m(\u001b[0m\u001b[0;34m)\u001b[0m\u001b[0;34m)\u001b[0m\u001b[0;34m\u001b[0m\u001b[0;34m\u001b[0m\u001b[0m\n",
      "\u001b[0;31mKeyError\u001b[0m: 'TCTT'"
     ]
    }
   ],
   "source": [
    "FrequentWordsWithMismatchesSortingAndReverseComplement('ACGTTGCATGTCGCATGATGCATGAGAGCT', 4, 1)"
   ]
  },
  {
   "cell_type": "code",
   "execution_count": 348,
   "metadata": {
    "collapsed": true
   },
   "outputs": [],
   "source": [
    "forward = {'AAAG': 1, 'AACT': 1, 'AAGA': 3, 'AAGC': 2, 'AAGT': 2, 'AATG': 4, 'ACAG': 1, 'ACAT': 4, 'ACCT': 2, 'ACGA': 3, 'ACGC': 3, 'ACGG': 1, 'ACGT': 2, 'ACTT': 1, 'AGAA': 1, 'AGAC': 1, 'AGAG': 2, 'AGAT': 3, 'AGCA': 4, 'AGCC': 1, 'AGCG': 2, 'AGCT': 1, 'AGGA': 2, 'AGGC': 1, 'AGGG': 1, 'AGGT': 3, 'AGTC': 1, 'AGTG': 1, 'AGTT': 2, 'ATAA': 2, 'ATAC': 1, 'ATAG': 1, 'ATAT': 1, 'ATCA': 2, 'ATCC': 1, 'ATCG': 1, 'ATCT': 2, 'ATGA': 4, 'ATGC': 5, 'ATGG': 4, 'ATGT': 5, 'ATTA': 2, 'ATTC': 1, 'ATTG': 1, 'ATTT': 1, 'CAAG': 3, 'CACA': 1, 'CACG': 3, 'CAGA': 1, 'CAGC': 1, 'CAGG': 3, 'CATA': 3, 'CATC': 3, 'CATG': 4, 'CATT': 4, 'CCAT': 3, 'CCCA': 1, 'CCGC': 1, 'CCGT': 1, 'CCTG': 3, 'CCTT': 1, 'CGAA': 1, 'CGAG': 2, 'CGAT': 2, 'CGCA': 3, 'CGCC': 1, 'CGCG': 1, 'CGCT': 3, 'CGGA': 1, 'CGGT': 1, 'CGTA': 2, 'CGTC': 2, 'CGTG': 4, 'CGTT': 1, 'CTCA': 1, 'CTCG': 1, 'CTGA': 2, 'CTGC': 2, 'CTGT': 1, 'CTTG': 4, 'CTTT': 1, 'GAAA': 1, 'GAAC': 1, 'GAAG': 1, 'GAAT': 3, 'GACA': 1, 'GACC': 1, 'GACG': 2, 'GAGA': 2, 'GAGC': 2, 'GAGG': 3, 'GAGT': 2, 'GATA': 2, 'GATC': 2, 'GATG': 5, 'GATT': 1, 'GCAA': 3, 'GCAC': 3, 'GCAG': 3, 'GCAT': 3, 'GCCG': 1, 'GCCT': 3, 'GCGA': 1, 'GCGC': 2, 'GCGT': 4, 'GCTG': 2, 'GCTT': 3, 'GGAG': 2, 'GGAT': 4, 'GGCA': 3, 'GGCG': 1, 'GGCT': 1, 'GGGA': 1, 'GGGC': 1, 'GGTC': 1, 'GGTG': 2, 'GGTT': 1, 'GTAG': 2, 'GTAT': 3, 'GTCA': 1, 'GTCC': 1, 'GTCG': 2, 'GTCT': 1, 'GTGA': 3, 'GTGC': 3, 'GTGG': 2}"
   ]
  },
  {
   "cell_type": "code",
   "execution_count": 349,
   "metadata": {
    "collapsed": true
   },
   "outputs": [],
   "source": [
    "reverse = {'AAAC': 1, 'AAAG': 1, 'AAAT': 1, 'AACA': 3, 'AACC': 1, 'AACG': 1, 'AACT': 2, 'AAGC': 3, 'AAGG': 1, 'AAGT': 1, 'AATC': 1, 'AATG': 4, 'ACAA': 2, 'ACAC': 1, 'ACAG': 1, 'ACAT': 5, 'ACCA': 1, 'ACCG': 1, 'ACCT': 3, 'ACGA': 2, 'ACGC': 4, 'ACGG': 1, 'ACGT': 2, 'ACTC': 2, 'ACTT': 2, 'AGAC': 1, 'AGAT': 2, 'AGCA': 4, 'AGCC': 1, 'AGCG': 3, 'AGCT': 1, 'AGGC': 3, 'AGGT': 2, 'AGTT': 1, 'ATAA': 1, 'ATAC': 3, 'ATAT': 1, 'ATCA': 2, 'ATCC': 4, 'ATCG': 2, 'ATCT': 3, 'ATGA': 4, 'ATGC': 3, 'ATGG': 3, 'ATGT': 4, 'ATTA': 1, 'ATTC': 3, 'CAAA': 1, 'CAAC': 3, 'CAAG': 4, 'CAAT': 1, 'CACA': 2, 'CACC': 2, 'CACG': 4, 'CACT': 1, 'CAGC': 2, 'CAGG': 3, 'CATA': 4, 'CATC': 5, 'CATG': 4, 'CATT': 4, 'CCAA': 1, 'CCAC': 2, 'CCAT': 4, 'CCCA': 1, 'CCCT': 1, 'CCGA': 1, 'CCGT': 1, 'CCTC': 3, 'CCTG': 3, 'CGAA': 1, 'CGAC': 2, 'CGAG': 1, 'CGAT': 1, 'CGCA': 3, 'CGCC': 1, 'CGCG': 1, 'CGCT': 2, 'CGGC': 1, 'CGTC': 2, 'CGTG': 3, 'CTAA': 1, 'CTAC': 2, 'CTAT': 1, 'CTCA': 3, 'CTCC': 2, 'CTCG': 2, 'CTCT': 2, 'CTGA': 1, 'CTGC': 3, 'CTGT': 1, 'CTTA': 1, 'CTTC': 1, 'CTTG': 3, 'CTTT': 1, 'GAAA': 2, 'GAAC': 1, 'GAAT': 1, 'GACA': 1, 'GACC': 1, 'GACG': 2, 'GACT': 1, 'GAGA': 2, 'GATA': 1, 'GATC': 2, 'GATG': 3, 'GCAA': 3, 'GCAC': 3, 'GCAG': 2, 'GCAT': 5, 'GCCA': 3, 'GCCC': 1, 'GCCT': 1, 'GCGA': 2, 'GCGC': 2, 'GCGG': 1, 'GCGT': 3, 'GCTA': 3, 'GCTC': 2, 'GCTG': 1, 'GCTT': 2, 'GGAA': 1, 'GGAC': 1, 'GGAT': 1, 'GGCA': 1}"
   ]
  },
  {
   "cell_type": "code",
   "execution_count": 351,
   "metadata": {},
   "outputs": [
    {
     "name": "stdout",
     "output_type": "stream",
     "text": [
      "AAGA TCTT\n",
      "ACGA TCGT\n",
      "AGAA TTCT\n",
      "AGAC GTCT\n",
      "AGCA TGCT\n",
      "AGCC GGCT\n",
      "AGGA TCCT\n",
      "ATAA TTAT\n",
      "ATAC GTAT\n",
      "ATCA TGAT\n",
      "ATGA TCAT\n",
      "ATTA TAAT\n",
      "CACA TGTG\n",
      "CAGA TCTG\n",
      "CATA TATG\n",
      "CCCA TGGG\n",
      "CGAA TTCG\n",
      "CGCA TGCG\n",
      "CGCC GGCG\n",
      "CGGA TCCG\n",
      "CGTA TACG\n",
      "CTCA TGAG\n",
      "CTGA TCAG\n",
      "GAAA TTTC\n",
      "GAAC GTTC\n",
      "GACA TGTC\n",
      "GACC GGTC\n",
      "GAGA TCTC\n",
      "GATA TATC\n",
      "GCAA TTGC\n",
      "GCAC GTGC\n",
      "GCGA TCGC\n",
      "GGCA TGCC\n",
      "GGGA TCCC\n",
      "GTCA TGAC\n",
      "GTGA TCAC\n"
     ]
    }
   ],
   "source": [
    "for i in forward:\n",
    "    if ReverseComplement(i) not in reverse:\n",
    "        print(i, ReverseComplement(i))"
   ]
  },
  {
   "cell_type": "code",
   "execution_count": null,
   "metadata": {
    "collapsed": true
   },
   "outputs": [],
   "source": []
  }
 ],
 "metadata": {
  "kernelspec": {
   "display_name": "Python 3",
   "language": "python",
   "name": "python3"
  },
  "language_info": {
   "codemirror_mode": {
    "name": "ipython",
    "version": 3
   },
   "file_extension": ".py",
   "mimetype": "text/x-python",
   "name": "python",
   "nbconvert_exporter": "python",
   "pygments_lexer": "ipython3",
   "version": "3.6.7"
  }
 },
 "nbformat": 4,
 "nbformat_minor": 2
}
